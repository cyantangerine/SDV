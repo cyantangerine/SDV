{
 "cells": [
  {
   "cell_type": "code",
   "execution_count": 3,
   "metadata": {
    "ExecuteTime": {
     "end_time": "2024-09-23T08:28:29.697418Z",
     "start_time": "2024-09-23T08:28:26.965292Z"
    },
    "attributes": {
     "classes": [
      ""
     ],
     "id": ""
    }
   },
   "outputs": [
    {
     "name": "stdout",
     "output_type": "stream",
     "text": [
      "/home/wbx/SDV\n"
     ]
    },
    {
     "data": {
      "text/plain": [
       "Metadata\n",
       "  root_path: .\n",
       "  tables: []\n",
       "  relationships:"
      ]
     },
     "execution_count": 3,
     "metadata": {},
     "output_type": "execute_result"
    }
   ],
   "source": [
    "import os\n",
    "print(os.getcwd())\n",
    "from sdv import Metadata\n",
    "from tutorials.relational_data.test_20_tables import fetch_data_from_sqlite\n",
    "\n",
    "metadata, tables = fetch_data_from_sqlite()\n",
    "metadata = Metadata(metadata)\n",
    "metadata"
   ]
  },
  {
   "cell_type": "code",
   "execution_count": 5,
   "metadata": {
    "ExecuteTime": {
     "end_time": "2024-09-23T08:28:32.378234Z",
     "start_time": "2024-09-23T08:28:32.359239Z"
    }
   },
   "outputs": [],
   "source": [
    "metadata.to_json(\"1.json\")"
   ]
  },
  {
   "cell_type": "code",
   "execution_count": null,
   "metadata": {
    "ExecuteTime": {
     "end_time": "2024-09-23T08:28:47.442458Z",
     "start_time": "2024-09-23T08:28:33.790095Z"
    },
    "attributes": {
     "classes": [
      ""
     ],
     "id": ""
    }
   },
   "outputs": [],
   "source": [
    "#from sdv.utils import display_tables\n",
    "\n",
    "#display_tables(tables)\n",
    "for name, table in tables.items():\n",
    "    print(name, table.shape)\n",
    "from test_20_tables import save_tables\n",
    "save_tables(tables, \"input.xlsx\")"
   ]
  },
  {
   "cell_type": "code",
   "execution_count": null,
   "metadata": {
    "attributes": {
     "classes": [
      ""
     ],
     "id": ""
    },
    "scrolled": false
   },
   "outputs": [],
   "source": [
    "from sdv.relational import HMA1\n",
    "import sys\n",
    "import warnings\n",
    "warnings.filterwarnings('ignore')\n",
    "#from tutorials.newhma import NewModel as HMA1\n",
    "#from tutorials.redirector import WriteableRedirector\n",
    "\n",
    "#with WriteableRedirector():\n",
    "model = HMA1(metadata)    "
   ]
  },
  {
   "cell_type": "code",
   "execution_count": null,
   "metadata": {},
   "outputs": [],
   "source": [
    "import logging\n",
    "formatter = logging.Formatter('%(asctime)s - %(name)s - %(levelname)s - %(message)s')# Configure stream handler for the cells\n",
    "chandler = logging.StreamHandler()\n",
    "chandler.setLevel(logging.WARNING)\n",
    "chandler.setFormatter(formatter)\n",
    "logging.basicConfig(handlers=[logging.FileHandler('sdv.log'), chandler])\n",
    "logging.log(0, \"1223\")"
   ]
  },
  {
   "cell_type": "code",
   "execution_count": null,
   "metadata": {},
   "outputs": [],
   "source": [
    "print(11)\n",
    "model.fit(tables)"
   ]
  },
  {
   "cell_type": "markdown",
   "metadata": {},
   "source": [
    "3s"
   ]
  },
  {
   "cell_type": "code",
   "execution_count": null,
   "metadata": {
    "attributes": {
     "classes": [
      ""
     ],
     "id": ""
    }
   },
   "outputs": [],
   "source": [
    "new_data = model.sample()\n",
    "new_data"
   ]
  },
  {
   "cell_type": "markdown",
   "metadata": {},
   "source": [
    "8s，很快"
   ]
  },
  {
   "cell_type": "code",
   "execution_count": null,
   "metadata": {},
   "outputs": [],
   "source": [
    "save_tables(new_data)"
   ]
  },
  {
   "cell_type": "code",
   "execution_count": null,
   "metadata": {},
   "outputs": [],
   "source": [
    "for name, table in new_data.items():\n",
    "    print(name, table.shape)"
   ]
  },
  {
   "cell_type": "code",
   "execution_count": null,
   "metadata": {
    "attributes": {
     "classes": [
      ""
     ],
     "id": ""
    }
   },
   "outputs": [],
   "source": [
    "model.save('my_model_10k.pkl')"
   ]
  },
  {
   "cell_type": "code",
   "execution_count": 1,
   "metadata": {},
   "outputs": [],
   "source": [
    "from sdv.relational import HMA1\n",
    "import warnings\n",
    "import pickle\n",
    "warnings.filterwarnings('ignore')\n",
    "loaded: HMA1 = HMA1.load('my_model_10k.pkl')"
   ]
  },
  {
   "cell_type": "code",
   "execution_count": null,
   "metadata": {
    "ExecuteTime": {
     "end_time": "2024-09-23T08:29:12.178484Z",
     "start_time": "2024-09-23T08:28:57.705466Z"
    },
    "attributes": {
     "classes": [
      ""
     ],
     "id": ""
    }
   },
   "outputs": [],
   "source": [
    "new_data = loaded.sample(not_finalized=True)\n",
    "new_data.keys()\n",
    "\n",
    "pickle.dump(new_data, open('my_sample_not_finalized.pkl', 'wb'))"
   ]
  },
  {
   "cell_type": "code",
   "execution_count": 2,
   "metadata": {
    "attributes": {
     "classes": [
      ""
     ],
     "id": ""
    }
   },
   "outputs": [
    {
     "data": {
      "application/vnd.jupyter.widget-view+json": {
       "model_id": "556acd35c95c4df189048c54aebecdbb",
       "version_major": 2,
       "version_minor": 0
      },
      "text/plain": [
       "  0%|          | 0/20 [00:00<?, ?it/s]"
      ]
     },
     "metadata": {},
     "output_type": "display_data"
    },
    {
     "data": {
      "application/vnd.jupyter.widget-view+json": {
       "model_id": "aee6cc8d13494352b71e56f094bdea00",
       "version_major": 2,
       "version_minor": 0
      },
      "text/plain": [
       "  0%|          | 0/100 [00:00<?, ?it/s]"
      ]
     },
     "metadata": {},
     "output_type": "display_data"
    },
    {
     "data": {
      "application/vnd.jupyter.widget-view+json": {
       "model_id": "cfe68abad30046ad9e7f3ec6a5357286",
       "version_major": 2,
       "version_minor": 0
      },
      "text/plain": [
       "Student Childing:   0%|          | 0/3 [00:00<?, ?it/s]"
      ]
     },
     "metadata": {},
     "output_type": "display_data"
    },
    {
     "data": {
      "application/vnd.jupyter.widget-view+json": {
       "model_id": "d6752de35cd946019252e3c6497a7ac6",
       "version_major": 2,
       "version_minor": 0
      },
      "text/plain": [
       "Enrollment:   0%|          | 0/100 [00:00<?, ?it/s]"
      ]
     },
     "metadata": {},
     "output_type": "display_data"
    },
    {
     "data": {
      "application/vnd.jupyter.widget-view+json": {
       "model_id": "73bc9ec31d5a4741ac430c5173c8d6dc",
       "version_major": 2,
       "version_minor": 0
      },
      "text/plain": [
       "Submission:   0%|          | 0/100 [00:00<?, ?it/s]"
      ]
     },
     "metadata": {},
     "output_type": "display_data"
    },
    {
     "data": {
      "application/vnd.jupyter.widget-view+json": {
       "model_id": "4c89415a737e4b64b32473e62100bedb",
       "version_major": 2,
       "version_minor": 0
      },
      "text/plain": [
       "BookLoan:   0%|          | 0/100 [00:00<?, ?it/s]"
      ]
     },
     "metadata": {},
     "output_type": "display_data"
    },
    {
     "data": {
      "application/vnd.jupyter.widget-view+json": {
       "model_id": "4e23da38a96242659d2c069a75ca44ea",
       "version_major": 2,
       "version_minor": 0
      },
      "text/plain": [
       "  0%|          | 0/100 [00:00<?, ?it/s]"
      ]
     },
     "metadata": {},
     "output_type": "display_data"
    },
    {
     "data": {
      "application/vnd.jupyter.widget-view+json": {
       "model_id": "9ed16f614dc44f99a09b9405b09ad8f2",
       "version_major": 2,
       "version_minor": 0
      },
      "text/plain": [
       "Professor Childing:   0%|          | 0/2 [00:00<?, ?it/s]"
      ]
     },
     "metadata": {},
     "output_type": "display_data"
    },
    {
     "data": {
      "application/vnd.jupyter.widget-view+json": {
       "model_id": "c24497bee9d14720adf05f594ba3ef89",
       "version_major": 2,
       "version_minor": 0
      },
      "text/plain": [
       "ProjectMember:   0%|          | 0/100 [00:00<?, ?it/s]"
      ]
     },
     "metadata": {},
     "output_type": "display_data"
    },
    {
     "data": {
      "application/vnd.jupyter.widget-view+json": {
       "model_id": "55332721961a44cc83490e72bf1ea64f",
       "version_major": 2,
       "version_minor": 0
      },
      "text/plain": [
       "Schedule:   0%|          | 0/100 [00:00<?, ?it/s]"
      ]
     },
     "metadata": {},
     "output_type": "display_data"
    },
    {
     "data": {
      "application/vnd.jupyter.widget-view+json": {
       "model_id": "9b126a0eaa9a4ed2b6a4470723776b4a",
       "version_major": 2,
       "version_minor": 0
      },
      "text/plain": [
       "  0%|          | 0/100 [00:00<?, ?it/s]"
      ]
     },
     "metadata": {},
     "output_type": "display_data"
    },
    {
     "data": {
      "application/vnd.jupyter.widget-view+json": {
       "model_id": "4f5139f93bd443e49302d3bfd8d72afd",
       "version_major": 2,
       "version_minor": 0
      },
      "text/plain": [
       "Course Childing:   0%|          | 0/4 [00:00<?, ?it/s]"
      ]
     },
     "metadata": {},
     "output_type": "display_data"
    },
    {
     "data": {
      "application/vnd.jupyter.widget-view+json": {
       "model_id": "f56ed27ad7604f7e8c6f13029792af00",
       "version_major": 2,
       "version_minor": 0
      },
      "text/plain": [
       "Assignment:   0%|          | 0/100 [00:00<?, ?it/s]"
      ]
     },
     "metadata": {},
     "output_type": "display_data"
    },
    {
     "data": {
      "application/vnd.jupyter.widget-view+json": {
       "model_id": "ffcae9c7d4e54edc8fc8ba248a0e1858",
       "version_major": 2,
       "version_minor": 0
      },
      "text/plain": [
       "Assignment Childing:   0%|          | 0/1 [00:00<?, ?it/s]"
      ]
     },
     "metadata": {},
     "output_type": "display_data"
    },
    {
     "data": {
      "application/vnd.jupyter.widget-view+json": {
       "model_id": "1101fabe8a7e4f75a7034eca4856592b",
       "version_major": 2,
       "version_minor": 0
      },
      "text/plain": [
       "CourseTextbook:   0%|          | 0/100 [00:00<?, ?it/s]"
      ]
     },
     "metadata": {},
     "output_type": "display_data"
    },
    {
     "data": {
      "application/vnd.jupyter.widget-view+json": {
       "model_id": "f69c7e85765640058ad3777e3141c75c",
       "version_major": 2,
       "version_minor": 0
      },
      "text/plain": [
       "  0%|          | 0/100 [00:00<?, ?it/s]"
      ]
     },
     "metadata": {},
     "output_type": "display_data"
    },
    {
     "data": {
      "application/vnd.jupyter.widget-view+json": {
       "model_id": "24ad62817036421f88aab4bf7505b61d",
       "version_major": 2,
       "version_minor": 0
      },
      "text/plain": [
       "Department Childing:   0%|          | 0/1 [00:00<?, ?it/s]"
      ]
     },
     "metadata": {},
     "output_type": "display_data"
    },
    {
     "data": {
      "application/vnd.jupyter.widget-view+json": {
       "model_id": "153e74a6f6614aa187ab0c761565d231",
       "version_major": 2,
       "version_minor": 0
      },
      "text/plain": [
       "Major:   0%|          | 0/100 [00:00<?, ?it/s]"
      ]
     },
     "metadata": {},
     "output_type": "display_data"
    },
    {
     "data": {
      "application/vnd.jupyter.widget-view+json": {
       "model_id": "ac06ccd9f15742a5af51f0be38d4489f",
       "version_major": 2,
       "version_minor": 0
      },
      "text/plain": [
       "  0%|          | 0/100 [00:00<?, ?it/s]"
      ]
     },
     "metadata": {},
     "output_type": "display_data"
    },
    {
     "data": {
      "application/vnd.jupyter.widget-view+json": {
       "model_id": "178b6db94bd547888d5f1d89c407b8bd",
       "version_major": 2,
       "version_minor": 0
      },
      "text/plain": [
       "Textbook Childing:   0%|          | 0/1 [00:00<?, ?it/s]"
      ]
     },
     "metadata": {},
     "output_type": "display_data"
    },
    {
     "data": {
      "application/vnd.jupyter.widget-view+json": {
       "model_id": "d291b7114e3a486499e5ecf968f53f70",
       "version_major": 2,
       "version_minor": 0
      },
      "text/plain": [
       "  0%|          | 0/100 [00:00<?, ?it/s]"
      ]
     },
     "metadata": {},
     "output_type": "display_data"
    },
    {
     "data": {
      "application/vnd.jupyter.widget-view+json": {
       "model_id": "8122270bd5d049798920996703f3b5fb",
       "version_major": 2,
       "version_minor": 0
      },
      "text/plain": [
       "Library Childing:   0%|          | 0/1 [00:00<?, ?it/s]"
      ]
     },
     "metadata": {},
     "output_type": "display_data"
    },
    {
     "data": {
      "application/vnd.jupyter.widget-view+json": {
       "model_id": "1762c2e7bc9d4ce599eaa347e0f21c49",
       "version_major": 2,
       "version_minor": 0
      },
      "text/plain": [
       "Book:   0%|          | 0/100 [00:00<?, ?it/s]"
      ]
     },
     "metadata": {},
     "output_type": "display_data"
    },
    {
     "data": {
      "application/vnd.jupyter.widget-view+json": {
       "model_id": "283e6e7c085b48a983705e229c7a7bb6",
       "version_major": 2,
       "version_minor": 0
      },
      "text/plain": [
       "Book Childing:   0%|          | 0/1 [00:00<?, ?it/s]"
      ]
     },
     "metadata": {},
     "output_type": "display_data"
    },
    {
     "data": {
      "application/vnd.jupyter.widget-view+json": {
       "model_id": "c37dfb52128241ab9af32aa0a6a9b27a",
       "version_major": 2,
       "version_minor": 0
      },
      "text/plain": [
       "  0%|          | 0/100 [00:00<?, ?it/s]"
      ]
     },
     "metadata": {},
     "output_type": "display_data"
    },
    {
     "data": {
      "application/vnd.jupyter.widget-view+json": {
       "model_id": "618d244a23384914b932a3230e17ddd3",
       "version_major": 2,
       "version_minor": 0
      },
      "text/plain": [
       "ResearchGroup Childing:   0%|          | 0/1 [00:00<?, ?it/s]"
      ]
     },
     "metadata": {},
     "output_type": "display_data"
    },
    {
     "data": {
      "application/vnd.jupyter.widget-view+json": {
       "model_id": "bdac9a3f88654bcb8178080a7478c25d",
       "version_major": 2,
       "version_minor": 0
      },
      "text/plain": [
       "ResearchProject:   0%|          | 0/100 [00:00<?, ?it/s]"
      ]
     },
     "metadata": {},
     "output_type": "display_data"
    },
    {
     "data": {
      "application/vnd.jupyter.widget-view+json": {
       "model_id": "357594b4224f4a029e49bb594641d2b6",
       "version_major": 2,
       "version_minor": 0
      },
      "text/plain": [
       "ResearchProject Childing:   0%|          | 0/1 [00:00<?, ?it/s]"
      ]
     },
     "metadata": {},
     "output_type": "display_data"
    },
    {
     "data": {
      "application/vnd.jupyter.widget-view+json": {
       "model_id": "049772a45e6e489086346dfcfa388358",
       "version_major": 2,
       "version_minor": 0
      },
      "text/plain": [
       "  0%|          | 0/100 [00:00<?, ?it/s]"
      ]
     },
     "metadata": {},
     "output_type": "display_data"
    },
    {
     "data": {
      "application/vnd.jupyter.widget-view+json": {
       "model_id": "0cfee1c47b3f4a1fb2c0d70e3cfb1665",
       "version_major": 2,
       "version_minor": 0
      },
      "text/plain": [
       "Lab Childing:   0%|          | 0/1 [00:00<?, ?it/s]"
      ]
     },
     "metadata": {},
     "output_type": "display_data"
    },
    {
     "data": {
      "application/vnd.jupyter.widget-view+json": {
       "model_id": "51cacba40ce74772870f262296c65578",
       "version_major": 2,
       "version_minor": 0
      },
      "text/plain": [
       "LabEquipment:   0%|          | 0/100 [00:00<?, ?it/s]"
      ]
     },
     "metadata": {},
     "output_type": "display_data"
    },
    {
     "data": {
      "application/vnd.jupyter.widget-view+json": {
       "model_id": "2a765eb1cf9a4f56b34f92954e63851d",
       "version_major": 2,
       "version_minor": 0
      },
      "text/plain": [
       "LabEquipment Childing:   0%|          | 0/1 [00:00<?, ?it/s]"
      ]
     },
     "metadata": {},
     "output_type": "display_data"
    },
    {
     "data": {
      "application/vnd.jupyter.widget-view+json": {
       "model_id": "5a4badc7fb8c4406911298ff53d825cc",
       "version_major": 2,
       "version_minor": 0
      },
      "text/plain": [
       "EquipmentMaintenance:   0%|          | 0/100 [00:00<?, ?it/s]"
      ]
     },
     "metadata": {},
     "output_type": "display_data"
    }
   ],
   "source": [
    "model = loaded\n",
    "data_not_finalized = model.sample(num_rows=100, not_finalized=True)"
   ]
  },
  {
   "cell_type": "code",
   "execution_count": 8,
   "metadata": {},
   "outputs": [],
   "source": [
    "pickle.dump(data_not_finalized, open('data_not_finalized_1k.pkl', 'wb'))"
   ]
  },
  {
   "cell_type": "code",
   "execution_count": 3,
   "metadata": {},
   "outputs": [],
   "source": [
    "data_not_finalized = pickle.load(open('data_not_finalized_1k.pkl', 'rb') )"
   ]
  },
  {
   "cell_type": "code",
   "execution_count": 2,
   "metadata": {},
   "outputs": [],
   "source": [
    "data_not_finalized = pickle.load(open('my_sample_not_finalized.pkl', 'rb') )"
   ]
  },
  {
   "cell_type": "code",
   "execution_count": 3,
   "metadata": {},
   "outputs": [
    {
     "data": {
      "application/vnd.jupyter.widget-view+json": {
       "model_id": "13a0d39d603c42819f1ff1f45f7ae667",
       "version_major": 2,
       "version_minor": 0
      },
      "text/plain": [
       "  0%|          | 0/20 [00:00<?, ?it/s]"
      ]
     },
     "metadata": {},
     "output_type": "display_data"
    },
    {
     "data": {
      "application/vnd.jupyter.widget-view+json": {
       "model_id": "e1278370b4b04318a856079f9ccd25a9",
       "version_major": 2,
       "version_minor": 0
      },
      "text/plain": [
       "Enrollment:   0%|          | 0/2 [00:00<?, ?it/s]"
      ]
     },
     "metadata": {},
     "output_type": "display_data"
    },
    {
     "data": {
      "application/vnd.jupyter.widget-view+json": {
       "model_id": "b69fb47f0d5948478e28ecafae70aede",
       "version_major": 2,
       "version_minor": 0
      },
      "text/plain": [
       "Enrollment course_id Likelihoods:   0%|          | 0/100 [00:00<?, ?it/s]"
      ]
     },
     "metadata": {},
     "output_type": "display_data"
    },
    {
     "data": {
      "application/vnd.jupyter.widget-view+json": {
       "model_id": "35a7041614144a658b865955eaf72ff6",
       "version_major": 2,
       "version_minor": 0
      },
      "text/plain": [
       "Submission:   0%|          | 0/2 [00:00<?, ?it/s]"
      ]
     },
     "metadata": {},
     "output_type": "display_data"
    },
    {
     "data": {
      "application/vnd.jupyter.widget-view+json": {
       "model_id": "f31b3f3beae748c9859667925c5ac547",
       "version_major": 2,
       "version_minor": 0
      },
      "text/plain": [
       "Submission assignment_id Likelihoods:   0%|          | 0/100 [00:00<?, ?it/s]"
      ]
     },
     "metadata": {},
     "output_type": "display_data"
    },
    {
     "data": {
      "application/vnd.jupyter.widget-view+json": {
       "model_id": "6e0f7f6d4882487da27985aeb3659292",
       "version_major": 2,
       "version_minor": 0
      },
      "text/plain": [
       "BookLoan:   0%|          | 0/2 [00:00<?, ?it/s]"
      ]
     },
     "metadata": {},
     "output_type": "display_data"
    },
    {
     "data": {
      "application/vnd.jupyter.widget-view+json": {
       "model_id": "222cd8f662824e41a142adc4a3886891",
       "version_major": 2,
       "version_minor": 0
      },
      "text/plain": [
       "BookLoan book_id Likelihoods:   0%|          | 0/100 [00:00<?, ?it/s]"
      ]
     },
     "metadata": {},
     "output_type": "display_data"
    },
    {
     "data": {
      "application/vnd.jupyter.widget-view+json": {
       "model_id": "47c4cde3dd1e4e9083aa32c4d9e2437b",
       "version_major": 2,
       "version_minor": 0
      },
      "text/plain": [
       "ProjectMember:   0%|          | 0/2 [00:00<?, ?it/s]"
      ]
     },
     "metadata": {},
     "output_type": "display_data"
    },
    {
     "data": {
      "application/vnd.jupyter.widget-view+json": {
       "model_id": "c959327cdb744d22ba5cc08973606dce",
       "version_major": 2,
       "version_minor": 0
      },
      "text/plain": [
       "Schedule:   0%|          | 0/2 [00:00<?, ?it/s]"
      ]
     },
     "metadata": {},
     "output_type": "display_data"
    },
    {
     "data": {
      "application/vnd.jupyter.widget-view+json": {
       "model_id": "3a41de8e451448a49b43313b65c4f940",
       "version_major": 2,
       "version_minor": 0
      },
      "text/plain": [
       "Schedule course_id Likelihoods:   0%|          | 0/100 [00:00<?, ?it/s]"
      ]
     },
     "metadata": {},
     "output_type": "display_data"
    },
    {
     "data": {
      "application/vnd.jupyter.widget-view+json": {
       "model_id": "ee9a29b10ca04210b5902692722e7e9e",
       "version_major": 2,
       "version_minor": 0
      },
      "text/plain": [
       "CourseTextbook:   0%|          | 0/2 [00:00<?, ?it/s]"
      ]
     },
     "metadata": {},
     "output_type": "display_data"
    },
    {
     "data": {
      "application/vnd.jupyter.widget-view+json": {
       "model_id": "d04fe4ff99054ce5b4295b7249b4c2ec",
       "version_major": 2,
       "version_minor": 0
      },
      "text/plain": [
       "CourseTextbook textbook_id Likelihoods:   0%|          | 0/100 [00:00<?, ?it/s]"
      ]
     },
     "metadata": {},
     "output_type": "display_data"
    },
    {
     "data": {
      "text/plain": [
       "{'Student':     student_id                name                       email date_of_birth  \\\n",
       " 0            0  Miss Sarah Cabrera        johnrice@example.net    2001-04-29   \n",
       " 1            1         Kayla Smith  wileychristine@example.net    2002-04-16   \n",
       " 2            2      Melissa Walter        pamela04@example.org    2002-02-08   \n",
       " 3            3      Susan Myers MD         wthomas@example.org    1993-10-13   \n",
       " 4            4     Cheryl Anderson          lori12@example.net    1997-12-21   \n",
       " ..         ...                 ...                         ...           ...   \n",
       " 95          95           Kara Kirk    tiffanymoody@example.net    2002-08-31   \n",
       " 96          96         Jacob Perez         fmeyers@example.net    2002-06-29   \n",
       " 97          97       Brandon Allen         blake64@example.org    2003-08-11   \n",
       " 98          98         Joyce Smith   jennifercohen@example.com    1994-09-18   \n",
       " 99          99         Paul Butler      kimberly38@example.com    1996-06-08   \n",
       " \n",
       "    major  \n",
       " 0   8537  \n",
       " 1   5824  \n",
       " 2   7864  \n",
       " 3   7049  \n",
       " 4   9222  \n",
       " ..   ...  \n",
       " 95  1254  \n",
       " 96  7829  \n",
       " 97  7678  \n",
       " 98  4853  \n",
       " 99  9271  \n",
       " \n",
       " [100 rows x 5 columns],\n",
       " 'Enrollment':      enrollment_id  student_id  course_id     semester grade\n",
       " 0                0           0         76  Spring 2021     A\n",
       " 1                1           0         56  Spring 2021     A\n",
       " 2                2           2         69  Winter 2023     A\n",
       " 3                3           2         98  Winter 2023     A\n",
       " 4                4           3         69  Spring 2021     F\n",
       " ..             ...         ...        ...          ...   ...\n",
       " 113            113          96         53  Winter 2023     A\n",
       " 114            114          98          5  Winter 2023     A\n",
       " 115            115          99         50  Spring 2021     F\n",
       " 116            116          99         40  Spring 2021     F\n",
       " 117            117          99         38  Spring 2021     F\n",
       " \n",
       " [118 rows x 5 columns],\n",
       " 'Submission':     submission_id  assignment_id  student_id      submission_date grade\n",
       " 0               0             65           0  2022-01-28 10:13:30     A\n",
       " 1               1             59           0  2022-01-28 10:13:30     A\n",
       " 2               2             31           1  2022-01-28 10:13:30     A\n",
       " 3               3             93           2  2022-08-16 17:19:46     D\n",
       " 4               4             84           3  2022-01-28 10:13:30     A\n",
       " ..            ...            ...         ...                  ...   ...\n",
       " 93             93             66          94  2022-08-16 17:19:46     A\n",
       " 94             94             23          94  2022-08-16 17:19:46     A\n",
       " 95             95             67          97  2022-01-28 10:13:30     D\n",
       " 96             96             94          97  2022-01-28 10:13:30     D\n",
       " 97             97             30          99  2022-01-28 10:13:30     D\n",
       " \n",
       " [98 rows x 5 columns],\n",
       " 'BookLoan':      loan_id  book_id  student_id   loan_date return_date\n",
       " 0          0       95           0  2024-02-26  2025-06-28\n",
       " 1          1       59           2  2024-02-26  2024-10-26\n",
       " 2          2       41           3  2024-04-11  2025-06-28\n",
       " 3          3        5           3  2024-04-11  2025-06-28\n",
       " 4          4       65           3  2024-04-11  2025-06-28\n",
       " ..       ...      ...         ...         ...         ...\n",
       " 110      110       37          94  2024-02-26  2024-10-26\n",
       " 111      111       16          94  2024-02-26  2024-10-26\n",
       " 112      112       74          96  2024-02-26  2024-10-26\n",
       " 113      113       40          97  2024-04-11  2025-06-28\n",
       " 114      114       22          98  2024-02-26  2025-06-28\n",
       " \n",
       " [115 rows x 5 columns],\n",
       " 'Professor':     professor_id            name                        email department\n",
       " 0              0     Henry Davis         ericdunn@example.com        362\n",
       " 1              1   Russell Garza  chandlertimothy@example.org       1153\n",
       " 2              2  Melissa Hudson  christianhudson@example.org       7494\n",
       " 3              3   Julie Fischer     shannonmeyer@example.com       2056\n",
       " 4              4    Amy Mcmillan      denisesmith@example.net       1839\n",
       " ..           ...             ...                          ...        ...\n",
       " 95            95     Carol James         huntmark@example.net       1988\n",
       " 96            96     John Morris       porterlisa@example.com       5067\n",
       " 97            97    Connie Yates          nwagner@example.net       8033\n",
       " 98            98   Carrie Hayden        matthew99@example.net       1483\n",
       " 99            99  Jennifer Booth       steelejohn@example.net       8530\n",
       " \n",
       " [100 rows x 4 columns],\n",
       " 'ProjectMember':      project_id  professor_id\n",
       " 0             0             0\n",
       " 1             1             0\n",
       " 2             2             1\n",
       " 3             3             2\n",
       " 4             4             3\n",
       " ..          ...           ...\n",
       " 114         114            94\n",
       " 115         115            97\n",
       " 116         116            97\n",
       " 117         117            98\n",
       " 118         118            98\n",
       " \n",
       " [119 rows x 2 columns],\n",
       " 'Schedule':      schedule_id  course_id  professor_id  room time_slot\n",
       " 0              0         15             0   437  22:20:45\n",
       " 1              1         96             0   437  22:20:45\n",
       " 2              2         21             1  8695  06:24:17\n",
       " 3              3         13             2   437  22:20:45\n",
       " 4              4         70             3   437  22:20:45\n",
       " ..           ...        ...           ...   ...       ...\n",
       " 114          114         35            94   437  22:20:45\n",
       " 115          115         19            97  8695  22:20:45\n",
       " 116          116         44            97  8695  22:20:45\n",
       " 117          117         36            98  8695  06:24:17\n",
       " 118          118         57            98  8695  06:24:17\n",
       " \n",
       " [119 rows x 5 columns],\n",
       " 'Course':     course_id                     title credits department\n",
       " 0           0                 Dog here.       1       7222\n",
       " 1           1                  Half so.       3       6595\n",
       " 2           2        Usually knowledge.       2       5920\n",
       " 3           3              Pretty that.       4       9560\n",
       " 4           4         Individual offer.       3       7307\n",
       " ..        ...                       ...     ...        ...\n",
       " 95         95  Door protect Republican.       3       3031\n",
       " 96         96      Maintain enter list.       1        497\n",
       " 97         97       Learn share reduce.       1       2340\n",
       " 98         98    During notice discuss.       1       3216\n",
       " 99         99         Argue sport into.       4       8931\n",
       " \n",
       " [100 rows x 4 columns],\n",
       " 'Assignment':     assignment_id  course_id                         title    due_date\n",
       " 0               0          0                 Foreign hear.  2025-01-20\n",
       " 1               1          0                 Foreign hear.  2025-01-20\n",
       " 2               2          0                 Foreign hear.  2025-01-20\n",
       " 3               3          1  Here stay picture free fear.  2025-01-20\n",
       " 4               4          5                 Foreign hear.  2024-10-03\n",
       " ..            ...        ...                           ...         ...\n",
       " 95             95         95                 Foreign hear.  2024-10-03\n",
       " 96             96         96                 Foreign hear.  2024-10-03\n",
       " 97             97         96                 Foreign hear.  2024-10-03\n",
       " 98             98         96                 Foreign hear.  2024-10-03\n",
       " 99             99         97  Here stay picture free fear.  2024-10-03\n",
       " \n",
       " [100 rows x 4 columns],\n",
       " 'CourseTextbook':     course_id  textbook_id\n",
       " 0           0           30\n",
       " 1           0           53\n",
       " 2           0            0\n",
       " 3           1           99\n",
       " 4           5           33\n",
       " ..        ...          ...\n",
       " 95         95           85\n",
       " 96         96           23\n",
       " 97         96           27\n",
       " 98         96           58\n",
       " 99         97           77\n",
       " \n",
       " [100 rows x 2 columns],\n",
       " 'Department':     department_id                  name           building\n",
       " 0               0    Teacher Department        Flores Isle\n",
       " 1               1       Them Department        Mary Groves\n",
       " 2               2     Speech Department    Rose Expressway\n",
       " 3               3      Shake Department   Andrew Stravenue\n",
       " 4               4     School Department     Gray Crossroad\n",
       " ..            ...                   ...                ...\n",
       " 95             95  Statement Department  Williamson Center\n",
       " 96             96      Black Department     Sanchez Plains\n",
       " 97             97    Suggest Department      Edwards Plaza\n",
       " 98             98        His Department      Jacobs Plains\n",
       " 99             99   Positive Department       Leach Avenue\n",
       " \n",
       " [100 rows x 3 columns],\n",
       " 'Major':      major_id         name  department_id\n",
       " 0           0    Bit Major              0\n",
       " 1           1    Bit Major              3\n",
       " 2           2    Bit Major              4\n",
       " 3           3  Child Major              5\n",
       " 4           4  Child Major              5\n",
       " ..        ...          ...            ...\n",
       " 110       110    Bit Major             96\n",
       " 111       111    Bit Major             96\n",
       " 112       112    Bit Major             97\n",
       " 113       113  Child Major             98\n",
       " 114       114    Bit Major             99\n",
       " \n",
       " [115 rows x 3 columns],\n",
       " 'Textbook':     textbook_id                           title          author  \\\n",
       " 0             0             Media north theory.   Michael Smith   \n",
       " 1             1           Ever condition white.      Holly Wood   \n",
       " 2             2                 Wife interview.    Bradley Lowe   \n",
       " 3             3              Hit well interest.    Joyce Bowman   \n",
       " 4             4  Develop career sister general.    Joshua Wolfe   \n",
       " ..          ...                             ...             ...   \n",
       " 95           95           Perhaps recent fight.     Heidi Munoz   \n",
       " 96           96                Writer maintain.  Vanessa Torres   \n",
       " 97           97          Evidence industry ten.   Willie Warren   \n",
       " 98           98                   Week control.   Michael Smith   \n",
       " 99           99                      Fear west.     Michael Fry   \n",
       " \n",
       "                  isbn  \n",
       " 0   978-0-14-891022-5  \n",
       " 1   978-1-273-36454-9  \n",
       " 2   978-1-68164-352-6  \n",
       " 3   978-0-422-22703-2  \n",
       " 4   978-1-958463-78-9  \n",
       " ..                ...  \n",
       " 95  978-0-268-39672-5  \n",
       " 96  978-1-937246-53-2  \n",
       " 97  978-1-384-40271-0  \n",
       " 98  978-0-449-84053-5  \n",
       " 99  978-1-55312-969-1  \n",
       " \n",
       " [100 rows x 4 columns],\n",
       " 'Library':     library_id                                    name  \\\n",
       " 0            0                Glenn-Mclaughlin Library   \n",
       " 1            1                      Diaz-Smith Library   \n",
       " 2            2                    Ross-Mcgrath Library   \n",
       " 3            3                   Gill-Alvarado Library   \n",
       " 4            4                  Hoffman-Watson Library   \n",
       " ..         ...                                     ...   \n",
       " 95          95                 Duncan-Mitchell Library   \n",
       " 96          96      Dixon, Bowman and Williams Library   \n",
       " 97          97                       Bruce LLC Library   \n",
       " 98          98  Marshall, Henderson and Holmes Library   \n",
       " 99          99                Hernandez-Foster Library   \n",
       " \n",
       "                                              location  \n",
       " 0                 757 Baker Parks\\nClayview, MH 32077  \n",
       " 1       1604 Morales Stream\\nLake Ericville, OH 88091  \n",
       " 2   936 Herrera Trafficway\\nNew Samanthaside, AS 8...  \n",
       " 3             217 John Fields\\nAndersonberg, IL 59270  \n",
       " 4       24232 Berry Passage\\nNew Laceymouth, WY 53503  \n",
       " ..                                                ...  \n",
       " 95       5032 Michelle Vista\\nGarciachester, MA 78546  \n",
       " 96  775 Garza Meadow Suite 561\\nSmithborough, IA 9...  \n",
       " 97   46289 Monica Point Apt. 250\\nEvansview, ID 49715  \n",
       " 98  3534 Bianca Mountains Suite 061\\nWhiteberg, AS...  \n",
       " 99    9027 Phillips Junctions\\nJonathanview, GU 93508  \n",
       " \n",
       " [100 rows x 3 columns],\n",
       " 'Book':     book_id                title         author               isbn  library_id\n",
       " 0         0  Water clearly kind.  Mason Herrera  978-1-359-78435-3           0\n",
       " 1         1                 One.     John Smith  978-1-4017-1762-9           1\n",
       " 2         2                 One.     John Smith  978-1-4017-1762-9           2\n",
       " 3         3  Water clearly kind.     John Smith  978-1-359-78435-3           3\n",
       " 4         4  Water clearly kind.  Mason Herrera  978-1-359-78435-3           4\n",
       " ..      ...                  ...            ...                ...         ...\n",
       " 95       95  Water clearly kind.     John Smith  978-1-359-78435-3          95\n",
       " 96       96  Water clearly kind.  Mason Herrera  978-1-359-78435-3          96\n",
       " 97       97  Water clearly kind.  Mason Herrera  978-1-359-78435-3          97\n",
       " 98       98                 One.     John Smith  978-1-4017-1762-9          98\n",
       " 99       99                 One.     John Smith  978-1-4017-1762-9          99\n",
       " \n",
       " [100 rows x 5 columns],\n",
       " 'ResearchGroup':     group_id               name                    focus_area\n",
       " 0          0  Pressure Research               Than race away.\n",
       " 1          1    Member Research       Possible morning build.\n",
       " 2          2      Have Research          Mouth letter street.\n",
       " 3          3    Middle Research                      We pull.\n",
       " 4          4      Sort Research                 Left husband.\n",
       " ..       ...                ...                           ...\n",
       " 95        95   Contain Research  Any movement control artist.\n",
       " 96        96     Wrong Research      Former travel establish.\n",
       " 97        97      Just Research                 Star popular.\n",
       " 98        98      Have Research                 Current star.\n",
       " 99        99       Mrs Research           Necessary although.\n",
       " \n",
       " [100 rows x 3 columns],\n",
       " 'ResearchProject':     project_id          title  group_id  start_date    end_date\n",
       " 0            0  Land himself.         0  2024-02-08  2024-12-01\n",
       " 1            1  Land himself.         1  2023-11-12  2025-02-10\n",
       " 2            2  Land himself.         2  2024-02-08  2024-12-01\n",
       " 3            3  Land himself.         3  2024-02-08  2025-02-10\n",
       " 4            4           She.         4  2023-11-12  2025-02-10\n",
       " ..         ...            ...       ...         ...         ...\n",
       " 95          95           She.        95  2024-02-08  2024-12-01\n",
       " 96          96  Land himself.        96  2024-02-08  2025-02-10\n",
       " 97          97  Land himself.        97  2024-02-08  2024-12-01\n",
       " 98          98           She.        98  2023-11-12  2024-12-01\n",
       " 99          99  Land himself.        99  2024-02-08  2025-02-10\n",
       " \n",
       " [100 rows x 5 columns],\n",
       " 'Lab':     lab_id                              name building\n",
       " 0        0        Smith, Olson and Price Lab     0686\n",
       " 1        1                    Shaw Group Lab    35524\n",
       " 2        2                   Weber-White Lab    80198\n",
       " 3        3                Ritter-Mendoza Lab     8744\n",
       " 4        4      Buck, Schneider and Dean Lab      184\n",
       " ..     ...                               ...      ...\n",
       " 95      95               Herman-Martinez Lab     8880\n",
       " 96      96                   Payne-Jones Lab     0689\n",
       " 97      97     Glenn, Riley and Crawford Lab     0686\n",
       " 98      98  Mejia, Cummings and Thompson Lab     8633\n",
       " 99      99                   Ferrell PLC Lab     9280\n",
       " \n",
       " [100 rows x 3 columns],\n",
       " 'LabEquipment':     equipment_id              name  lab_id\n",
       " 0              0   Story Equipment       0\n",
       " 1              1  Region Equipment       1\n",
       " 2              2   Story Equipment       2\n",
       " 3              3   Story Equipment       3\n",
       " 4              4   Story Equipment       4\n",
       " ..           ...               ...     ...\n",
       " 95            95   Story Equipment      95\n",
       " 96            96  Region Equipment      96\n",
       " 97            97  Region Equipment      97\n",
       " 98            98  Region Equipment      98\n",
       " 99            99  Region Equipment      99\n",
       " \n",
       " [100 rows x 3 columns],\n",
       " 'EquipmentMaintenance':     maintenance_id  equipment_id        date  \\\n",
       " 0                0             0  2024-07-13   \n",
       " 1                1             1  2024-07-13   \n",
       " 2                2             2  2024-07-13   \n",
       " 3                3             3  2024-07-28   \n",
       " 4                4             4  2024-07-28   \n",
       " ..             ...           ...         ...   \n",
       " 95              95            95  2024-07-13   \n",
       " 96              96            96  2024-07-13   \n",
       " 97              97            97  2024-07-13   \n",
       " 98              98            98  2024-07-28   \n",
       " 99              99            99  2024-07-28   \n",
       " \n",
       "                                       details  \n",
       " 0   Few after soon every star end white hand.  \n",
       " 1   Few after soon every star end white hand.  \n",
       " 2        Take degree answer politics present.  \n",
       " 3   Few after soon every star end white hand.  \n",
       " 4   Few after soon every star end white hand.  \n",
       " ..                                        ...  \n",
       " 95       Take degree answer politics present.  \n",
       " 96  Few after soon every star end white hand.  \n",
       " 97       Take degree answer politics present.  \n",
       " 98  Few after soon every star end white hand.  \n",
       " 99  Few after soon every star end white hand.  \n",
       " \n",
       " [100 rows x 4 columns]}"
      ]
     },
     "execution_count": 3,
     "metadata": {},
     "output_type": "execute_result"
    }
   ],
   "source": [
    "model = loaded\n",
    "model.finalize(data_not_finalized)"
   ]
  },
  {
   "cell_type": "code",
   "execution_count": 4,
   "metadata": {
    "attributes": {
     "classes": [
      ""
     ],
     "id": ""
    }
   },
   "outputs": [
    {
     "data": {
      "application/vnd.jupyter.widget-view+json": {
       "model_id": "0899b3c25d644ca08ddfd3082728774c",
       "version_major": 2,
       "version_minor": 0
      },
      "text/plain": [
       "  0%|          | 0/100 [00:00<?, ?it/s]"
      ]
     },
     "metadata": {},
     "output_type": "display_data"
    },
    {
     "data": {
      "application/vnd.jupyter.widget-view+json": {
       "model_id": "deb4e3c238ba4cb59d286a131dbb5e43",
       "version_major": 2,
       "version_minor": 0
      },
      "text/plain": [
       "  0%|          | 0/1 [00:00<?, ?it/s]"
      ]
     },
     "metadata": {},
     "output_type": "display_data"
    },
    {
     "data": {
      "application/vnd.jupyter.widget-view+json": {
       "model_id": "86c665707b7043c891dc7dc7e4c2fc60",
       "version_major": 2,
       "version_minor": 0
      },
      "text/plain": [
       "Schedule:   0%|          | 0/2 [00:00<?, ?it/s]"
      ]
     },
     "metadata": {},
     "output_type": "display_data"
    },
    {
     "name": "stdout",
     "output_type": "stream",
     "text": [
      "100\n"
     ]
    },
    {
     "data": {
      "application/vnd.jupyter.widget-view+json": {
       "model_id": "b8f713b30b3f476eaf653119d954cef6",
       "version_major": 2,
       "version_minor": 0
      },
      "text/plain": [
       "  0%|          | 0/100 [00:00<?, ?it/s]"
      ]
     },
     "metadata": {},
     "output_type": "display_data"
    },
    {
     "data": {
      "application/vnd.jupyter.widget-view+json": {
       "model_id": "6a120b82441545b59687cc31654cf0bb",
       "version_major": 2,
       "version_minor": 0
      },
      "text/plain": [
       "Schedule course_id Likelihoods:   0%|          | 0/100 [00:00<?, ?it/s]"
      ]
     },
     "metadata": {},
     "output_type": "display_data"
    },
    {
     "name": "stdout",
     "output_type": "stream",
     "text": [
      "100\n"
     ]
    },
    {
     "data": {
      "application/vnd.jupyter.widget-view+json": {
       "model_id": "dc2e19b3745e48e6bcae145f98d25a9d",
       "version_major": 2,
       "version_minor": 0
      },
      "text/plain": [
       "  0%|          | 0/100 [00:00<?, ?it/s]"
      ]
     },
     "metadata": {},
     "output_type": "display_data"
    },
    {
     "data": {
      "application/vnd.jupyter.widget-view+json": {
       "model_id": "b8bea54294034b36a144fb8336361e34",
       "version_major": 2,
       "version_minor": 0
      },
      "text/plain": [
       "Schedule professor_id Likelihoods:   0%|          | 0/100 [00:00<?, ?it/s]"
      ]
     },
     "metadata": {},
     "output_type": "display_data"
    }
   ],
   "source": [
    "data_single = model.sample('Schedule', num_rows=100, sample_children=False)"
   ]
  },
  {
   "cell_type": "code",
   "execution_count": null,
   "metadata": {},
   "outputs": [],
   "source": [
    "save_tables({\"Schedule\":data_single}, \"output_single.xlsx\")"
   ]
  },
  {
   "cell_type": "code",
   "execution_count": null,
   "metadata": {},
   "outputs": [],
   "source": [
    "#—— 生成Schedule表，并生成关联外键表\n",
    "data_subset = model.sample('Lab', num_rows=100, sample_children=True)"
   ]
  },
  {
   "cell_type": "code",
   "execution_count": null,
   "metadata": {},
   "outputs": [],
   "source": [
    "save_tables(data_subset, \"output_subset.xlsx\")"
   ]
  },
  {
   "cell_type": "code",
   "execution_count": null,
   "metadata": {},
   "outputs": [],
   "source": []
  }
 ],
 "metadata": {
  "kernelspec": {
   "display_name": "Python 3 (ipykernel)",
   "language": "python",
   "name": "python3"
  },
  "language_info": {
   "codemirror_mode": {
    "name": "ipython",
    "version": 3
   },
   "file_extension": ".py",
   "mimetype": "text/x-python",
   "name": "python",
   "nbconvert_exporter": "python",
   "pygments_lexer": "ipython3",
   "version": "3.8.19"
  }
 },
 "nbformat": 4,
 "nbformat_minor": 4
}
