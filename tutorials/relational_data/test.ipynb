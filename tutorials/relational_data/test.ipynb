{
 "cells": [
  {
   "cell_type": "code",
   "id": "initial_id",
   "metadata": {
    "collapsed": true,
    "ExecuteTime": {
     "end_time": "2024-08-28T03:04:12.390675Z",
     "start_time": "2024-08-28T03:04:10.563353Z"
    }
   },
   "source": "from ctgan import CTGANSynthesizer",
   "outputs": [],
   "execution_count": 1
  },
  {
   "metadata": {},
   "cell_type": "markdown",
   "source": "",
   "id": "55662377c6801153"
  },
  {
   "metadata": {
    "ExecuteTime": {
     "end_time": "2024-08-28T03:04:12.406641Z",
     "start_time": "2024-08-28T03:04:12.391599Z"
    }
   },
   "cell_type": "code",
   "source": "import ctgan",
   "id": "6a4216f469f5a2d8",
   "outputs": [],
   "execution_count": 2
  },
  {
   "metadata": {
    "ExecuteTime": {
     "end_time": "2024-08-28T03:04:12.422664Z",
     "start_time": "2024-08-28T03:04:12.407664Z"
    }
   },
   "cell_type": "code",
   "source": "ctgan.__version__",
   "id": "4d6ce98a6050593a",
   "outputs": [
    {
     "data": {
      "text/plain": [
       "'0.5.2'"
      ]
     },
     "execution_count": 3,
     "metadata": {},
     "output_type": "execute_result"
    }
   ],
   "execution_count": 3
  },
  {
   "metadata": {
    "ExecuteTime": {
     "end_time": "2024-08-28T03:04:12.438638Z",
     "start_time": "2024-08-28T03:04:12.423651Z"
    }
   },
   "cell_type": "code",
   "source": "",
   "id": "59fa8dc57bf276a3",
   "outputs": [],
   "execution_count": 3
  }
 ],
 "metadata": {
  "kernelspec": {
   "display_name": "Python 3",
   "language": "python",
   "name": "python3"
  },
  "language_info": {
   "codemirror_mode": {
    "name": "ipython",
    "version": 2
   },
   "file_extension": ".py",
   "mimetype": "text/x-python",
   "name": "python",
   "nbconvert_exporter": "python",
   "pygments_lexer": "ipython2",
   "version": "2.7.6"
  }
 },
 "nbformat": 4,
 "nbformat_minor": 5
}
