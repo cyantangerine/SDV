{
 "cells": [
  {
   "cell_type": "code",
   "id": "initial_id",
   "metadata": {
    "collapsed": true,
    "ExecuteTime": {
     "end_time": "2024-10-16T07:38:49.765519Z",
     "start_time": "2024-10-16T07:38:49.714626Z"
    }
   },
   "source": [
    "from sdv import Metadata\n",
    "import os\n",
    "\n",
    "print(os.getcwd())\n",
    "from test_20_tables import fetch_data_from_sqlite_filter\n",
    "\n",
    "metadata, tables = fetch_data_from_sqlite_filter([\"BookLoan\",\n",
    "                 \"Book\", \"Library\", \"Student\",\n",
    "                 \"Enrollment\", \"Submission\", \"Course\", # \"Assignment\"\n",
    "                 \"CourseTextbook\", \"Textbook\",\n",
    "                 \"Schedule\", \"Professor\"],\"1k_data_sqlite.db\")\n",
    "metadata = Metadata(metadata)\n",
    "metadata"
   ],
   "outputs": [
    {
     "name": "stdout",
     "output_type": "stream",
     "text": [
      "C:\\Users\\Elvin\\Desktop\\GitHub\\SDV\\tutorials\\relational_data\n"
     ]
    },
    {
     "data": {
      "text/plain": [
       "Metadata\n",
       "  root_path: .\n",
       "  tables: ['BookLoan', 'Book', 'Library', 'Student', 'Enrollment', 'Submission', 'Course', 'CourseTextbook', 'Textbook', 'Schedule', 'Professor']\n",
       "  relationships:\n",
       "    BookLoan.book_id -> Book.book_id\n",
       "    BookLoan.student_id -> Student.student_id\n",
       "    Book.library_id -> Library.library_id\n",
       "    Enrollment.student_id -> Student.student_id\n",
       "    Submission.student_id -> Student.student_id\n",
       "    CourseTextbook.textbook_id -> Textbook.textbook_id\n",
       "    Schedule.professor_id -> Professor.professor_id"
      ]
     },
     "execution_count": 4,
     "metadata": {},
     "output_type": "execute_result"
    }
   ],
   "execution_count": 4
  },
  {
   "metadata": {},
   "cell_type": "code",
   "source": "metadata.to_json(\"1.json\")",
   "id": "52957922e421f017",
   "outputs": [],
   "execution_count": null
  },
  {
   "metadata": {},
   "cell_type": "code",
   "source": [
    "for key,table in tables.items():\n",
    "    print(table.head(1))"
   ],
   "id": "7145706383b12449",
   "outputs": [],
   "execution_count": null
  },
  {
   "metadata": {},
   "cell_type": "code",
   "source": [
    "from sdv.relational import HMA1\n",
    "import warnings\n",
    "warnings.filterwarnings('ignore')\n",
    "\n",
    "model = HMA1(metadata)    "
   ],
   "id": "fbe5f611106db342",
   "outputs": [],
   "execution_count": null
  },
  {
   "metadata": {},
   "cell_type": "code",
   "source": "model.fit(tables)",
   "id": "1d8934daf8bdb4c3",
   "outputs": [],
   "execution_count": null
  },
  {
   "metadata": {},
   "cell_type": "code",
   "source": "model.save('my_model_1k.pkl')",
   "id": "308f42aaeba75e7e",
   "outputs": [],
   "execution_count": null
  },
  {
   "metadata": {},
   "cell_type": "code",
   "source": [
    "new_data = model.sample(num_rows=1000)\n",
    "new_data"
   ],
   "id": "6959154c73638ac2",
   "outputs": [],
   "execution_count": null
  },
  {
   "metadata": {},
   "cell_type": "code",
   "source": [
    "synthetic_data = new_data\n",
    "real_data = tables\n",
    "\n",
    "from sdv.evaluation import evaluate\n",
    "evaluate(synthetic_data, real_data,metadata=metadata, aggregate=False)"
   ],
   "id": "9912832f998d447b",
   "outputs": [],
   "execution_count": null
  },
  {
   "metadata": {},
   "cell_type": "code",
   "source": "evaluate(synthetic_data, real_data,metadata=metadata)",
   "id": "90fb44e1ba8940f1",
   "outputs": [],
   "execution_count": null
  },
  {
   "metadata": {
    "ExecuteTime": {
     "end_time": "2024-10-16T07:38:13.205642Z",
     "start_time": "2024-10-16T07:38:07.284734Z"
    }
   },
   "cell_type": "code",
   "source": [
    "\n",
    "\n",
    "\n",
    "\n"
   ],
   "id": "47185f8591b4a461",
   "outputs": [],
   "execution_count": 1
  },
  {
   "metadata": {
    "ExecuteTime": {
     "end_time": "2024-10-15T16:40:46.997736Z",
     "start_time": "2024-10-15T16:40:46.989707Z"
    }
   },
   "cell_type": "code",
   "source": "o_real_ctgan_data = real_ctgan_data.copy()",
   "id": "2f6dd6bc74c607f4",
   "outputs": [],
   "execution_count": 2
  },
  {
   "metadata": {
    "ExecuteTime": {
     "end_time": "2024-10-15T16:40:48.185997Z",
     "start_time": "2024-10-15T16:40:47.576079Z"
    }
   },
   "cell_type": "code",
   "source": [
    "for key, table in o_real_ctgan_data.items():\n",
    "    real_ctgan_data[key] = table.sample(30000) #[0:1000]\n",
    "    print(len(table))"
   ],
   "id": "d204893eab153c4e",
   "outputs": [
    {
     "ename": "ValueError",
     "evalue": "Cannot take a larger sample than population when 'replace=False'",
     "output_type": "error",
     "traceback": [
      "\u001B[1;31m---------------------------------------------------------------------------\u001B[0m",
      "\u001B[1;31mValueError\u001B[0m                                Traceback (most recent call last)",
      "Cell \u001B[1;32mIn[3], line 2\u001B[0m\n\u001B[0;32m      1\u001B[0m \u001B[38;5;28;01mfor\u001B[39;00m key, table \u001B[38;5;129;01min\u001B[39;00m o_real_ctgan_data\u001B[38;5;241m.\u001B[39mitems():\n\u001B[1;32m----> 2\u001B[0m     real_ctgan_data[key] \u001B[38;5;241m=\u001B[39m \u001B[43mtable\u001B[49m\u001B[38;5;241;43m.\u001B[39;49m\u001B[43msample\u001B[49m\u001B[43m(\u001B[49m\u001B[38;5;241;43m30000\u001B[39;49m\u001B[43m)\u001B[49m \u001B[38;5;66;03m#[0:1000]\u001B[39;00m\n\u001B[0;32m      3\u001B[0m     \u001B[38;5;28mprint\u001B[39m(\u001B[38;5;28mlen\u001B[39m(table))\n",
      "File \u001B[1;32m~\\.conda\\envs\\SDV0172\\lib\\site-packages\\pandas\\core\\generic.py:5773\u001B[0m, in \u001B[0;36mNDFrame.sample\u001B[1;34m(self, n, frac, replace, weights, random_state, axis, ignore_index)\u001B[0m\n\u001B[0;32m   5770\u001B[0m \u001B[38;5;28;01mif\u001B[39;00m weights \u001B[38;5;129;01mis\u001B[39;00m \u001B[38;5;129;01mnot\u001B[39;00m \u001B[38;5;28;01mNone\u001B[39;00m:\n\u001B[0;32m   5771\u001B[0m     weights \u001B[38;5;241m=\u001B[39m sample\u001B[38;5;241m.\u001B[39mpreprocess_weights(\u001B[38;5;28mself\u001B[39m, weights, axis)\n\u001B[1;32m-> 5773\u001B[0m sampled_indices \u001B[38;5;241m=\u001B[39m \u001B[43msample\u001B[49m\u001B[38;5;241;43m.\u001B[39;49m\u001B[43msample\u001B[49m\u001B[43m(\u001B[49m\u001B[43mobj_len\u001B[49m\u001B[43m,\u001B[49m\u001B[43m \u001B[49m\u001B[43msize\u001B[49m\u001B[43m,\u001B[49m\u001B[43m \u001B[49m\u001B[43mreplace\u001B[49m\u001B[43m,\u001B[49m\u001B[43m \u001B[49m\u001B[43mweights\u001B[49m\u001B[43m,\u001B[49m\u001B[43m \u001B[49m\u001B[43mrs\u001B[49m\u001B[43m)\u001B[49m\n\u001B[0;32m   5774\u001B[0m result \u001B[38;5;241m=\u001B[39m \u001B[38;5;28mself\u001B[39m\u001B[38;5;241m.\u001B[39mtake(sampled_indices, axis\u001B[38;5;241m=\u001B[39maxis)\n\u001B[0;32m   5776\u001B[0m \u001B[38;5;28;01mif\u001B[39;00m ignore_index:\n",
      "File \u001B[1;32m~\\.conda\\envs\\SDV0172\\lib\\site-packages\\pandas\\core\\sample.py:150\u001B[0m, in \u001B[0;36msample\u001B[1;34m(obj_len, size, replace, weights, random_state)\u001B[0m\n\u001B[0;32m    147\u001B[0m     \u001B[38;5;28;01melse\u001B[39;00m:\n\u001B[0;32m    148\u001B[0m         \u001B[38;5;28;01mraise\u001B[39;00m \u001B[38;5;167;01mValueError\u001B[39;00m(\u001B[38;5;124m\"\u001B[39m\u001B[38;5;124mInvalid weights: weights sum to zero\u001B[39m\u001B[38;5;124m\"\u001B[39m)\n\u001B[1;32m--> 150\u001B[0m \u001B[38;5;28;01mreturn\u001B[39;00m \u001B[43mrandom_state\u001B[49m\u001B[38;5;241;43m.\u001B[39;49m\u001B[43mchoice\u001B[49m\u001B[43m(\u001B[49m\u001B[43mobj_len\u001B[49m\u001B[43m,\u001B[49m\u001B[43m \u001B[49m\u001B[43msize\u001B[49m\u001B[38;5;241;43m=\u001B[39;49m\u001B[43msize\u001B[49m\u001B[43m,\u001B[49m\u001B[43m \u001B[49m\u001B[43mreplace\u001B[49m\u001B[38;5;241;43m=\u001B[39;49m\u001B[43mreplace\u001B[49m\u001B[43m,\u001B[49m\u001B[43m \u001B[49m\u001B[43mp\u001B[49m\u001B[38;5;241;43m=\u001B[39;49m\u001B[43mweights\u001B[49m\u001B[43m)\u001B[49m\u001B[38;5;241m.\u001B[39mastype(\n\u001B[0;32m    151\u001B[0m     np\u001B[38;5;241m.\u001B[39mintp, copy\u001B[38;5;241m=\u001B[39m\u001B[38;5;28;01mFalse\u001B[39;00m\n\u001B[0;32m    152\u001B[0m )\n",
      "File \u001B[1;32mmtrand.pyx:965\u001B[0m, in \u001B[0;36mnumpy.random.mtrand.RandomState.choice\u001B[1;34m()\u001B[0m\n",
      "\u001B[1;31mValueError\u001B[0m: Cannot take a larger sample than population when 'replace=False'"
     ]
    }
   ],
   "execution_count": 3
  },
  {
   "metadata": {
    "ExecuteTime": {
     "end_time": "2024-10-15T16:40:48.952811Z",
     "start_time": "2024-10-15T16:40:48.943770Z"
    }
   },
   "cell_type": "code",
   "source": [
    "# from sdv.evaluation import evaluate\n",
    "# ret = evaluate(synthetic_ctgan_data, real_ctgan_data, metadata=metadata)\n",
    "# ret"
   ],
   "id": "53a9ff8e8a4aed7c",
   "outputs": [],
   "execution_count": 4
  },
  {
   "metadata": {
    "ExecuteTime": {
     "end_time": "2024-10-15T16:32:21.658098Z",
     "start_time": "2024-10-15T16:32:21.649136Z"
    }
   },
   "cell_type": "code",
   "source": "# real_ctgan_data[\"Book\"]",
   "id": "cd90bc4bf13d3e8e",
   "outputs": [],
   "execution_count": 36
  },
  {
   "metadata": {
    "ExecuteTime": {
     "end_time": "2024-10-16T08:27:33.367740Z",
     "start_time": "2024-10-16T08:27:17.493916Z"
    }
   },
   "cell_type": "code",
   "source": [
    "import pandas as pd\n",
    "\n",
    "def read_xlsx(name):\n",
    "    # 读取多sheet的Excel文件\n",
    "    sheets_dict = pd.read_excel(name, sheet_name=None)\n",
    "    return sheets_dict\n",
    "synthetic_ctgan_data = read_xlsx(\"test_100k_sample_split.xlsx\")\n",
    "real_ctgan_data = read_xlsx(\"test_100k_origin_split.xlsx\")\n",
    "import pickle\n",
    "from sdv.evaluation import evaluate\n",
    "metadata = pickle.load(open(\"test_data.pickle\", \"rb\"))\n",
    "ret = evaluate(synthetic_ctgan_data, real_ctgan_data,metadata=metadata, aggregate=False)\n",
    "print(ret.normalized_score.mean())\n",
    "ret"
   ],
   "id": "890ad5673824f4ad",
   "outputs": [
    {
     "name": "stdout",
     "output_type": "stream",
     "text": [
      "0.7489928639741503\n"
     ]
    },
    {
     "data": {
      "text/plain": [
       "         metric                                     name  raw_score  \\\n",
       "0  KSComplement  Inverted Kolmogorov-Smirnov D statistic   0.816659   \n",
       "1        CSTest                              Chi-Squared   0.681326   \n",
       "\n",
       "   normalized_score  min_value  max_value      goal error  \n",
       "0          0.816659        0.0        1.0  MAXIMIZE  None  \n",
       "1          0.681326        0.0        1.0  MAXIMIZE  None  "
      ],
      "text/html": [
       "<div>\n",
       "<style scoped>\n",
       "    .dataframe tbody tr th:only-of-type {\n",
       "        vertical-align: middle;\n",
       "    }\n",
       "\n",
       "    .dataframe tbody tr th {\n",
       "        vertical-align: top;\n",
       "    }\n",
       "\n",
       "    .dataframe thead th {\n",
       "        text-align: right;\n",
       "    }\n",
       "</style>\n",
       "<table border=\"1\" class=\"dataframe\">\n",
       "  <thead>\n",
       "    <tr style=\"text-align: right;\">\n",
       "      <th></th>\n",
       "      <th>metric</th>\n",
       "      <th>name</th>\n",
       "      <th>raw_score</th>\n",
       "      <th>normalized_score</th>\n",
       "      <th>min_value</th>\n",
       "      <th>max_value</th>\n",
       "      <th>goal</th>\n",
       "      <th>error</th>\n",
       "    </tr>\n",
       "  </thead>\n",
       "  <tbody>\n",
       "    <tr>\n",
       "      <th>0</th>\n",
       "      <td>KSComplement</td>\n",
       "      <td>Inverted Kolmogorov-Smirnov D statistic</td>\n",
       "      <td>0.816659</td>\n",
       "      <td>0.816659</td>\n",
       "      <td>0.0</td>\n",
       "      <td>1.0</td>\n",
       "      <td>MAXIMIZE</td>\n",
       "      <td>None</td>\n",
       "    </tr>\n",
       "    <tr>\n",
       "      <th>1</th>\n",
       "      <td>CSTest</td>\n",
       "      <td>Chi-Squared</td>\n",
       "      <td>0.681326</td>\n",
       "      <td>0.681326</td>\n",
       "      <td>0.0</td>\n",
       "      <td>1.0</td>\n",
       "      <td>MAXIMIZE</td>\n",
       "      <td>None</td>\n",
       "    </tr>\n",
       "  </tbody>\n",
       "</table>\n",
       "</div>"
      ]
     },
     "execution_count": 9,
     "metadata": {},
     "output_type": "execute_result"
    }
   ],
   "execution_count": 9
  },
  {
   "metadata": {},
   "cell_type": "code",
   "source": "",
   "id": "8787c9dbebc32370",
   "outputs": [],
   "execution_count": null
  }
 ],
 "metadata": {
  "kernelspec": {
   "display_name": "Python 3",
   "language": "python",
   "name": "python3"
  },
  "language_info": {
   "codemirror_mode": {
    "name": "ipython",
    "version": 2
   },
   "file_extension": ".py",
   "mimetype": "text/x-python",
   "name": "python",
   "nbconvert_exporter": "python",
   "pygments_lexer": "ipython2",
   "version": "2.7.6"
  }
 },
 "nbformat": 4,
 "nbformat_minor": 5
}
