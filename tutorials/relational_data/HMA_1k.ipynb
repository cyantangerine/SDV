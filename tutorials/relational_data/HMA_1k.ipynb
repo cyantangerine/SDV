{
 "cells": [
  {
   "cell_type": "code",
   "id": "initial_id",
   "metadata": {
    "collapsed": true,
    "ExecuteTime": {
     "end_time": "2024-10-14T12:52:35.864880Z",
     "start_time": "2024-10-14T12:52:34.246002Z"
    }
   },
   "source": [
    "from sdv import Metadata\n",
    "import os\n",
    "\n",
    "print(os.getcwd())\n",
    "from test_20_tables import fetch_data_from_sqlite_filter\n",
    "\n",
    "metadata, tables = fetch_data_from_sqlite_filter([\"BookLoan\", \"Book\", \"Library\", \"Student\", \"Enrollment\", \"Submission\"],\"1k_data_sqlite.db\")\n",
    "metadata = Metadata(metadata)\n",
    "metadata"
   ],
   "outputs": [
    {
     "name": "stdout",
     "output_type": "stream",
     "text": [
      "C:\\Users\\Elvin\\Desktop\\GitHub\\SDV\\tutorials\\relational_data\n"
     ]
    },
    {
     "data": {
      "text/plain": [
       "Metadata\n",
       "  root_path: .\n",
       "  tables: ['BookLoan', 'Book', 'Library', 'Student', 'Enrollment', 'Submission']\n",
       "  relationships:\n",
       "    BookLoan.book_id -> Book.book_id\n",
       "    BookLoan.student_id -> Student.student_id\n",
       "    Book.library_id -> Library.library_id\n",
       "    Enrollment.student_id -> Student.student_id\n",
       "    Submission.student_id -> Student.student_id"
      ]
     },
     "execution_count": 1,
     "metadata": {},
     "output_type": "execute_result"
    }
   ],
   "execution_count": 1
  },
  {
   "metadata": {
    "ExecuteTime": {
     "end_time": "2024-10-14T12:52:35.880545Z",
     "start_time": "2024-10-14T12:52:35.865902Z"
    }
   },
   "cell_type": "code",
   "source": "metadata.to_json(\"1.json\")",
   "id": "52957922e421f017",
   "outputs": [],
   "execution_count": 2
  },
  {
   "metadata": {
    "ExecuteTime": {
     "end_time": "2024-10-14T12:52:35.896492Z",
     "start_time": "2024-10-14T12:52:35.881543Z"
    }
   },
   "cell_type": "code",
   "source": [
    "for key,table in tables.items():\n",
    "    print(table.head(1))"
   ],
   "id": "7145706383b12449",
   "outputs": [
    {
     "name": "stdout",
     "output_type": "stream",
     "text": [
      "   loan_id  book_id  student_id   loan_date return_date\n",
      "0        1        1         735  2024-09-30  2025-07-08\n",
      "   book_id               title           author               isbn  library_id\n",
      "0        1  Cause source blue.  Pamela Mccarthy  978-0-385-99866-6           1\n",
      "   library_id                     name                                location\n",
      "0           1  Wright-Thompson Library  9510 Medina Valley\\nLisatown, RI 01200\n",
      "   student_id             name                     email date_of_birth major\n",
      "0           1  Clarence Spence  robertgrimes@example.com    1996-11-25    70\n",
      "   enrollment_id  student_id  course_id     semester grade\n",
      "0              1         934        143  Spring 2019  None\n",
      "   submission_id  assignment_id  student_id      submission_date grade\n",
      "0              1             67         875  2022-11-24 21:49:55     C\n"
     ]
    }
   ],
   "execution_count": 3
  },
  {
   "metadata": {
    "ExecuteTime": {
     "end_time": "2024-10-14T12:52:35.912461Z",
     "start_time": "2024-10-14T12:52:35.897485Z"
    }
   },
   "cell_type": "code",
   "source": [
    "from sdv.relational import HMA1\n",
    "import warnings\n",
    "warnings.filterwarnings('ignore')\n",
    "\n",
    "model = HMA1(metadata)    "
   ],
   "id": "fbe5f611106db342",
   "outputs": [],
   "execution_count": 4
  },
  {
   "metadata": {
    "ExecuteTime": {
     "end_time": "2024-10-14T12:53:02.955377Z",
     "start_time": "2024-10-14T12:52:35.913457Z"
    }
   },
   "cell_type": "code",
   "source": "model.fit(tables)",
   "id": "1d8934daf8bdb4c3",
   "outputs": [
    {
     "data": {
      "text/plain": [
       "Fitting HMA1: 0it [00:00, ?it/s]"
      ],
      "application/vnd.jupyter.widget-view+json": {
       "version_major": 2,
       "version_minor": 0,
       "model_id": "65803a911e184bbd9b7e0468557f3b0e"
      }
     },
     "metadata": {},
     "output_type": "display_data"
    },
    {
     "name": "stdout",
     "output_type": "stream",
     "text": [
      "Modeling Library\n",
      "Modeling Book\n",
      "Modeling BookLoan\n"
     ]
    },
    {
     "data": {
      "text/plain": [
       "Book:BookLoan:   0%|          | 0/1 [00:00<?, ?it/s]"
      ],
      "application/vnd.jupyter.widget-view+json": {
       "version_major": 2,
       "version_minor": 0,
       "model_id": "c7eda6c456624cbea6d9b1ac1ee1e4a0"
      }
     },
     "metadata": {},
     "output_type": "display_data"
    },
    {
     "data": {
      "text/plain": [
       "BookLoan Unique:   0%|          | 0/1000 [00:00<?, ?it/s]"
      ],
      "application/vnd.jupyter.widget-view+json": {
       "version_major": 2,
       "version_minor": 0,
       "model_id": "6eab9173c0ce40309195951f143d1264"
      }
     },
     "metadata": {},
     "output_type": "display_data"
    },
    {
     "data": {
      "text/plain": [
       "Library:Book:   0%|          | 0/1 [00:00<?, ?it/s]"
      ],
      "application/vnd.jupyter.widget-view+json": {
       "version_major": 2,
       "version_minor": 0,
       "model_id": "d00644f59bcb49cab6257eb7f2a66350"
      }
     },
     "metadata": {},
     "output_type": "display_data"
    },
    {
     "data": {
      "text/plain": [
       "Book Unique:   0%|          | 0/1000 [00:00<?, ?it/s]"
      ],
      "application/vnd.jupyter.widget-view+json": {
       "version_major": 2,
       "version_minor": 0,
       "model_id": "05a94e83de134ac2a6273d256e038e39"
      }
     },
     "metadata": {},
     "output_type": "display_data"
    },
    {
     "name": "stdout",
     "output_type": "stream",
     "text": [
      "Modeling Student\n"
     ]
    },
    {
     "data": {
      "text/plain": [
       "Student:BookLoan:   0%|          | 0/1 [00:00<?, ?it/s]"
      ],
      "application/vnd.jupyter.widget-view+json": {
       "version_major": 2,
       "version_minor": 0,
       "model_id": "111ebfcb431e48349d457a222868cebf"
      }
     },
     "metadata": {},
     "output_type": "display_data"
    },
    {
     "data": {
      "text/plain": [
       "BookLoan Unique:   0%|          | 0/627 [00:00<?, ?it/s]"
      ],
      "application/vnd.jupyter.widget-view+json": {
       "version_major": 2,
       "version_minor": 0,
       "model_id": "9978912e8f064b1284facd1264e3b27a"
      }
     },
     "metadata": {},
     "output_type": "display_data"
    },
    {
     "name": "stdout",
     "output_type": "stream",
     "text": [
      "Modeling Submission\n"
     ]
    },
    {
     "data": {
      "text/plain": [
       "Student:Submission:   0%|          | 0/1 [00:00<?, ?it/s]"
      ],
      "application/vnd.jupyter.widget-view+json": {
       "version_major": 2,
       "version_minor": 0,
       "model_id": "39db0c452d0e4233941795dedaf9331c"
      }
     },
     "metadata": {},
     "output_type": "display_data"
    },
    {
     "data": {
      "text/plain": [
       "Submission Unique:   0%|          | 0/659 [00:00<?, ?it/s]"
      ],
      "application/vnd.jupyter.widget-view+json": {
       "version_major": 2,
       "version_minor": 0,
       "model_id": "05f55baedb9f4ed9b4fc60d9c66c3836"
      }
     },
     "metadata": {},
     "output_type": "display_data"
    },
    {
     "name": "stdout",
     "output_type": "stream",
     "text": [
      "Modeling Enrollment\n"
     ]
    },
    {
     "data": {
      "text/plain": [
       "Student:Enrollment:   0%|          | 0/1 [00:00<?, ?it/s]"
      ],
      "application/vnd.jupyter.widget-view+json": {
       "version_major": 2,
       "version_minor": 0,
       "model_id": "3a985c5a53104967b24eb861d6488883"
      }
     },
     "metadata": {},
     "output_type": "display_data"
    },
    {
     "data": {
      "text/plain": [
       "Enrollment Unique:   0%|          | 0/619 [00:00<?, ?it/s]"
      ],
      "application/vnd.jupyter.widget-view+json": {
       "version_major": 2,
       "version_minor": 0,
       "model_id": "091abfa1b53f4167b3ef1c6b19a35720"
      }
     },
     "metadata": {},
     "output_type": "display_data"
    }
   ],
   "execution_count": 5
  },
  {
   "metadata": {
    "ExecuteTime": {
     "end_time": "2024-10-14T12:53:02.970765Z",
     "start_time": "2024-10-14T12:53:02.956371Z"
    }
   },
   "cell_type": "code",
   "source": "model.save('my_model_1k.pkl')",
   "id": "308f42aaeba75e7e",
   "outputs": [],
   "execution_count": 6
  },
  {
   "metadata": {
    "ExecuteTime": {
     "end_time": "2024-10-14T12:53:59.389959Z",
     "start_time": "2024-10-14T12:53:02.971683Z"
    }
   },
   "cell_type": "code",
   "source": [
    "new_data = model.sample(num_rows=1000)\n",
    "new_data"
   ],
   "id": "6959154c73638ac2",
   "outputs": [
    {
     "data": {
      "text/plain": [
       "  0%|          | 0/6 [00:00<?, ?it/s]"
      ],
      "application/vnd.jupyter.widget-view+json": {
       "version_major": 2,
       "version_minor": 0,
       "model_id": "5907bd4ce8384a9b87d8e409a858449e"
      }
     },
     "metadata": {},
     "output_type": "display_data"
    },
    {
     "data": {
      "text/plain": [
       "  0%|          | 0/1000 [00:00<?, ?it/s]"
      ],
      "application/vnd.jupyter.widget-view+json": {
       "version_major": 2,
       "version_minor": 0,
       "model_id": "bdc68cdea350446594c432a13125750d"
      }
     },
     "metadata": {},
     "output_type": "display_data"
    },
    {
     "data": {
      "text/plain": [
       "Library Childing:   0%|          | 0/1 [00:00<?, ?it/s]"
      ],
      "application/vnd.jupyter.widget-view+json": {
       "version_major": 2,
       "version_minor": 0,
       "model_id": "64208af907a043d09221018a99d0e48d"
      }
     },
     "metadata": {},
     "output_type": "display_data"
    },
    {
     "data": {
      "text/plain": [
       "Book:   0%|          | 0/1000 [00:00<?, ?it/s]"
      ],
      "application/vnd.jupyter.widget-view+json": {
       "version_major": 2,
       "version_minor": 0,
       "model_id": "5c54d644e0034c1d81a0734f21ba5800"
      }
     },
     "metadata": {},
     "output_type": "display_data"
    },
    {
     "data": {
      "text/plain": [
       "Book Childing:   0%|          | 0/1 [00:00<?, ?it/s]"
      ],
      "application/vnd.jupyter.widget-view+json": {
       "version_major": 2,
       "version_minor": 0,
       "model_id": "7c4dccdc62244f42bbc7b7cb763229a2"
      }
     },
     "metadata": {},
     "output_type": "display_data"
    },
    {
     "data": {
      "text/plain": [
       "BookLoan:   0%|          | 0/1000 [00:00<?, ?it/s]"
      ],
      "application/vnd.jupyter.widget-view+json": {
       "version_major": 2,
       "version_minor": 0,
       "model_id": "5e2a4e3d1130472b9022d177002a9f78"
      }
     },
     "metadata": {},
     "output_type": "display_data"
    },
    {
     "data": {
      "text/plain": [
       "  0%|          | 0/1000 [00:00<?, ?it/s]"
      ],
      "application/vnd.jupyter.widget-view+json": {
       "version_major": 2,
       "version_minor": 0,
       "model_id": "9078b12f87ca44948916f954a5292c40"
      }
     },
     "metadata": {},
     "output_type": "display_data"
    },
    {
     "data": {
      "text/plain": [
       "Student Childing:   0%|          | 0/3 [00:00<?, ?it/s]"
      ],
      "application/vnd.jupyter.widget-view+json": {
       "version_major": 2,
       "version_minor": 0,
       "model_id": "a349998939d6493b84e7388eb65d8c1b"
      }
     },
     "metadata": {},
     "output_type": "display_data"
    },
    {
     "data": {
      "text/plain": [
       "Submission:   0%|          | 0/1000 [00:00<?, ?it/s]"
      ],
      "application/vnd.jupyter.widget-view+json": {
       "version_major": 2,
       "version_minor": 0,
       "model_id": "69f33c49b2e640099b7a8307e782d578"
      }
     },
     "metadata": {},
     "output_type": "display_data"
    },
    {
     "data": {
      "text/plain": [
       "Enrollment:   0%|          | 0/1000 [00:00<?, ?it/s]"
      ],
      "application/vnd.jupyter.widget-view+json": {
       "version_major": 2,
       "version_minor": 0,
       "model_id": "c8242721fc7145f9a67e61f5adaef4b3"
      }
     },
     "metadata": {},
     "output_type": "display_data"
    },
    {
     "data": {
      "text/plain": [
       "  0%|          | 0/6 [00:00<?, ?it/s]"
      ],
      "application/vnd.jupyter.widget-view+json": {
       "version_major": 2,
       "version_minor": 0,
       "model_id": "b5ffcd5856f14b8fa90624cc40f5d260"
      }
     },
     "metadata": {},
     "output_type": "display_data"
    },
    {
     "data": {
      "text/plain": [
       "BookLoan:   0%|          | 0/2 [00:00<?, ?it/s]"
      ],
      "application/vnd.jupyter.widget-view+json": {
       "version_major": 2,
       "version_minor": 0,
       "model_id": "90c62aa7801a42a68c89450b6c286b16"
      }
     },
     "metadata": {},
     "output_type": "display_data"
    },
    {
     "data": {
      "text/plain": [
       "BookLoan student_id Likelihoods:   0%|          | 0/1000 [00:00<?, ?it/s]"
      ],
      "application/vnd.jupyter.widget-view+json": {
       "version_major": 2,
       "version_minor": 0,
       "model_id": "441638c4e98e4f89b73d53a2e08fc65a"
      }
     },
     "metadata": {},
     "output_type": "display_data"
    },
    {
     "data": {
      "text/plain": [
       "{'Library':      library_id                                   name  \\\n",
       " 0             0                      Smith Inc Library   \n",
       " 1             1                 Gardner-Garcia Library   \n",
       " 2             2                 Davis-Cantrell Library   \n",
       " 3             3                   Perez-Hodges Library   \n",
       " 4             4      Meyer, Cooke and Santiago Library   \n",
       " ..          ...                                    ...   \n",
       " 995         995                    Dickson PLC Library   \n",
       " 996         996                     Sparks PLC Library   \n",
       " 997         997                  Palmer-Larsen Library   \n",
       " 998         998                    Luna-Parker Library   \n",
       " 999         999  Bradford, Turner and Calderon Library   \n",
       " \n",
       "                                               location  \n",
       " 0               9510 Medina Valley\\nLisatown, RI 01200  \n",
       " 1          5454 Stephanie Cliff\\nNorth James, GA 29360  \n",
       " 2               679 Bush Villages\\nParksland, MA 63600  \n",
       " 3          808 Anna Underpass\\nLake Jeremiah, NM 14587  \n",
       " 4    72010 Williams Drive Apt. 643\\nRyanland, GA 69740  \n",
       " ..                                                 ...  \n",
       " 995   39886 Sarah Stravenue\\nWest Philipside, AR 20027  \n",
       " 996  8283 Mullen Walk Suite 608\\nStaffordchester, C...  \n",
       " 997  811 David Mountains Suite 551\\nNew Alison, MN ...  \n",
       " 998          63917 Chen Isle\\nSouth Isabella, AR 48028  \n",
       " 999                   Unit 5063 Box 4553\\nDPO AA 91128  \n",
       " \n",
       " [1000 rows x 3 columns],\n",
       " 'Book':      book_id              title           author               isbn  \\\n",
       " 0          0           Feeling.       John Brown  978-0-385-99866-6   \n",
       " 1          1           Feeling.       John Brown  978-0-385-99866-6   \n",
       " 2          2  Really same yeah.  Melanie Mcguire  978-0-262-94143-3   \n",
       " 3          3  Really same yeah.       John Brown  978-0-385-99866-6   \n",
       " 4          4           Feeling.       John Brown  978-0-385-99866-6   \n",
       " ..       ...                ...              ...                ...   \n",
       " 995      995  Really same yeah.  Melanie Mcguire  978-0-262-94143-3   \n",
       " 996      996  Really same yeah.  Melanie Mcguire  978-0-262-94143-3   \n",
       " 997      997           Feeling.       John Brown  978-0-385-99866-6   \n",
       " 998      998  Really same yeah.  Melanie Mcguire  978-0-262-94143-3   \n",
       " 999      999  Really same yeah.  Melanie Mcguire  978-0-262-94143-3   \n",
       " \n",
       "      library_id  \n",
       " 0             0  \n",
       " 1             1  \n",
       " 2             2  \n",
       " 3             3  \n",
       " 4             4  \n",
       " ..          ...  \n",
       " 995         995  \n",
       " 996         996  \n",
       " 997         997  \n",
       " 998         998  \n",
       " 999         999  \n",
       " \n",
       " [1000 rows x 5 columns],\n",
       " 'BookLoan':      loan_id  book_id  student_id  loan_date return_date\n",
       " 0          0        0         113 2024-06-16  2025-08-08\n",
       " 1          1        1         400 2024-07-28  2025-02-22\n",
       " 2          2        2         695 2024-08-10  2025-01-20\n",
       " 3          3        3         190 2023-10-18  2025-03-30\n",
       " 4          4        4         465 2024-04-24  2024-11-21\n",
       " ..       ...      ...         ...        ...         ...\n",
       " 995      995      995         465 2024-10-13  2024-10-14\n",
       " 996      996      996         419 2024-08-31  2024-12-21\n",
       " 997      997      997         821 2024-06-17  2025-04-17\n",
       " 998      998      998         666 2024-01-29  2025-03-16\n",
       " 999      999      999         210 2024-10-13  2025-07-18\n",
       " \n",
       " [1000 rows x 5 columns],\n",
       " 'Student':      student_id             name                     email date_of_birth major\n",
       " 0             0   Richard Thomas     kenneth25@example.org    2004-02-14   279\n",
       " 1             1    Paige Kennedy     smithpaul@example.net    1991-07-20   609\n",
       " 2             2    Matthew Wolfe        btyler@example.net    2003-09-25    10\n",
       " 3             3      Bryan Kelly      abennett@example.net    1994-01-14   175\n",
       " 4             4     Cindy Martin        pbaker@example.net    2003-08-05    45\n",
       " ..          ...              ...                       ...           ...   ...\n",
       " 995         995      Mark Larson    chadhebert@example.com    2003-10-06   465\n",
       " 996         996       Megan Lynn   davisamanda@example.org    2006-07-21   235\n",
       " 997         997    Samantha Shaw     raymond98@example.com    2008-04-08   531\n",
       " 998         998  Gabriella Hayes  robertgrimes@example.com    1999-10-24   479\n",
       " 999         999      Bryan Kelly        yscott@example.com    1998-09-12     9\n",
       " \n",
       " [1000 rows x 5 columns],\n",
       " 'Submission':       submission_id  assignment_id  student_id     submission_date grade\n",
       " 0                 0            660           0 2022-09-21 14:11:11     B\n",
       " 1                 1            591           1 2022-09-22 09:18:10     B\n",
       " 2                 2            773           3 2022-06-11 12:00:19     B\n",
       " 3                 3            501           3 2022-04-14 07:37:09     B\n",
       " 4                 4            376           3 2022-03-18 13:00:13     B\n",
       " ...             ...            ...         ...                 ...   ...\n",
       " 1196           1196            711         995 2022-08-27 09:40:51     B\n",
       " 1197           1197             60         996 2022-08-15 13:00:41     I\n",
       " 1198           1198            404         996 2022-05-20 12:56:39     I\n",
       " 1199           1199            231         996 2022-05-02 16:52:26     I\n",
       " 1200           1200            619         999 2023-01-06 18:54:33     B\n",
       " \n",
       " [1201 rows x 5 columns],\n",
       " 'Enrollment':       enrollment_id  student_id  course_id     semester grade\n",
       " 0                 0           0        380    Fall 2019     C\n",
       " 1                 1           1        511    Fall 2019     D\n",
       " 2                 2           2        397  Winter 2019     D\n",
       " 3                 3           3        687    Fall 2019     C\n",
       " 4                 4           3        929    Fall 2019     C\n",
       " ...             ...         ...        ...          ...   ...\n",
       " 1088           1088         994        584    Fall 2019     C\n",
       " 1089           1089         994        448    Fall 2019     C\n",
       " 1090           1090         997        999  Winter 2019     D\n",
       " 1091           1091         998        578    Fall 2019     C\n",
       " 1092           1092         999        868    Fall 2019     C\n",
       " \n",
       " [1093 rows x 5 columns]}"
      ]
     },
     "execution_count": 7,
     "metadata": {},
     "output_type": "execute_result"
    }
   ],
   "execution_count": 7
  },
  {
   "metadata": {
    "ExecuteTime": {
     "end_time": "2024-10-14T12:54:29.256079Z",
     "start_time": "2024-10-14T12:54:29.145448Z"
    }
   },
   "cell_type": "code",
   "source": [
    "synthetic_data = new_data\n",
    "real_data = tables\n",
    "\n",
    "from sdv.evaluation import evaluate\n",
    "evaluate(synthetic_data, real_data,metadata=metadata, aggregate=False)"
   ],
   "id": "9912832f998d447b",
   "outputs": [
    {
     "data": {
      "text/plain": [
       "         metric                                     name  raw_score  \\\n",
       "0  KSComplement  Inverted Kolmogorov-Smirnov D statistic   0.916713   \n",
       "1        CSTest                              Chi-Squared   0.970035   \n",
       "\n",
       "   normalized_score  min_value  max_value      goal error  \n",
       "0          0.916713        0.0        1.0  MAXIMIZE  None  \n",
       "1          0.970035        0.0        1.0  MAXIMIZE  None  "
      ],
      "text/html": [
       "<div>\n",
       "<style scoped>\n",
       "    .dataframe tbody tr th:only-of-type {\n",
       "        vertical-align: middle;\n",
       "    }\n",
       "\n",
       "    .dataframe tbody tr th {\n",
       "        vertical-align: top;\n",
       "    }\n",
       "\n",
       "    .dataframe thead th {\n",
       "        text-align: right;\n",
       "    }\n",
       "</style>\n",
       "<table border=\"1\" class=\"dataframe\">\n",
       "  <thead>\n",
       "    <tr style=\"text-align: right;\">\n",
       "      <th></th>\n",
       "      <th>metric</th>\n",
       "      <th>name</th>\n",
       "      <th>raw_score</th>\n",
       "      <th>normalized_score</th>\n",
       "      <th>min_value</th>\n",
       "      <th>max_value</th>\n",
       "      <th>goal</th>\n",
       "      <th>error</th>\n",
       "    </tr>\n",
       "  </thead>\n",
       "  <tbody>\n",
       "    <tr>\n",
       "      <th>0</th>\n",
       "      <td>KSComplement</td>\n",
       "      <td>Inverted Kolmogorov-Smirnov D statistic</td>\n",
       "      <td>0.916713</td>\n",
       "      <td>0.916713</td>\n",
       "      <td>0.0</td>\n",
       "      <td>1.0</td>\n",
       "      <td>MAXIMIZE</td>\n",
       "      <td>None</td>\n",
       "    </tr>\n",
       "    <tr>\n",
       "      <th>1</th>\n",
       "      <td>CSTest</td>\n",
       "      <td>Chi-Squared</td>\n",
       "      <td>0.970035</td>\n",
       "      <td>0.970035</td>\n",
       "      <td>0.0</td>\n",
       "      <td>1.0</td>\n",
       "      <td>MAXIMIZE</td>\n",
       "      <td>None</td>\n",
       "    </tr>\n",
       "  </tbody>\n",
       "</table>\n",
       "</div>"
      ]
     },
     "execution_count": 9,
     "metadata": {},
     "output_type": "execute_result"
    }
   ],
   "execution_count": 9
  },
  {
   "metadata": {
    "ExecuteTime": {
     "end_time": "2024-10-14T12:54:39.280428Z",
     "start_time": "2024-10-14T12:54:39.170735Z"
    }
   },
   "cell_type": "code",
   "source": "evaluate(synthetic_data, real_data,metadata=metadata)",
   "id": "90fb44e1ba8940f1",
   "outputs": [
    {
     "data": {
      "text/plain": [
       "0.9433740938332372"
      ]
     },
     "execution_count": 10,
     "metadata": {},
     "output_type": "execute_result"
    }
   ],
   "execution_count": 10
  },
  {
   "metadata": {},
   "cell_type": "code",
   "outputs": [],
   "execution_count": null,
   "source": "",
   "id": "47185f8591b4a461"
  }
 ],
 "metadata": {
  "kernelspec": {
   "display_name": "Python 3",
   "language": "python",
   "name": "python3"
  },
  "language_info": {
   "codemirror_mode": {
    "name": "ipython",
    "version": 2
   },
   "file_extension": ".py",
   "mimetype": "text/x-python",
   "name": "python",
   "nbconvert_exporter": "python",
   "pygments_lexer": "ipython2",
   "version": "2.7.6"
  }
 },
 "nbformat": 4,
 "nbformat_minor": 5
}
