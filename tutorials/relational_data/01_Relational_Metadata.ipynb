{
 "cells": [
  {
   "cell_type": "markdown",
   "metadata": {},
   "source": [
    "Relational Metadata\n",
    "===================\n",
    "\n",
    "In order to work with complex dataset structures you will need to pass\n",
    "additional information about your data to SDV using `Metadata`.\n",
    "\n",
    "Let\\'s go over an example to see how to use it.\n",
    "\n",
    "Load the demo data\n",
    "------------------\n",
    "\n",
    "In order to follow this tutorial you will need to load one of the demo\n",
    "datasets included in SDV by calling the `sdv.load_demo` function."
   ]
  },
  {
   "cell_type": "code",
   "metadata": {
    "attributes": {
     "classes": [
      ""
     ],
     "id": ""
    },
    "ExecuteTime": {
     "end_time": "2024-08-28T03:04:19.131769Z",
     "start_time": "2024-08-28T03:04:17.212542Z"
    }
   },
   "source": [
    "from sdv import load_demo\n",
    "\n",
    "tables = load_demo()"
   ],
   "outputs": [],
   "execution_count": 1
  },
  {
   "cell_type": "markdown",
   "metadata": {},
   "source": [
    "The output of this function will be a dict that contains several tables\n",
    "as `pandas.DataFarmes`."
   ]
  },
  {
   "cell_type": "code",
   "metadata": {
    "attributes": {
     "classes": [
      ""
     ],
     "id": ""
    },
    "ExecuteTime": {
     "end_time": "2024-08-28T03:04:19.146777Z",
     "start_time": "2024-08-28T03:04:19.132764Z"
    }
   },
   "source": [
    "tables"
   ],
   "outputs": [
    {
     "data": {
      "text/plain": [
       "{'users':    user_id country gender  age\n",
       " 0        0      US      M   34\n",
       " 1        1      UK      F   23\n",
       " 2        2      ES   None   44\n",
       " 3        3      UK      M   22\n",
       " 4        4      US      F   54\n",
       " 5        5      DE      M   57\n",
       " 6        6      BG      F   45\n",
       " 7        7      ES   None   41\n",
       " 8        8      FR      F   23\n",
       " 9        9      UK   None   30,\n",
       " 'sessions':    session_id  user_id  device       os  minutes\n",
       " 0           0        0  mobile  android       23\n",
       " 1           1        1  tablet      ios       12\n",
       " 2           2        2  tablet  android        8\n",
       " 3           3        3  mobile  android       13\n",
       " 4           4        4  mobile      ios        9\n",
       " 5           5        5  mobile  android       32\n",
       " 6           6        6  mobile      ios        7\n",
       " 7           7        7  tablet      ios       21\n",
       " 8           8        8  mobile      ios       29\n",
       " 9           9        9  tablet      ios       34,\n",
       " 'transactions':    transaction_id  session_id           timestamp  amount  cancelled\n",
       " 0               0           0 2019-01-01 12:34:32   100.0      False\n",
       " 1               1           1 2019-01-01 12:42:21    55.3      False\n",
       " 2               2           2 2019-01-07 17:23:11    79.5      False\n",
       " 3               3           3 2019-01-10 11:08:57   112.1       True\n",
       " 4               4           4 2019-01-10 21:54:08   110.0       True\n",
       " 5               5           5 2019-01-11 11:21:20    76.3      False\n",
       " 6               6           6 2019-01-22 14:44:10    89.5      False\n",
       " 7               7           7 2019-01-23 10:14:09   132.1       True\n",
       " 8               8           8 2019-01-27 16:09:17    68.0      False\n",
       " 9               9           9 2019-01-29 12:10:48    99.9      False}"
      ]
     },
     "execution_count": 2,
     "metadata": {},
     "output_type": "execute_result"
    }
   ],
   "execution_count": 2
  },
  {
   "cell_type": "markdown",
   "metadata": {},
   "source": [
    "You can observe that this dataset has the following structure:\n",
    "\n",
    "-   A `users` table with:\n",
    "    -   A `user_id` field which acts as the table's primary key.\n",
    "    -   Two categorical fields, `country` and `gender`, and an integer\n",
    "        column `age`.\n",
    "-   A `sessions` table with:\n",
    "    -   A `session_id` field which acts as the table's primary key.\n",
    "    -   A `user_id` field which is a foreign key to the `users` table\n",
    "        and defines a One-to-Many relationship with it (one `user` can\n",
    "        have many `sessions`).\n",
    "    -   Two categorical fields `device` and `os`.\n",
    "-   A `transactions` table with:\n",
    "    -   A `transaction_id` field which acts as the table's primary key.\n",
    "    -   A `session_id` field which is a foreign key to the `sessions`\n",
    "        table and defines a One-to-Many relationship with it (one `user`\n",
    "        can make many `transactions` within a single `session`).\n",
    "    -   A datetime field, `timestamp`.\n",
    "    -   A float field, `amount`.\n",
    "    -   A boolean field, `approved`.\n",
    "\n",
    "Let us now see how to build a `Metadata` object that represents this\n",
    "dataset.\n",
    "\n",
    "The Metadata class\n",
    "------------------\n",
    "\n",
    "In SDV, the structure of a dataset is represented using the class\n",
    "`sdv.Metadata`, which contains all the information that SDV needs in\n",
    "order to optimally learn the dataset and generate synthetic versions of\n",
    "it.\n",
    "\n",
    "In order to create a `Metadata` for our dataset, you will first need to\n",
    "import the class and create an empty instance:"
   ]
  },
  {
   "cell_type": "code",
   "metadata": {
    "attributes": {
     "classes": [
      ""
     ],
     "id": ""
    },
    "ExecuteTime": {
     "end_time": "2024-08-28T03:04:19.162713Z",
     "start_time": "2024-08-28T03:04:19.148785Z"
    }
   },
   "source": [
    "from sdv import Metadata\n",
    "\n",
    "metadata = Metadata()\n",
    "metadata"
   ],
   "outputs": [
    {
     "data": {
      "text/plain": [
       "Metadata\n",
       "  root_path: .\n",
       "  tables: []\n",
       "  relationships:"
      ]
     },
     "execution_count": 3,
     "metadata": {},
     "output_type": "execute_result"
    }
   ],
   "execution_count": 3
  },
  {
   "cell_type": "markdown",
   "metadata": {},
   "source": [
    "Add a Table\n",
    "-----------\n",
    "\n",
    "Once you have your `Metadata` instance ready you can start adding\n",
    "tables.\n",
    "\n",
    "In this example, you will add the table `users`, which is the parent\n",
    "table of your dataset, indicating which is its Primary Key field,\n",
    "`user_id`.\n",
    "\n",
    "Note that indicating the Primary Key is optional and can be skipped if\n",
    "your table has none, but if a table does not have one, you will not be\n",
    "able to add any child tables to it."
   ]
  },
  {
   "cell_type": "code",
   "metadata": {
    "attributes": {
     "classes": [
      ""
     ],
     "id": ""
    },
    "ExecuteTime": {
     "end_time": "2024-08-28T03:04:19.177827Z",
     "start_time": "2024-08-28T03:04:19.164754Z"
    }
   },
   "source": [
    "metadata.add_table(\n",
    "    name='users',\n",
    "    data=tables['users'],\n",
    "    primary_key='user_id'\n",
    ")"
   ],
   "outputs": [],
   "execution_count": 4
  },
  {
   "cell_type": "markdown",
   "metadata": {},
   "source": [
    "At this point, our metadata only contains one table and, of course, no\n",
    "relationships:"
   ]
  },
  {
   "cell_type": "code",
   "metadata": {
    "attributes": {
     "classes": [
      ""
     ],
     "id": ""
    },
    "ExecuteTime": {
     "end_time": "2024-08-28T03:04:19.193431Z",
     "start_time": "2024-08-28T03:04:19.178783Z"
    }
   },
   "source": [
    "metadata"
   ],
   "outputs": [
    {
     "data": {
      "text/plain": [
       "Metadata\n",
       "  root_path: .\n",
       "  tables: ['users']\n",
       "  relationships:"
      ]
     },
     "execution_count": 5,
     "metadata": {},
     "output_type": "execute_result"
    }
   ],
   "execution_count": 5
  },
  {
   "cell_type": "markdown",
   "metadata": {},
   "source": [
    "However, the `Metadata` instance will have already analyzed all the\n",
    "columns in the passed table and identified the different data types and\n",
    "subtypes, and will properly indicate that the `user_id` column is the\n",
    "table primary key.\n",
    "\n",
    "You can see so by calling the `visualize` method of your `metadata`\n",
    "instance:"
   ]
  },
  {
   "cell_type": "code",
   "metadata": {
    "attributes": {
     "classes": [
      ""
     ],
     "id": ""
    },
    "ExecuteTime": {
     "end_time": "2024-08-28T03:04:19.936410Z",
     "start_time": "2024-08-28T03:04:19.195403Z"
    }
   },
   "source": [
    "metadata.visualize()"
   ],
   "outputs": [
    {
     "data": {
      "image/svg+xml": "<?xml version=\"1.0\" encoding=\"UTF-8\" standalone=\"no\"?>\n<!DOCTYPE svg PUBLIC \"-//W3C//DTD SVG 1.1//EN\"\n \"http://www.w3.org/Graphics/SVG/1.1/DTD/svg11.dtd\">\n<!-- Generated by graphviz version 12.1.0 (20240811.2233)\n -->\n<!-- Title: Metadata Pages: 1 -->\n<svg width=\"158pt\" height=\"132pt\"\n viewBox=\"0.00 0.00 158.25 132.00\" xmlns=\"http://www.w3.org/2000/svg\" xmlns:xlink=\"http://www.w3.org/1999/xlink\">\n<g id=\"graph0\" class=\"graph\" transform=\"scale(1 1) rotate(0) translate(4 128)\">\n<title>Metadata</title>\n<polygon fill=\"white\" stroke=\"none\" points=\"-4,4 -4,-128 154.25,-128 154.25,4 -4,4\"/>\n<!-- users -->\n<g id=\"node1\" class=\"node\">\n<title>users</title>\n<path fill=\"#ffec8b\" stroke=\"black\" d=\"M12,-0.5C12,-0.5 138.25,-0.5 138.25,-0.5 144.25,-0.5 150.25,-6.5 150.25,-12.5 150.25,-12.5 150.25,-111.5 150.25,-111.5 150.25,-117.5 144.25,-123.5 138.25,-123.5 138.25,-123.5 12,-123.5 12,-123.5 6,-123.5 0,-117.5 0,-111.5 0,-111.5 0,-12.5 0,-12.5 0,-6.5 6,-0.5 12,-0.5\"/>\n<text text-anchor=\"middle\" x=\"75.12\" y=\"-106.2\" font-family=\"Times New Roman,serif\" font-size=\"14.00\">users</text>\n<polyline fill=\"none\" stroke=\"black\" points=\"0,-99 150.25,-99\"/>\n<text text-anchor=\"start\" x=\"8\" y=\"-81.7\" font-family=\"Times New Roman,serif\" font-size=\"14.00\">user_id : id &#45; integer</text>\n<text text-anchor=\"start\" x=\"8\" y=\"-65.2\" font-family=\"Times New Roman,serif\" font-size=\"14.00\">country : categorical</text>\n<text text-anchor=\"start\" x=\"8\" y=\"-48.7\" font-family=\"Times New Roman,serif\" font-size=\"14.00\">gender : categorical</text>\n<text text-anchor=\"start\" x=\"8\" y=\"-32.2\" font-family=\"Times New Roman,serif\" font-size=\"14.00\">age : numerical &#45; integer</text>\n<polyline fill=\"none\" stroke=\"black\" points=\"0,-25 150.25,-25\"/>\n<text text-anchor=\"start\" x=\"8\" y=\"-7.7\" font-family=\"Times New Roman,serif\" font-size=\"14.00\">Primary key: user_id</text>\n</g>\n</g>\n</svg>\n",
      "text/plain": [
       "<graphviz.graphs.Digraph at 0x1f4ce614970>"
      ]
     },
     "execution_count": 6,
     "metadata": {},
     "output_type": "execute_result"
    }
   ],
   "execution_count": 6
  },
  {
   "cell_type": "markdown",
   "metadata": {},
   "source": [
    "Or you can obtain this information in a machine-readable format by\n",
    "calling the `get_table_meta` method:"
   ]
  },
  {
   "cell_type": "code",
   "metadata": {
    "attributes": {
     "classes": [
      ""
     ],
     "id": ""
    },
    "ExecuteTime": {
     "end_time": "2024-08-28T03:04:19.951785Z",
     "start_time": "2024-08-28T03:04:19.937373Z"
    }
   },
   "source": [
    "metadata.get_table_meta('users')"
   ],
   "outputs": [
    {
     "data": {
      "text/plain": [
       "{'fields': {'user_id': {'type': 'id', 'subtype': 'integer'},\n",
       "  'country': {'type': 'categorical'},\n",
       "  'gender': {'type': 'categorical'},\n",
       "  'age': {'type': 'numerical', 'subtype': 'integer'}},\n",
       " 'primary_key': 'user_id'}"
      ]
     },
     "execution_count": 7,
     "metadata": {},
     "output_type": "execute_result"
    }
   ],
   "execution_count": 7
  },
  {
   "cell_type": "markdown",
   "metadata": {},
   "source": [
    "Add a Child Table\n",
    "-----------------\n",
    "\n",
    "Now that you have one parent table, you will add its child table\n",
    "`sessions`, which is related to the `users` table in a parent-child\n",
    "relationship where each `user` can have multiple `sessions`, and each\n",
    "`session` belongs to one and only one `user`.\n",
    "\n",
    "In order to specify this, while creating the `sessions` table you have\n",
    "to indicate the name of the parent table, `users`, and the field from\n",
    "the `sessions` table that acts as the foreign key, which in this case is\n",
    "called `user_id`.\n",
    "\n",
    "With this, apart from analyzing all the columns and indicating the\n",
    "primary key like in the previous step, the `Metadata` instance will\n",
    "specify a relationship between the two tables by adding a property to\n",
    "the `user_id` field that indicates that it is related to the `user_id`\n",
    "field in the `users` table."
   ]
  },
  {
   "cell_type": "code",
   "metadata": {
    "attributes": {
     "classes": [
      ""
     ],
     "id": ""
    },
    "ExecuteTime": {
     "end_time": "2024-08-28T03:04:19.967479Z",
     "start_time": "2024-08-28T03:04:19.952749Z"
    }
   },
   "source": [
    "metadata.add_table(\n",
    "    name='sessions',\n",
    "    data=tables['sessions'],\n",
    "    primary_key='session_id',\n",
    "    parent='users',\n",
    "    foreign_key='user_id'\n",
    ")"
   ],
   "outputs": [],
   "execution_count": 8
  },
  {
   "cell_type": "markdown",
   "metadata": {},
   "source": [
    "Now we can see how the table and the relationship have been registered:"
   ]
  },
  {
   "cell_type": "code",
   "metadata": {
    "attributes": {
     "classes": [
      ""
     ],
     "id": ""
    },
    "ExecuteTime": {
     "end_time": "2024-08-28T03:04:19.982684Z",
     "start_time": "2024-08-28T03:04:19.969433Z"
    }
   },
   "source": [
    "metadata"
   ],
   "outputs": [
    {
     "data": {
      "text/plain": [
       "Metadata\n",
       "  root_path: .\n",
       "  tables: ['users', 'sessions']\n",
       "  relationships:\n",
       "    sessions.user_id -> users.user_id"
      ]
     },
     "execution_count": 9,
     "metadata": {},
     "output_type": "execute_result"
    }
   ],
   "execution_count": 9
  },
  {
   "cell_type": "markdown",
   "metadata": {},
   "source": [
    "### Add a table specifying field properties\n",
    "\n",
    "There are situations where the `Metadata` analysis is not able to figure\n",
    "out some data types or subtypes, or to deduce some properties of the\n",
    "field such as the datetime format.\n",
    "\n",
    "In these situations, you can pass a dictionary with the exact metadata\n",
    "of those fields, which will overwrite the deductions from the analysis\n",
    "process.\n",
    "\n",
    "In this next example, you will be adding a `transactions` table, which\n",
    "is related to the previous `sessions` table, and contains a `datetime`\n",
    "field which needs to have the datetime format specified."
   ]
  },
  {
   "cell_type": "code",
   "metadata": {
    "attributes": {
     "classes": [
      ""
     ],
     "id": ""
    },
    "ExecuteTime": {
     "end_time": "2024-08-28T03:04:19.997956Z",
     "start_time": "2024-08-28T03:04:19.984196Z"
    }
   },
   "source": [
    "transactions_fields = {\n",
    "    'timestamp': {\n",
    "        'type': 'datetime',\n",
    "        'format': '%Y-%m-%d'\n",
    "    }\n",
    "}\n",
    "\n",
    "metadata.add_table(\n",
    "    name='transactions',\n",
    "    data=tables['transactions'],\n",
    "    fields_metadata=transactions_fields,\n",
    "    primary_key='transaction_id',\n",
    "    parent='sessions'\n",
    ")"
   ],
   "outputs": [],
   "execution_count": 10
  },
  {
   "cell_type": "markdown",
   "metadata": {},
   "source": [
    "Let\\'s see what our Metadata looks like right now:"
   ]
  },
  {
   "cell_type": "code",
   "metadata": {
    "attributes": {
     "classes": [
      ""
     ],
     "id": ""
    },
    "ExecuteTime": {
     "end_time": "2024-08-28T03:04:20.013499Z",
     "start_time": "2024-08-28T03:04:19.998957Z"
    }
   },
   "source": [
    "metadata\n",
    "metadata.to_dict()"
   ],
   "outputs": [
    {
     "data": {
      "text/plain": [
       "{'tables': {'users': {'fields': {'user_id': {'type': 'id',\n",
       "     'subtype': 'integer'},\n",
       "    'country': {'type': 'categorical'},\n",
       "    'gender': {'type': 'categorical'},\n",
       "    'age': {'type': 'numerical', 'subtype': 'integer'}},\n",
       "   'primary_key': 'user_id'},\n",
       "  'sessions': {'fields': {'session_id': {'type': 'id', 'subtype': 'integer'},\n",
       "    'user_id': {'type': 'id',\n",
       "     'subtype': 'integer',\n",
       "     'ref': {'table': 'users', 'field': 'user_id'}},\n",
       "    'device': {'type': 'categorical'},\n",
       "    'os': {'type': 'categorical'},\n",
       "    'minutes': {'type': 'numerical', 'subtype': 'integer'}},\n",
       "   'primary_key': 'session_id'},\n",
       "  'transactions': {'fields': {'timestamp': {'type': 'datetime',\n",
       "     'format': '%Y-%m-%d'},\n",
       "    'transaction_id': {'type': 'id', 'subtype': 'integer'},\n",
       "    'session_id': {'type': 'id',\n",
       "     'subtype': 'integer',\n",
       "     'ref': {'table': 'sessions', 'field': 'session_id'}},\n",
       "    'amount': {'type': 'numerical', 'subtype': 'float'},\n",
       "    'cancelled': {'type': 'boolean'}},\n",
       "   'primary_key': 'transaction_id'}}}"
      ]
     },
     "execution_count": 11,
     "metadata": {},
     "output_type": "execute_result"
    }
   ],
   "execution_count": 11
  },
  {
   "cell_type": "code",
   "metadata": {
    "attributes": {
     "classes": [
      ""
     ],
     "id": ""
    },
    "ExecuteTime": {
     "end_time": "2024-08-28T03:04:20.430795Z",
     "start_time": "2024-08-28T03:04:20.015499Z"
    }
   },
   "source": [
    "metadata.visualize()"
   ],
   "outputs": [
    {
     "data": {
      "image/svg+xml": "<?xml version=\"1.0\" encoding=\"UTF-8\" standalone=\"no\"?>\n<!DOCTYPE svg PUBLIC \"-//W3C//DTD SVG 1.1//EN\"\n \"http://www.w3.org/Graphics/SVG/1.1/DTD/svg11.dtd\">\n<!-- Generated by graphviz version 12.1.0 (20240811.2233)\n -->\n<!-- Title: Metadata Pages: 1 -->\n<svg width=\"365pt\" height=\"551pt\"\n viewBox=\"0.00 0.00 364.75 551.00\" xmlns=\"http://www.w3.org/2000/svg\" xmlns:xlink=\"http://www.w3.org/1999/xlink\">\n<g id=\"graph0\" class=\"graph\" transform=\"scale(1 1) rotate(0) translate(4 547)\">\n<title>Metadata</title>\n<polygon fill=\"white\" stroke=\"none\" points=\"-4,4 -4,-547 360.75,-547 360.75,4 -4,4\"/>\n<!-- users -->\n<g id=\"node1\" class=\"node\">\n<title>users</title>\n<path fill=\"#ffec8b\" stroke=\"black\" d=\"M37.88,-419.5C37.88,-419.5 164.12,-419.5 164.12,-419.5 170.12,-419.5 176.12,-425.5 176.12,-431.5 176.12,-431.5 176.12,-530.5 176.12,-530.5 176.12,-536.5 170.12,-542.5 164.12,-542.5 164.12,-542.5 37.88,-542.5 37.88,-542.5 31.88,-542.5 25.88,-536.5 25.88,-530.5 25.88,-530.5 25.88,-431.5 25.88,-431.5 25.88,-425.5 31.88,-419.5 37.88,-419.5\"/>\n<text text-anchor=\"middle\" x=\"101\" y=\"-525.2\" font-family=\"Times New Roman,serif\" font-size=\"14.00\">users</text>\n<polyline fill=\"none\" stroke=\"black\" points=\"25.88,-518 176.12,-518\"/>\n<text text-anchor=\"start\" x=\"33.88\" y=\"-500.7\" font-family=\"Times New Roman,serif\" font-size=\"14.00\">user_id : id &#45; integer</text>\n<text text-anchor=\"start\" x=\"33.88\" y=\"-484.2\" font-family=\"Times New Roman,serif\" font-size=\"14.00\">country : categorical</text>\n<text text-anchor=\"start\" x=\"33.88\" y=\"-467.7\" font-family=\"Times New Roman,serif\" font-size=\"14.00\">gender : categorical</text>\n<text text-anchor=\"start\" x=\"33.88\" y=\"-451.2\" font-family=\"Times New Roman,serif\" font-size=\"14.00\">age : numerical &#45; integer</text>\n<polyline fill=\"none\" stroke=\"black\" points=\"25.88,-444 176.12,-444\"/>\n<text text-anchor=\"start\" x=\"33.88\" y=\"-426.7\" font-family=\"Times New Roman,serif\" font-size=\"14.00\">Primary key: user_id</text>\n</g>\n<!-- sessions -->\n<g id=\"node2\" class=\"node\">\n<title>sessions</title>\n<path fill=\"#ffec8b\" stroke=\"black\" d=\"M25.5,-210C25.5,-210 176.5,-210 176.5,-210 182.5,-210 188.5,-216 188.5,-222 188.5,-222 188.5,-354 188.5,-354 188.5,-360 182.5,-366 176.5,-366 176.5,-366 25.5,-366 25.5,-366 19.5,-366 13.5,-360 13.5,-354 13.5,-354 13.5,-222 13.5,-222 13.5,-216 19.5,-210 25.5,-210\"/>\n<text text-anchor=\"middle\" x=\"101\" y=\"-348.7\" font-family=\"Times New Roman,serif\" font-size=\"14.00\">sessions</text>\n<polyline fill=\"none\" stroke=\"black\" points=\"13.5,-341.5 188.5,-341.5\"/>\n<text text-anchor=\"start\" x=\"21.5\" y=\"-324.2\" font-family=\"Times New Roman,serif\" font-size=\"14.00\">session_id : id &#45; integer</text>\n<text text-anchor=\"start\" x=\"21.5\" y=\"-307.7\" font-family=\"Times New Roman,serif\" font-size=\"14.00\">user_id : id &#45; integer</text>\n<text text-anchor=\"start\" x=\"21.5\" y=\"-291.2\" font-family=\"Times New Roman,serif\" font-size=\"14.00\">device : categorical</text>\n<text text-anchor=\"start\" x=\"21.5\" y=\"-274.7\" font-family=\"Times New Roman,serif\" font-size=\"14.00\">os : categorical</text>\n<text text-anchor=\"start\" x=\"21.5\" y=\"-258.2\" font-family=\"Times New Roman,serif\" font-size=\"14.00\">minutes : numerical &#45; integer</text>\n<polyline fill=\"none\" stroke=\"black\" points=\"13.5,-251 188.5,-251\"/>\n<text text-anchor=\"start\" x=\"21.5\" y=\"-233.7\" font-family=\"Times New Roman,serif\" font-size=\"14.00\">Primary key: session_id</text>\n<text text-anchor=\"start\" x=\"21.5\" y=\"-217.2\" font-family=\"Times New Roman,serif\" font-size=\"14.00\">Foreign key (users): user_id</text>\n</g>\n<!-- users&#45;&gt;sessions -->\n<g id=\"edge1\" class=\"edge\">\n<title>users&#45;&gt;sessions</title>\n<path fill=\"none\" stroke=\"black\" d=\"M101,-419.04C101,-405.51 101,-390.91 101,-376.56\"/>\n<polygon fill=\"none\" stroke=\"black\" points=\"104.5,-366.66 101,-376.66 97.5,-366.66 104.5,-366.66\"/>\n<text text-anchor=\"middle\" x=\"194\" y=\"-387.7\" font-family=\"Times New Roman,serif\" font-size=\"14.00\"> &#160;&#160;sessions.user_id &gt; users.user_id</text>\n</g>\n<!-- transactions -->\n<g id=\"node3\" class=\"node\">\n<title>transactions</title>\n<path fill=\"#ffec8b\" stroke=\"black\" d=\"M12,-0.5C12,-0.5 190,-0.5 190,-0.5 196,-0.5 202,-6.5 202,-12.5 202,-12.5 202,-144.5 202,-144.5 202,-150.5 196,-156.5 190,-156.5 190,-156.5 12,-156.5 12,-156.5 6,-156.5 0,-150.5 0,-144.5 0,-144.5 0,-12.5 0,-12.5 0,-6.5 6,-0.5 12,-0.5\"/>\n<text text-anchor=\"middle\" x=\"101\" y=\"-139.2\" font-family=\"Times New Roman,serif\" font-size=\"14.00\">transactions</text>\n<polyline fill=\"none\" stroke=\"black\" points=\"0,-132 202,-132\"/>\n<text text-anchor=\"start\" x=\"8\" y=\"-114.7\" font-family=\"Times New Roman,serif\" font-size=\"14.00\">timestamp : datetime</text>\n<text text-anchor=\"start\" x=\"8\" y=\"-98.2\" font-family=\"Times New Roman,serif\" font-size=\"14.00\">transaction_id : id &#45; integer</text>\n<text text-anchor=\"start\" x=\"8\" y=\"-81.7\" font-family=\"Times New Roman,serif\" font-size=\"14.00\">session_id : id &#45; integer</text>\n<text text-anchor=\"start\" x=\"8\" y=\"-65.2\" font-family=\"Times New Roman,serif\" font-size=\"14.00\">amount : numerical &#45; float</text>\n<text text-anchor=\"start\" x=\"8\" y=\"-48.7\" font-family=\"Times New Roman,serif\" font-size=\"14.00\">cancelled : boolean</text>\n<polyline fill=\"none\" stroke=\"black\" points=\"0,-41.5 202,-41.5\"/>\n<text text-anchor=\"start\" x=\"8\" y=\"-24.2\" font-family=\"Times New Roman,serif\" font-size=\"14.00\">Primary key: transaction_id</text>\n<text text-anchor=\"start\" x=\"8\" y=\"-7.7\" font-family=\"Times New Roman,serif\" font-size=\"14.00\">Foreign key (sessions): session_id</text>\n</g>\n<!-- sessions&#45;&gt;transactions -->\n<g id=\"edge2\" class=\"edge\">\n<title>sessions&#45;&gt;transactions</title>\n<path fill=\"none\" stroke=\"black\" d=\"M101,-209.73C101,-195.83 101,-181.24 101,-167.06\"/>\n<polygon fill=\"none\" stroke=\"black\" points=\"104.5,-157.33 101,-167.33 97.5,-157.33 104.5,-157.33\"/>\n<text text-anchor=\"middle\" x=\"228.88\" y=\"-178.2\" font-family=\"Times New Roman,serif\" font-size=\"14.00\"> &#160;&#160;transactions.session_id &gt; sessions.session_id</text>\n</g>\n</g>\n</svg>\n",
      "text/plain": [
       "<graphviz.graphs.Digraph at 0x1f4ce6479a0>"
      ]
     },
     "execution_count": 12,
     "metadata": {},
     "output_type": "execute_result"
    }
   ],
   "execution_count": 12
  },
  {
   "cell_type": "markdown",
   "metadata": {},
   "source": [
    "Metadata JSON format\n",
    "--------------------\n",
    "\n",
    "The `Metadata` objects can also be saved as a JSON file and later on\n",
    "loaded from them.\n",
    "\n",
    "In order to save the current `metadata` as a JSON file, all you need to\n",
    "do is call the `to_json` method passing the path to the JSON file that\n",
    "you want to create."
   ]
  },
  {
   "cell_type": "code",
   "metadata": {
    "attributes": {
     "classes": [
      ""
     ],
     "id": ""
    },
    "ExecuteTime": {
     "end_time": "2024-08-28T03:04:20.446396Z",
     "start_time": "2024-08-28T03:04:20.432793Z"
    }
   },
   "source": [
    "metadata.to_json('demo_metadata.json')"
   ],
   "outputs": [],
   "execution_count": 13
  },
  {
   "cell_type": "markdown",
   "metadata": {},
   "source": [
    "You can see that the contents of the created file are very similar to\n",
    "the `dict` representation of the metadata:"
   ]
  },
  {
   "cell_type": "code",
   "metadata": {
    "attributes": {
     "classes": [
      ""
     ],
     "id": ""
    },
    "ExecuteTime": {
     "end_time": "2024-08-28T03:04:20.462406Z",
     "start_time": "2024-08-28T03:04:20.447367Z"
    }
   },
   "source": [
    "with open('demo_metadata.json') as meta_file:\n",
    "    print(meta_file.read())"
   ],
   "outputs": [
    {
     "name": "stdout",
     "output_type": "stream",
     "text": [
      "{\n",
      "    \"tables\": {\n",
      "        \"users\": {\n",
      "            \"fields\": {\n",
      "                \"user_id\": {\n",
      "                    \"type\": \"id\",\n",
      "                    \"subtype\": \"integer\"\n",
      "                },\n",
      "                \"country\": {\n",
      "                    \"type\": \"categorical\"\n",
      "                },\n",
      "                \"gender\": {\n",
      "                    \"type\": \"categorical\"\n",
      "                },\n",
      "                \"age\": {\n",
      "                    \"type\": \"numerical\",\n",
      "                    \"subtype\": \"integer\"\n",
      "                }\n",
      "            },\n",
      "            \"primary_key\": \"user_id\"\n",
      "        },\n",
      "        \"sessions\": {\n",
      "            \"fields\": {\n",
      "                \"session_id\": {\n",
      "                    \"type\": \"id\",\n",
      "                    \"subtype\": \"integer\"\n",
      "                },\n",
      "                \"user_id\": {\n",
      "                    \"type\": \"id\",\n",
      "                    \"subtype\": \"integer\",\n",
      "                    \"ref\": {\n",
      "                        \"table\": \"users\",\n",
      "                        \"field\": \"user_id\"\n",
      "                    }\n",
      "                },\n",
      "                \"device\": {\n",
      "                    \"type\": \"categorical\"\n",
      "                },\n",
      "                \"os\": {\n",
      "                    \"type\": \"categorical\"\n",
      "                },\n",
      "                \"minutes\": {\n",
      "                    \"type\": \"numerical\",\n",
      "                    \"subtype\": \"integer\"\n",
      "                }\n",
      "            },\n",
      "            \"primary_key\": \"session_id\"\n",
      "        },\n",
      "        \"transactions\": {\n",
      "            \"fields\": {\n",
      "                \"timestamp\": {\n",
      "                    \"type\": \"datetime\",\n",
      "                    \"format\": \"%Y-%m-%d\"\n",
      "                },\n",
      "                \"transaction_id\": {\n",
      "                    \"type\": \"id\",\n",
      "                    \"subtype\": \"integer\"\n",
      "                },\n",
      "                \"session_id\": {\n",
      "                    \"type\": \"id\",\n",
      "                    \"subtype\": \"integer\",\n",
      "                    \"ref\": {\n",
      "                        \"table\": \"sessions\",\n",
      "                        \"field\": \"session_id\"\n",
      "                    }\n",
      "                },\n",
      "                \"amount\": {\n",
      "                    \"type\": \"numerical\",\n",
      "                    \"subtype\": \"float\"\n",
      "                },\n",
      "                \"cancelled\": {\n",
      "                    \"type\": \"boolean\"\n",
      "                }\n",
      "            },\n",
      "            \"primary_key\": \"transaction_id\"\n",
      "        }\n",
      "    }\n",
      "}\n"
     ]
    }
   ],
   "execution_count": 14
  },
  {
   "cell_type": "markdown",
   "metadata": {},
   "source": [
    "After creating the JSON file, loading it back as a `metadata` object is\n",
    "as simple as passing it to the `Metadata` constructor:"
   ]
  },
  {
   "cell_type": "code",
   "metadata": {
    "attributes": {
     "classes": [
      ""
     ],
     "id": ""
    },
    "ExecuteTime": {
     "end_time": "2024-08-28T03:04:20.477969Z",
     "start_time": "2024-08-28T03:04:20.463382Z"
    }
   },
   "source": [
    "loaded = Metadata('demo_metadata.json')\n",
    "loaded"
   ],
   "outputs": [
    {
     "data": {
      "text/plain": [
       "Metadata\n",
       "  root_path: \n",
       "  tables: ['users', 'sessions', 'transactions']\n",
       "  relationships:\n",
       "    sessions.user_id -> users.user_id\n",
       "    transactions.session_id -> sessions.session_id"
      ]
     },
     "execution_count": 15,
     "metadata": {},
     "output_type": "execute_result"
    }
   ],
   "execution_count": 15
  }
 ],
 "metadata": {
  "kernelspec": {
   "display_name": "Python 3",
   "language": "python",
   "name": "python3"
  },
  "language_info": {
   "codemirror_mode": {
    "name": "ipython",
    "version": 3
   },
   "file_extension": ".py",
   "mimetype": "text/x-python",
   "name": "python",
   "nbconvert_exporter": "python",
   "pygments_lexer": "ipython3",
   "version": "3.8.5"
  }
 },
 "nbformat": 4,
 "nbformat_minor": 4
}
