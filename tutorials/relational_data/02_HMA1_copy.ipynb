{
 "cells": [
  {
   "cell_type": "code",
   "metadata": {
    "attributes": {
     "classes": [
      ""
     ],
     "id": ""
    },
    "ExecuteTime": {
     "end_time": "2024-09-10T15:21:24.836443Z",
     "start_time": "2024-09-10T15:21:24.486466Z"
    }
   },
   "source": [
    "import os\n",
    "\n",
    "from sdv import Metadata\n",
    "from test_20_tables import fetch_data_from_sqlite\n",
    "import os\n",
    "print(os.getcwd())\n",
    "metadata, tables = fetch_data_from_sqlite()\n",
    "metadata = Metadata(metadata)\n",
    "metadata"
   ],
   "outputs": [
    {
     "name": "stdout",
     "output_type": "stream",
     "text": [
      "C:\\Users\\Elvin\\Desktop\\GitHub\\SDV\\tutorials\\relational_data\n"
     ]
    },
    {
     "data": {
      "text/plain": [
       "Metadata\n",
       "  root_path: .\n",
       "  tables: ['Student', 'Professor', 'Course', 'Department', 'Enrollment', 'Assignment', 'Submission', 'Schedule', 'Major', 'Textbook', 'CourseTextbook', 'Library', 'Book', 'BookLoan', 'ResearchGroup', 'ResearchProject', 'ProjectMember', 'Lab', 'LabEquipment', 'EquipmentMaintenance']\n",
       "  relationships:\n",
       "    Enrollment.student_id -> Student.student_id\n",
       "    Enrollment.course_id -> Course.course_id\n",
       "    Assignment.course_id -> Course.course_id\n",
       "    Submission.assignment_id -> Assignment.assignment_id\n",
       "    Submission.student_id -> Student.student_id\n",
       "    Schedule.professor_id -> Professor.professor_id\n",
       "    Schedule.course_id -> Course.course_id\n",
       "    Major.department_id -> Department.department_id\n",
       "    CourseTextbook.textbook_id -> Textbook.textbook_id\n",
       "    CourseTextbook.course_id -> Course.course_id\n",
       "    Book.library_id -> Library.library_id\n",
       "    BookLoan.book_id -> Book.book_id\n",
       "    BookLoan.student_id -> Student.student_id\n",
       "    ResearchProject.group_id -> ResearchGroup.group_id\n",
       "    ProjectMember.project_id -> ResearchProject.project_id\n",
       "    ProjectMember.professor_id -> Professor.professor_id\n",
       "    LabEquipment.lab_id -> Lab.lab_id\n",
       "    EquipmentMaintenance.equipment_id -> LabEquipment.equipment_id"
      ]
     },
     "execution_count": 4,
     "metadata": {},
     "output_type": "execute_result"
    }
   ],
   "execution_count": 4
  },
  {
   "cell_type": "code",
   "metadata": {
    "ExecuteTime": {
     "end_time": "2024-09-10T15:21:24.851503Z",
     "start_time": "2024-09-10T15:21:24.837436Z"
    }
   },
   "source": [
    "metadata.to_json(\"1.json\")"
   ],
   "outputs": [],
   "execution_count": 5
  },
  {
   "cell_type": "code",
   "metadata": {
    "attributes": {
     "classes": [
      ""
     ],
     "id": ""
    },
    "ExecuteTime": {
     "end_time": "2024-09-10T15:21:37.633629Z",
     "start_time": "2024-09-10T15:21:24.852509Z"
    }
   },
   "source": [
    "#from sdv.utils import display_tables\n",
    "\n",
    "#display_tables(tables)\n",
    "for name, table in tables.items():\n",
    "    print(name, table.shape)\n",
    "from test_20_tables import save_tables\n",
    "save_tables(tables, \"input.xlsx\")"
   ],
   "outputs": [
    {
     "name": "stdout",
     "output_type": "stream",
     "text": [
      "Student (10000, 5)\n",
      "Professor (10000, 4)\n",
      "Course (10000, 4)\n",
      "Department (10000, 3)\n",
      "Enrollment (10000, 5)\n",
      "Assignment (10000, 4)\n",
      "Submission (11081, 5)\n",
      "Schedule (10000, 5)\n",
      "Major (10000, 3)\n",
      "Textbook (10000, 4)\n",
      "CourseTextbook (10000, 2)\n",
      "Library (10000, 3)\n",
      "Book (10000, 5)\n",
      "BookLoan (10000, 5)\n",
      "ResearchGroup (10000, 3)\n",
      "ResearchProject (10000, 5)\n",
      "ProjectMember (10000, 2)\n",
      "Lab (10000, 3)\n",
      "LabEquipment (10000, 3)\n",
      "EquipmentMaintenance (10000, 4)\n"
     ]
    }
   ],
   "execution_count": 6
  },
  {
   "cell_type": "code",
   "metadata": {
    "attributes": {
     "classes": [
      ""
     ],
     "id": ""
    },
    "scrolled": false,
    "ExecuteTime": {
     "end_time": "2024-09-10T15:21:37.649337Z",
     "start_time": "2024-09-10T15:21:37.635275Z"
    }
   },
   "source": [
    "from sdv.relational import HMA1\n",
    "import sys\n",
    "import warnings\n",
    "warnings.filterwarnings('ignore')\n",
    "#from tutorials.newhma import NewModel as HMA1\n",
    "#from tutorials.redirector import WriteableRedirector\n",
    "\n",
    "#with WriteableRedirector():\n",
    "model = HMA1(metadata)    "
   ],
   "outputs": [],
   "execution_count": 7
  },
  {
   "metadata": {
    "ExecuteTime": {
     "end_time": "2024-09-10T15:21:37.665123Z",
     "start_time": "2024-09-10T15:21:37.650320Z"
    }
   },
   "cell_type": "code",
   "source": [
    "import logging\n",
    "formatter = logging.Formatter('%(asctime)s - %(name)s - %(levelname)s - %(message)s')# Configure stream handler for the cells\n",
    "chandler = logging.StreamHandler()\n",
    "chandler.setLevel(logging.WARNING)\n",
    "chandler.setFormatter(formatter)\n",
    "logging.basicConfig(handlers=[logging.FileHandler('sdv.log'), chandler])\n",
    "logging.log(0, \"1223\")"
   ],
   "outputs": [],
   "execution_count": 8
  },
  {
   "metadata": {
    "ExecuteTime": {
     "end_time": "2024-09-11T05:03:10.103511Z",
     "start_time": "2024-09-11T03:23:37.542351Z"
    }
   },
   "cell_type": "code",
   "source": [
    "\n",
    "model.fit(tables)"
   ],
   "outputs": [
    {
     "data": {
      "text/plain": [
       "Fitting HMA1:   0%|          | 0/20 [00:00<?, ?it/s]"
      ],
      "application/vnd.jupyter.widget-view+json": {
       "version_major": 2,
       "version_minor": 0,
       "model_id": "54300d3be90c4669b881c90e30b54dc1"
      }
     },
     "metadata": {},
     "output_type": "display_data"
    },
    {
     "name": "stdout",
     "output_type": "stream",
     "text": [
      "Modeling Student\n"
     ]
    },
    {
     "data": {
      "text/plain": [
       "Student:Submission:   0%|          | 0/1 [00:00<?, ?it/s]"
      ],
      "application/vnd.jupyter.widget-view+json": {
       "version_major": 2,
       "version_minor": 0,
       "model_id": "8655e8979cf74637ba2f0ca2eed296c2"
      }
     },
     "metadata": {},
     "output_type": "display_data"
    },
    {
     "data": {
      "text/plain": [
       "Submission Unique:   0%|          | 0/6729 [00:00<?, ?it/s]"
      ],
      "application/vnd.jupyter.widget-view+json": {
       "version_major": 2,
       "version_minor": 0,
       "model_id": "00787c45125143b3bbcdecddc9219549"
      }
     },
     "metadata": {},
     "output_type": "display_data"
    },
    {
     "name": "stdout",
     "output_type": "stream",
     "text": [
      "Modeling Enrollment\n"
     ]
    },
    {
     "data": {
      "text/plain": [
       "Student:Enrollment:   0%|          | 0/1 [00:00<?, ?it/s]"
      ],
      "application/vnd.jupyter.widget-view+json": {
       "version_major": 2,
       "version_minor": 0,
       "model_id": "3626c99996c141bf865ea9423846101a"
      }
     },
     "metadata": {},
     "output_type": "display_data"
    },
    {
     "data": {
      "text/plain": [
       "Enrollment Unique:   0%|          | 0/6302 [00:00<?, ?it/s]"
      ],
      "application/vnd.jupyter.widget-view+json": {
       "version_major": 2,
       "version_minor": 0,
       "model_id": "c6f73bac8b774d31b92c7c21b0a3ab9f"
      }
     },
     "metadata": {},
     "output_type": "display_data"
    },
    {
     "name": "stdout",
     "output_type": "stream",
     "text": [
      "Modeling BookLoan\n"
     ]
    },
    {
     "data": {
      "text/plain": [
       "Student:BookLoan:   0%|          | 0/1 [00:00<?, ?it/s]"
      ],
      "application/vnd.jupyter.widget-view+json": {
       "version_major": 2,
       "version_minor": 0,
       "model_id": "dad1445261fa48dfb1c48feed7630042"
      }
     },
     "metadata": {},
     "output_type": "display_data"
    },
    {
     "data": {
      "text/plain": [
       "BookLoan Unique:   0%|          | 0/6316 [00:00<?, ?it/s]"
      ],
      "application/vnd.jupyter.widget-view+json": {
       "version_major": 2,
       "version_minor": 0,
       "model_id": "83d51e8417824d1b84dc08ab0dc8eea1"
      }
     },
     "metadata": {},
     "output_type": "display_data"
    },
    {
     "name": "stdout",
     "output_type": "stream",
     "text": [
      "Modeling Professor\n",
      "Modeling Schedule\n"
     ]
    },
    {
     "data": {
      "text/plain": [
       "Professor:Schedule:   0%|          | 0/1 [00:00<?, ?it/s]"
      ],
      "application/vnd.jupyter.widget-view+json": {
       "version_major": 2,
       "version_minor": 0,
       "model_id": "3cf2de728df24308a4c7b6f8ce1cb0d1"
      }
     },
     "metadata": {},
     "output_type": "display_data"
    },
    {
     "data": {
      "text/plain": [
       "Schedule Unique:   0%|          | 0/6357 [00:00<?, ?it/s]"
      ],
      "application/vnd.jupyter.widget-view+json": {
       "version_major": 2,
       "version_minor": 0,
       "model_id": "1c5d7d26bf954d92be1878d2622ccc03"
      }
     },
     "metadata": {},
     "output_type": "display_data"
    },
    {
     "name": "stdout",
     "output_type": "stream",
     "text": [
      "Modeling ProjectMember\n"
     ]
    },
    {
     "data": {
      "text/plain": [
       "Professor:ProjectMember:   0%|          | 0/1 [00:00<?, ?it/s]"
      ],
      "application/vnd.jupyter.widget-view+json": {
       "version_major": 2,
       "version_minor": 0,
       "model_id": "c2c076ebc32840f79ae54bd96de691dd"
      }
     },
     "metadata": {},
     "output_type": "display_data"
    },
    {
     "data": {
      "text/plain": [
       "ProjectMember Unique:   0%|          | 0/6357 [00:00<?, ?it/s]"
      ],
      "application/vnd.jupyter.widget-view+json": {
       "version_major": 2,
       "version_minor": 0,
       "model_id": "51d096ef4bfb4d0bb28feedd454af4c9"
      }
     },
     "metadata": {},
     "output_type": "display_data"
    },
    {
     "name": "stdout",
     "output_type": "stream",
     "text": [
      "Modeling Course\n",
      "Modeling CourseTextbook\n"
     ]
    },
    {
     "data": {
      "text/plain": [
       "Course:CourseTextbook:   0%|          | 0/1 [00:00<?, ?it/s]"
      ],
      "application/vnd.jupyter.widget-view+json": {
       "version_major": 2,
       "version_minor": 0,
       "model_id": "dc27cb29445043dbab55613ba0a6ebe9"
      }
     },
     "metadata": {},
     "output_type": "display_data"
    },
    {
     "data": {
      "text/plain": [
       "CourseTextbook Unique:   0%|          | 0/6387 [00:00<?, ?it/s]"
      ],
      "application/vnd.jupyter.widget-view+json": {
       "version_major": 2,
       "version_minor": 0,
       "model_id": "452329ff2deb4526ae35f81e4fcb202e"
      }
     },
     "metadata": {},
     "output_type": "display_data"
    },
    {
     "name": "stdout",
     "output_type": "stream",
     "text": [
      "Modeling Assignment\n"
     ]
    },
    {
     "data": {
      "text/plain": [
       "Assignment:Submission:   0%|          | 0/1 [00:00<?, ?it/s]"
      ],
      "application/vnd.jupyter.widget-view+json": {
       "version_major": 2,
       "version_minor": 0,
       "model_id": "a6f6433dd7b2414b8751ee4136bb3e5d"
      }
     },
     "metadata": {},
     "output_type": "display_data"
    },
    {
     "data": {
      "text/plain": [
       "Submission Unique:   0%|          | 0/6698 [00:00<?, ?it/s]"
      ],
      "application/vnd.jupyter.widget-view+json": {
       "version_major": 2,
       "version_minor": 0,
       "model_id": "f42f2b8b1b0244359c882d61d4e30173"
      }
     },
     "metadata": {},
     "output_type": "display_data"
    },
    {
     "data": {
      "text/plain": [
       "Course:Assignment:   0%|          | 0/1 [00:00<?, ?it/s]"
      ],
      "application/vnd.jupyter.widget-view+json": {
       "version_major": 2,
       "version_minor": 0,
       "model_id": "c40f054c4fb24cb2b5bb40327789fc3f"
      }
     },
     "metadata": {},
     "output_type": "display_data"
    },
    {
     "data": {
      "text/plain": [
       "Assignment Unique:   0%|          | 0/6387 [00:00<?, ?it/s]"
      ],
      "application/vnd.jupyter.widget-view+json": {
       "version_major": 2,
       "version_minor": 0,
       "model_id": "0e98847a6ebe4059bbca675731ee9684"
      }
     },
     "metadata": {},
     "output_type": "display_data"
    },
    {
     "data": {
      "text/plain": [
       "Course:Schedule:   0%|          | 0/1 [00:00<?, ?it/s]"
      ],
      "application/vnd.jupyter.widget-view+json": {
       "version_major": 2,
       "version_minor": 0,
       "model_id": "58e1ba9aa78b4f29a03b5eecb80be7e2"
      }
     },
     "metadata": {},
     "output_type": "display_data"
    },
    {
     "data": {
      "text/plain": [
       "Schedule Unique:   0%|          | 0/6387 [00:00<?, ?it/s]"
      ],
      "application/vnd.jupyter.widget-view+json": {
       "version_major": 2,
       "version_minor": 0,
       "model_id": "836c7fb3e1914e01ae2774233ca84aa2"
      }
     },
     "metadata": {},
     "output_type": "display_data"
    },
    {
     "data": {
      "text/plain": [
       "Course:Enrollment:   0%|          | 0/1 [00:00<?, ?it/s]"
      ],
      "application/vnd.jupyter.widget-view+json": {
       "version_major": 2,
       "version_minor": 0,
       "model_id": "bfb6c8082f65430c83d9b22765103983"
      }
     },
     "metadata": {},
     "output_type": "display_data"
    },
    {
     "data": {
      "text/plain": [
       "Enrollment Unique:   0%|          | 0/6343 [00:00<?, ?it/s]"
      ],
      "application/vnd.jupyter.widget-view+json": {
       "version_major": 2,
       "version_minor": 0,
       "model_id": "c12930e00d514438a4242efe0d6c9aa2"
      }
     },
     "metadata": {},
     "output_type": "display_data"
    },
    {
     "name": "stdout",
     "output_type": "stream",
     "text": [
      "Modeling Department\n",
      "Modeling Major\n"
     ]
    },
    {
     "data": {
      "text/plain": [
       "Department:Major:   0%|          | 0/1 [00:00<?, ?it/s]"
      ],
      "application/vnd.jupyter.widget-view+json": {
       "version_major": 2,
       "version_minor": 0,
       "model_id": "16dffee827484279ac1f1f3c8cac5fc9"
      }
     },
     "metadata": {},
     "output_type": "display_data"
    },
    {
     "data": {
      "text/plain": [
       "Major Unique:   0%|          | 0/6329 [00:00<?, ?it/s]"
      ],
      "application/vnd.jupyter.widget-view+json": {
       "version_major": 2,
       "version_minor": 0,
       "model_id": "6cedf8281d62411cb1f0be4edbadef10"
      }
     },
     "metadata": {},
     "output_type": "display_data"
    },
    {
     "name": "stdout",
     "output_type": "stream",
     "text": [
      "Modeling Textbook\n"
     ]
    },
    {
     "data": {
      "text/plain": [
       "Textbook:CourseTextbook:   0%|          | 0/1 [00:00<?, ?it/s]"
      ],
      "application/vnd.jupyter.widget-view+json": {
       "version_major": 2,
       "version_minor": 0,
       "model_id": "4f91abaea9964a54ada864ef5f3b5196"
      }
     },
     "metadata": {},
     "output_type": "display_data"
    },
    {
     "data": {
      "text/plain": [
       "CourseTextbook Unique:   0%|          | 0/10000 [00:00<?, ?it/s]"
      ],
      "application/vnd.jupyter.widget-view+json": {
       "version_major": 2,
       "version_minor": 0,
       "model_id": "798cb2d740554ab9897697c5e666e559"
      }
     },
     "metadata": {},
     "output_type": "display_data"
    },
    {
     "name": "stdout",
     "output_type": "stream",
     "text": [
      "Modeling Library\n",
      "Modeling Book\n"
     ]
    },
    {
     "data": {
      "text/plain": [
       "Book:BookLoan:   0%|          | 0/1 [00:00<?, ?it/s]"
      ],
      "application/vnd.jupyter.widget-view+json": {
       "version_major": 2,
       "version_minor": 0,
       "model_id": "0d0e6acc7d2a484f93c4106c9b98ad90"
      }
     },
     "metadata": {},
     "output_type": "display_data"
    },
    {
     "data": {
      "text/plain": [
       "BookLoan Unique:   0%|          | 0/10000 [00:00<?, ?it/s]"
      ],
      "application/vnd.jupyter.widget-view+json": {
       "version_major": 2,
       "version_minor": 0,
       "model_id": "870afa3e504742edad36a37cbd6fda63"
      }
     },
     "metadata": {},
     "output_type": "display_data"
    },
    {
     "data": {
      "text/plain": [
       "Library:Book:   0%|          | 0/1 [00:00<?, ?it/s]"
      ],
      "application/vnd.jupyter.widget-view+json": {
       "version_major": 2,
       "version_minor": 0,
       "model_id": "85d0cef5a050489a9c2aac68f5e6a920"
      }
     },
     "metadata": {},
     "output_type": "display_data"
    },
    {
     "data": {
      "text/plain": [
       "Book Unique:   0%|          | 0/10000 [00:00<?, ?it/s]"
      ],
      "application/vnd.jupyter.widget-view+json": {
       "version_major": 2,
       "version_minor": 0,
       "model_id": "8c5251d17c2345bea63a3b3eb4a58d6a"
      }
     },
     "metadata": {},
     "output_type": "display_data"
    },
    {
     "name": "stdout",
     "output_type": "stream",
     "text": [
      "Modeling ResearchGroup\n",
      "Modeling ResearchProject\n"
     ]
    },
    {
     "data": {
      "text/plain": [
       "ResearchProject:ProjectMember:   0%|          | 0/1 [00:00<?, ?it/s]"
      ],
      "application/vnd.jupyter.widget-view+json": {
       "version_major": 2,
       "version_minor": 0,
       "model_id": "610680bfeb154ff2ade0f03d1371c0ed"
      }
     },
     "metadata": {},
     "output_type": "display_data"
    },
    {
     "data": {
      "text/plain": [
       "ProjectMember Unique:   0%|          | 0/10000 [00:00<?, ?it/s]"
      ],
      "application/vnd.jupyter.widget-view+json": {
       "version_major": 2,
       "version_minor": 0,
       "model_id": "72c4d7c7fb72425fa71732d862ba0b61"
      }
     },
     "metadata": {},
     "output_type": "display_data"
    },
    {
     "data": {
      "text/plain": [
       "ResearchGroup:ResearchProject:   0%|          | 0/1 [00:00<?, ?it/s]"
      ],
      "application/vnd.jupyter.widget-view+json": {
       "version_major": 2,
       "version_minor": 0,
       "model_id": "9d23f14835f74cd592fbde86d7ee5017"
      }
     },
     "metadata": {},
     "output_type": "display_data"
    },
    {
     "data": {
      "text/plain": [
       "ResearchProject Unique:   0%|          | 0/10000 [00:00<?, ?it/s]"
      ],
      "application/vnd.jupyter.widget-view+json": {
       "version_major": 2,
       "version_minor": 0,
       "model_id": "315a5df6c72242ccb9e8d7c7b00faacc"
      }
     },
     "metadata": {},
     "output_type": "display_data"
    },
    {
     "name": "stdout",
     "output_type": "stream",
     "text": [
      "Modeling Lab\n",
      "Modeling LabEquipment\n",
      "Modeling EquipmentMaintenance\n"
     ]
    },
    {
     "data": {
      "text/plain": [
       "LabEquipment:EquipmentMaintenance:   0%|          | 0/1 [00:00<?, ?it/s]"
      ],
      "application/vnd.jupyter.widget-view+json": {
       "version_major": 2,
       "version_minor": 0,
       "model_id": "7098e802b4484f3d905e7b3a051bdf7d"
      }
     },
     "metadata": {},
     "output_type": "display_data"
    },
    {
     "data": {
      "text/plain": [
       "EquipmentMaintenance Unique:   0%|          | 0/10000 [00:00<?, ?it/s]"
      ],
      "application/vnd.jupyter.widget-view+json": {
       "version_major": 2,
       "version_minor": 0,
       "model_id": "dc7ff9a44896467a902e4c962f3b1cc3"
      }
     },
     "metadata": {},
     "output_type": "display_data"
    },
    {
     "data": {
      "text/plain": [
       "Lab:LabEquipment:   0%|          | 0/1 [00:00<?, ?it/s]"
      ],
      "application/vnd.jupyter.widget-view+json": {
       "version_major": 2,
       "version_minor": 0,
       "model_id": "28d15636df3f4d00869cf019bd290630"
      }
     },
     "metadata": {},
     "output_type": "display_data"
    },
    {
     "data": {
      "text/plain": [
       "LabEquipment Unique:   0%|          | 0/10000 [00:00<?, ?it/s]"
      ],
      "application/vnd.jupyter.widget-view+json": {
       "version_major": 2,
       "version_minor": 0,
       "model_id": "b36198d222e842e2956f786b4e3ae764"
      }
     },
     "metadata": {},
     "output_type": "display_data"
    }
   ],
   "execution_count": 12
  },
  {
   "cell_type": "markdown",
   "metadata": {},
   "source": [
    "3s"
   ]
  },
  {
   "cell_type": "code",
   "metadata": {
    "attributes": {
     "classes": [
      ""
     ],
     "id": ""
    }
   },
   "source": [
    "new_data = model.sample()\n",
    "new_data"
   ],
   "outputs": [],
   "execution_count": null
  },
  {
   "cell_type": "markdown",
   "metadata": {},
   "source": [
    "8s，很快"
   ]
  },
  {
   "cell_type": "code",
   "metadata": {},
   "source": [
    "save_tables(new_data)"
   ],
   "outputs": [],
   "execution_count": null
  },
  {
   "cell_type": "code",
   "metadata": {},
   "source": [
    "for name, table in new_data.items():\n",
    "    print(name, table.shape)"
   ],
   "outputs": [],
   "execution_count": null
  },
  {
   "cell_type": "code",
   "metadata": {
    "attributes": {
     "classes": [
      ""
     ],
     "id": ""
    }
   },
   "source": "model.save('my_model_10k.pkl')",
   "outputs": [],
   "execution_count": null
  },
  {
   "cell_type": "code",
   "metadata": {
    "attributes": {
     "classes": [
      ""
     ],
     "id": ""
    },
    "ExecuteTime": {
     "end_time": "2024-09-10T15:27:03.251684Z",
     "start_time": "2024-09-10T15:24:00.488966Z"
    }
   },
   "source": [
    "from sdv.relational import HMA1\n",
    "import warnings\n",
    "warnings.filterwarnings('ignore')\n",
    "loaded = HMA1.load('my_model_10k.pkl')\n",
    "new_data = loaded.sample()\n",
    "new_data.keys()"
   ],
   "outputs": [
    {
     "data": {
      "text/plain": [
       "  0%|          | 0/20 [00:00<?, ?it/s]"
      ],
      "application/vnd.jupyter.widget-view+json": {
       "version_major": 2,
       "version_minor": 0,
       "model_id": "a310ff327d854364b705e618446c5dfd"
      }
     },
     "metadata": {},
     "output_type": "display_data"
    },
    {
     "data": {
      "text/plain": [
       "Student Childing:   0%|          | 0/3 [00:00<?, ?it/s]"
      ],
      "application/vnd.jupyter.widget-view+json": {
       "version_major": 2,
       "version_minor": 0,
       "model_id": "c559c0c50ac645189606fdee4ac782d8"
      }
     },
     "metadata": {},
     "output_type": "display_data"
    },
    {
     "data": {
      "text/plain": [
       "Submission:   0%|          | 0/10000 [00:00<?, ?it/s]"
      ],
      "application/vnd.jupyter.widget-view+json": {
       "version_major": 2,
       "version_minor": 0,
       "model_id": "78268a881d18459a944690ca487231a8"
      }
     },
     "metadata": {},
     "output_type": "display_data"
    },
    {
     "ename": "KeyboardInterrupt",
     "evalue": "",
     "output_type": "error",
     "traceback": [
      "\u001B[1;31m---------------------------------------------------------------------------\u001B[0m",
      "\u001B[1;31mKeyboardInterrupt\u001B[0m                         Traceback (most recent call last)",
      "Cell \u001B[1;32mIn[10], line 5\u001B[0m\n\u001B[0;32m      3\u001B[0m warnings\u001B[38;5;241m.\u001B[39mfilterwarnings(\u001B[38;5;124m'\u001B[39m\u001B[38;5;124mignore\u001B[39m\u001B[38;5;124m'\u001B[39m)\n\u001B[0;32m      4\u001B[0m loaded \u001B[38;5;241m=\u001B[39m HMA1\u001B[38;5;241m.\u001B[39mload(\u001B[38;5;124m'\u001B[39m\u001B[38;5;124mmy_model_10k.pkl\u001B[39m\u001B[38;5;124m'\u001B[39m)\n\u001B[1;32m----> 5\u001B[0m new_data \u001B[38;5;241m=\u001B[39m \u001B[43mloaded\u001B[49m\u001B[38;5;241;43m.\u001B[39;49m\u001B[43msample\u001B[49m\u001B[43m(\u001B[49m\u001B[43m)\u001B[49m\n\u001B[0;32m      6\u001B[0m new_data\u001B[38;5;241m.\u001B[39mkeys()\n",
      "File \u001B[1;32m~\\Desktop\\GitHub\\SDV\\sdv\\relational\\base.py:185\u001B[0m, in \u001B[0;36mBaseRelationalModel.sample\u001B[1;34m(self, table_name, num_rows, sample_children, reset_primary_keys)\u001B[0m\n\u001B[0;32m    182\u001B[0m \u001B[38;5;28;01mif\u001B[39;00m reset_primary_keys:\n\u001B[0;32m    183\u001B[0m     \u001B[38;5;28mself\u001B[39m\u001B[38;5;241m.\u001B[39m_reset_primary_keys_generators()\n\u001B[1;32m--> 185\u001B[0m \u001B[38;5;28;01mreturn\u001B[39;00m \u001B[38;5;28;43mself\u001B[39;49m\u001B[38;5;241;43m.\u001B[39;49m\u001B[43m_sample\u001B[49m\u001B[43m(\u001B[49m\u001B[43mtable_name\u001B[49m\u001B[43m,\u001B[49m\u001B[43m \u001B[49m\u001B[43mnum_rows\u001B[49m\u001B[43m,\u001B[49m\u001B[43m \u001B[49m\u001B[43msample_children\u001B[49m\u001B[43m)\u001B[49m\n",
      "File \u001B[1;32m~\\Desktop\\GitHub\\SDV\\sdv\\relational\\hma.py:608\u001B[0m, in \u001B[0;36mHMA1._sample\u001B[1;34m(self, table_name, num_rows, sample_children)\u001B[0m\n\u001B[0;32m    606\u001B[0m \u001B[38;5;28;01mfor\u001B[39;00m table \u001B[38;5;129;01min\u001B[39;00m tables:\n\u001B[0;32m    607\u001B[0m     \u001B[38;5;28;01mif\u001B[39;00m \u001B[38;5;129;01mnot\u001B[39;00m \u001B[38;5;28mself\u001B[39m\u001B[38;5;241m.\u001B[39mmetadata\u001B[38;5;241m.\u001B[39mget_parents(table):\n\u001B[1;32m--> 608\u001B[0m         \u001B[38;5;28;43mself\u001B[39;49m\u001B[38;5;241;43m.\u001B[39;49m\u001B[43m_sample_table\u001B[49m\u001B[43m(\u001B[49m\u001B[43mtable\u001B[49m\u001B[43m,\u001B[49m\u001B[43m \u001B[49m\u001B[43mnum_rows\u001B[49m\u001B[43m,\u001B[49m\u001B[43m \u001B[49m\u001B[43msampled_data\u001B[49m\u001B[38;5;241;43m=\u001B[39;49m\u001B[43msampled_data\u001B[49m\u001B[43m)\u001B[49m\n\u001B[0;32m    609\u001B[0m         psb\u001B[38;5;241m.\u001B[39mn \u001B[38;5;241m=\u001B[39m \u001B[38;5;28mlen\u001B[39m(sampled_data)\n\u001B[0;32m    610\u001B[0m         psb\u001B[38;5;241m.\u001B[39mrefresh()\n",
      "File \u001B[1;32m~\\Desktop\\GitHub\\SDV\\sdv\\relational\\hma.py:565\u001B[0m, in \u001B[0;36mHMA1._sample_table\u001B[1;34m(self, table_name, num_rows, sample_children, sampled_data)\u001B[0m\n\u001B[0;32m    562\u001B[0m sampled_data[table_name] \u001B[38;5;241m=\u001B[39m table_rows\n\u001B[0;32m    564\u001B[0m \u001B[38;5;28;01mif\u001B[39;00m sample_children:\n\u001B[1;32m--> 565\u001B[0m     \u001B[38;5;28;43mself\u001B[39;49m\u001B[38;5;241;43m.\u001B[39;49m\u001B[43m_sample_children\u001B[49m\u001B[43m(\u001B[49m\u001B[43mtable_name\u001B[49m\u001B[43m,\u001B[49m\u001B[43m \u001B[49m\u001B[43msampled_data\u001B[49m\u001B[43m,\u001B[49m\u001B[43m \u001B[49m\u001B[43mtable_rows\u001B[49m\u001B[43m)\u001B[49m\n\u001B[0;32m    567\u001B[0m \u001B[38;5;28;01mreturn\u001B[39;00m sampled_data\n",
      "File \u001B[1;32m~\\Desktop\\GitHub\\SDV\\sdv\\relational\\hma.py:436\u001B[0m, in \u001B[0;36mHMA1._sample_children\u001B[1;34m(self, table_name, sampled_data, table_rows)\u001B[0m\n\u001B[0;32m    434\u001B[0m psb \u001B[38;5;241m=\u001B[39m tqdm\u001B[38;5;241m.\u001B[39mtqdm(total\u001B[38;5;241m=\u001B[39m\u001B[38;5;28mlen\u001B[39m(table_rows), desc\u001B[38;5;241m=\u001B[39m\u001B[38;5;124mf\u001B[39m\u001B[38;5;124m\"\u001B[39m\u001B[38;5;132;01m{\u001B[39;00mchild_name\u001B[38;5;132;01m}\u001B[39;00m\u001B[38;5;124m\"\u001B[39m)\n\u001B[0;32m    435\u001B[0m \u001B[38;5;28;01mfor\u001B[39;00m _, row \u001B[38;5;129;01min\u001B[39;00m table_rows\u001B[38;5;241m.\u001B[39miterrows():\n\u001B[1;32m--> 436\u001B[0m     \u001B[38;5;28;43mself\u001B[39;49m\u001B[38;5;241;43m.\u001B[39;49m\u001B[43m_sample_child_rows\u001B[49m\u001B[43m(\u001B[49m\u001B[43mchild_name\u001B[49m\u001B[43m,\u001B[49m\u001B[43m \u001B[49m\u001B[43mtable_name\u001B[49m\u001B[43m,\u001B[49m\u001B[43m \u001B[49m\u001B[43mrow\u001B[49m\u001B[43m,\u001B[49m\u001B[43m \u001B[49m\u001B[43msampled_data\u001B[49m\u001B[43m)\u001B[49m\n\u001B[0;32m    437\u001B[0m     psb\u001B[38;5;241m.\u001B[39mupdate(\u001B[38;5;241m1\u001B[39m)\n\u001B[0;32m    439\u001B[0m child_rows \u001B[38;5;241m=\u001B[39m sampled_data[child_name]\n",
      "File \u001B[1;32m~\\Desktop\\GitHub\\SDV\\sdv\\relational\\hma.py:400\u001B[0m, in \u001B[0;36mHMA1._sample_child_rows\u001B[1;34m(self, table_name, parent_name, parent_row, sampled_data)\u001B[0m\n\u001B[0;32m    397\u001B[0m parameters \u001B[38;5;241m=\u001B[39m \u001B[38;5;28mself\u001B[39m\u001B[38;5;241m.\u001B[39m_extract_parameters(parent_row, table_name, foreign_key)\n\u001B[0;32m    399\u001B[0m table_meta \u001B[38;5;241m=\u001B[39m \u001B[38;5;28mself\u001B[39m\u001B[38;5;241m.\u001B[39m_models[table_name]\u001B[38;5;241m.\u001B[39mget_metadata()\n\u001B[1;32m--> 400\u001B[0m model \u001B[38;5;241m=\u001B[39m \u001B[38;5;28;43mself\u001B[39;49m\u001B[38;5;241;43m.\u001B[39;49m\u001B[43m_model\u001B[49m\u001B[43m(\u001B[49m\u001B[43mtable_metadata\u001B[49m\u001B[38;5;241;43m=\u001B[39;49m\u001B[43mtable_meta\u001B[49m\u001B[43m)\u001B[49m\n\u001B[0;32m    401\u001B[0m model\u001B[38;5;241m.\u001B[39mset_parameters(parameters)\n\u001B[0;32m    403\u001B[0m table_rows \u001B[38;5;241m=\u001B[39m \u001B[38;5;28mself\u001B[39m\u001B[38;5;241m.\u001B[39m_sample_rows(model, table_name)\n",
      "File \u001B[1;32m~\\Desktop\\GitHub\\SDV\\sdv\\tabular\\copulas.py:171\u001B[0m, in \u001B[0;36mGaussianCopula.__init__\u001B[1;34m(self, field_names, field_types, field_transformers, anonymize_fields, primary_key, constraints, table_metadata, field_distributions, default_distribution, categorical_transformer, learn_rounding_scheme, enforce_min_max_values)\u001B[0m\n\u001B[0;32m    168\u001B[0m \u001B[38;5;28mself\u001B[39m\u001B[38;5;241m.\u001B[39m_categorical_transformer \u001B[38;5;241m=\u001B[39m categorical_transformer \u001B[38;5;129;01mor\u001B[39;00m \u001B[38;5;28mself\u001B[39m\u001B[38;5;241m.\u001B[39m_DEFAULT_TRANSFORMER\n\u001B[0;32m    169\u001B[0m \u001B[38;5;28mself\u001B[39m\u001B[38;5;241m.\u001B[39m_DTYPE_TRANSFORMERS \u001B[38;5;241m=\u001B[39m {\u001B[38;5;124m'\u001B[39m\u001B[38;5;124mO\u001B[39m\u001B[38;5;124m'\u001B[39m: \u001B[38;5;28mself\u001B[39m\u001B[38;5;241m.\u001B[39m_categorical_transformer}\n\u001B[1;32m--> 171\u001B[0m \u001B[38;5;28;43msuper\u001B[39;49m\u001B[43m(\u001B[49m\u001B[43m)\u001B[49m\u001B[38;5;241;43m.\u001B[39;49m\u001B[38;5;21;43m__init__\u001B[39;49m\u001B[43m(\u001B[49m\n\u001B[0;32m    172\u001B[0m \u001B[43m    \u001B[49m\u001B[43mfield_names\u001B[49m\u001B[38;5;241;43m=\u001B[39;49m\u001B[43mfield_names\u001B[49m\u001B[43m,\u001B[49m\n\u001B[0;32m    173\u001B[0m \u001B[43m    \u001B[49m\u001B[43mfield_types\u001B[49m\u001B[38;5;241;43m=\u001B[39;49m\u001B[43mfield_types\u001B[49m\u001B[43m,\u001B[49m\n\u001B[0;32m    174\u001B[0m \u001B[43m    \u001B[49m\u001B[43mfield_transformers\u001B[49m\u001B[38;5;241;43m=\u001B[39;49m\u001B[43mfield_transformers\u001B[49m\u001B[43m,\u001B[49m\n\u001B[0;32m    175\u001B[0m \u001B[43m    \u001B[49m\u001B[43manonymize_fields\u001B[49m\u001B[38;5;241;43m=\u001B[39;49m\u001B[43manonymize_fields\u001B[49m\u001B[43m,\u001B[49m\n\u001B[0;32m    176\u001B[0m \u001B[43m    \u001B[49m\u001B[43mprimary_key\u001B[49m\u001B[38;5;241;43m=\u001B[39;49m\u001B[43mprimary_key\u001B[49m\u001B[43m,\u001B[49m\n\u001B[0;32m    177\u001B[0m \u001B[43m    \u001B[49m\u001B[43mconstraints\u001B[49m\u001B[38;5;241;43m=\u001B[39;49m\u001B[43mconstraints\u001B[49m\u001B[43m,\u001B[49m\n\u001B[0;32m    178\u001B[0m \u001B[43m    \u001B[49m\u001B[43mtable_metadata\u001B[49m\u001B[38;5;241;43m=\u001B[39;49m\u001B[43mtable_metadata\u001B[49m\u001B[43m,\u001B[49m\n\u001B[0;32m    179\u001B[0m \u001B[43m    \u001B[49m\u001B[43mlearn_rounding_scheme\u001B[49m\u001B[38;5;241;43m=\u001B[39;49m\u001B[43mlearn_rounding_scheme\u001B[49m\u001B[43m,\u001B[49m\n\u001B[0;32m    180\u001B[0m \u001B[43m    \u001B[49m\u001B[43menforce_min_max_values\u001B[49m\u001B[38;5;241;43m=\u001B[39;49m\u001B[43menforce_min_max_values\u001B[49m\n\u001B[0;32m    181\u001B[0m \u001B[43m\u001B[49m\u001B[43m)\u001B[49m\n\u001B[0;32m    183\u001B[0m \u001B[38;5;28mself\u001B[39m\u001B[38;5;241m.\u001B[39m_metadata\u001B[38;5;241m.\u001B[39mset_model_kwargs(\u001B[38;5;28mself\u001B[39m\u001B[38;5;241m.\u001B[39m\u001B[38;5;18m__class__\u001B[39m\u001B[38;5;241m.\u001B[39m\u001B[38;5;18m__name__\u001B[39m, {\n\u001B[0;32m    184\u001B[0m     \u001B[38;5;124m'\u001B[39m\u001B[38;5;124mfield_distributions\u001B[39m\u001B[38;5;124m'\u001B[39m: field_distributions,\n\u001B[0;32m    185\u001B[0m     \u001B[38;5;124m'\u001B[39m\u001B[38;5;124mdefault_distribution\u001B[39m\u001B[38;5;124m'\u001B[39m: default_distribution,\n\u001B[0;32m    186\u001B[0m     \u001B[38;5;124m'\u001B[39m\u001B[38;5;124mcategorical_transformer\u001B[39m\u001B[38;5;124m'\u001B[39m: categorical_transformer,\n\u001B[0;32m    187\u001B[0m })\n",
      "File \u001B[1;32m~\\Desktop\\GitHub\\SDV\\sdv\\tabular\\base.py:106\u001B[0m, in \u001B[0;36mBaseTabularModel.__init__\u001B[1;34m(self, field_names, field_types, field_transformers, anonymize_fields, primary_key, constraints, table_metadata, learn_rounding_scheme, enforce_min_max_values)\u001B[0m\n\u001B[0;32m    104\u001B[0m     \u001B[38;5;28mself\u001B[39m\u001B[38;5;241m.\u001B[39m_metadata_fitted \u001B[38;5;241m=\u001B[39m \u001B[38;5;28;01mFalse\u001B[39;00m\n\u001B[0;32m    105\u001B[0m \u001B[38;5;28;01melse\u001B[39;00m:\n\u001B[1;32m--> 106\u001B[0m     table_metadata \u001B[38;5;241m=\u001B[39m \u001B[43mdeepcopy\u001B[49m\u001B[43m(\u001B[49m\u001B[43mtable_metadata\u001B[49m\u001B[43m)\u001B[49m\n\u001B[0;32m    107\u001B[0m     \u001B[38;5;28;01mfor\u001B[39;00m arg \u001B[38;5;129;01min\u001B[39;00m (field_names, primary_key, field_types, anonymize_fields, constraints):\n\u001B[0;32m    108\u001B[0m         \u001B[38;5;28;01mif\u001B[39;00m arg:\n",
      "File \u001B[1;32m~\\.conda\\envs\\SDV0172\\lib\\copy.py:172\u001B[0m, in \u001B[0;36mdeepcopy\u001B[1;34m(x, memo, _nil)\u001B[0m\n\u001B[0;32m    170\u001B[0m                 y \u001B[38;5;241m=\u001B[39m x\n\u001B[0;32m    171\u001B[0m             \u001B[38;5;28;01melse\u001B[39;00m:\n\u001B[1;32m--> 172\u001B[0m                 y \u001B[38;5;241m=\u001B[39m \u001B[43m_reconstruct\u001B[49m\u001B[43m(\u001B[49m\u001B[43mx\u001B[49m\u001B[43m,\u001B[49m\u001B[43m \u001B[49m\u001B[43mmemo\u001B[49m\u001B[43m,\u001B[49m\u001B[43m \u001B[49m\u001B[38;5;241;43m*\u001B[39;49m\u001B[43mrv\u001B[49m\u001B[43m)\u001B[49m\n\u001B[0;32m    174\u001B[0m \u001B[38;5;66;03m# If is its own copy, don't memoize.\u001B[39;00m\n\u001B[0;32m    175\u001B[0m \u001B[38;5;28;01mif\u001B[39;00m y \u001B[38;5;129;01mis\u001B[39;00m \u001B[38;5;129;01mnot\u001B[39;00m x:\n",
      "File \u001B[1;32m~\\.conda\\envs\\SDV0172\\lib\\copy.py:270\u001B[0m, in \u001B[0;36m_reconstruct\u001B[1;34m(x, memo, func, args, state, listiter, dictiter, deepcopy)\u001B[0m\n\u001B[0;32m    268\u001B[0m \u001B[38;5;28;01mif\u001B[39;00m state \u001B[38;5;129;01mis\u001B[39;00m \u001B[38;5;129;01mnot\u001B[39;00m \u001B[38;5;28;01mNone\u001B[39;00m:\n\u001B[0;32m    269\u001B[0m     \u001B[38;5;28;01mif\u001B[39;00m deep:\n\u001B[1;32m--> 270\u001B[0m         state \u001B[38;5;241m=\u001B[39m \u001B[43mdeepcopy\u001B[49m\u001B[43m(\u001B[49m\u001B[43mstate\u001B[49m\u001B[43m,\u001B[49m\u001B[43m \u001B[49m\u001B[43mmemo\u001B[49m\u001B[43m)\u001B[49m\n\u001B[0;32m    271\u001B[0m     \u001B[38;5;28;01mif\u001B[39;00m \u001B[38;5;28mhasattr\u001B[39m(y, \u001B[38;5;124m'\u001B[39m\u001B[38;5;124m__setstate__\u001B[39m\u001B[38;5;124m'\u001B[39m):\n\u001B[0;32m    272\u001B[0m         y\u001B[38;5;241m.\u001B[39m__setstate__(state)\n",
      "File \u001B[1;32m~\\.conda\\envs\\SDV0172\\lib\\copy.py:146\u001B[0m, in \u001B[0;36mdeepcopy\u001B[1;34m(x, memo, _nil)\u001B[0m\n\u001B[0;32m    144\u001B[0m copier \u001B[38;5;241m=\u001B[39m _deepcopy_dispatch\u001B[38;5;241m.\u001B[39mget(\u001B[38;5;28mcls\u001B[39m)\n\u001B[0;32m    145\u001B[0m \u001B[38;5;28;01mif\u001B[39;00m copier \u001B[38;5;129;01mis\u001B[39;00m \u001B[38;5;129;01mnot\u001B[39;00m \u001B[38;5;28;01mNone\u001B[39;00m:\n\u001B[1;32m--> 146\u001B[0m     y \u001B[38;5;241m=\u001B[39m \u001B[43mcopier\u001B[49m\u001B[43m(\u001B[49m\u001B[43mx\u001B[49m\u001B[43m,\u001B[49m\u001B[43m \u001B[49m\u001B[43mmemo\u001B[49m\u001B[43m)\u001B[49m\n\u001B[0;32m    147\u001B[0m \u001B[38;5;28;01melse\u001B[39;00m:\n\u001B[0;32m    148\u001B[0m     \u001B[38;5;28;01mif\u001B[39;00m \u001B[38;5;28missubclass\u001B[39m(\u001B[38;5;28mcls\u001B[39m, \u001B[38;5;28mtype\u001B[39m):\n",
      "File \u001B[1;32m~\\.conda\\envs\\SDV0172\\lib\\copy.py:230\u001B[0m, in \u001B[0;36m_deepcopy_dict\u001B[1;34m(x, memo, deepcopy)\u001B[0m\n\u001B[0;32m    228\u001B[0m memo[\u001B[38;5;28mid\u001B[39m(x)] \u001B[38;5;241m=\u001B[39m y\n\u001B[0;32m    229\u001B[0m \u001B[38;5;28;01mfor\u001B[39;00m key, value \u001B[38;5;129;01min\u001B[39;00m x\u001B[38;5;241m.\u001B[39mitems():\n\u001B[1;32m--> 230\u001B[0m     y[deepcopy(key, memo)] \u001B[38;5;241m=\u001B[39m \u001B[43mdeepcopy\u001B[49m\u001B[43m(\u001B[49m\u001B[43mvalue\u001B[49m\u001B[43m,\u001B[49m\u001B[43m \u001B[49m\u001B[43mmemo\u001B[49m\u001B[43m)\u001B[49m\n\u001B[0;32m    231\u001B[0m \u001B[38;5;28;01mreturn\u001B[39;00m y\n",
      "File \u001B[1;32m~\\.conda\\envs\\SDV0172\\lib\\copy.py:172\u001B[0m, in \u001B[0;36mdeepcopy\u001B[1;34m(x, memo, _nil)\u001B[0m\n\u001B[0;32m    170\u001B[0m                 y \u001B[38;5;241m=\u001B[39m x\n\u001B[0;32m    171\u001B[0m             \u001B[38;5;28;01melse\u001B[39;00m:\n\u001B[1;32m--> 172\u001B[0m                 y \u001B[38;5;241m=\u001B[39m \u001B[43m_reconstruct\u001B[49m\u001B[43m(\u001B[49m\u001B[43mx\u001B[49m\u001B[43m,\u001B[49m\u001B[43m \u001B[49m\u001B[43mmemo\u001B[49m\u001B[43m,\u001B[49m\u001B[43m \u001B[49m\u001B[38;5;241;43m*\u001B[39;49m\u001B[43mrv\u001B[49m\u001B[43m)\u001B[49m\n\u001B[0;32m    174\u001B[0m \u001B[38;5;66;03m# If is its own copy, don't memoize.\u001B[39;00m\n\u001B[0;32m    175\u001B[0m \u001B[38;5;28;01mif\u001B[39;00m y \u001B[38;5;129;01mis\u001B[39;00m \u001B[38;5;129;01mnot\u001B[39;00m x:\n",
      "File \u001B[1;32m~\\.conda\\envs\\SDV0172\\lib\\copy.py:270\u001B[0m, in \u001B[0;36m_reconstruct\u001B[1;34m(x, memo, func, args, state, listiter, dictiter, deepcopy)\u001B[0m\n\u001B[0;32m    268\u001B[0m \u001B[38;5;28;01mif\u001B[39;00m state \u001B[38;5;129;01mis\u001B[39;00m \u001B[38;5;129;01mnot\u001B[39;00m \u001B[38;5;28;01mNone\u001B[39;00m:\n\u001B[0;32m    269\u001B[0m     \u001B[38;5;28;01mif\u001B[39;00m deep:\n\u001B[1;32m--> 270\u001B[0m         state \u001B[38;5;241m=\u001B[39m \u001B[43mdeepcopy\u001B[49m\u001B[43m(\u001B[49m\u001B[43mstate\u001B[49m\u001B[43m,\u001B[49m\u001B[43m \u001B[49m\u001B[43mmemo\u001B[49m\u001B[43m)\u001B[49m\n\u001B[0;32m    271\u001B[0m     \u001B[38;5;28;01mif\u001B[39;00m \u001B[38;5;28mhasattr\u001B[39m(y, \u001B[38;5;124m'\u001B[39m\u001B[38;5;124m__setstate__\u001B[39m\u001B[38;5;124m'\u001B[39m):\n\u001B[0;32m    272\u001B[0m         y\u001B[38;5;241m.\u001B[39m__setstate__(state)\n",
      "File \u001B[1;32m~\\.conda\\envs\\SDV0172\\lib\\copy.py:146\u001B[0m, in \u001B[0;36mdeepcopy\u001B[1;34m(x, memo, _nil)\u001B[0m\n\u001B[0;32m    144\u001B[0m copier \u001B[38;5;241m=\u001B[39m _deepcopy_dispatch\u001B[38;5;241m.\u001B[39mget(\u001B[38;5;28mcls\u001B[39m)\n\u001B[0;32m    145\u001B[0m \u001B[38;5;28;01mif\u001B[39;00m copier \u001B[38;5;129;01mis\u001B[39;00m \u001B[38;5;129;01mnot\u001B[39;00m \u001B[38;5;28;01mNone\u001B[39;00m:\n\u001B[1;32m--> 146\u001B[0m     y \u001B[38;5;241m=\u001B[39m \u001B[43mcopier\u001B[49m\u001B[43m(\u001B[49m\u001B[43mx\u001B[49m\u001B[43m,\u001B[49m\u001B[43m \u001B[49m\u001B[43mmemo\u001B[49m\u001B[43m)\u001B[49m\n\u001B[0;32m    147\u001B[0m \u001B[38;5;28;01melse\u001B[39;00m:\n\u001B[0;32m    148\u001B[0m     \u001B[38;5;28;01mif\u001B[39;00m \u001B[38;5;28missubclass\u001B[39m(\u001B[38;5;28mcls\u001B[39m, \u001B[38;5;28mtype\u001B[39m):\n",
      "File \u001B[1;32m~\\.conda\\envs\\SDV0172\\lib\\copy.py:230\u001B[0m, in \u001B[0;36m_deepcopy_dict\u001B[1;34m(x, memo, deepcopy)\u001B[0m\n\u001B[0;32m    228\u001B[0m memo[\u001B[38;5;28mid\u001B[39m(x)] \u001B[38;5;241m=\u001B[39m y\n\u001B[0;32m    229\u001B[0m \u001B[38;5;28;01mfor\u001B[39;00m key, value \u001B[38;5;129;01min\u001B[39;00m x\u001B[38;5;241m.\u001B[39mitems():\n\u001B[1;32m--> 230\u001B[0m     y[deepcopy(key, memo)] \u001B[38;5;241m=\u001B[39m \u001B[43mdeepcopy\u001B[49m\u001B[43m(\u001B[49m\u001B[43mvalue\u001B[49m\u001B[43m,\u001B[49m\u001B[43m \u001B[49m\u001B[43mmemo\u001B[49m\u001B[43m)\u001B[49m\n\u001B[0;32m    231\u001B[0m \u001B[38;5;28;01mreturn\u001B[39;00m y\n",
      "File \u001B[1;32m~\\.conda\\envs\\SDV0172\\lib\\copy.py:146\u001B[0m, in \u001B[0;36mdeepcopy\u001B[1;34m(x, memo, _nil)\u001B[0m\n\u001B[0;32m    144\u001B[0m copier \u001B[38;5;241m=\u001B[39m _deepcopy_dispatch\u001B[38;5;241m.\u001B[39mget(\u001B[38;5;28mcls\u001B[39m)\n\u001B[0;32m    145\u001B[0m \u001B[38;5;28;01mif\u001B[39;00m copier \u001B[38;5;129;01mis\u001B[39;00m \u001B[38;5;129;01mnot\u001B[39;00m \u001B[38;5;28;01mNone\u001B[39;00m:\n\u001B[1;32m--> 146\u001B[0m     y \u001B[38;5;241m=\u001B[39m \u001B[43mcopier\u001B[49m\u001B[43m(\u001B[49m\u001B[43mx\u001B[49m\u001B[43m,\u001B[49m\u001B[43m \u001B[49m\u001B[43mmemo\u001B[49m\u001B[43m)\u001B[49m\n\u001B[0;32m    147\u001B[0m \u001B[38;5;28;01melse\u001B[39;00m:\n\u001B[0;32m    148\u001B[0m     \u001B[38;5;28;01mif\u001B[39;00m \u001B[38;5;28missubclass\u001B[39m(\u001B[38;5;28mcls\u001B[39m, \u001B[38;5;28mtype\u001B[39m):\n",
      "File \u001B[1;32m~\\.conda\\envs\\SDV0172\\lib\\copy.py:205\u001B[0m, in \u001B[0;36m_deepcopy_list\u001B[1;34m(x, memo, deepcopy)\u001B[0m\n\u001B[0;32m    203\u001B[0m append \u001B[38;5;241m=\u001B[39m y\u001B[38;5;241m.\u001B[39mappend\n\u001B[0;32m    204\u001B[0m \u001B[38;5;28;01mfor\u001B[39;00m a \u001B[38;5;129;01min\u001B[39;00m x:\n\u001B[1;32m--> 205\u001B[0m     append(\u001B[43mdeepcopy\u001B[49m\u001B[43m(\u001B[49m\u001B[43ma\u001B[49m\u001B[43m,\u001B[49m\u001B[43m \u001B[49m\u001B[43mmemo\u001B[49m\u001B[43m)\u001B[49m)\n\u001B[0;32m    206\u001B[0m \u001B[38;5;28;01mreturn\u001B[39;00m y\n",
      "File \u001B[1;32m~\\.conda\\envs\\SDV0172\\lib\\copy.py:172\u001B[0m, in \u001B[0;36mdeepcopy\u001B[1;34m(x, memo, _nil)\u001B[0m\n\u001B[0;32m    170\u001B[0m                 y \u001B[38;5;241m=\u001B[39m x\n\u001B[0;32m    171\u001B[0m             \u001B[38;5;28;01melse\u001B[39;00m:\n\u001B[1;32m--> 172\u001B[0m                 y \u001B[38;5;241m=\u001B[39m \u001B[43m_reconstruct\u001B[49m\u001B[43m(\u001B[49m\u001B[43mx\u001B[49m\u001B[43m,\u001B[49m\u001B[43m \u001B[49m\u001B[43mmemo\u001B[49m\u001B[43m,\u001B[49m\u001B[43m \u001B[49m\u001B[38;5;241;43m*\u001B[39;49m\u001B[43mrv\u001B[49m\u001B[43m)\u001B[49m\n\u001B[0;32m    174\u001B[0m \u001B[38;5;66;03m# If is its own copy, don't memoize.\u001B[39;00m\n\u001B[0;32m    175\u001B[0m \u001B[38;5;28;01mif\u001B[39;00m y \u001B[38;5;129;01mis\u001B[39;00m \u001B[38;5;129;01mnot\u001B[39;00m x:\n",
      "File \u001B[1;32m~\\.conda\\envs\\SDV0172\\lib\\copy.py:270\u001B[0m, in \u001B[0;36m_reconstruct\u001B[1;34m(x, memo, func, args, state, listiter, dictiter, deepcopy)\u001B[0m\n\u001B[0;32m    268\u001B[0m \u001B[38;5;28;01mif\u001B[39;00m state \u001B[38;5;129;01mis\u001B[39;00m \u001B[38;5;129;01mnot\u001B[39;00m \u001B[38;5;28;01mNone\u001B[39;00m:\n\u001B[0;32m    269\u001B[0m     \u001B[38;5;28;01mif\u001B[39;00m deep:\n\u001B[1;32m--> 270\u001B[0m         state \u001B[38;5;241m=\u001B[39m \u001B[43mdeepcopy\u001B[49m\u001B[43m(\u001B[49m\u001B[43mstate\u001B[49m\u001B[43m,\u001B[49m\u001B[43m \u001B[49m\u001B[43mmemo\u001B[49m\u001B[43m)\u001B[49m\n\u001B[0;32m    271\u001B[0m     \u001B[38;5;28;01mif\u001B[39;00m \u001B[38;5;28mhasattr\u001B[39m(y, \u001B[38;5;124m'\u001B[39m\u001B[38;5;124m__setstate__\u001B[39m\u001B[38;5;124m'\u001B[39m):\n\u001B[0;32m    272\u001B[0m         y\u001B[38;5;241m.\u001B[39m__setstate__(state)\n",
      "File \u001B[1;32m~\\.conda\\envs\\SDV0172\\lib\\copy.py:146\u001B[0m, in \u001B[0;36mdeepcopy\u001B[1;34m(x, memo, _nil)\u001B[0m\n\u001B[0;32m    144\u001B[0m copier \u001B[38;5;241m=\u001B[39m _deepcopy_dispatch\u001B[38;5;241m.\u001B[39mget(\u001B[38;5;28mcls\u001B[39m)\n\u001B[0;32m    145\u001B[0m \u001B[38;5;28;01mif\u001B[39;00m copier \u001B[38;5;129;01mis\u001B[39;00m \u001B[38;5;129;01mnot\u001B[39;00m \u001B[38;5;28;01mNone\u001B[39;00m:\n\u001B[1;32m--> 146\u001B[0m     y \u001B[38;5;241m=\u001B[39m \u001B[43mcopier\u001B[49m\u001B[43m(\u001B[49m\u001B[43mx\u001B[49m\u001B[43m,\u001B[49m\u001B[43m \u001B[49m\u001B[43mmemo\u001B[49m\u001B[43m)\u001B[49m\n\u001B[0;32m    147\u001B[0m \u001B[38;5;28;01melse\u001B[39;00m:\n\u001B[0;32m    148\u001B[0m     \u001B[38;5;28;01mif\u001B[39;00m \u001B[38;5;28missubclass\u001B[39m(\u001B[38;5;28mcls\u001B[39m, \u001B[38;5;28mtype\u001B[39m):\n",
      "File \u001B[1;32m~\\.conda\\envs\\SDV0172\\lib\\copy.py:230\u001B[0m, in \u001B[0;36m_deepcopy_dict\u001B[1;34m(x, memo, deepcopy)\u001B[0m\n\u001B[0;32m    228\u001B[0m memo[\u001B[38;5;28mid\u001B[39m(x)] \u001B[38;5;241m=\u001B[39m y\n\u001B[0;32m    229\u001B[0m \u001B[38;5;28;01mfor\u001B[39;00m key, value \u001B[38;5;129;01min\u001B[39;00m x\u001B[38;5;241m.\u001B[39mitems():\n\u001B[1;32m--> 230\u001B[0m     y[deepcopy(key, memo)] \u001B[38;5;241m=\u001B[39m \u001B[43mdeepcopy\u001B[49m\u001B[43m(\u001B[49m\u001B[43mvalue\u001B[49m\u001B[43m,\u001B[49m\u001B[43m \u001B[49m\u001B[43mmemo\u001B[49m\u001B[43m)\u001B[49m\n\u001B[0;32m    231\u001B[0m \u001B[38;5;28;01mreturn\u001B[39;00m y\n",
      "File \u001B[1;32m~\\.conda\\envs\\SDV0172\\lib\\copy.py:146\u001B[0m, in \u001B[0;36mdeepcopy\u001B[1;34m(x, memo, _nil)\u001B[0m\n\u001B[0;32m    144\u001B[0m copier \u001B[38;5;241m=\u001B[39m _deepcopy_dispatch\u001B[38;5;241m.\u001B[39mget(\u001B[38;5;28mcls\u001B[39m)\n\u001B[0;32m    145\u001B[0m \u001B[38;5;28;01mif\u001B[39;00m copier \u001B[38;5;129;01mis\u001B[39;00m \u001B[38;5;129;01mnot\u001B[39;00m \u001B[38;5;28;01mNone\u001B[39;00m:\n\u001B[1;32m--> 146\u001B[0m     y \u001B[38;5;241m=\u001B[39m \u001B[43mcopier\u001B[49m\u001B[43m(\u001B[49m\u001B[43mx\u001B[49m\u001B[43m,\u001B[49m\u001B[43m \u001B[49m\u001B[43mmemo\u001B[49m\u001B[43m)\u001B[49m\n\u001B[0;32m    147\u001B[0m \u001B[38;5;28;01melse\u001B[39;00m:\n\u001B[0;32m    148\u001B[0m     \u001B[38;5;28;01mif\u001B[39;00m \u001B[38;5;28missubclass\u001B[39m(\u001B[38;5;28mcls\u001B[39m, \u001B[38;5;28mtype\u001B[39m):\n",
      "File \u001B[1;32m~\\.conda\\envs\\SDV0172\\lib\\copy.py:230\u001B[0m, in \u001B[0;36m_deepcopy_dict\u001B[1;34m(x, memo, deepcopy)\u001B[0m\n\u001B[0;32m    228\u001B[0m memo[\u001B[38;5;28mid\u001B[39m(x)] \u001B[38;5;241m=\u001B[39m y\n\u001B[0;32m    229\u001B[0m \u001B[38;5;28;01mfor\u001B[39;00m key, value \u001B[38;5;129;01min\u001B[39;00m x\u001B[38;5;241m.\u001B[39mitems():\n\u001B[1;32m--> 230\u001B[0m     y[deepcopy(key, memo)] \u001B[38;5;241m=\u001B[39m \u001B[43mdeepcopy\u001B[49m\u001B[43m(\u001B[49m\u001B[43mvalue\u001B[49m\u001B[43m,\u001B[49m\u001B[43m \u001B[49m\u001B[43mmemo\u001B[49m\u001B[43m)\u001B[49m\n\u001B[0;32m    231\u001B[0m \u001B[38;5;28;01mreturn\u001B[39;00m y\n",
      "File \u001B[1;32m~\\.conda\\envs\\SDV0172\\lib\\copy.py:146\u001B[0m, in \u001B[0;36mdeepcopy\u001B[1;34m(x, memo, _nil)\u001B[0m\n\u001B[0;32m    144\u001B[0m copier \u001B[38;5;241m=\u001B[39m _deepcopy_dispatch\u001B[38;5;241m.\u001B[39mget(\u001B[38;5;28mcls\u001B[39m)\n\u001B[0;32m    145\u001B[0m \u001B[38;5;28;01mif\u001B[39;00m copier \u001B[38;5;129;01mis\u001B[39;00m \u001B[38;5;129;01mnot\u001B[39;00m \u001B[38;5;28;01mNone\u001B[39;00m:\n\u001B[1;32m--> 146\u001B[0m     y \u001B[38;5;241m=\u001B[39m \u001B[43mcopier\u001B[49m\u001B[43m(\u001B[49m\u001B[43mx\u001B[49m\u001B[43m,\u001B[49m\u001B[43m \u001B[49m\u001B[43mmemo\u001B[49m\u001B[43m)\u001B[49m\n\u001B[0;32m    147\u001B[0m \u001B[38;5;28;01melse\u001B[39;00m:\n\u001B[0;32m    148\u001B[0m     \u001B[38;5;28;01mif\u001B[39;00m \u001B[38;5;28missubclass\u001B[39m(\u001B[38;5;28mcls\u001B[39m, \u001B[38;5;28mtype\u001B[39m):\n",
      "File \u001B[1;32m~\\.conda\\envs\\SDV0172\\lib\\copy.py:210\u001B[0m, in \u001B[0;36m_deepcopy_tuple\u001B[1;34m(x, memo, deepcopy)\u001B[0m\n\u001B[0;32m    209\u001B[0m \u001B[38;5;28;01mdef\u001B[39;00m \u001B[38;5;21m_deepcopy_tuple\u001B[39m(x, memo, deepcopy\u001B[38;5;241m=\u001B[39mdeepcopy):\n\u001B[1;32m--> 210\u001B[0m     y \u001B[38;5;241m=\u001B[39m [deepcopy(a, memo) \u001B[38;5;28;01mfor\u001B[39;00m a \u001B[38;5;129;01min\u001B[39;00m x]\n\u001B[0;32m    211\u001B[0m     \u001B[38;5;66;03m# We're not going to put the tuple in the memo, but it's still important we\u001B[39;00m\n\u001B[0;32m    212\u001B[0m     \u001B[38;5;66;03m# check for it, in case the tuple contains recursive mutable structures.\u001B[39;00m\n\u001B[0;32m    213\u001B[0m     \u001B[38;5;28;01mtry\u001B[39;00m:\n",
      "File \u001B[1;32m~\\.conda\\envs\\SDV0172\\lib\\copy.py:210\u001B[0m, in \u001B[0;36m<listcomp>\u001B[1;34m(.0)\u001B[0m\n\u001B[0;32m    209\u001B[0m \u001B[38;5;28;01mdef\u001B[39;00m \u001B[38;5;21m_deepcopy_tuple\u001B[39m(x, memo, deepcopy\u001B[38;5;241m=\u001B[39mdeepcopy):\n\u001B[1;32m--> 210\u001B[0m     y \u001B[38;5;241m=\u001B[39m [\u001B[43mdeepcopy\u001B[49m\u001B[43m(\u001B[49m\u001B[43ma\u001B[49m\u001B[43m,\u001B[49m\u001B[43m \u001B[49m\u001B[43mmemo\u001B[49m\u001B[43m)\u001B[49m \u001B[38;5;28;01mfor\u001B[39;00m a \u001B[38;5;129;01min\u001B[39;00m x]\n\u001B[0;32m    211\u001B[0m     \u001B[38;5;66;03m# We're not going to put the tuple in the memo, but it's still important we\u001B[39;00m\n\u001B[0;32m    212\u001B[0m     \u001B[38;5;66;03m# check for it, in case the tuple contains recursive mutable structures.\u001B[39;00m\n\u001B[0;32m    213\u001B[0m     \u001B[38;5;28;01mtry\u001B[39;00m:\n",
      "File \u001B[1;32m~\\.conda\\envs\\SDV0172\\lib\\copy.py:138\u001B[0m, in \u001B[0;36mdeepcopy\u001B[1;34m(x, memo, _nil)\u001B[0m\n\u001B[0;32m    135\u001B[0m     memo \u001B[38;5;241m=\u001B[39m {}\n\u001B[0;32m    137\u001B[0m d \u001B[38;5;241m=\u001B[39m \u001B[38;5;28mid\u001B[39m(x)\n\u001B[1;32m--> 138\u001B[0m y \u001B[38;5;241m=\u001B[39m \u001B[43mmemo\u001B[49m\u001B[38;5;241;43m.\u001B[39;49m\u001B[43mget\u001B[49m(d, _nil)\n\u001B[0;32m    139\u001B[0m \u001B[38;5;28;01mif\u001B[39;00m y \u001B[38;5;129;01mis\u001B[39;00m \u001B[38;5;129;01mnot\u001B[39;00m _nil:\n\u001B[0;32m    140\u001B[0m     \u001B[38;5;28;01mreturn\u001B[39;00m y\n",
      "\u001B[1;31mKeyboardInterrupt\u001B[0m: "
     ]
    }
   ],
   "execution_count": 10
  },
  {
   "cell_type": "code",
   "metadata": {
    "attributes": {
     "classes": [
      ""
     ],
     "id": ""
    }
   },
   "source": [
    "model.sample(num_rows=5)"
   ],
   "outputs": [],
   "execution_count": null
  },
  {
   "cell_type": "code",
   "metadata": {
    "attributes": {
     "classes": [
      ""
     ],
     "id": ""
    }
   },
   "source": [
    "data_single = model.sample('Schedule', num_rows=100, sample_children=False)"
   ],
   "outputs": [],
   "execution_count": null
  },
  {
   "cell_type": "code",
   "metadata": {},
   "source": [
    "save_tables({\"Schedule\":data_single}, \"output_single.xlsx\")"
   ],
   "outputs": [],
   "execution_count": null
  },
  {
   "cell_type": "code",
   "metadata": {},
   "source": [
    "#—— 生成Schedule表，并生成关联外键表\n",
    "data_subset = model.sample('Lab', num_rows=100, sample_children=True)"
   ],
   "outputs": [],
   "execution_count": null
  },
  {
   "cell_type": "code",
   "metadata": {},
   "source": [
    "save_tables(data_subset, \"output_subset.xlsx\")"
   ],
   "outputs": [],
   "execution_count": null
  },
  {
   "cell_type": "code",
   "metadata": {},
   "source": [],
   "outputs": [],
   "execution_count": null
  }
 ],
 "metadata": {
  "kernelspec": {
   "display_name": "Python 3 (ipykernel)",
   "language": "python",
   "name": "python3"
  },
  "language_info": {
   "codemirror_mode": {
    "name": "ipython",
    "version": 3
   },
   "file_extension": ".py",
   "mimetype": "text/x-python",
   "name": "python",
   "nbconvert_exporter": "python",
   "pygments_lexer": "ipython3",
   "version": "3.8.19"
  }
 },
 "nbformat": 4,
 "nbformat_minor": 4
}
