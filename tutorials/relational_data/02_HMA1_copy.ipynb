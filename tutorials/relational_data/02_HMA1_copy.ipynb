{
 "cells": [
  {
   "cell_type": "code",
   "execution_count": null,
   "metadata": {
    "ExecuteTime": {
     "end_time": "2024-09-23T08:28:29.697418Z",
     "start_time": "2024-09-23T08:28:26.965292Z"
    },
    "attributes": {
     "classes": [
      ""
     ],
     "id": ""
    }
   },
   "outputs": [],
   "source": [
    "from sdv import Metadata\n",
    "import os\n",
    "\n",
    "print(os.getcwd())\n",
    "from test_20_tables import fetch_data_from_sqlite\n",
    "\n",
    "metadata, tables = fetch_data_from_sqlite()\n",
    "metadata = Metadata(metadata)\n",
    "metadata"
   ]
  },
  {
   "cell_type": "code",
   "execution_count": 5,
   "metadata": {
    "ExecuteTime": {
     "end_time": "2024-09-23T08:28:32.378234Z",
     "start_time": "2024-09-23T08:28:32.359239Z"
    }
   },
   "outputs": [],
   "source": [
    "metadata.to_json(\"1.json\")"
   ]
  },
  {
   "cell_type": "code",
   "execution_count": null,
   "metadata": {
    "ExecuteTime": {
     "end_time": "2024-09-23T08:28:47.442458Z",
     "start_time": "2024-09-23T08:28:33.790095Z"
    },
    "attributes": {
     "classes": [
      ""
     ],
     "id": ""
    }
   },
   "outputs": [],
   "source": [
    "#from sdv.utils import display_tables\n",
    "\n",
    "#display_tables(tables)\n",
    "for name, table in tables.items():\n",
    "    print(name, table.shape)\n",
    "from test_20_tables import save_tables\n",
    "save_tables(tables, \"input.xlsx\")"
   ]
  },
  {
   "cell_type": "code",
   "execution_count": null,
   "metadata": {
    "attributes": {
     "classes": [
      ""
     ],
     "id": ""
    },
    "scrolled": false
   },
   "outputs": [],
   "source": [
    "from sdv.relational import HMA1\n",
    "import sys\n",
    "import warnings\n",
    "warnings.filterwarnings('ignore')\n",
    "#from tutorials.newhma import NewModel as HMA1\n",
    "#from tutorials.redirector import WriteableRedirector\n",
    "\n",
    "#with WriteableRedirector():\n",
    "model = HMA1(metadata)    "
   ]
  },
  {
   "cell_type": "code",
   "execution_count": null,
   "metadata": {},
   "outputs": [],
   "source": [
    "import logging\n",
    "formatter = logging.Formatter('%(asctime)s - %(name)s - %(levelname)s - %(message)s')# Configure stream handler for the cells\n",
    "chandler = logging.StreamHandler()\n",
    "chandler.setLevel(logging.WARNING)\n",
    "chandler.setFormatter(formatter)\n",
    "logging.basicConfig(handlers=[logging.FileHandler('sdv.log'), chandler])\n",
    "logging.log(0, \"1223\")"
   ]
  },
  {
   "cell_type": "code",
   "execution_count": null,
   "metadata": {},
   "outputs": [],
   "source": [
    "print(11)\n",
    "model.fit(tables)"
   ]
  },
  {
   "cell_type": "markdown",
   "metadata": {},
   "source": [
    "3s"
   ]
  },
  {
   "cell_type": "code",
   "execution_count": null,
   "metadata": {
    "attributes": {
     "classes": [
      ""
     ],
     "id": ""
    }
   },
   "outputs": [],
   "source": [
    "new_data = model.sample()\n",
    "new_data"
   ]
  },
  {
   "cell_type": "markdown",
   "metadata": {},
   "source": [
    "8s，很快"
   ]
  },
  {
   "cell_type": "code",
   "execution_count": null,
   "metadata": {},
   "outputs": [],
   "source": [
    "save_tables(new_data)"
   ]
  },
  {
   "cell_type": "code",
   "execution_count": null,
   "metadata": {},
   "outputs": [],
   "source": [
    "for name, table in new_data.items():\n",
    "    print(name, table.shape)"
   ]
  },
  {
   "cell_type": "code",
   "execution_count": null,
   "metadata": {
    "attributes": {
     "classes": [
      ""
     ],
     "id": ""
    }
   },
   "outputs": [],
   "source": [
    "model.save('my_model_10k.pkl')"
   ]
  },
  {
   "cell_type": "code",
   "execution_count": 2,
   "metadata": {},
   "outputs": [],
   "source": [
    "from sdv.relational import HMA1\n",
    "import warnings\n",
    "import pickle\n",
    "warnings.filterwarnings('ignore')\n",
    "loaded: HMA1 = HMA1.load('my_model_10k.pkl')"
   ]
  },
  {
   "cell_type": "code",
   "execution_count": null,
   "metadata": {
    "ExecuteTime": {
     "end_time": "2024-09-23T08:29:12.178484Z",
     "start_time": "2024-09-23T08:28:57.705466Z"
    },
    "attributes": {
     "classes": [
      ""
     ],
     "id": ""
    }
   },
   "outputs": [],
   "source": [
    "new_data = loaded.sample(not_finalized=True)\n",
    "new_data.keys()\n",
    "\n",
    "pickle.dump(new_data, open('my_sample_not_finalized.pkl', 'wb'))"
   ]
  },
  {
   "cell_type": "code",
   "execution_count": 6,
   "metadata": {
    "attributes": {
     "classes": [
      ""
     ],
     "id": ""
    }
   },
   "outputs": [
    {
     "data": {
      "application/vnd.jupyter.widget-view+json": {
       "model_id": "39fab2c1190e4d10b2d76f33fac411be",
       "version_major": 2,
       "version_minor": 0
      },
      "text/plain": [
       "  0%|          | 0/20 [00:00<?, ?it/s]"
      ]
     },
     "metadata": {},
     "output_type": "display_data"
    },
    {
     "data": {
      "application/vnd.jupyter.widget-view+json": {
       "model_id": "46496033e1544dd3b6b3fdd5bc313e95",
       "version_major": 2,
       "version_minor": 0
      },
      "text/plain": [
       "  0%|          | 0/100 [00:00<?, ?it/s]"
      ]
     },
     "metadata": {},
     "output_type": "display_data"
    },
    {
     "data": {
      "application/vnd.jupyter.widget-view+json": {
       "model_id": "f5c6c0e6826e4937a1efa8b4c52c95b8",
       "version_major": 2,
       "version_minor": 0
      },
      "text/plain": [
       "Student Childing:   0%|          | 0/3 [00:00<?, ?it/s]"
      ]
     },
     "metadata": {},
     "output_type": "display_data"
    },
    {
     "data": {
      "application/vnd.jupyter.widget-view+json": {
       "model_id": "555bbffcb6144851ab287c2aa167202e",
       "version_major": 2,
       "version_minor": 0
      },
      "text/plain": [
       "Enrollment:   0%|          | 0/100 [00:00<?, ?it/s]"
      ]
     },
     "metadata": {},
     "output_type": "display_data"
    },
    {
     "data": {
      "application/vnd.jupyter.widget-view+json": {
       "model_id": "cd1d6eca48b74dba8aee3e8b42d9d1f7",
       "version_major": 2,
       "version_minor": 0
      },
      "text/plain": [
       "BookLoan:   0%|          | 0/100 [00:00<?, ?it/s]"
      ]
     },
     "metadata": {},
     "output_type": "display_data"
    },
    {
     "data": {
      "application/vnd.jupyter.widget-view+json": {
       "model_id": "b37b683a9cb144e4a6b389096dcd8664",
       "version_major": 2,
       "version_minor": 0
      },
      "text/plain": [
       "Submission:   0%|          | 0/100 [00:00<?, ?it/s]"
      ]
     },
     "metadata": {},
     "output_type": "display_data"
    },
    {
     "data": {
      "application/vnd.jupyter.widget-view+json": {
       "model_id": "cb5c29ab9cac4803ba1aecfa8adff373",
       "version_major": 2,
       "version_minor": 0
      },
      "text/plain": [
       "  0%|          | 0/100 [00:00<?, ?it/s]"
      ]
     },
     "metadata": {},
     "output_type": "display_data"
    },
    {
     "data": {
      "application/vnd.jupyter.widget-view+json": {
       "model_id": "7bd454a0cc9b475b8215af52e885e389",
       "version_major": 2,
       "version_minor": 0
      },
      "text/plain": [
       "Professor Childing:   0%|          | 0/2 [00:00<?, ?it/s]"
      ]
     },
     "metadata": {},
     "output_type": "display_data"
    },
    {
     "data": {
      "application/vnd.jupyter.widget-view+json": {
       "model_id": "5dc1ae50dba842089be07f50bf3a0023",
       "version_major": 2,
       "version_minor": 0
      },
      "text/plain": [
       "Schedule:   0%|          | 0/100 [00:00<?, ?it/s]"
      ]
     },
     "metadata": {},
     "output_type": "display_data"
    },
    {
     "data": {
      "application/vnd.jupyter.widget-view+json": {
       "model_id": "b581e1e482c2428ab419886cd03e6251",
       "version_major": 2,
       "version_minor": 0
      },
      "text/plain": [
       "ProjectMember:   0%|          | 0/100 [00:00<?, ?it/s]"
      ]
     },
     "metadata": {},
     "output_type": "display_data"
    },
    {
     "data": {
      "application/vnd.jupyter.widget-view+json": {
       "model_id": "5faae07321604887b5acefff4c8d6020",
       "version_major": 2,
       "version_minor": 0
      },
      "text/plain": [
       "  0%|          | 0/100 [00:00<?, ?it/s]"
      ]
     },
     "metadata": {},
     "output_type": "display_data"
    },
    {
     "data": {
      "application/vnd.jupyter.widget-view+json": {
       "model_id": "f8ab55834dec43e79d059060e09ba054",
       "version_major": 2,
       "version_minor": 0
      },
      "text/plain": [
       "Course Childing:   0%|          | 0/4 [00:00<?, ?it/s]"
      ]
     },
     "metadata": {},
     "output_type": "display_data"
    },
    {
     "data": {
      "application/vnd.jupyter.widget-view+json": {
       "model_id": "39fadee7134b403eaa749967fba1648d",
       "version_major": 2,
       "version_minor": 0
      },
      "text/plain": [
       "CourseTextbook:   0%|          | 0/100 [00:00<?, ?it/s]"
      ]
     },
     "metadata": {},
     "output_type": "display_data"
    },
    {
     "data": {
      "application/vnd.jupyter.widget-view+json": {
       "model_id": "49be2f4df3f54aeaa6cb7e4130e75222",
       "version_major": 2,
       "version_minor": 0
      },
      "text/plain": [
       "Assignment:   0%|          | 0/100 [00:00<?, ?it/s]"
      ]
     },
     "metadata": {},
     "output_type": "display_data"
    },
    {
     "data": {
      "application/vnd.jupyter.widget-view+json": {
       "model_id": "cce602a116734f949aa73cc625dbdd5a",
       "version_major": 2,
       "version_minor": 0
      },
      "text/plain": [
       "Assignment Childing:   0%|          | 0/1 [00:00<?, ?it/s]"
      ]
     },
     "metadata": {},
     "output_type": "display_data"
    },
    {
     "data": {
      "application/vnd.jupyter.widget-view+json": {
       "model_id": "ecca60806c444a6ab569827bad69794c",
       "version_major": 2,
       "version_minor": 0
      },
      "text/plain": [
       "  0%|          | 0/100 [00:00<?, ?it/s]"
      ]
     },
     "metadata": {},
     "output_type": "display_data"
    },
    {
     "data": {
      "application/vnd.jupyter.widget-view+json": {
       "model_id": "3511c39598934021b4d6a54e3b763a8c",
       "version_major": 2,
       "version_minor": 0
      },
      "text/plain": [
       "Department Childing:   0%|          | 0/1 [00:00<?, ?it/s]"
      ]
     },
     "metadata": {},
     "output_type": "display_data"
    },
    {
     "data": {
      "application/vnd.jupyter.widget-view+json": {
       "model_id": "53fe2a0d97934910b6c9776fb37f5db0",
       "version_major": 2,
       "version_minor": 0
      },
      "text/plain": [
       "Major:   0%|          | 0/100 [00:00<?, ?it/s]"
      ]
     },
     "metadata": {},
     "output_type": "display_data"
    },
    {
     "data": {
      "application/vnd.jupyter.widget-view+json": {
       "model_id": "6bd3a047fb004c6690be90e3a9f8f3e5",
       "version_major": 2,
       "version_minor": 0
      },
      "text/plain": [
       "  0%|          | 0/100 [00:00<?, ?it/s]"
      ]
     },
     "metadata": {},
     "output_type": "display_data"
    },
    {
     "data": {
      "application/vnd.jupyter.widget-view+json": {
       "model_id": "f452782fe8f24fe7bcd82f6dc39b1c90",
       "version_major": 2,
       "version_minor": 0
      },
      "text/plain": [
       "Textbook Childing:   0%|          | 0/1 [00:00<?, ?it/s]"
      ]
     },
     "metadata": {},
     "output_type": "display_data"
    },
    {
     "data": {
      "application/vnd.jupyter.widget-view+json": {
       "model_id": "83fd90fbb7054778a3e123f3ce4b7f35",
       "version_major": 2,
       "version_minor": 0
      },
      "text/plain": [
       "  0%|          | 0/100 [00:00<?, ?it/s]"
      ]
     },
     "metadata": {},
     "output_type": "display_data"
    },
    {
     "data": {
      "application/vnd.jupyter.widget-view+json": {
       "model_id": "0f9c3d96aaaa476ba9a190ccb82eb3b7",
       "version_major": 2,
       "version_minor": 0
      },
      "text/plain": [
       "Library Childing:   0%|          | 0/1 [00:00<?, ?it/s]"
      ]
     },
     "metadata": {},
     "output_type": "display_data"
    },
    {
     "data": {
      "application/vnd.jupyter.widget-view+json": {
       "model_id": "85dae8150d014b9abe87a384c57641d7",
       "version_major": 2,
       "version_minor": 0
      },
      "text/plain": [
       "Book:   0%|          | 0/100 [00:00<?, ?it/s]"
      ]
     },
     "metadata": {},
     "output_type": "display_data"
    },
    {
     "data": {
      "application/vnd.jupyter.widget-view+json": {
       "model_id": "2984e5561cca4151ab0deeab42fa5284",
       "version_major": 2,
       "version_minor": 0
      },
      "text/plain": [
       "Book Childing:   0%|          | 0/1 [00:00<?, ?it/s]"
      ]
     },
     "metadata": {},
     "output_type": "display_data"
    },
    {
     "data": {
      "application/vnd.jupyter.widget-view+json": {
       "model_id": "3112a06bff184c85b1b5d81063575296",
       "version_major": 2,
       "version_minor": 0
      },
      "text/plain": [
       "  0%|          | 0/100 [00:00<?, ?it/s]"
      ]
     },
     "metadata": {},
     "output_type": "display_data"
    },
    {
     "data": {
      "application/vnd.jupyter.widget-view+json": {
       "model_id": "b85bec9e522e4d86b87b4b999610bf03",
       "version_major": 2,
       "version_minor": 0
      },
      "text/plain": [
       "ResearchGroup Childing:   0%|          | 0/1 [00:00<?, ?it/s]"
      ]
     },
     "metadata": {},
     "output_type": "display_data"
    },
    {
     "data": {
      "application/vnd.jupyter.widget-view+json": {
       "model_id": "5108ffe303f54347b74ca9c8d66d2660",
       "version_major": 2,
       "version_minor": 0
      },
      "text/plain": [
       "ResearchProject:   0%|          | 0/100 [00:00<?, ?it/s]"
      ]
     },
     "metadata": {},
     "output_type": "display_data"
    },
    {
     "data": {
      "application/vnd.jupyter.widget-view+json": {
       "model_id": "d61f8c35a0514f9c88a642b6a14f23dc",
       "version_major": 2,
       "version_minor": 0
      },
      "text/plain": [
       "ResearchProject Childing:   0%|          | 0/1 [00:00<?, ?it/s]"
      ]
     },
     "metadata": {},
     "output_type": "display_data"
    },
    {
     "data": {
      "application/vnd.jupyter.widget-view+json": {
       "model_id": "111ab126f4234075a167cebec6696132",
       "version_major": 2,
       "version_minor": 0
      },
      "text/plain": [
       "  0%|          | 0/100 [00:00<?, ?it/s]"
      ]
     },
     "metadata": {},
     "output_type": "display_data"
    },
    {
     "data": {
      "application/vnd.jupyter.widget-view+json": {
       "model_id": "92e8d78e629e47f8b7de1c240692ea3c",
       "version_major": 2,
       "version_minor": 0
      },
      "text/plain": [
       "Lab Childing:   0%|          | 0/1 [00:00<?, ?it/s]"
      ]
     },
     "metadata": {},
     "output_type": "display_data"
    },
    {
     "data": {
      "application/vnd.jupyter.widget-view+json": {
       "model_id": "5d720186ae224577bba2cd472d024c88",
       "version_major": 2,
       "version_minor": 0
      },
      "text/plain": [
       "LabEquipment:   0%|          | 0/100 [00:00<?, ?it/s]"
      ]
     },
     "metadata": {},
     "output_type": "display_data"
    },
    {
     "data": {
      "application/vnd.jupyter.widget-view+json": {
       "model_id": "851b6b18a5d843b2b76b25a6b31febb4",
       "version_major": 2,
       "version_minor": 0
      },
      "text/plain": [
       "LabEquipment Childing:   0%|          | 0/1 [00:00<?, ?it/s]"
      ]
     },
     "metadata": {},
     "output_type": "display_data"
    },
    {
     "data": {
      "application/vnd.jupyter.widget-view+json": {
       "model_id": "07221cbcb92545c298946a6db161034d",
       "version_major": 2,
       "version_minor": 0
      },
      "text/plain": [
       "EquipmentMaintenance:   0%|          | 0/100 [00:00<?, ?it/s]"
      ]
     },
     "metadata": {},
     "output_type": "display_data"
    }
   ],
   "source": [
    "model = loaded\n",
    "data_not_finalized = model.sample(num_rows=100, not_finalized=True)"
   ]
  },
  {
   "cell_type": "code",
   "execution_count": 8,
   "metadata": {},
   "outputs": [],
   "source": [
    "pickle.dump(data_not_finalized, open('data_not_finalized_1k.pkl', 'wb'))"
   ]
  },
  {
   "cell_type": "code",
   "execution_count": 3,
   "metadata": {},
   "outputs": [],
   "source": [
    "data_not_finalized = pickle.load(open('data_not_finalized_1k.pkl', 'rb') )"
   ]
  },
  {
   "cell_type": "code",
   "execution_count": 2,
   "metadata": {},
   "outputs": [],
   "source": [
    "data_not_finalized = pickle.load(open('my_sample_not_finalized.pkl', 'rb') )"
   ]
  },
  {
   "cell_type": "code",
   "execution_count": 7,
   "metadata": {},
   "outputs": [
    {
     "data": {
      "application/vnd.jupyter.widget-view+json": {
       "model_id": "2ebf2d3169244526a19a15fd70ae6a0d",
       "version_major": 2,
       "version_minor": 0
      },
      "text/plain": [
       "  0%|          | 0/20 [00:00<?, ?it/s]"
      ]
     },
     "metadata": {},
     "output_type": "display_data"
    },
    {
     "data": {
      "application/vnd.jupyter.widget-view+json": {
       "model_id": "c1cbfffa16b04ecfa9b37b3fdb963e1e",
       "version_major": 2,
       "version_minor": 0
      },
      "text/plain": [
       "Enrollment:   0%|          | 0/2 [00:00<?, ?it/s]"
      ]
     },
     "metadata": {},
     "output_type": "display_data"
    },
    {
     "data": {
      "application/vnd.jupyter.widget-view+json": {
       "model_id": "197b710cdf6949dd81b39bdc37fbb3d3",
       "version_major": 2,
       "version_minor": 0
      },
      "text/plain": [
       "Enrollment course_id Likelihoods:   0%|          | 0/100 [00:00<?, ?it/s]"
      ]
     },
     "metadata": {},
     "output_type": "display_data"
    },
    {
     "data": {
      "application/vnd.jupyter.widget-view+json": {
       "model_id": "437f288d3fd34758b6a6445996f4766f",
       "version_major": 2,
       "version_minor": 0
      },
      "text/plain": [
       "BookLoan:   0%|          | 0/2 [00:00<?, ?it/s]"
      ]
     },
     "metadata": {},
     "output_type": "display_data"
    },
    {
     "data": {
      "application/vnd.jupyter.widget-view+json": {
       "model_id": "8d1d427eb5fa4b9ca667526e724d9a26",
       "version_major": 2,
       "version_minor": 0
      },
      "text/plain": [
       "BookLoan book_id Likelihoods:   0%|          | 0/100 [00:00<?, ?it/s]"
      ]
     },
     "metadata": {},
     "output_type": "display_data"
    },
    {
     "data": {
      "application/vnd.jupyter.widget-view+json": {
       "model_id": "f92c6d7776944c119cb52ae7c1d0107e",
       "version_major": 2,
       "version_minor": 0
      },
      "text/plain": [
       "Submission:   0%|          | 0/2 [00:00<?, ?it/s]"
      ]
     },
     "metadata": {},
     "output_type": "display_data"
    },
    {
     "data": {
      "application/vnd.jupyter.widget-view+json": {
       "model_id": "918b76a34fd34510aeda9997ccfd84f4",
       "version_major": 2,
       "version_minor": 0
      },
      "text/plain": [
       "Submission assignment_id Likelihoods:   0%|          | 0/116 [00:00<?, ?it/s]"
      ]
     },
     "metadata": {},
     "output_type": "display_data"
    },
    {
     "data": {
      "application/vnd.jupyter.widget-view+json": {
       "model_id": "e30224c035c24ae1aa0cbf2a0a960edf",
       "version_major": 2,
       "version_minor": 0
      },
      "text/plain": [
       "Schedule:   0%|          | 0/2 [00:00<?, ?it/s]"
      ]
     },
     "metadata": {},
     "output_type": "display_data"
    },
    {
     "data": {
      "application/vnd.jupyter.widget-view+json": {
       "model_id": "8e021bc38b8542c0aa460d438660b61f",
       "version_major": 2,
       "version_minor": 0
      },
      "text/plain": [
       "Schedule course_id Likelihoods:   0%|          | 0/100 [00:00<?, ?it/s]"
      ]
     },
     "metadata": {},
     "output_type": "display_data"
    },
    {
     "data": {
      "application/vnd.jupyter.widget-view+json": {
       "model_id": "ffe1c5ebf9014d659a63829a4d15b0d7",
       "version_major": 2,
       "version_minor": 0
      },
      "text/plain": [
       "ProjectMember:   0%|          | 0/2 [00:00<?, ?it/s]"
      ]
     },
     "metadata": {},
     "output_type": "display_data"
    },
    {
     "data": {
      "application/vnd.jupyter.widget-view+json": {
       "model_id": "1f355d2fbcdb442da39551bb4c12ed33",
       "version_major": 2,
       "version_minor": 0
      },
      "text/plain": [
       "CourseTextbook:   0%|          | 0/2 [00:00<?, ?it/s]"
      ]
     },
     "metadata": {},
     "output_type": "display_data"
    },
    {
     "data": {
      "application/vnd.jupyter.widget-view+json": {
       "model_id": "be92a00546e044a3a30021549d4cf023",
       "version_major": 2,
       "version_minor": 0
      },
      "text/plain": [
       "CourseTextbook textbook_id Likelihoods:   0%|          | 0/100 [00:00<?, ?it/s]"
      ]
     },
     "metadata": {},
     "output_type": "display_data"
    },
    {
     "data": {
      "text/plain": [
       "{'Student':     student_id                name                      email date_of_birth  \\\n",
       " 0        10000      Brittany Nunez       nicole36@example.org    2000-08-18   \n",
       " 1        10001  Christopher Kelley   matthewgross@example.net    1997-01-01   \n",
       " 2        10002      Bryan Mckenzie     nicholas31@example.net    2004-01-23   \n",
       " 3        10003     Miranda Miranda   meyersashley@example.org    2005-11-12   \n",
       " 4        10004           Amy Olsen          epena@example.net    1997-03-20   \n",
       " ..         ...                 ...                        ...           ...   \n",
       " 95       10095   Christopher Floyd  collinsdonald@example.org    2003-11-01   \n",
       " 96       10096      Julie Gonzales  michelebryant@example.net    1996-06-07   \n",
       " 97       10097        Scott Thomas    houseamanda@example.net    2003-04-07   \n",
       " 98       10098     Sharon Whitaker       joseph04@example.org    2005-07-17   \n",
       " 99       10099          Brian Leon      michael52@example.com    2004-01-23   \n",
       " \n",
       "    major  \n",
       " 0   5661  \n",
       " 1   2023  \n",
       " 2    582  \n",
       " 3   1094  \n",
       " 4   5795  \n",
       " ..   ...  \n",
       " 95  7823  \n",
       " 96  2370  \n",
       " 97  6423  \n",
       " 98  2562  \n",
       " 99  7176  \n",
       " \n",
       " [100 rows x 5 columns],\n",
       " 'Enrollment':      enrollment_id  student_id  course_id     semester grade\n",
       " 0            10994       10001        160  Winter 2023     A\n",
       " 1            10995       10001        144  Winter 2023     A\n",
       " 2            10996       10001        150  Winter 2023     A\n",
       " 3            10997       10002        151  Winter 2023     A\n",
       " 4            10998       10003        139  Spring 2021     F\n",
       " ..             ...         ...        ...          ...   ...\n",
       " 97           11091       10098        104  Spring 2021     A\n",
       " 98           11092       10099        107  Spring 2021     F\n",
       " 99           11093       10099        158  Spring 2021     F\n",
       " 100          11094       10099        110  Spring 2021     F\n",
       " 101          11095       10099        194  Spring 2021     F\n",
       " \n",
       " [102 rows x 5 columns],\n",
       " 'BookLoan':     loan_id  book_id  student_id   loan_date return_date\n",
       " 0     10652       48       10000  2024-04-11  2025-06-28\n",
       " 1     10653       16       10001  2024-02-26  2024-10-26\n",
       " 2     10654       32       10002  2024-04-11  2024-10-26\n",
       " 3     10655       37       10003  2024-04-11  2024-10-26\n",
       " 4     10656       69       10004  2024-02-26  2025-06-28\n",
       " ..      ...      ...         ...         ...         ...\n",
       " 92    10744        0       10096  2024-02-26  2025-06-28\n",
       " 93    10745       13       10098  2024-04-11  2024-10-26\n",
       " 94    10746       96       10098  2024-04-11  2024-10-26\n",
       " 95    10747       76       10099  2024-02-26  2024-10-26\n",
       " 96    10748       48       10099  2024-02-26  2024-10-26\n",
       " \n",
       " [97 rows x 5 columns],\n",
       " 'Submission':      submission_id  assignment_id  student_id      submission_date grade\n",
       " 0            11879             88       10000  2022-01-28 10:13:30     D\n",
       " 1            11880              8       10001  2022-08-16 17:19:46     D\n",
       " 2            11881            100       10001  2022-08-16 17:19:46     D\n",
       " 3            11882             19       10004  2022-01-28 10:13:30     A\n",
       " 4            11883             61       10006  2022-08-16 17:19:46     D\n",
       " ..             ...            ...         ...                  ...   ...\n",
       " 111          11990              9       10097  2022-01-28 10:13:30     D\n",
       " 112          11991             43       10097  2022-01-28 10:13:30     D\n",
       " 113          11992             35       10098  2022-01-28 10:13:30     A\n",
       " 114          11993             60       10098  2022-01-28 10:13:30     A\n",
       " 115          11994            107       10099  2022-08-16 17:19:46     D\n",
       " \n",
       " [116 rows x 5 columns],\n",
       " 'Professor':     professor_id              name                        email department\n",
       " 0          10100  Brenda Zimmerman   garciamichelle@example.org       7447\n",
       " 1          10101     Gloria Steele          xlarson@example.org       7682\n",
       " 2          10102      Andrea Doyle       suemcbride@example.net       9777\n",
       " 3          10103      Steve Walton      shelbyroman@example.net       2316\n",
       " 4          10104      Keith Rivera            yhood@example.org       5929\n",
       " ..           ...               ...                          ...        ...\n",
       " 95         10195     Chelsey Brown        stanley20@example.org       3984\n",
       " 96         10196        Julie Lynn     camposstacey@example.com         53\n",
       " 97         10197     Breanna Mckee      rioscharles@example.com       8746\n",
       " 98         10198  Steven Nicholson       graydaniel@example.org       5389\n",
       " 99         10199     John Cummings  campbellkenneth@example.org       8974\n",
       " \n",
       " [100 rows x 4 columns],\n",
       " 'Schedule':     schedule_id  course_id  professor_id  room time_slot\n",
       " 0           323        181         10101   437  22:20:45\n",
       " 1           324        102         10103  8695  06:24:17\n",
       " 2           325        134         10104  8695  06:24:17\n",
       " 3           326        142         10104  8695  06:24:17\n",
       " 4           327        140         10104  8695  06:24:17\n",
       " ..          ...        ...           ...   ...       ...\n",
       " 73          396        109         10194  8695  22:20:45\n",
       " 74          397        135         10195   437  06:24:17\n",
       " 75          398        165         10195   437  06:24:17\n",
       " 76          399        100         10196  8695  22:20:45\n",
       " 77          400        109         10198   437  06:24:17\n",
       " \n",
       " [78 rows x 5 columns],\n",
       " 'ProjectMember':     project_id  professor_id\n",
       " 0            0         10101\n",
       " 1            1         10103\n",
       " 2            2         10104\n",
       " 3            3         10104\n",
       " 4            4         10104\n",
       " ..         ...           ...\n",
       " 73          73         10194\n",
       " 74          74         10195\n",
       " 75          75         10195\n",
       " 76          76         10196\n",
       " 77          77         10198\n",
       " \n",
       " [78 rows x 2 columns],\n",
       " 'Course':     course_id                      title credits department\n",
       " 0         100         Break major wrong.       3       6549\n",
       " 1         101          Next travel have.       2       3888\n",
       " 2         102         Card state amount.       4       3800\n",
       " 3         103                Score hard.       2       8865\n",
       " 4         104                Ever price.       2       9560\n",
       " ..        ...                        ...     ...        ...\n",
       " 95        195      Rule interview quite.       3       8745\n",
       " 96        196         Season child nice.       2       7192\n",
       " 97        197              Pm bill note.       4       1996\n",
       " 98        198  Fine discover view worry.       4        811\n",
       " 99        199  Fine discover view worry.       1       4148\n",
       " \n",
       " [100 rows x 4 columns],\n",
       " 'CourseTextbook':      course_id  textbook_id\n",
       " 0          100           45\n",
       " 1          101           91\n",
       " 2          101            0\n",
       " 3          102           56\n",
       " 4          103           71\n",
       " ..         ...          ...\n",
       " 111        193           30\n",
       " 112        193           20\n",
       " 113        195           96\n",
       " 114        195           62\n",
       " 115        198           27\n",
       " \n",
       " [116 rows x 2 columns],\n",
       " 'Assignment':      assignment_id  course_id                         title    due_date\n",
       " 0                0        100                 Foreign hear.  2025-01-20\n",
       " 1                1        101  Here stay picture free fear.  2025-01-20\n",
       " 2                2        101  Here stay picture free fear.  2025-01-20\n",
       " 3                3        102                 Foreign hear.  2025-01-20\n",
       " 4                4        103                 Foreign hear.  2025-01-20\n",
       " ..             ...        ...                           ...         ...\n",
       " 111            111        193  Here stay picture free fear.  2024-10-03\n",
       " 112            112        193  Here stay picture free fear.  2024-10-03\n",
       " 113            113        195                 Foreign hear.  2025-01-20\n",
       " 114            114        195                 Foreign hear.  2025-01-20\n",
       " 115            115        198                 Foreign hear.  2025-01-20\n",
       " \n",
       " [116 rows x 4 columns],\n",
       " 'Department':     department_id                name         building\n",
       " 0               0   Method Department     Marcus Route\n",
       " 1               1     Step Department   Patricia Locks\n",
       " 2               2     Race Department     Reeves Hills\n",
       " 3               3     Wide Department     Daniel Field\n",
       " 4               4  Program Department  Martinez Knolls\n",
       " ..            ...                 ...              ...\n",
       " 95             95       So Department   Gray Crossroad\n",
       " 96             96  Himself Department      Nunez Mills\n",
       " 97             97   Around Department   Jennifer Roads\n",
       " 98             98     Page Department    Cameron Alley\n",
       " 99             99     Your Department     Walker Knoll\n",
       " \n",
       " [100 rows x 3 columns],\n",
       " 'Major':      major_id         name  department_id\n",
       " 0           0  Child Major              0\n",
       " 1           1  Child Major              0\n",
       " 2           2  Child Major              1\n",
       " 3           3  Child Major              1\n",
       " 4           4  Child Major              1\n",
       " ..        ...          ...            ...\n",
       " 114       114  Child Major             95\n",
       " 115       115    Bit Major             96\n",
       " 116       116    Bit Major             97\n",
       " 117       117    Bit Major             97\n",
       " 118       118    Bit Major             99\n",
       " \n",
       " [119 rows x 3 columns],\n",
       " 'Textbook':     textbook_id                   title            author               isbn\n",
       " 0             0  All join others night.     Rebecca Booth  978-0-330-66383-0\n",
       " 1             1             They great.      Peggy Valdez  978-0-7710-6778-5\n",
       " 2             2        Toward positive.  Rebecca Crawford  978-0-574-01495-5\n",
       " 3             3            Too brother.       Erika Allen  978-1-80456-709-8\n",
       " 4             4        Bed draw center.      Joyce Bowman  978-0-10-267548-1\n",
       " ..          ...                     ...               ...                ...\n",
       " 95           95           Compare join.        Misty Rice  978-0-04-444089-5\n",
       " 96           96       Project employee.    Lisa Mcfarland  978-1-7369626-9-5\n",
       " 97           97       Main age measure.      Martin Berry  978-0-11-088055-6\n",
       " 98           98                  Among.     Jimmy Fischer  978-1-85413-961-0\n",
       " 99           99               Magazine.     Michaela Hahn  978-1-85842-233-6\n",
       " \n",
       " [100 rows x 4 columns],\n",
       " 'Library':     library_id                                   name  \\\n",
       " 0            0               Deleon-Rodriguez Library   \n",
       " 1            1                     Wood-Moore Library   \n",
       " 2            2               Glenn-Mclaughlin Library   \n",
       " 3            3                      Ray-Burns Library   \n",
       " 4            4               Glenn-Mclaughlin Library   \n",
       " ..         ...                                    ...   \n",
       " 95          95                  Foster-Thomas Library   \n",
       " 96          96  Mccormick, Blevins and Parker Library   \n",
       " 97          97                     Castro LLC Library   \n",
       " 98          98     Mendoza, Brandt and Santos Library   \n",
       " 99          99                     Rogers PLC Library   \n",
       " \n",
       "                                              location  \n",
       " 0   532 Harris Roads Suite 895\\nNorth Robinburgh, ...  \n",
       " 1   17911 Peters Station Suite 178\\nWardstad, NM 6...  \n",
       " 2             677 Amber Bypass\\nSouth Katie, IA 79778  \n",
       " 3                3227 Jacob Ports\\nReedside, MN 26754  \n",
       " 4                          USS Anderson\\nFPO AE 11071  \n",
       " ..                                                ...  \n",
       " 95  08953 Alexander Fords Suite 678\\nNorth Austin,...  \n",
       " 96                   PSC 1336, Box 5103\\nAPO AA 07850  \n",
       " 97  87887 Ashley Estate Apt. 661\\nEast Donnafurt, ...  \n",
       " 98  79848 Ortiz Spur Suite 340\\nNorth Heather, SD ...  \n",
       " 99  3725 Nicole Islands Apt. 652\\nChristopherville...  \n",
       " \n",
       " [100 rows x 3 columns],\n",
       " 'Book':     book_id                title         author               isbn  library_id\n",
       " 0         0                 One.     John Smith  978-1-4017-1762-9           0\n",
       " 1         1                 One.     John Smith  978-1-4017-1762-9           1\n",
       " 2         2  Water clearly kind.  Mason Herrera  978-1-359-78435-3           2\n",
       " 3         3                 One.     John Smith  978-1-4017-1762-9           3\n",
       " 4         4  Water clearly kind.  Mason Herrera  978-1-359-78435-3           4\n",
       " ..      ...                  ...            ...                ...         ...\n",
       " 95       95  Water clearly kind.     John Smith  978-1-359-78435-3          95\n",
       " 96       96                 One.     John Smith  978-1-4017-1762-9          96\n",
       " 97       97                 One.     John Smith  978-1-4017-1762-9          97\n",
       " 98       98  Water clearly kind.     John Smith  978-1-359-78435-3          98\n",
       " 99       99                 One.     John Smith  978-1-4017-1762-9          99\n",
       " \n",
       " [100 rows x 5 columns],\n",
       " 'ResearchGroup':     group_id                 name               focus_area\n",
       " 0          0     Support Research             Yeah decide.\n",
       " 1          1  Discussion Research      Near chance threat.\n",
       " 2          2       Later Research     Across soldier nice.\n",
       " 3          3      People Research  Beautiful single value.\n",
       " 4          4       Issue Research      Opportunity speech.\n",
       " ..       ...                  ...                      ...\n",
       " 95        95      Region Research            Mouth arrive.\n",
       " 96        96        Type Research       Financial message.\n",
       " 97        97     Mission Research         Under financial.\n",
       " 98        98       Right Research         Major they hope.\n",
       " 99        99  Understand Research      Edge letter author.\n",
       " \n",
       " [100 rows x 3 columns],\n",
       " 'ResearchProject':     project_id          title  group_id  start_date    end_date\n",
       " 0            0           She.         0  2024-02-08  2024-12-01\n",
       " 1            1  Land himself.         1  2024-02-08  2025-02-10\n",
       " 2            2  Land himself.         2  2023-11-12  2025-02-10\n",
       " 3            3           She.         3  2023-11-12  2024-12-01\n",
       " 4            4  Land himself.         4  2023-11-12  2024-12-01\n",
       " ..         ...            ...       ...         ...         ...\n",
       " 95          95  Land himself.        95  2024-02-08  2025-02-10\n",
       " 96          96           She.        96  2023-11-12  2025-02-10\n",
       " 97          97  Land himself.        97  2023-11-12  2025-02-10\n",
       " 98          98           She.        98  2024-02-08  2025-02-10\n",
       " 99          99           She.        99  2024-02-08  2024-12-01\n",
       " \n",
       " [100 rows x 5 columns],\n",
       " 'Lab':     lab_id                               name building\n",
       " 0        0         Jackson, Lowe and Diaz Lab    56253\n",
       " 1        1                       Dunn LLC Lab      588\n",
       " 2        2            King, May and Smith Lab    24488\n",
       " 3        3  Sanders, Robinson and Walters Lab      329\n",
       " 4        4                 Bradley-Harris Lab    53838\n",
       " ..     ...                                ...      ...\n",
       " 95      95      Conrad, Briggs and Morris Lab     1293\n",
       " 96      96                    Smith Group Lab     1069\n",
       " 97      97        Miller, Brady and Walls Lab    50607\n",
       " 98      98                  Johnson-White Lab      228\n",
       " 99      99    Carrillo, Bray and Thornton Lab     3817\n",
       " \n",
       " [100 rows x 3 columns],\n",
       " 'LabEquipment':     equipment_id              name  lab_id\n",
       " 0              0  Region Equipment       0\n",
       " 1              1   Story Equipment       1\n",
       " 2              2  Region Equipment       2\n",
       " 3              3  Region Equipment       3\n",
       " 4              4  Region Equipment       4\n",
       " ..           ...               ...     ...\n",
       " 95            95   Story Equipment      95\n",
       " 96            96   Story Equipment      96\n",
       " 97            97   Story Equipment      97\n",
       " 98            98   Story Equipment      98\n",
       " 99            99  Region Equipment      99\n",
       " \n",
       " [100 rows x 3 columns],\n",
       " 'EquipmentMaintenance':     maintenance_id  equipment_id        date  \\\n",
       " 0                0             0  2024-07-13   \n",
       " 1                1             1  2024-07-28   \n",
       " 2                2             2  2024-07-13   \n",
       " 3                3             3  2024-07-28   \n",
       " 4                4             4  2024-07-28   \n",
       " ..             ...           ...         ...   \n",
       " 95              95            95  2024-07-28   \n",
       " 96              96            96  2024-07-13   \n",
       " 97              97            97  2024-07-13   \n",
       " 98              98            98  2024-07-28   \n",
       " 99              99            99  2024-07-28   \n",
       " \n",
       "                                       details  \n",
       " 0   Few after soon every star end white hand.  \n",
       " 1        Take degree answer politics present.  \n",
       " 2        Take degree answer politics present.  \n",
       " 3   Few after soon every star end white hand.  \n",
       " 4        Take degree answer politics present.  \n",
       " ..                                        ...  \n",
       " 95  Few after soon every star end white hand.  \n",
       " 96  Few after soon every star end white hand.  \n",
       " 97       Take degree answer politics present.  \n",
       " 98  Few after soon every star end white hand.  \n",
       " 99       Take degree answer politics present.  \n",
       " \n",
       " [100 rows x 4 columns]}"
      ]
     },
     "execution_count": 7,
     "metadata": {},
     "output_type": "execute_result"
    }
   ],
   "source": [
    "model = loaded\n",
    "model.finalize(data_not_finalized)"
   ]
  },
  {
   "cell_type": "code",
   "execution_count": 5,
   "metadata": {
    "attributes": {
     "classes": [
      ""
     ],
     "id": ""
    }
   },
   "outputs": [
    {
     "data": {
      "application/vnd.jupyter.widget-view+json": {
       "model_id": "6f15cd710e3044c5ba9e3275a3b7fb66",
       "version_major": 2,
       "version_minor": 0
      },
      "text/plain": [
       "  0%|          | 0/100 [00:00<?, ?it/s]"
      ]
     },
     "metadata": {},
     "output_type": "display_data"
    },
    {
     "data": {
      "application/vnd.jupyter.widget-view+json": {
       "model_id": "0cae6a8f89a44edcad726dad43f8440a",
       "version_major": 2,
       "version_minor": 0
      },
      "text/plain": [
       "  0%|          | 0/1 [00:00<?, ?it/s]"
      ]
     },
     "metadata": {},
     "output_type": "display_data"
    },
    {
     "data": {
      "application/vnd.jupyter.widget-view+json": {
       "model_id": "e1f05977b04c46b8a9f14e61cff1dc6f",
       "version_major": 2,
       "version_minor": 0
      },
      "text/plain": [
       "Schedule:   0%|          | 0/2 [00:00<?, ?it/s]"
      ]
     },
     "metadata": {},
     "output_type": "display_data"
    },
    {
     "name": "stdout",
     "output_type": "stream",
     "text": [
      "100\n"
     ]
    },
    {
     "data": {
      "application/vnd.jupyter.widget-view+json": {
       "model_id": "2a01a5adc46d466ea5bf3be0d7a6b496",
       "version_major": 2,
       "version_minor": 0
      },
      "text/plain": [
       "  0%|          | 0/100 [00:00<?, ?it/s]"
      ]
     },
     "metadata": {},
     "output_type": "display_data"
    },
    {
     "data": {
      "application/vnd.jupyter.widget-view+json": {
       "model_id": "6a33ebccbd714566b288fbaeac9c44ca",
       "version_major": 2,
       "version_minor": 0
      },
      "text/plain": [
       "Schedule course_id Likelihoods:   0%|          | 0/100 [00:00<?, ?it/s]"
      ]
     },
     "metadata": {},
     "output_type": "display_data"
    },
    {
     "name": "stdout",
     "output_type": "stream",
     "text": [
      "100\n"
     ]
    },
    {
     "data": {
      "application/vnd.jupyter.widget-view+json": {
       "model_id": "55d69a38894f4ac9a8d0dbf4a6f13ea2",
       "version_major": 2,
       "version_minor": 0
      },
      "text/plain": [
       "  0%|          | 0/100 [00:00<?, ?it/s]"
      ]
     },
     "metadata": {},
     "output_type": "display_data"
    },
    {
     "data": {
      "application/vnd.jupyter.widget-view+json": {
       "model_id": "029020cb8b104848b5937e0e5dcd27fc",
       "version_major": 2,
       "version_minor": 0
      },
      "text/plain": [
       "Schedule professor_id Likelihoods:   0%|          | 0/100 [00:00<?, ?it/s]"
      ]
     },
     "metadata": {},
     "output_type": "display_data"
    }
   ],
   "source": [
    "data_single = model.sample('Schedule', num_rows=100, sample_children=False)"
   ]
  },
  {
   "cell_type": "code",
   "execution_count": null,
   "metadata": {},
   "outputs": [],
   "source": [
    "save_tables({\"Schedule\":data_single}, \"output_single.xlsx\")"
   ]
  },
  {
   "cell_type": "code",
   "execution_count": null,
   "metadata": {},
   "outputs": [],
   "source": [
    "#—— 生成Schedule表，并生成关联外键表\n",
    "data_subset = model.sample('Lab', num_rows=100, sample_children=True)"
   ]
  },
  {
   "cell_type": "code",
   "execution_count": null,
   "metadata": {},
   "outputs": [],
   "source": [
    "save_tables(data_subset, \"output_subset.xlsx\")"
   ]
  },
  {
   "cell_type": "code",
   "execution_count": null,
   "metadata": {},
   "outputs": [],
   "source": []
  }
 ],
 "metadata": {
  "kernelspec": {
   "display_name": "Python 3 (ipykernel)",
   "language": "python",
   "name": "python3"
  },
  "language_info": {
   "codemirror_mode": {
    "name": "ipython",
    "version": 3
   },
   "file_extension": ".py",
   "mimetype": "text/x-python",
   "name": "python",
   "nbconvert_exporter": "python",
   "pygments_lexer": "ipython3",
   "version": "3.8.19"
  }
 },
 "nbformat": 4,
 "nbformat_minor": 4
}
