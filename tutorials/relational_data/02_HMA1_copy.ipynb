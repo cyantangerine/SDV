{
 "cells": [
  {
   "cell_type": "markdown",
   "metadata": {},
   "source": [
    "HMA1 Class\n",
    "==========\n",
    "\n",
    "In this guide we will go through a series of steps that will let you\n",
    "discover functionalities of the `HMA1` class.\n",
    "\n",
    "What is HMA1?\n",
    "-------------\n",
    "\n",
    "The `sdv.relational.HMA1` class implements what is called a\n",
    "*Hierarchical Modeling Algorithm* which is an algorithm that allows to\n",
    "recursively walk through a relational dataset and apply tabular models\n",
    "across all the tables in a way that lets the models learn how all the\n",
    "fields from all the tables are related.\n",
    "\n",
    "Let's now discover how to use the `HMA1` class.\n",
    "\n",
    "Quick Usage\n",
    "-----------\n",
    "\n",
    "We will start by loading and exploring one of our demo datasets."
   ]
  },
  {
   "cell_type": "code",
   "metadata": {
    "attributes": {
     "classes": [
      ""
     ],
     "id": ""
    },
    "ExecuteTime": {
     "end_time": "2024-09-04T11:15:14.598710Z",
     "start_time": "2024-09-04T11:15:12.753884Z"
    }
   },
   "source": [
    "from sdv.demo import sample_relational_demo\n",
    "\n",
    "metadata, tables = sample_relational_demo(size=30)"
   ],
   "outputs": [
    {
     "name": "stderr",
     "output_type": "stream",
     "text": [
      "C:\\Users\\Elvin\\Desktop\\GitHub\\SDV\\sdv\\demo.py:224: FutureWarning: The frame.append method is deprecated and will be removed from pandas in a future version. Use pandas.concat instead.\n",
      "  sessions = sessions.append(pd.DataFrame({\n",
      "C:\\Users\\Elvin\\Desktop\\GitHub\\SDV\\sdv\\demo.py:224: FutureWarning: The frame.append method is deprecated and will be removed from pandas in a future version. Use pandas.concat instead.\n",
      "  sessions = sessions.append(pd.DataFrame({\n",
      "C:\\Users\\Elvin\\Desktop\\GitHub\\SDV\\sdv\\demo.py:224: FutureWarning: The frame.append method is deprecated and will be removed from pandas in a future version. Use pandas.concat instead.\n",
      "  sessions = sessions.append(pd.DataFrame({\n",
      "C:\\Users\\Elvin\\Desktop\\GitHub\\SDV\\sdv\\demo.py:224: FutureWarning: The frame.append method is deprecated and will be removed from pandas in a future version. Use pandas.concat instead.\n",
      "  sessions = sessions.append(pd.DataFrame({\n",
      "C:\\Users\\Elvin\\Desktop\\GitHub\\SDV\\sdv\\demo.py:224: FutureWarning: The frame.append method is deprecated and will be removed from pandas in a future version. Use pandas.concat instead.\n",
      "  sessions = sessions.append(pd.DataFrame({\n",
      "C:\\Users\\Elvin\\Desktop\\GitHub\\SDV\\sdv\\demo.py:224: FutureWarning: The frame.append method is deprecated and will be removed from pandas in a future version. Use pandas.concat instead.\n",
      "  sessions = sessions.append(pd.DataFrame({\n",
      "C:\\Users\\Elvin\\Desktop\\GitHub\\SDV\\sdv\\demo.py:224: FutureWarning: The frame.append method is deprecated and will be removed from pandas in a future version. Use pandas.concat instead.\n",
      "  sessions = sessions.append(pd.DataFrame({\n",
      "C:\\Users\\Elvin\\Desktop\\GitHub\\SDV\\sdv\\demo.py:224: FutureWarning: The frame.append method is deprecated and will be removed from pandas in a future version. Use pandas.concat instead.\n",
      "  sessions = sessions.append(pd.DataFrame({\n",
      "C:\\Users\\Elvin\\Desktop\\GitHub\\SDV\\sdv\\demo.py:224: FutureWarning: The frame.append method is deprecated and will be removed from pandas in a future version. Use pandas.concat instead.\n",
      "  sessions = sessions.append(pd.DataFrame({\n",
      "C:\\Users\\Elvin\\Desktop\\GitHub\\SDV\\sdv\\demo.py:224: FutureWarning: The frame.append method is deprecated and will be removed from pandas in a future version. Use pandas.concat instead.\n",
      "  sessions = sessions.append(pd.DataFrame({\n",
      "C:\\Users\\Elvin\\Desktop\\GitHub\\SDV\\sdv\\demo.py:224: FutureWarning: The frame.append method is deprecated and will be removed from pandas in a future version. Use pandas.concat instead.\n",
      "  sessions = sessions.append(pd.DataFrame({\n",
      "C:\\Users\\Elvin\\Desktop\\GitHub\\SDV\\sdv\\demo.py:224: FutureWarning: The frame.append method is deprecated and will be removed from pandas in a future version. Use pandas.concat instead.\n",
      "  sessions = sessions.append(pd.DataFrame({\n",
      "C:\\Users\\Elvin\\Desktop\\GitHub\\SDV\\sdv\\demo.py:224: FutureWarning: The frame.append method is deprecated and will be removed from pandas in a future version. Use pandas.concat instead.\n",
      "  sessions = sessions.append(pd.DataFrame({\n",
      "C:\\Users\\Elvin\\Desktop\\GitHub\\SDV\\sdv\\demo.py:224: FutureWarning: The frame.append method is deprecated and will be removed from pandas in a future version. Use pandas.concat instead.\n",
      "  sessions = sessions.append(pd.DataFrame({\n",
      "C:\\Users\\Elvin\\Desktop\\GitHub\\SDV\\sdv\\demo.py:224: FutureWarning: The frame.append method is deprecated and will be removed from pandas in a future version. Use pandas.concat instead.\n",
      "  sessions = sessions.append(pd.DataFrame({\n",
      "C:\\Users\\Elvin\\Desktop\\GitHub\\SDV\\sdv\\demo.py:224: FutureWarning: The frame.append method is deprecated and will be removed from pandas in a future version. Use pandas.concat instead.\n",
      "  sessions = sessions.append(pd.DataFrame({\n",
      "C:\\Users\\Elvin\\Desktop\\GitHub\\SDV\\sdv\\demo.py:224: FutureWarning: The frame.append method is deprecated and will be removed from pandas in a future version. Use pandas.concat instead.\n",
      "  sessions = sessions.append(pd.DataFrame({\n",
      "C:\\Users\\Elvin\\Desktop\\GitHub\\SDV\\sdv\\demo.py:224: FutureWarning: The frame.append method is deprecated and will be removed from pandas in a future version. Use pandas.concat instead.\n",
      "  sessions = sessions.append(pd.DataFrame({\n",
      "C:\\Users\\Elvin\\Desktop\\GitHub\\SDV\\sdv\\demo.py:224: FutureWarning: The frame.append method is deprecated and will be removed from pandas in a future version. Use pandas.concat instead.\n",
      "  sessions = sessions.append(pd.DataFrame({\n",
      "C:\\Users\\Elvin\\Desktop\\GitHub\\SDV\\sdv\\demo.py:224: FutureWarning: The frame.append method is deprecated and will be removed from pandas in a future version. Use pandas.concat instead.\n",
      "  sessions = sessions.append(pd.DataFrame({\n",
      "C:\\Users\\Elvin\\Desktop\\GitHub\\SDV\\sdv\\demo.py:224: FutureWarning: The frame.append method is deprecated and will be removed from pandas in a future version. Use pandas.concat instead.\n",
      "  sessions = sessions.append(pd.DataFrame({\n",
      "C:\\Users\\Elvin\\Desktop\\GitHub\\SDV\\sdv\\demo.py:224: FutureWarning: The frame.append method is deprecated and will be removed from pandas in a future version. Use pandas.concat instead.\n",
      "  sessions = sessions.append(pd.DataFrame({\n",
      "C:\\Users\\Elvin\\Desktop\\GitHub\\SDV\\sdv\\demo.py:224: FutureWarning: The frame.append method is deprecated and will be removed from pandas in a future version. Use pandas.concat instead.\n",
      "  sessions = sessions.append(pd.DataFrame({\n",
      "C:\\Users\\Elvin\\Desktop\\GitHub\\SDV\\sdv\\demo.py:224: FutureWarning: The frame.append method is deprecated and will be removed from pandas in a future version. Use pandas.concat instead.\n",
      "  sessions = sessions.append(pd.DataFrame({\n",
      "C:\\Users\\Elvin\\Desktop\\GitHub\\SDV\\sdv\\demo.py:224: FutureWarning: The frame.append method is deprecated and will be removed from pandas in a future version. Use pandas.concat instead.\n",
      "  sessions = sessions.append(pd.DataFrame({\n",
      "C:\\Users\\Elvin\\Desktop\\GitHub\\SDV\\sdv\\demo.py:224: FutureWarning: The frame.append method is deprecated and will be removed from pandas in a future version. Use pandas.concat instead.\n",
      "  sessions = sessions.append(pd.DataFrame({\n",
      "C:\\Users\\Elvin\\Desktop\\GitHub\\SDV\\sdv\\demo.py:224: FutureWarning: The frame.append method is deprecated and will be removed from pandas in a future version. Use pandas.concat instead.\n",
      "  sessions = sessions.append(pd.DataFrame({\n",
      "C:\\Users\\Elvin\\Desktop\\GitHub\\SDV\\sdv\\demo.py:224: FutureWarning: The frame.append method is deprecated and will be removed from pandas in a future version. Use pandas.concat instead.\n",
      "  sessions = sessions.append(pd.DataFrame({\n",
      "C:\\Users\\Elvin\\Desktop\\GitHub\\SDV\\sdv\\demo.py:224: FutureWarning: The frame.append method is deprecated and will be removed from pandas in a future version. Use pandas.concat instead.\n",
      "  sessions = sessions.append(pd.DataFrame({\n",
      "C:\\Users\\Elvin\\Desktop\\GitHub\\SDV\\sdv\\demo.py:224: FutureWarning: The frame.append method is deprecated and will be removed from pandas in a future version. Use pandas.concat instead.\n",
      "  sessions = sessions.append(pd.DataFrame({\n",
      "C:\\Users\\Elvin\\Desktop\\GitHub\\SDV\\sdv\\demo.py:253: FutureWarning: The frame.append method is deprecated and will be removed from pandas in a future version. Use pandas.concat instead.\n",
      "  transactions = transactions.append(pd.DataFrame({\n",
      "C:\\Users\\Elvin\\Desktop\\GitHub\\SDV\\sdv\\demo.py:253: FutureWarning: The frame.append method is deprecated and will be removed from pandas in a future version. Use pandas.concat instead.\n",
      "  transactions = transactions.append(pd.DataFrame({\n",
      "C:\\Users\\Elvin\\Desktop\\GitHub\\SDV\\sdv\\demo.py:253: FutureWarning: The frame.append method is deprecated and will be removed from pandas in a future version. Use pandas.concat instead.\n",
      "  transactions = transactions.append(pd.DataFrame({\n",
      "C:\\Users\\Elvin\\Desktop\\GitHub\\SDV\\sdv\\demo.py:253: FutureWarning: The frame.append method is deprecated and will be removed from pandas in a future version. Use pandas.concat instead.\n",
      "  transactions = transactions.append(pd.DataFrame({\n",
      "C:\\Users\\Elvin\\Desktop\\GitHub\\SDV\\sdv\\demo.py:253: FutureWarning: The frame.append method is deprecated and will be removed from pandas in a future version. Use pandas.concat instead.\n",
      "  transactions = transactions.append(pd.DataFrame({\n",
      "C:\\Users\\Elvin\\Desktop\\GitHub\\SDV\\sdv\\demo.py:253: FutureWarning: The frame.append method is deprecated and will be removed from pandas in a future version. Use pandas.concat instead.\n",
      "  transactions = transactions.append(pd.DataFrame({\n",
      "C:\\Users\\Elvin\\Desktop\\GitHub\\SDV\\sdv\\demo.py:253: FutureWarning: The frame.append method is deprecated and will be removed from pandas in a future version. Use pandas.concat instead.\n",
      "  transactions = transactions.append(pd.DataFrame({\n",
      "C:\\Users\\Elvin\\Desktop\\GitHub\\SDV\\sdv\\demo.py:253: FutureWarning: The frame.append method is deprecated and will be removed from pandas in a future version. Use pandas.concat instead.\n",
      "  transactions = transactions.append(pd.DataFrame({\n",
      "C:\\Users\\Elvin\\Desktop\\GitHub\\SDV\\sdv\\demo.py:253: FutureWarning: The frame.append method is deprecated and will be removed from pandas in a future version. Use pandas.concat instead.\n",
      "  transactions = transactions.append(pd.DataFrame({\n",
      "C:\\Users\\Elvin\\Desktop\\GitHub\\SDV\\sdv\\demo.py:253: FutureWarning: The frame.append method is deprecated and will be removed from pandas in a future version. Use pandas.concat instead.\n",
      "  transactions = transactions.append(pd.DataFrame({\n",
      "C:\\Users\\Elvin\\Desktop\\GitHub\\SDV\\sdv\\demo.py:253: FutureWarning: The frame.append method is deprecated and will be removed from pandas in a future version. Use pandas.concat instead.\n",
      "  transactions = transactions.append(pd.DataFrame({\n",
      "C:\\Users\\Elvin\\Desktop\\GitHub\\SDV\\sdv\\demo.py:253: FutureWarning: The frame.append method is deprecated and will be removed from pandas in a future version. Use pandas.concat instead.\n",
      "  transactions = transactions.append(pd.DataFrame({\n",
      "C:\\Users\\Elvin\\Desktop\\GitHub\\SDV\\sdv\\demo.py:253: FutureWarning: The frame.append method is deprecated and will be removed from pandas in a future version. Use pandas.concat instead.\n",
      "  transactions = transactions.append(pd.DataFrame({\n",
      "C:\\Users\\Elvin\\Desktop\\GitHub\\SDV\\sdv\\demo.py:253: FutureWarning: The frame.append method is deprecated and will be removed from pandas in a future version. Use pandas.concat instead.\n",
      "  transactions = transactions.append(pd.DataFrame({\n",
      "C:\\Users\\Elvin\\Desktop\\GitHub\\SDV\\sdv\\demo.py:253: FutureWarning: The frame.append method is deprecated and will be removed from pandas in a future version. Use pandas.concat instead.\n",
      "  transactions = transactions.append(pd.DataFrame({\n",
      "C:\\Users\\Elvin\\Desktop\\GitHub\\SDV\\sdv\\demo.py:253: FutureWarning: The frame.append method is deprecated and will be removed from pandas in a future version. Use pandas.concat instead.\n",
      "  transactions = transactions.append(pd.DataFrame({\n",
      "C:\\Users\\Elvin\\Desktop\\GitHub\\SDV\\sdv\\demo.py:253: FutureWarning: The frame.append method is deprecated and will be removed from pandas in a future version. Use pandas.concat instead.\n",
      "  transactions = transactions.append(pd.DataFrame({\n",
      "C:\\Users\\Elvin\\Desktop\\GitHub\\SDV\\sdv\\demo.py:253: FutureWarning: The frame.append method is deprecated and will be removed from pandas in a future version. Use pandas.concat instead.\n",
      "  transactions = transactions.append(pd.DataFrame({\n",
      "C:\\Users\\Elvin\\Desktop\\GitHub\\SDV\\sdv\\demo.py:253: FutureWarning: The frame.append method is deprecated and will be removed from pandas in a future version. Use pandas.concat instead.\n",
      "  transactions = transactions.append(pd.DataFrame({\n",
      "C:\\Users\\Elvin\\Desktop\\GitHub\\SDV\\sdv\\demo.py:253: FutureWarning: The frame.append method is deprecated and will be removed from pandas in a future version. Use pandas.concat instead.\n",
      "  transactions = transactions.append(pd.DataFrame({\n",
      "C:\\Users\\Elvin\\Desktop\\GitHub\\SDV\\sdv\\demo.py:253: FutureWarning: The frame.append method is deprecated and will be removed from pandas in a future version. Use pandas.concat instead.\n",
      "  transactions = transactions.append(pd.DataFrame({\n",
      "C:\\Users\\Elvin\\Desktop\\GitHub\\SDV\\sdv\\demo.py:253: FutureWarning: The frame.append method is deprecated and will be removed from pandas in a future version. Use pandas.concat instead.\n",
      "  transactions = transactions.append(pd.DataFrame({\n",
      "C:\\Users\\Elvin\\Desktop\\GitHub\\SDV\\sdv\\demo.py:253: FutureWarning: The frame.append method is deprecated and will be removed from pandas in a future version. Use pandas.concat instead.\n",
      "  transactions = transactions.append(pd.DataFrame({\n",
      "C:\\Users\\Elvin\\Desktop\\GitHub\\SDV\\sdv\\demo.py:253: FutureWarning: The frame.append method is deprecated and will be removed from pandas in a future version. Use pandas.concat instead.\n",
      "  transactions = transactions.append(pd.DataFrame({\n",
      "C:\\Users\\Elvin\\Desktop\\GitHub\\SDV\\sdv\\demo.py:253: FutureWarning: The frame.append method is deprecated and will be removed from pandas in a future version. Use pandas.concat instead.\n",
      "  transactions = transactions.append(pd.DataFrame({\n",
      "C:\\Users\\Elvin\\Desktop\\GitHub\\SDV\\sdv\\demo.py:253: FutureWarning: The frame.append method is deprecated and will be removed from pandas in a future version. Use pandas.concat instead.\n",
      "  transactions = transactions.append(pd.DataFrame({\n",
      "C:\\Users\\Elvin\\Desktop\\GitHub\\SDV\\sdv\\demo.py:253: FutureWarning: The frame.append method is deprecated and will be removed from pandas in a future version. Use pandas.concat instead.\n",
      "  transactions = transactions.append(pd.DataFrame({\n",
      "C:\\Users\\Elvin\\Desktop\\GitHub\\SDV\\sdv\\demo.py:253: FutureWarning: The frame.append method is deprecated and will be removed from pandas in a future version. Use pandas.concat instead.\n",
      "  transactions = transactions.append(pd.DataFrame({\n",
      "C:\\Users\\Elvin\\Desktop\\GitHub\\SDV\\sdv\\demo.py:253: FutureWarning: The frame.append method is deprecated and will be removed from pandas in a future version. Use pandas.concat instead.\n",
      "  transactions = transactions.append(pd.DataFrame({\n",
      "C:\\Users\\Elvin\\Desktop\\GitHub\\SDV\\sdv\\demo.py:253: FutureWarning: The frame.append method is deprecated and will be removed from pandas in a future version. Use pandas.concat instead.\n",
      "  transactions = transactions.append(pd.DataFrame({\n",
      "C:\\Users\\Elvin\\Desktop\\GitHub\\SDV\\sdv\\demo.py:253: FutureWarning: The frame.append method is deprecated and will be removed from pandas in a future version. Use pandas.concat instead.\n",
      "  transactions = transactions.append(pd.DataFrame({\n",
      "C:\\Users\\Elvin\\Desktop\\GitHub\\SDV\\sdv\\demo.py:253: FutureWarning: The frame.append method is deprecated and will be removed from pandas in a future version. Use pandas.concat instead.\n",
      "  transactions = transactions.append(pd.DataFrame({\n",
      "C:\\Users\\Elvin\\Desktop\\GitHub\\SDV\\sdv\\demo.py:253: FutureWarning: The frame.append method is deprecated and will be removed from pandas in a future version. Use pandas.concat instead.\n",
      "  transactions = transactions.append(pd.DataFrame({\n",
      "C:\\Users\\Elvin\\Desktop\\GitHub\\SDV\\sdv\\demo.py:253: FutureWarning: The frame.append method is deprecated and will be removed from pandas in a future version. Use pandas.concat instead.\n",
      "  transactions = transactions.append(pd.DataFrame({\n",
      "C:\\Users\\Elvin\\Desktop\\GitHub\\SDV\\sdv\\demo.py:253: FutureWarning: The frame.append method is deprecated and will be removed from pandas in a future version. Use pandas.concat instead.\n",
      "  transactions = transactions.append(pd.DataFrame({\n",
      "C:\\Users\\Elvin\\Desktop\\GitHub\\SDV\\sdv\\demo.py:253: FutureWarning: The frame.append method is deprecated and will be removed from pandas in a future version. Use pandas.concat instead.\n",
      "  transactions = transactions.append(pd.DataFrame({\n",
      "C:\\Users\\Elvin\\Desktop\\GitHub\\SDV\\sdv\\demo.py:253: FutureWarning: The frame.append method is deprecated and will be removed from pandas in a future version. Use pandas.concat instead.\n",
      "  transactions = transactions.append(pd.DataFrame({\n",
      "C:\\Users\\Elvin\\Desktop\\GitHub\\SDV\\sdv\\demo.py:253: FutureWarning: The frame.append method is deprecated and will be removed from pandas in a future version. Use pandas.concat instead.\n",
      "  transactions = transactions.append(pd.DataFrame({\n",
      "C:\\Users\\Elvin\\Desktop\\GitHub\\SDV\\sdv\\demo.py:253: FutureWarning: The frame.append method is deprecated and will be removed from pandas in a future version. Use pandas.concat instead.\n",
      "  transactions = transactions.append(pd.DataFrame({\n",
      "C:\\Users\\Elvin\\Desktop\\GitHub\\SDV\\sdv\\demo.py:253: FutureWarning: The frame.append method is deprecated and will be removed from pandas in a future version. Use pandas.concat instead.\n",
      "  transactions = transactions.append(pd.DataFrame({\n",
      "C:\\Users\\Elvin\\Desktop\\GitHub\\SDV\\sdv\\demo.py:253: FutureWarning: The frame.append method is deprecated and will be removed from pandas in a future version. Use pandas.concat instead.\n",
      "  transactions = transactions.append(pd.DataFrame({\n",
      "C:\\Users\\Elvin\\Desktop\\GitHub\\SDV\\sdv\\demo.py:253: FutureWarning: The frame.append method is deprecated and will be removed from pandas in a future version. Use pandas.concat instead.\n",
      "  transactions = transactions.append(pd.DataFrame({\n",
      "C:\\Users\\Elvin\\Desktop\\GitHub\\SDV\\sdv\\demo.py:253: FutureWarning: The frame.append method is deprecated and will be removed from pandas in a future version. Use pandas.concat instead.\n",
      "  transactions = transactions.append(pd.DataFrame({\n",
      "C:\\Users\\Elvin\\Desktop\\GitHub\\SDV\\sdv\\demo.py:253: FutureWarning: The frame.append method is deprecated and will be removed from pandas in a future version. Use pandas.concat instead.\n",
      "  transactions = transactions.append(pd.DataFrame({\n",
      "C:\\Users\\Elvin\\Desktop\\GitHub\\SDV\\sdv\\demo.py:253: FutureWarning: The frame.append method is deprecated and will be removed from pandas in a future version. Use pandas.concat instead.\n",
      "  transactions = transactions.append(pd.DataFrame({\n",
      "C:\\Users\\Elvin\\Desktop\\GitHub\\SDV\\sdv\\demo.py:253: FutureWarning: The frame.append method is deprecated and will be removed from pandas in a future version. Use pandas.concat instead.\n",
      "  transactions = transactions.append(pd.DataFrame({\n",
      "C:\\Users\\Elvin\\Desktop\\GitHub\\SDV\\sdv\\demo.py:253: FutureWarning: The frame.append method is deprecated and will be removed from pandas in a future version. Use pandas.concat instead.\n",
      "  transactions = transactions.append(pd.DataFrame({\n",
      "C:\\Users\\Elvin\\Desktop\\GitHub\\SDV\\sdv\\demo.py:253: FutureWarning: The frame.append method is deprecated and will be removed from pandas in a future version. Use pandas.concat instead.\n",
      "  transactions = transactions.append(pd.DataFrame({\n",
      "C:\\Users\\Elvin\\Desktop\\GitHub\\SDV\\sdv\\demo.py:253: FutureWarning: The frame.append method is deprecated and will be removed from pandas in a future version. Use pandas.concat instead.\n",
      "  transactions = transactions.append(pd.DataFrame({\n",
      "C:\\Users\\Elvin\\Desktop\\GitHub\\SDV\\sdv\\demo.py:253: FutureWarning: The frame.append method is deprecated and will be removed from pandas in a future version. Use pandas.concat instead.\n",
      "  transactions = transactions.append(pd.DataFrame({\n",
      "C:\\Users\\Elvin\\Desktop\\GitHub\\SDV\\sdv\\demo.py:253: FutureWarning: The frame.append method is deprecated and will be removed from pandas in a future version. Use pandas.concat instead.\n",
      "  transactions = transactions.append(pd.DataFrame({\n",
      "C:\\Users\\Elvin\\Desktop\\GitHub\\SDV\\sdv\\demo.py:253: FutureWarning: The frame.append method is deprecated and will be removed from pandas in a future version. Use pandas.concat instead.\n",
      "  transactions = transactions.append(pd.DataFrame({\n",
      "C:\\Users\\Elvin\\Desktop\\GitHub\\SDV\\sdv\\demo.py:253: FutureWarning: The frame.append method is deprecated and will be removed from pandas in a future version. Use pandas.concat instead.\n",
      "  transactions = transactions.append(pd.DataFrame({\n",
      "C:\\Users\\Elvin\\Desktop\\GitHub\\SDV\\sdv\\demo.py:253: FutureWarning: The frame.append method is deprecated and will be removed from pandas in a future version. Use pandas.concat instead.\n",
      "  transactions = transactions.append(pd.DataFrame({\n",
      "C:\\Users\\Elvin\\Desktop\\GitHub\\SDV\\sdv\\demo.py:253: FutureWarning: The frame.append method is deprecated and will be removed from pandas in a future version. Use pandas.concat instead.\n",
      "  transactions = transactions.append(pd.DataFrame({\n",
      "C:\\Users\\Elvin\\Desktop\\GitHub\\SDV\\sdv\\demo.py:253: FutureWarning: The frame.append method is deprecated and will be removed from pandas in a future version. Use pandas.concat instead.\n",
      "  transactions = transactions.append(pd.DataFrame({\n",
      "C:\\Users\\Elvin\\Desktop\\GitHub\\SDV\\sdv\\demo.py:253: FutureWarning: The frame.append method is deprecated and will be removed from pandas in a future version. Use pandas.concat instead.\n",
      "  transactions = transactions.append(pd.DataFrame({\n"
     ]
    }
   ],
   "execution_count": 1
  },
  {
   "cell_type": "markdown",
   "metadata": {},
   "source": [
    "This will return two objects:\n",
    "\n",
    "1.  A `Metadata` object with all the information that **SDV** needs to\n",
    "    know about the dataset."
   ]
  },
  {
   "cell_type": "code",
   "metadata": {
    "attributes": {
     "classes": [
      ""
     ],
     "id": ""
    },
    "ExecuteTime": {
     "end_time": "2024-09-04T11:15:14.614296Z",
     "start_time": "2024-09-04T11:15:14.599705Z"
    }
   },
   "source": [
    "metadata"
   ],
   "outputs": [
    {
     "data": {
      "text/plain": [
       "Metadata\n",
       "  root_path: .\n",
       "  tables: ['users', 'sessions', 'transactions']\n",
       "  relationships:\n",
       "    sessions.user_id -> users.user_id\n",
       "    transactions.session_id -> sessions.session_id"
      ]
     },
     "execution_count": 2,
     "metadata": {},
     "output_type": "execute_result"
    }
   ],
   "execution_count": 2
  },
  {
   "cell_type": "code",
   "metadata": {
    "attributes": {
     "classes": [
      ""
     ],
     "id": ""
    },
    "ExecuteTime": {
     "end_time": "2024-09-04T11:15:14.954342Z",
     "start_time": "2024-09-04T11:15:14.615726Z"
    }
   },
   "source": [
    "metadata.visualize()"
   ],
   "outputs": [
    {
     "data": {
      "image/svg+xml": "<?xml version=\"1.0\" encoding=\"UTF-8\" standalone=\"no\"?>\n<!DOCTYPE svg PUBLIC \"-//W3C//DTD SVG 1.1//EN\"\n \"http://www.w3.org/Graphics/SVG/1.1/DTD/svg11.dtd\">\n<!-- Generated by graphviz version 12.1.0 (20240811.2233)\n -->\n<!-- Title: Metadata Pages: 1 -->\n<svg width=\"365pt\" height=\"551pt\"\n viewBox=\"0.00 0.00 364.75 551.00\" xmlns=\"http://www.w3.org/2000/svg\" xmlns:xlink=\"http://www.w3.org/1999/xlink\">\n<g id=\"graph0\" class=\"graph\" transform=\"scale(1 1) rotate(0) translate(4 547)\">\n<title>Metadata</title>\n<polygon fill=\"white\" stroke=\"none\" points=\"-4,4 -4,-547 360.75,-547 360.75,4 -4,4\"/>\n<!-- users -->\n<g id=\"node1\" class=\"node\">\n<title>users</title>\n<path fill=\"#ffec8b\" stroke=\"black\" d=\"M37.88,-419.5C37.88,-419.5 164.12,-419.5 164.12,-419.5 170.12,-419.5 176.12,-425.5 176.12,-431.5 176.12,-431.5 176.12,-530.5 176.12,-530.5 176.12,-536.5 170.12,-542.5 164.12,-542.5 164.12,-542.5 37.88,-542.5 37.88,-542.5 31.88,-542.5 25.88,-536.5 25.88,-530.5 25.88,-530.5 25.88,-431.5 25.88,-431.5 25.88,-425.5 31.88,-419.5 37.88,-419.5\"/>\n<text text-anchor=\"middle\" x=\"101\" y=\"-525.2\" font-family=\"Times New Roman,serif\" font-size=\"14.00\">users</text>\n<polyline fill=\"none\" stroke=\"black\" points=\"25.88,-518 176.12,-518\"/>\n<text text-anchor=\"start\" x=\"33.88\" y=\"-500.7\" font-family=\"Times New Roman,serif\" font-size=\"14.00\">user_id : id &#45; integer</text>\n<text text-anchor=\"start\" x=\"33.88\" y=\"-484.2\" font-family=\"Times New Roman,serif\" font-size=\"14.00\">country : categorical</text>\n<text text-anchor=\"start\" x=\"33.88\" y=\"-467.7\" font-family=\"Times New Roman,serif\" font-size=\"14.00\">gender : categorical</text>\n<text text-anchor=\"start\" x=\"33.88\" y=\"-451.2\" font-family=\"Times New Roman,serif\" font-size=\"14.00\">age : numerical &#45; integer</text>\n<polyline fill=\"none\" stroke=\"black\" points=\"25.88,-444 176.12,-444\"/>\n<text text-anchor=\"start\" x=\"33.88\" y=\"-426.7\" font-family=\"Times New Roman,serif\" font-size=\"14.00\">Primary key: user_id</text>\n</g>\n<!-- sessions -->\n<g id=\"node2\" class=\"node\">\n<title>sessions</title>\n<path fill=\"#ffec8b\" stroke=\"black\" d=\"M25.5,-210C25.5,-210 176.5,-210 176.5,-210 182.5,-210 188.5,-216 188.5,-222 188.5,-222 188.5,-354 188.5,-354 188.5,-360 182.5,-366 176.5,-366 176.5,-366 25.5,-366 25.5,-366 19.5,-366 13.5,-360 13.5,-354 13.5,-354 13.5,-222 13.5,-222 13.5,-216 19.5,-210 25.5,-210\"/>\n<text text-anchor=\"middle\" x=\"101\" y=\"-348.7\" font-family=\"Times New Roman,serif\" font-size=\"14.00\">sessions</text>\n<polyline fill=\"none\" stroke=\"black\" points=\"13.5,-341.5 188.5,-341.5\"/>\n<text text-anchor=\"start\" x=\"21.5\" y=\"-324.2\" font-family=\"Times New Roman,serif\" font-size=\"14.00\">session_id : id &#45; integer</text>\n<text text-anchor=\"start\" x=\"21.5\" y=\"-307.7\" font-family=\"Times New Roman,serif\" font-size=\"14.00\">user_id : id &#45; integer</text>\n<text text-anchor=\"start\" x=\"21.5\" y=\"-291.2\" font-family=\"Times New Roman,serif\" font-size=\"14.00\">device : categorical</text>\n<text text-anchor=\"start\" x=\"21.5\" y=\"-274.7\" font-family=\"Times New Roman,serif\" font-size=\"14.00\">os : categorical</text>\n<text text-anchor=\"start\" x=\"21.5\" y=\"-258.2\" font-family=\"Times New Roman,serif\" font-size=\"14.00\">minutes : numerical &#45; integer</text>\n<polyline fill=\"none\" stroke=\"black\" points=\"13.5,-251 188.5,-251\"/>\n<text text-anchor=\"start\" x=\"21.5\" y=\"-233.7\" font-family=\"Times New Roman,serif\" font-size=\"14.00\">Primary key: session_id</text>\n<text text-anchor=\"start\" x=\"21.5\" y=\"-217.2\" font-family=\"Times New Roman,serif\" font-size=\"14.00\">Foreign key (users): user_id</text>\n</g>\n<!-- users&#45;&gt;sessions -->\n<g id=\"edge1\" class=\"edge\">\n<title>users&#45;&gt;sessions</title>\n<path fill=\"none\" stroke=\"black\" d=\"M101,-419.04C101,-405.51 101,-390.91 101,-376.56\"/>\n<polygon fill=\"none\" stroke=\"black\" points=\"104.5,-366.66 101,-376.66 97.5,-366.66 104.5,-366.66\"/>\n<text text-anchor=\"middle\" x=\"194\" y=\"-387.7\" font-family=\"Times New Roman,serif\" font-size=\"14.00\"> &#160;&#160;sessions.user_id &gt; users.user_id</text>\n</g>\n<!-- transactions -->\n<g id=\"node3\" class=\"node\">\n<title>transactions</title>\n<path fill=\"#ffec8b\" stroke=\"black\" d=\"M12,-0.5C12,-0.5 190,-0.5 190,-0.5 196,-0.5 202,-6.5 202,-12.5 202,-12.5 202,-144.5 202,-144.5 202,-150.5 196,-156.5 190,-156.5 190,-156.5 12,-156.5 12,-156.5 6,-156.5 0,-150.5 0,-144.5 0,-144.5 0,-12.5 0,-12.5 0,-6.5 6,-0.5 12,-0.5\"/>\n<text text-anchor=\"middle\" x=\"101\" y=\"-139.2\" font-family=\"Times New Roman,serif\" font-size=\"14.00\">transactions</text>\n<polyline fill=\"none\" stroke=\"black\" points=\"0,-132 202,-132\"/>\n<text text-anchor=\"start\" x=\"8\" y=\"-114.7\" font-family=\"Times New Roman,serif\" font-size=\"14.00\">transaction_id : id &#45; integer</text>\n<text text-anchor=\"start\" x=\"8\" y=\"-98.2\" font-family=\"Times New Roman,serif\" font-size=\"14.00\">session_id : id &#45; integer</text>\n<text text-anchor=\"start\" x=\"8\" y=\"-81.7\" font-family=\"Times New Roman,serif\" font-size=\"14.00\">timestamp : datetime</text>\n<text text-anchor=\"start\" x=\"8\" y=\"-65.2\" font-family=\"Times New Roman,serif\" font-size=\"14.00\">amount : numerical &#45; float</text>\n<text text-anchor=\"start\" x=\"8\" y=\"-48.7\" font-family=\"Times New Roman,serif\" font-size=\"14.00\">cancelled : boolean</text>\n<polyline fill=\"none\" stroke=\"black\" points=\"0,-41.5 202,-41.5\"/>\n<text text-anchor=\"start\" x=\"8\" y=\"-24.2\" font-family=\"Times New Roman,serif\" font-size=\"14.00\">Primary key: transaction_id</text>\n<text text-anchor=\"start\" x=\"8\" y=\"-7.7\" font-family=\"Times New Roman,serif\" font-size=\"14.00\">Foreign key (sessions): session_id</text>\n</g>\n<!-- sessions&#45;&gt;transactions -->\n<g id=\"edge2\" class=\"edge\">\n<title>sessions&#45;&gt;transactions</title>\n<path fill=\"none\" stroke=\"black\" d=\"M101,-209.73C101,-195.83 101,-181.24 101,-167.06\"/>\n<polygon fill=\"none\" stroke=\"black\" points=\"104.5,-157.33 101,-167.33 97.5,-157.33 104.5,-157.33\"/>\n<text text-anchor=\"middle\" x=\"228.88\" y=\"-178.2\" font-family=\"Times New Roman,serif\" font-size=\"14.00\"> &#160;&#160;transactions.session_id &gt; sessions.session_id</text>\n</g>\n</g>\n</svg>\n",
      "text/plain": [
       "<graphviz.graphs.Digraph at 0x17a057cd460>"
      ]
     },
     "execution_count": 3,
     "metadata": {},
     "output_type": "execute_result"
    }
   ],
   "execution_count": 3
  },
  {
   "cell_type": "markdown",
   "metadata": {},
   "source": [
    "For more details about how to build the `Metadata` for your own dataset,\n",
    "please refer to the [relational_metadata](relational_metadata.ipynb)\n",
    "Guide.\n",
    "\n",
    "2.  A dictionary containing three `pandas.DataFrames` with the tables\n",
    "    described in the metadata object."
   ]
  },
  {
   "cell_type": "code",
   "metadata": {
    "attributes": {
     "classes": [
      ""
     ],
     "id": ""
    },
    "ExecuteTime": {
     "end_time": "2024-09-04T11:15:14.969013Z",
     "start_time": "2024-09-04T11:15:14.955339Z"
    }
   },
   "source": [
    "from sdv.utils import display_tables\n",
    "\n",
    "display_tables(tables)"
   ],
   "outputs": [
    {
     "data": {
      "text/plain": [
       "<IPython.core.display.HTML object>"
      ],
      "text/html": [
       "<table><tr><td style=\"text-align:left\"><b>users</b></td><td style=\"text-align:left\"><b>sessions</b></td><td style=\"text-align:left\"><b>transactions</b></td></tr><tr><td><table border=\"1\" class=\"dataframe\">\n",
       "  <thead>\n",
       "    <tr style=\"text-align: right;\">\n",
       "      <th>user_id</th>\n",
       "      <th>country</th>\n",
       "      <th>gender</th>\n",
       "      <th>age</th>\n",
       "    </tr>\n",
       "  </thead>\n",
       "  <tbody>\n",
       "    <tr>\n",
       "      <td>0</td>\n",
       "      <td>PG</td>\n",
       "      <td>F</td>\n",
       "      <td>19</td>\n",
       "    </tr>\n",
       "    <tr>\n",
       "      <td>1</td>\n",
       "      <td>PW</td>\n",
       "      <td>F</td>\n",
       "      <td>42</td>\n",
       "    </tr>\n",
       "    <tr>\n",
       "      <td>2</td>\n",
       "      <td>PG</td>\n",
       "      <td>F</td>\n",
       "      <td>29</td>\n",
       "    </tr>\n",
       "    <tr>\n",
       "      <td>3</td>\n",
       "      <td>BF</td>\n",
       "      <td>M</td>\n",
       "      <td>28</td>\n",
       "    </tr>\n",
       "    <tr>\n",
       "      <td>4</td>\n",
       "      <td>TG</td>\n",
       "      <td>F</td>\n",
       "      <td>20</td>\n",
       "    </tr>\n",
       "    <tr>\n",
       "      <td>5</td>\n",
       "      <td>PW</td>\n",
       "      <td>F</td>\n",
       "      <td>36</td>\n",
       "    </tr>\n",
       "    <tr>\n",
       "      <td>6</td>\n",
       "      <td>BF</td>\n",
       "      <td>F</td>\n",
       "      <td>27</td>\n",
       "    </tr>\n",
       "    <tr>\n",
       "      <td>7</td>\n",
       "      <td>BF</td>\n",
       "      <td>F</td>\n",
       "      <td>21</td>\n",
       "    </tr>\n",
       "    <tr>\n",
       "      <td>8</td>\n",
       "      <td>BF</td>\n",
       "      <td>None</td>\n",
       "      <td>43</td>\n",
       "    </tr>\n",
       "    <tr>\n",
       "      <td>9</td>\n",
       "      <td>TG</td>\n",
       "      <td>F</td>\n",
       "      <td>35</td>\n",
       "    </tr>\n",
       "  </tbody>\n",
       "</table></td><td><table border=\"1\" class=\"dataframe\">\n",
       "  <thead>\n",
       "    <tr style=\"text-align: right;\">\n",
       "      <th>session_id</th>\n",
       "      <th>user_id</th>\n",
       "      <th>device</th>\n",
       "      <th>os</th>\n",
       "      <th>minutes</th>\n",
       "    </tr>\n",
       "  </thead>\n",
       "  <tbody>\n",
       "    <tr>\n",
       "      <td>0</td>\n",
       "      <td>0</td>\n",
       "      <td>tablet</td>\n",
       "      <td>android</td>\n",
       "      <td>38</td>\n",
       "    </tr>\n",
       "    <tr>\n",
       "      <td>1</td>\n",
       "      <td>0</td>\n",
       "      <td>tablet</td>\n",
       "      <td>android</td>\n",
       "      <td>19</td>\n",
       "    </tr>\n",
       "    <tr>\n",
       "      <td>2</td>\n",
       "      <td>1</td>\n",
       "      <td>mobile</td>\n",
       "      <td>ios</td>\n",
       "      <td>22</td>\n",
       "    </tr>\n",
       "    <tr>\n",
       "      <td>3</td>\n",
       "      <td>1</td>\n",
       "      <td>pc</td>\n",
       "      <td>macos</td>\n",
       "      <td>63</td>\n",
       "    </tr>\n",
       "    <tr>\n",
       "      <td>4</td>\n",
       "      <td>2</td>\n",
       "      <td>mobile</td>\n",
       "      <td>android</td>\n",
       "      <td>20</td>\n",
       "    </tr>\n",
       "    <tr>\n",
       "      <td>5</td>\n",
       "      <td>2</td>\n",
       "      <td>mobile</td>\n",
       "      <td>android</td>\n",
       "      <td>54</td>\n",
       "    </tr>\n",
       "    <tr>\n",
       "      <td>6</td>\n",
       "      <td>2</td>\n",
       "      <td>mobile</td>\n",
       "      <td>android</td>\n",
       "      <td>45</td>\n",
       "    </tr>\n",
       "    <tr>\n",
       "      <td>7</td>\n",
       "      <td>3</td>\n",
       "      <td>pc</td>\n",
       "      <td>windows</td>\n",
       "      <td>32</td>\n",
       "    </tr>\n",
       "    <tr>\n",
       "      <td>8</td>\n",
       "      <td>5</td>\n",
       "      <td>mobile</td>\n",
       "      <td>android</td>\n",
       "      <td>33</td>\n",
       "    </tr>\n",
       "    <tr>\n",
       "      <td>9</td>\n",
       "      <td>5</td>\n",
       "      <td>mobile</td>\n",
       "      <td>android</td>\n",
       "      <td>78</td>\n",
       "    </tr>\n",
       "  </tbody>\n",
       "</table></td><td><table border=\"1\" class=\"dataframe\">\n",
       "  <thead>\n",
       "    <tr style=\"text-align: right;\">\n",
       "      <th>transaction_id</th>\n",
       "      <th>session_id</th>\n",
       "      <th>timestamp</th>\n",
       "      <th>amount</th>\n",
       "      <th>cancelled</th>\n",
       "    </tr>\n",
       "  </thead>\n",
       "  <tbody>\n",
       "    <tr>\n",
       "      <td>0</td>\n",
       "      <td>0</td>\n",
       "      <td>2019-09-21 11:27:25</td>\n",
       "      <td>27.19</td>\n",
       "      <td>False</td>\n",
       "    </tr>\n",
       "    <tr>\n",
       "      <td>1</td>\n",
       "      <td>0</td>\n",
       "      <td>2019-09-21 11:29:00</td>\n",
       "      <td>11.09</td>\n",
       "      <td>False</td>\n",
       "    </tr>\n",
       "    <tr>\n",
       "      <td>2</td>\n",
       "      <td>0</td>\n",
       "      <td>2019-09-21 11:30:57</td>\n",
       "      <td>4.59</td>\n",
       "      <td>False</td>\n",
       "    </tr>\n",
       "    <tr>\n",
       "      <td>3</td>\n",
       "      <td>0</td>\n",
       "      <td>2019-09-21 11:32:21</td>\n",
       "      <td>5.39</td>\n",
       "      <td>False</td>\n",
       "    </tr>\n",
       "    <tr>\n",
       "      <td>4</td>\n",
       "      <td>0</td>\n",
       "      <td>2019-09-21 11:46:29</td>\n",
       "      <td>27.37</td>\n",
       "      <td>False</td>\n",
       "    </tr>\n",
       "    <tr>\n",
       "      <td>5</td>\n",
       "      <td>0</td>\n",
       "      <td>2019-09-21 11:46:46</td>\n",
       "      <td>9.83</td>\n",
       "      <td>False</td>\n",
       "    </tr>\n",
       "    <tr>\n",
       "      <td>6</td>\n",
       "      <td>1</td>\n",
       "      <td>2019-07-16 15:18:22</td>\n",
       "      <td>57.41</td>\n",
       "      <td>False</td>\n",
       "    </tr>\n",
       "    <tr>\n",
       "      <td>7</td>\n",
       "      <td>1</td>\n",
       "      <td>2019-07-16 15:18:54</td>\n",
       "      <td>32.32</td>\n",
       "      <td>False</td>\n",
       "    </tr>\n",
       "    <tr>\n",
       "      <td>8</td>\n",
       "      <td>1</td>\n",
       "      <td>2019-07-16 15:20:35</td>\n",
       "      <td>41.71</td>\n",
       "      <td>False</td>\n",
       "    </tr>\n",
       "    <tr>\n",
       "      <td>9</td>\n",
       "      <td>2</td>\n",
       "      <td>2019-04-22 05:35:56</td>\n",
       "      <td>24.48</td>\n",
       "      <td>False</td>\n",
       "    </tr>\n",
       "  </tbody>\n",
       "</table></td></tr></table>"
      ]
     },
     "execution_count": 4,
     "metadata": {},
     "output_type": "execute_result"
    }
   ],
   "execution_count": 4
  },
  {
   "cell_type": "code",
   "metadata": {
    "ExecuteTime": {
     "end_time": "2024-09-04T11:15:14.983665Z",
     "start_time": "2024-09-04T11:15:14.970009Z"
    }
   },
   "source": [
    "for name, table in tables.items():\n",
    "    print(name, table.shape)"
   ],
   "outputs": [
    {
     "name": "stdout",
     "output_type": "stream",
     "text": [
      "users (30, 4)\n",
      "sessions (57, 5)\n",
      "transactions (290, 5)\n"
     ]
    }
   ],
   "execution_count": 5
  },
  {
   "cell_type": "markdown",
   "metadata": {},
   "source": [
    "Let us now use the `HMA1` class to learn this data to be ready to sample\n",
    "synthetic data about new users. In order to do this you will need to:\n",
    "\n",
    "-   Import the `sdv.relational.HMA1` class and create an instance of it\n",
    "    passing the `metadata` that we just loaded.\n",
    "-   Call its `fit` method passing the `tables` dict."
   ]
  },
  {
   "metadata": {
    "ExecuteTime": {
     "end_time": "2024-09-04T11:15:15.511429Z",
     "start_time": "2024-09-04T11:15:14.984744Z"
    }
   },
   "cell_type": "code",
   "source": [
    "import logging\n",
    "import sys\n",
    "logging.root.addHandler(logging.StreamHandler(stream=sys.stderr))\n",
    "logging.basicConfig(level=logging.INFO, format='%(asctime)s - %(levelname)s - %(message)s')\n",
    "logging.info('日志信息')\n",
    "print(1)"
   ],
   "outputs": [
    {
     "ename": "NameError",
     "evalue": "name 'sys' is not defined",
     "output_type": "error",
     "traceback": [
      "\u001B[1;31m---------------------------------------------------------------------------\u001B[0m",
      "\u001B[1;31mNameError\u001B[0m                                 Traceback (most recent call last)",
      "Cell \u001B[1;32mIn[6], line 2\u001B[0m\n\u001B[0;32m      1\u001B[0m \u001B[38;5;28;01mimport\u001B[39;00m \u001B[38;5;21;01mlogging\u001B[39;00m\n\u001B[1;32m----> 2\u001B[0m logging\u001B[38;5;241m.\u001B[39mroot\u001B[38;5;241m.\u001B[39maddHandler(logging\u001B[38;5;241m.\u001B[39mStreamHandler(stream\u001B[38;5;241m=\u001B[39m\u001B[43msys\u001B[49m\u001B[38;5;241m.\u001B[39mstderr))\n\u001B[0;32m      3\u001B[0m logging\u001B[38;5;241m.\u001B[39mbasicConfig(level\u001B[38;5;241m=\u001B[39mlogging\u001B[38;5;241m.\u001B[39mINFO, \u001B[38;5;28mformat\u001B[39m\u001B[38;5;241m=\u001B[39m\u001B[38;5;124m'\u001B[39m\u001B[38;5;132;01m%(asctime)s\u001B[39;00m\u001B[38;5;124m - \u001B[39m\u001B[38;5;132;01m%(levelname)s\u001B[39;00m\u001B[38;5;124m - \u001B[39m\u001B[38;5;132;01m%(message)s\u001B[39;00m\u001B[38;5;124m'\u001B[39m)\n\u001B[0;32m      4\u001B[0m logging\u001B[38;5;241m.\u001B[39minfo(\u001B[38;5;124m'\u001B[39m\u001B[38;5;124m日志信息\u001B[39m\u001B[38;5;124m'\u001B[39m)\n",
      "\u001B[1;31mNameError\u001B[0m: name 'sys' is not defined"
     ]
    }
   ],
   "execution_count": 6
  },
  {
   "cell_type": "code",
   "metadata": {
    "attributes": {
     "classes": [
      ""
     ],
     "id": ""
    },
    "scrolled": false,
    "ExecuteTime": {
     "end_time": "2024-09-04T12:06:37.322501Z",
     "start_time": "2024-09-04T11:50:43.424807Z"
    }
   },
   "source": [
    "from sdv.relational import HMA1\n",
    "import sys\n",
    "import warnings\n",
    "warnings.filterwarnings('ignore')\n",
    "#from tutorials.newhma import NewModel as HMA1\n",
    "from tutorials.redirector import WriteableRedirector\n",
    "logging.root.addHandler(logging.StreamHandler(stream=sys.stderr))\n",
    "\n",
    "with WriteableRedirector():\n",
    "    model = HMA1(metadata)\n",
    "    model.fit(tables)"
   ],
   "outputs": [
    {
     "ename": "KeyboardInterrupt",
     "evalue": "",
     "output_type": "error",
     "traceback": [
      "\u001B[1;31m---------------------------------------------------------------------------\u001B[0m",
      "\u001B[1;31mKeyboardInterrupt\u001B[0m                         Traceback (most recent call last)",
      "Cell \u001B[1;32mIn[10], line 11\u001B[0m\n\u001B[0;32m      9\u001B[0m \u001B[38;5;28;01mwith\u001B[39;00m WriteableRedirector():\n\u001B[0;32m     10\u001B[0m     model \u001B[38;5;241m=\u001B[39m HMA1(metadata)\n\u001B[1;32m---> 11\u001B[0m     \u001B[43mmodel\u001B[49m\u001B[38;5;241;43m.\u001B[39;49m\u001B[43mfit\u001B[49m\u001B[43m(\u001B[49m\u001B[43mtables\u001B[49m\u001B[43m)\u001B[49m\n",
      "File \u001B[1;32m~\\Desktop\\GitHub\\SDV\\sdv\\relational\\base.py:63\u001B[0m, in \u001B[0;36mBaseRelationalModel.fit\u001B[1;34m(self, tables)\u001B[0m\n\u001B[0;32m     54\u001B[0m \u001B[38;5;28;01mdef\u001B[39;00m \u001B[38;5;21mfit\u001B[39m(\u001B[38;5;28mself\u001B[39m, tables\u001B[38;5;241m=\u001B[39m\u001B[38;5;28;01mNone\u001B[39;00m):\n\u001B[0;32m     55\u001B[0m \u001B[38;5;250m    \u001B[39m\u001B[38;5;124;03m\"\"\"Fit this relational model instance to the dataset data.\u001B[39;00m\n\u001B[0;32m     56\u001B[0m \n\u001B[0;32m     57\u001B[0m \u001B[38;5;124;03m    Args:\u001B[39;00m\n\u001B[1;32m   (...)\u001B[0m\n\u001B[0;32m     61\u001B[0m \u001B[38;5;124;03m            indicated in ``metadata``. Defaults to ``None``.\u001B[39;00m\n\u001B[0;32m     62\u001B[0m \u001B[38;5;124;03m    \"\"\"\u001B[39;00m\n\u001B[1;32m---> 63\u001B[0m     \u001B[38;5;28;43mself\u001B[39;49m\u001B[38;5;241;43m.\u001B[39;49m\u001B[43m_fit\u001B[49m\u001B[43m(\u001B[49m\u001B[43mtables\u001B[49m\u001B[43m)\u001B[49m\n\u001B[0;32m     64\u001B[0m     \u001B[38;5;28mself\u001B[39m\u001B[38;5;241m.\u001B[39mfitted \u001B[38;5;241m=\u001B[39m \u001B[38;5;28;01mTrue\u001B[39;00m\n",
      "File \u001B[1;32m~\\Desktop\\GitHub\\SDV\\sdv\\relational\\hma.py:285\u001B[0m, in \u001B[0;36mHMA1._fit\u001B[1;34m(self, tables)\u001B[0m\n\u001B[0;32m    283\u001B[0m \u001B[38;5;28;01mfor\u001B[39;00m table_name \u001B[38;5;129;01min\u001B[39;00m \u001B[38;5;28mself\u001B[39m\u001B[38;5;241m.\u001B[39mmetadata\u001B[38;5;241m.\u001B[39mget_tables():\n\u001B[0;32m    284\u001B[0m     \u001B[38;5;28;01mif\u001B[39;00m \u001B[38;5;129;01mnot\u001B[39;00m \u001B[38;5;28mself\u001B[39m\u001B[38;5;241m.\u001B[39mmetadata\u001B[38;5;241m.\u001B[39mget_parents(table_name):\n\u001B[1;32m--> 285\u001B[0m         \u001B[38;5;28;43mself\u001B[39;49m\u001B[38;5;241;43m.\u001B[39;49m\u001B[43m_model_table\u001B[49m\u001B[43m(\u001B[49m\u001B[43mtable_name\u001B[49m\u001B[43m,\u001B[49m\u001B[43m \u001B[49m\u001B[43mtables\u001B[49m\u001B[43m)\u001B[49m\n\u001B[0;32m    287\u001B[0m LOGGER\u001B[38;5;241m.\u001B[39minfo(\u001B[38;5;124m'\u001B[39m\u001B[38;5;124mModeling Complete\u001B[39m\u001B[38;5;124m'\u001B[39m)\n",
      "File \u001B[1;32m~\\Desktop\\GitHub\\SDV\\sdv\\relational\\hma.py:248\u001B[0m, in \u001B[0;36mHMA1._model_table\u001B[1;34m(self, table_name, tables)\u001B[0m\n\u001B[0;32m    246\u001B[0m \u001B[38;5;28;01mif\u001B[39;00m primary_key:\n\u001B[0;32m    247\u001B[0m     table \u001B[38;5;241m=\u001B[39m table\u001B[38;5;241m.\u001B[39mset_index(primary_key)\n\u001B[1;32m--> 248\u001B[0m     table \u001B[38;5;241m=\u001B[39m \u001B[38;5;28;43mself\u001B[39;49m\u001B[38;5;241;43m.\u001B[39;49m\u001B[43m_extend_table\u001B[49m\u001B[43m(\u001B[49m\u001B[43mtable\u001B[49m\u001B[43m,\u001B[49m\u001B[43m \u001B[49m\u001B[43mtables\u001B[49m\u001B[43m,\u001B[49m\u001B[43m \u001B[49m\u001B[43mtable_name\u001B[49m\u001B[43m)\u001B[49m\n\u001B[0;32m    250\u001B[0m table_meta, keys \u001B[38;5;241m=\u001B[39m \u001B[38;5;28mself\u001B[39m\u001B[38;5;241m.\u001B[39m_prepare_for_modeling(table, table_name, primary_key)\n\u001B[0;32m    252\u001B[0m LOGGER\u001B[38;5;241m.\u001B[39minfo(\u001B[38;5;124m'\u001B[39m\u001B[38;5;124mFitting \u001B[39m\u001B[38;5;132;01m%s\u001B[39;00m\u001B[38;5;124m for table \u001B[39m\u001B[38;5;132;01m%s\u001B[39;00m\u001B[38;5;124m; shape: \u001B[39m\u001B[38;5;132;01m%s\u001B[39;00m\u001B[38;5;124m'\u001B[39m, \u001B[38;5;28mself\u001B[39m\u001B[38;5;241m.\u001B[39m_model\u001B[38;5;241m.\u001B[39m\u001B[38;5;18m__name__\u001B[39m,\n\u001B[0;32m    253\u001B[0m             table_name, table\u001B[38;5;241m.\u001B[39mshape)\n",
      "File \u001B[1;32m~\\Desktop\\GitHub\\SDV\\sdv\\relational\\hma.py:166\u001B[0m, in \u001B[0;36mHMA1._extend_table\u001B[1;34m(self, table, tables, table_name)\u001B[0m\n\u001B[0;32m    164\u001B[0m \u001B[38;5;28;01mfor\u001B[39;00m index, foreign_key \u001B[38;5;129;01min\u001B[39;00m \u001B[38;5;28menumerate\u001B[39m(foreign_keys):\n\u001B[0;32m    165\u001B[0m     extension \u001B[38;5;241m=\u001B[39m \u001B[38;5;28mself\u001B[39m\u001B[38;5;241m.\u001B[39m_get_extension(child_name, child_table, foreign_key)\n\u001B[1;32m--> 166\u001B[0m     table \u001B[38;5;241m=\u001B[39m \u001B[43mtable\u001B[49m\u001B[38;5;241m.\u001B[39mmerge(extension, how\u001B[38;5;241m=\u001B[39m\u001B[38;5;124m'\u001B[39m\u001B[38;5;124mleft\u001B[39m\u001B[38;5;124m'\u001B[39m, right_index\u001B[38;5;241m=\u001B[39m\u001B[38;5;28;01mTrue\u001B[39;00m, left_index\u001B[38;5;241m=\u001B[39m\u001B[38;5;28;01mTrue\u001B[39;00m)\n\u001B[0;32m    167\u001B[0m     num_rows_key \u001B[38;5;241m=\u001B[39m \u001B[38;5;124mf\u001B[39m\u001B[38;5;124m'\u001B[39m\u001B[38;5;124m__\u001B[39m\u001B[38;5;132;01m{\u001B[39;00mchild_name\u001B[38;5;132;01m}\u001B[39;00m\u001B[38;5;124m__\u001B[39m\u001B[38;5;132;01m{\u001B[39;00mforeign_key\u001B[38;5;132;01m}\u001B[39;00m\u001B[38;5;124m__num_rows\u001B[39m\u001B[38;5;124m'\u001B[39m\n\u001B[0;32m    168\u001B[0m     table[num_rows_key]\u001B[38;5;241m.\u001B[39mfillna(\u001B[38;5;241m0\u001B[39m, inplace\u001B[38;5;241m=\u001B[39m\u001B[38;5;28;01mTrue\u001B[39;00m)\n",
      "File \u001B[1;32m~\\Desktop\\GitHub\\SDV\\sdv\\relational\\hma.py:166\u001B[0m, in \u001B[0;36mHMA1._extend_table\u001B[1;34m(self, table, tables, table_name)\u001B[0m\n\u001B[0;32m    164\u001B[0m \u001B[38;5;28;01mfor\u001B[39;00m index, foreign_key \u001B[38;5;129;01min\u001B[39;00m \u001B[38;5;28menumerate\u001B[39m(foreign_keys):\n\u001B[0;32m    165\u001B[0m     extension \u001B[38;5;241m=\u001B[39m \u001B[38;5;28mself\u001B[39m\u001B[38;5;241m.\u001B[39m_get_extension(child_name, child_table, foreign_key)\n\u001B[1;32m--> 166\u001B[0m     table \u001B[38;5;241m=\u001B[39m \u001B[43mtable\u001B[49m\u001B[38;5;241m.\u001B[39mmerge(extension, how\u001B[38;5;241m=\u001B[39m\u001B[38;5;124m'\u001B[39m\u001B[38;5;124mleft\u001B[39m\u001B[38;5;124m'\u001B[39m, right_index\u001B[38;5;241m=\u001B[39m\u001B[38;5;28;01mTrue\u001B[39;00m, left_index\u001B[38;5;241m=\u001B[39m\u001B[38;5;28;01mTrue\u001B[39;00m)\n\u001B[0;32m    167\u001B[0m     num_rows_key \u001B[38;5;241m=\u001B[39m \u001B[38;5;124mf\u001B[39m\u001B[38;5;124m'\u001B[39m\u001B[38;5;124m__\u001B[39m\u001B[38;5;132;01m{\u001B[39;00mchild_name\u001B[38;5;132;01m}\u001B[39;00m\u001B[38;5;124m__\u001B[39m\u001B[38;5;132;01m{\u001B[39;00mforeign_key\u001B[38;5;132;01m}\u001B[39;00m\u001B[38;5;124m__num_rows\u001B[39m\u001B[38;5;124m'\u001B[39m\n\u001B[0;32m    168\u001B[0m     table[num_rows_key]\u001B[38;5;241m.\u001B[39mfillna(\u001B[38;5;241m0\u001B[39m, inplace\u001B[38;5;241m=\u001B[39m\u001B[38;5;28;01mTrue\u001B[39;00m)\n",
      "File \u001B[1;32mC:\\Program Files\\JetBrains\\PyCharm 2024.1.4\\plugins\\python\\helpers\\pydev\\_pydevd_bundle\\pydevd_trace_dispatch.py:92\u001B[0m, in \u001B[0;36mtrace_dispatch\u001B[1;34m(py_db, frame, event, arg)\u001B[0m\n\u001B[0;32m     90\u001B[0m \u001B[38;5;28;01mif\u001B[39;00m _trace_dispatch \u001B[38;5;129;01mis\u001B[39;00m \u001B[38;5;28;01mNone\u001B[39;00m:\n\u001B[0;32m     91\u001B[0m     \u001B[38;5;28;01mreturn\u001B[39;00m \u001B[38;5;28;01mNone\u001B[39;00m\n\u001B[1;32m---> 92\u001B[0m \u001B[38;5;28;01mreturn\u001B[39;00m \u001B[43m_trace_dispatch\u001B[49m\u001B[43m(\u001B[49m\u001B[43mpy_db\u001B[49m\u001B[43m,\u001B[49m\u001B[43m \u001B[49m\u001B[43mframe\u001B[49m\u001B[43m,\u001B[49m\u001B[43m \u001B[49m\u001B[43mevent\u001B[49m\u001B[43m,\u001B[49m\u001B[43m \u001B[49m\u001B[43marg\u001B[49m\u001B[43m)\u001B[49m\n",
      "File \u001B[1;32m_pydevd_bundle\\pydevd_cython_win32_38_64.pyx:1337\u001B[0m, in \u001B[0;36m_pydevd_bundle.pydevd_cython_win32_38_64.trace_dispatch\u001B[1;34m()\u001B[0m\n",
      "File \u001B[1;32m_pydevd_bundle\\pydevd_cython_win32_38_64.pyx:1597\u001B[0m, in \u001B[0;36m_pydevd_bundle.pydevd_cython_win32_38_64.ThreadTracer.__call__\u001B[1;34m()\u001B[0m\n",
      "File \u001B[1;32m_pydevd_bundle\\pydevd_cython_win32_38_64.pyx:1103\u001B[0m, in \u001B[0;36m_pydevd_bundle.pydevd_cython_win32_38_64.PyDBFrame.trace_dispatch\u001B[1;34m()\u001B[0m\n",
      "File \u001B[1;32m_pydevd_bundle\\pydevd_cython_win32_38_64.pyx:1065\u001B[0m, in \u001B[0;36m_pydevd_bundle.pydevd_cython_win32_38_64.PyDBFrame.trace_dispatch\u001B[1;34m()\u001B[0m\n",
      "File \u001B[1;32m_pydevd_bundle\\pydevd_cython_win32_38_64.pyx:585\u001B[0m, in \u001B[0;36m_pydevd_bundle.pydevd_cython_win32_38_64.PyDBFrame.do_wait_suspend\u001B[1;34m()\u001B[0m\n",
      "File \u001B[1;32mC:\\Program Files\\JetBrains\\PyCharm 2024.1.4\\plugins\\python\\helpers\\pydev\\pydevd.py:1201\u001B[0m, in \u001B[0;36mPyDB.do_wait_suspend\u001B[1;34m(self, thread, frame, event, arg, send_suspend_message, is_unhandled_exception)\u001B[0m\n\u001B[0;32m   1198\u001B[0m         from_this_thread\u001B[38;5;241m.\u001B[39mappend(frame_id)\n\u001B[0;32m   1200\u001B[0m \u001B[38;5;28;01mwith\u001B[39;00m \u001B[38;5;28mself\u001B[39m\u001B[38;5;241m.\u001B[39m_threads_suspended_single_notification\u001B[38;5;241m.\u001B[39mnotify_thread_suspended(thread_id, stop_reason):\n\u001B[1;32m-> 1201\u001B[0m     \u001B[38;5;28;43mself\u001B[39;49m\u001B[38;5;241;43m.\u001B[39;49m\u001B[43m_do_wait_suspend\u001B[49m\u001B[43m(\u001B[49m\u001B[43mthread\u001B[49m\u001B[43m,\u001B[49m\u001B[43m \u001B[49m\u001B[43mframe\u001B[49m\u001B[43m,\u001B[49m\u001B[43m \u001B[49m\u001B[43mevent\u001B[49m\u001B[43m,\u001B[49m\u001B[43m \u001B[49m\u001B[43marg\u001B[49m\u001B[43m,\u001B[49m\u001B[43m \u001B[49m\u001B[43msuspend_type\u001B[49m\u001B[43m,\u001B[49m\u001B[43m \u001B[49m\u001B[43mfrom_this_thread\u001B[49m\u001B[43m)\u001B[49m\n",
      "File \u001B[1;32mC:\\Program Files\\JetBrains\\PyCharm 2024.1.4\\plugins\\python\\helpers\\pydev\\pydevd.py:1216\u001B[0m, in \u001B[0;36mPyDB._do_wait_suspend\u001B[1;34m(self, thread, frame, event, arg, suspend_type, from_this_thread)\u001B[0m\n\u001B[0;32m   1213\u001B[0m             \u001B[38;5;28mself\u001B[39m\u001B[38;5;241m.\u001B[39m_call_mpl_hook()\n\u001B[0;32m   1215\u001B[0m         \u001B[38;5;28mself\u001B[39m\u001B[38;5;241m.\u001B[39mprocess_internal_commands()\n\u001B[1;32m-> 1216\u001B[0m         \u001B[43mtime\u001B[49m\u001B[38;5;241;43m.\u001B[39;49m\u001B[43msleep\u001B[49m\u001B[43m(\u001B[49m\u001B[38;5;241;43m0.01\u001B[39;49m\u001B[43m)\u001B[49m\n\u001B[0;32m   1218\u001B[0m \u001B[38;5;28mself\u001B[39m\u001B[38;5;241m.\u001B[39mcancel_async_evaluation(get_current_thread_id(thread), \u001B[38;5;28mstr\u001B[39m(\u001B[38;5;28mid\u001B[39m(frame)))\n\u001B[0;32m   1220\u001B[0m \u001B[38;5;66;03m# process any stepping instructions\u001B[39;00m\n",
      "\u001B[1;31mKeyboardInterrupt\u001B[0m: "
     ]
    }
   ],
   "execution_count": 10
  },
  {
   "cell_type": "markdown",
   "metadata": {},
   "source": [
    "<div class=\"alert alert-info\">\n",
    "\n",
    "**Note**\n",
    "\n",
    "During the previous steps SDV walked through all the tables in the\n",
    "dataset following the relationships specified by the metadata, learned\n",
    "each table using a [gaussian_copula](gaussian_copula.ipynb) and\n",
    "then augmented the parent tables using the copula parameters before\n",
    "learning them. By doing this, each copula model was able to learn how\n",
    "the child table rows were related to their parent tables.\n",
    "\n",
    "</div>\n",
    "\n",
    "### Generate synthetic data from the model\n",
    "\n",
    "Once the training process has finished you are ready to generate new\n",
    "synthetic data by calling the `sample` method from your model."
   ]
  },
  {
   "cell_type": "code",
   "metadata": {
    "attributes": {
     "classes": [
      ""
     ],
     "id": ""
    }
   },
   "source": [
    "new_data = model.sample()"
   ],
   "outputs": [],
   "execution_count": null
  },
  {
   "cell_type": "markdown",
   "metadata": {},
   "source": [
    "This will return a dictionary of tables identical to the one which the\n",
    "model was fitted on, but filled with new data which resembles the\n",
    "original one."
   ]
  },
  {
   "cell_type": "code",
   "metadata": {
    "attributes": {
     "classes": [
      ""
     ],
     "id": ""
    }
   },
   "source": [
    "display_tables(new_data)"
   ],
   "outputs": [],
   "execution_count": null
  },
  {
   "cell_type": "code",
   "metadata": {},
   "source": [
    "for name, table in new_data.items():\n",
    "    print(name, table.shape)"
   ],
   "outputs": [],
   "execution_count": null
  },
  {
   "cell_type": "markdown",
   "metadata": {},
   "source": [
    "### Save and Load the model\n",
    "\n",
    "In many scenarios it will be convenient to generate synthetic versions\n",
    "of your data directly in systems that do not have access to the original\n",
    "data source. For example, if you may want to generate testing data on\n",
    "the fly inside a testing environment that does not have access to your\n",
    "production database. In these scenarios, fitting the model with real\n",
    "data every time that you need to generate new data is feasible, so you\n",
    "will need to fit a model in your production environment, save the fitted\n",
    "model into a file, send this file to the testing environment and then\n",
    "load it there to be able to `sample` from it.\n",
    "\n",
    "Let's see how this process works.\n",
    "\n",
    "#### Save and share the model\n",
    "\n",
    "Once you have fitted the model, all you need to do is call its `save`\n",
    "method passing the name of the file in which you want to save the model.\n",
    "Note that the extension of the filename is not relevant, but we will be\n",
    "using the `.pkl` extension to highlight that the serialization protocol\n",
    "used is [cloudpickle](https://github.com/cloudpipe/cloudpickle)."
   ]
  },
  {
   "cell_type": "code",
   "metadata": {
    "attributes": {
     "classes": [
      ""
     ],
     "id": ""
    }
   },
   "source": [
    "model.save('my_model.pkl')"
   ],
   "outputs": [],
   "execution_count": null
  },
  {
   "cell_type": "markdown",
   "metadata": {},
   "source": [
    "This will have created a file called `my_model.pkl` in the same\n",
    "directory in which you are running SDV.\n",
    "\n",
    "<div class=\"alert alert-info\">\n",
    "\n",
    "**Important**\n",
    "\n",
    "If you inspect the generated file you will notice that its size is much\n",
    "smaller than the size of the data that you used to generate it. This is\n",
    "because the serialized model contains **no information about the\n",
    "original data**, other than the parameters it needs to generate\n",
    "synthetic versions of it. This means that you can safely share this\n",
    "`my_model.pkl` file without the risk of disclosing any of your real\n",
    "data!\n",
    "\n",
    "</div>\n",
    "\n",
    "#### Load the model and generate new data\n",
    "\n",
    "The file you just generated can be sent over to the system where the\n",
    "synthetic data will be generated. Once it is there, you can load it\n",
    "using the `HMA1.load` method, and then you are ready to sample new data\n",
    "from the loaded instance:"
   ]
  },
  {
   "cell_type": "code",
   "metadata": {
    "attributes": {
     "classes": [
      ""
     ],
     "id": ""
    }
   },
   "source": [
    "loaded = HMA1.load('my_model.pkl')\n",
    "new_data = loaded.sample()\n",
    "new_data.keys()"
   ],
   "outputs": [],
   "execution_count": null
  },
  {
   "cell_type": "markdown",
   "metadata": {},
   "source": [
    "<div class=\"alert alert-warning\">\n",
    "\n",
    "**Warning**\n",
    "\n",
    "Notice that the system where the model is loaded needs to also have\n",
    "`sdv` installed, otherwise it will not be able to load the model and use\n",
    "it.\n",
    "\n",
    "</div>\n",
    "\n",
    "### How to control the number of rows?\n",
    "\n",
    "In the steps above we did not tell the model at any moment how many rows\n",
    "we wanted to sample, so it produced as many rows as there were in the\n",
    "original dataset.\n",
    "\n",
    "If you want to produce a different number of rows you can pass it as the\n",
    "`num_rows` argument and it will produce the indicated number of rows:"
   ]
  },
  {
   "cell_type": "code",
   "metadata": {
    "attributes": {
     "classes": [
      ""
     ],
     "id": ""
    }
   },
   "source": [
    "model.sample(num_rows=5)"
   ],
   "outputs": [],
   "execution_count": null
  },
  {
   "cell_type": "markdown",
   "metadata": {},
   "source": [
    "<div class=\"alert alert-info\">\n",
    "\n",
    "**Note**\n",
    "\n",
    "Notice that the root table `users` has the indicated number of rows but\n",
    "some of the other tables do not. This is because the number of rows from\n",
    "the child tables is sampled based on the values form the parent table,\n",
    "which means that only the root table of the dataset is affected by the\n",
    "passed `num_rows` argument.\n",
    "\n",
    "</div>\n",
    "\n",
    "### Can I sample a subset of the tables?\n",
    "\n",
    "In some occasions you will not be interested in generating rows for the\n",
    "entire dataset and would rather generate data for only one table and its\n",
    "children.\n",
    "\n",
    "To do this you can simply pass the name of the table that you want to\n",
    "sample.\n",
    "\n",
    "For example, pass the name `sessions` to the `sample` method, the model\n",
    "will only generate data for the `sessions` table and its child table,\n",
    "`transactions`."
   ]
  },
  {
   "cell_type": "code",
   "metadata": {
    "attributes": {
     "classes": [
      ""
     ],
     "id": ""
    }
   },
   "source": [
    "model.sample('sessions', num_rows=5)"
   ],
   "outputs": [],
   "execution_count": null
  },
  {
   "cell_type": "markdown",
   "metadata": {},
   "source": [
    "If you want to further restrict the sampling process to only one table\n",
    "and also skip its child tables, you can add the argument\n",
    "`sample_children=False`.\n",
    "\n",
    "For example, you can sample data from the table `users` only without\n",
    "producing any rows for the tables `sessions` and `transactions`."
   ]
  },
  {
   "cell_type": "code",
   "metadata": {
    "attributes": {
     "classes": [
      ""
     ],
     "id": ""
    }
   },
   "source": [
    "model.sample('users', num_rows=5, sample_children=False)"
   ],
   "outputs": [],
   "execution_count": null
  },
  {
   "cell_type": "markdown",
   "metadata": {},
   "source": [
    "<div class=\"alert alert-info\">\n",
    "\n",
    "**Note**\n",
    "\n",
    "In this case, since we are only producing a single table, the output is\n",
    "given directly as a `pandas.DataFrame` instead of a dictionary.\n",
    "\n",
    "</div>"
   ]
  }
 ],
 "metadata": {
  "kernelspec": {
   "display_name": "Python 3",
   "language": "python",
   "name": "python3"
  },
  "language_info": {
   "codemirror_mode": {
    "name": "ipython",
    "version": 3
   },
   "file_extension": ".py",
   "mimetype": "text/x-python",
   "name": "python",
   "nbconvert_exporter": "python",
   "pygments_lexer": "ipython3",
   "version": "3.8.5"
  }
 },
 "nbformat": 4,
 "nbformat_minor": 4
}
