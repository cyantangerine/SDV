{
 "cells": [
  {
   "cell_type": "code",
   "execution_count": null,
   "metadata": {
    "ExecuteTime": {
     "end_time": "2024-09-23T08:28:29.697418Z",
     "start_time": "2024-09-23T08:28:26.965292Z"
    },
    "attributes": {
     "classes": [
      ""
     ],
     "id": ""
    }
   },
   "outputs": [],
   "source": [
    "from sdv import Metadata\n",
    "import os\n",
    "\n",
    "print(os.getcwd())\n",
    "from test_20_tables import fetch_data_from_sqlite\n",
    "\n",
    "metadata, tables = fetch_data_from_sqlite()\n",
    "metadata = Metadata(metadata)\n",
    "metadata"
   ]
  },
  {
   "cell_type": "code",
   "execution_count": 5,
   "metadata": {
    "ExecuteTime": {
     "end_time": "2024-09-23T08:28:32.378234Z",
     "start_time": "2024-09-23T08:28:32.359239Z"
    }
   },
   "outputs": [],
   "source": [
    "metadata.to_json(\"1.json\")"
   ]
  },
  {
   "cell_type": "code",
   "execution_count": null,
   "metadata": {
    "ExecuteTime": {
     "end_time": "2024-09-23T08:28:47.442458Z",
     "start_time": "2024-09-23T08:28:33.790095Z"
    },
    "attributes": {
     "classes": [
      ""
     ],
     "id": ""
    }
   },
   "outputs": [],
   "source": [
    "#from sdv.utils import display_tables\n",
    "\n",
    "#display_tables(tables)\n",
    "for name, table in tables.items():\n",
    "    print(name, table.shape)\n",
    "from test_20_tables import save_tables\n",
    "save_tables(tables, \"input.xlsx\")"
   ]
  },
  {
   "cell_type": "code",
   "execution_count": null,
   "metadata": {
    "attributes": {
     "classes": [
      ""
     ],
     "id": ""
    },
    "scrolled": false
   },
   "outputs": [],
   "source": [
    "from sdv.relational import HMA1\n",
    "import sys\n",
    "import warnings\n",
    "warnings.filterwarnings('ignore')\n",
    "#from tutorials.newhma import NewModel as HMA1\n",
    "#from tutorials.redirector import WriteableRedirector\n",
    "\n",
    "#with WriteableRedirector():\n",
    "model = HMA1(metadata)    "
   ]
  },
  {
   "cell_type": "code",
   "execution_count": null,
   "metadata": {},
   "outputs": [],
   "source": [
    "import logging\n",
    "formatter = logging.Formatter('%(asctime)s - %(name)s - %(levelname)s - %(message)s')# Configure stream handler for the cells\n",
    "chandler = logging.StreamHandler()\n",
    "chandler.setLevel(logging.WARNING)\n",
    "chandler.setFormatter(formatter)\n",
    "logging.basicConfig(handlers=[logging.FileHandler('sdv.log'), chandler])\n",
    "logging.log(0, \"1223\")"
   ]
  },
  {
   "cell_type": "code",
   "execution_count": null,
   "metadata": {},
   "outputs": [],
   "source": [
    "print(11)\n",
    "model.fit(tables)"
   ]
  },
  {
   "cell_type": "markdown",
   "metadata": {},
   "source": [
    "3s"
   ]
  },
  {
   "cell_type": "code",
   "execution_count": null,
   "metadata": {
    "attributes": {
     "classes": [
      ""
     ],
     "id": ""
    }
   },
   "outputs": [],
   "source": [
    "new_data = model.sample()\n",
    "new_data"
   ]
  },
  {
   "cell_type": "markdown",
   "metadata": {},
   "source": [
    "8s，很快"
   ]
  },
  {
   "cell_type": "code",
   "execution_count": null,
   "metadata": {},
   "outputs": [],
   "source": [
    "save_tables(new_data)"
   ]
  },
  {
   "cell_type": "code",
   "execution_count": null,
   "metadata": {},
   "outputs": [],
   "source": [
    "for name, table in new_data.items():\n",
    "    print(name, table.shape)"
   ]
  },
  {
   "cell_type": "code",
   "execution_count": null,
   "metadata": {
    "attributes": {
     "classes": [
      ""
     ],
     "id": ""
    }
   },
   "outputs": [],
   "source": [
    "model.save('my_model_10k.pkl')"
   ]
  },
  {
   "cell_type": "code",
   "execution_count": 1,
   "metadata": {},
   "outputs": [],
   "source": [
    "from sdv.relational import HMA1\n",
    "import warnings\n",
    "import pickle\n",
    "warnings.filterwarnings('ignore')\n",
    "loaded: HMA1 = HMA1.load('my_model_10k.pkl')"
   ]
  },
  {
   "cell_type": "code",
   "execution_count": null,
   "metadata": {
    "ExecuteTime": {
     "end_time": "2024-09-23T08:29:12.178484Z",
     "start_time": "2024-09-23T08:28:57.705466Z"
    },
    "attributes": {
     "classes": [
      ""
     ],
     "id": ""
    }
   },
   "outputs": [],
   "source": [
    "new_data = loaded.sample(not_finalized=True)\n",
    "new_data.keys()\n",
    "\n",
    "pickle.dump(new_data, open('my_sample_not_finalized.pkl', 'wb'))"
   ]
  },
  {
   "cell_type": "code",
   "execution_count": null,
   "metadata": {
    "attributes": {
     "classes": [
      ""
     ],
     "id": ""
    }
   },
   "outputs": [],
   "source": [
    "model = loaded\n",
    "data_not_finalized = model.sample(num_rows=100, not_finalized=True)"
   ]
  },
  {
   "cell_type": "code",
   "execution_count": 8,
   "metadata": {},
   "outputs": [],
   "source": [
    "pickle.dump(data_not_finalized, open('data_not_finalized_1k.pkl', 'wb'))"
   ]
  },
  {
   "cell_type": "code",
   "execution_count": 3,
   "metadata": {},
   "outputs": [],
   "source": [
    "data_not_finalized = pickle.load(open('data_not_finalized_1k.pkl', 'rb') )"
   ]
  },
  {
   "cell_type": "code",
   "execution_count": 2,
   "metadata": {},
   "outputs": [],
   "source": [
    "data_not_finalized = pickle.load(open('my_sample_not_finalized.pkl', 'rb') )"
   ]
  },
  {
   "cell_type": "code",
   "execution_count": 3,
   "metadata": {},
   "outputs": [
    {
     "data": {
      "application/vnd.jupyter.widget-view+json": {
       "model_id": "3084b7885b0143fd90a7658d82dfd445",
       "version_major": 2,
       "version_minor": 0
      },
      "text/plain": [
       "  0%|          | 0/20 [00:00<?, ?it/s]"
      ]
     },
     "metadata": {},
     "output_type": "display_data"
    },
    {
     "data": {
      "application/vnd.jupyter.widget-view+json": {
       "model_id": "0fb7d3fff4d444e19a4aa126c5a282b0",
       "version_major": 2,
       "version_minor": 0
      },
      "text/plain": [
       "Enrollment:   0%|          | 0/2 [00:00<?, ?it/s]"
      ]
     },
     "metadata": {},
     "output_type": "display_data"
    },
    {
     "data": {
      "application/vnd.jupyter.widget-view+json": {
       "model_id": "c3a43d687c5641adb63a6880e188d049",
       "version_major": 2,
       "version_minor": 0
      },
      "text/plain": [
       "Enrollment course_id Likelihoods:   0%|          | 0/10000 [00:00<?, ?it/s]"
      ]
     },
     "metadata": {},
     "output_type": "display_data"
    },
    {
     "data": {
      "application/vnd.jupyter.widget-view+json": {
       "model_id": "3dc9d3001c414bb985878f2bba205ebc",
       "version_major": 2,
       "version_minor": 0
      },
      "text/plain": [
       "Submission:   0%|          | 0/2 [00:00<?, ?it/s]"
      ]
     },
     "metadata": {},
     "output_type": "display_data"
    },
    {
     "data": {
      "application/vnd.jupyter.widget-view+json": {
       "model_id": "d27377b4e93d48b3b683f96679f6571d",
       "version_major": 2,
       "version_minor": 0
      },
      "text/plain": [
       "Submission assignment_id Likelihoods:   0%|          | 0/10783 [00:00<?, ?it/s]"
      ]
     },
     "metadata": {},
     "output_type": "display_data"
    },
    {
     "ename": "KeyboardInterrupt",
     "evalue": "",
     "output_type": "error",
     "traceback": [
      "\u001b[1;31m---------------------------------------------------------------------------\u001b[0m",
      "\u001b[1;31mKeyboardInterrupt\u001b[0m                         Traceback (most recent call last)",
      "Cell \u001b[1;32mIn[3], line 2\u001b[0m\n\u001b[0;32m      1\u001b[0m model \u001b[38;5;241m=\u001b[39m loaded\n\u001b[1;32m----> 2\u001b[0m \u001b[43mmodel\u001b[49m\u001b[38;5;241;43m.\u001b[39;49m\u001b[43mfinalize\u001b[49m\u001b[43m(\u001b[49m\u001b[43mdata_not_finalized\u001b[49m\u001b[43m)\u001b[49m\n",
      "File \u001b[1;32m~\\Desktop\\GitHub\\SDV\\sdv\\relational\\hma.py:334\u001b[0m, in \u001b[0;36mHMA1.finalize\u001b[1;34m(self, sampled_data)\u001b[0m\n\u001b[0;32m    333\u001b[0m \u001b[38;5;28;01mdef\u001b[39;00m \u001b[38;5;21mfinalize\u001b[39m(\u001b[38;5;28mself\u001b[39m, sampled_data):\n\u001b[1;32m--> 334\u001b[0m     \u001b[38;5;28;01mreturn\u001b[39;00m \u001b[38;5;28;43mself\u001b[39;49m\u001b[38;5;241;43m.\u001b[39;49m\u001b[43m_finalize\u001b[49m\u001b[43m(\u001b[49m\u001b[43msampled_data\u001b[49m\u001b[43m)\u001b[49m\n",
      "File \u001b[1;32m~\\Desktop\\GitHub\\SDV\\sdv\\relational\\hma.py:319\u001b[0m, in \u001b[0;36mHMA1._finalize\u001b[1;34m(self, sampled_data)\u001b[0m\n\u001b[0;32m    317\u001b[0m         \u001b[38;5;28;01mfor\u001b[39;00m foreign_key \u001b[38;5;129;01min\u001b[39;00m tqdm\u001b[38;5;241m.\u001b[39mtqdm(foreign_keys, desc\u001b[38;5;241m=\u001b[39m\u001b[38;5;124mf\u001b[39m\u001b[38;5;124m\"\u001b[39m\u001b[38;5;132;01m{\u001b[39;00mtable_name\u001b[38;5;132;01m}\u001b[39;00m\u001b[38;5;124m:\u001b[39m\u001b[38;5;132;01m{\u001b[39;00mparent_name\u001b[38;5;132;01m}\u001b[39;00m\u001b[38;5;124m\"\u001b[39m, disable\u001b[38;5;241m=\u001b[39m\u001b[38;5;28mlen\u001b[39m(foreign_keys)\u001b[38;5;241m<\u001b[39m\u001b[38;5;241m2\u001b[39m):\n\u001b[0;32m    318\u001b[0m             \u001b[38;5;28;01mif\u001b[39;00m foreign_key \u001b[38;5;129;01mnot\u001b[39;00m \u001b[38;5;129;01min\u001b[39;00m table_rows:\n\u001b[1;32m--> 319\u001b[0m                 parent_ids \u001b[38;5;241m=\u001b[39m \u001b[38;5;28;43mself\u001b[39;49m\u001b[38;5;241;43m.\u001b[39;49m\u001b[43m_find_parent_ids\u001b[49m\u001b[43m(\u001b[49m\n\u001b[0;32m    320\u001b[0m \u001b[43m                    \u001b[49m\u001b[43mtable_name\u001b[49m\u001b[43m,\u001b[49m\u001b[43m \u001b[49m\u001b[43mparent_name\u001b[49m\u001b[43m,\u001b[49m\u001b[43m \u001b[49m\u001b[43mforeign_key\u001b[49m\u001b[43m,\u001b[49m\u001b[43m \u001b[49m\u001b[43msampled_data\u001b[49m\u001b[43m)\u001b[49m\n\u001b[0;32m    321\u001b[0m                 table_rows[foreign_key] \u001b[38;5;241m=\u001b[39m parent_ids\n\u001b[0;32m    323\u001b[0m dtypes \u001b[38;5;241m=\u001b[39m \u001b[38;5;28mself\u001b[39m\u001b[38;5;241m.\u001b[39mmetadata\u001b[38;5;241m.\u001b[39mget_dtypes(table_name, ids\u001b[38;5;241m=\u001b[39m\u001b[38;5;28;01mTrue\u001b[39;00m)\n",
      "File \u001b[1;32m~\\Desktop\\GitHub\\SDV\\sdv\\relational\\hma.py:554\u001b[0m, in \u001b[0;36mHMA1._find_parent_ids\u001b[1;34m(self, table_name, parent_name, foreign_key, sampled_data)\u001b[0m\n\u001b[0;32m    551\u001b[0m parent_rows \u001b[38;5;241m=\u001b[39m parent_rows\u001b[38;5;241m.\u001b[39mset_index(primary_key)\n\u001b[0;32m    552\u001b[0m num_rows \u001b[38;5;241m=\u001b[39m parent_rows[\u001b[38;5;124mf\u001b[39m\u001b[38;5;124m'\u001b[39m\u001b[38;5;124m__\u001b[39m\u001b[38;5;132;01m{\u001b[39;00mtable_name\u001b[38;5;132;01m}\u001b[39;00m\u001b[38;5;124m__\u001b[39m\u001b[38;5;132;01m{\u001b[39;00mforeign_key\u001b[38;5;132;01m}\u001b[39;00m\u001b[38;5;124m__num_rows\u001b[39m\u001b[38;5;124m'\u001b[39m]\u001b[38;5;241m.\u001b[39mfillna(\u001b[38;5;241m0\u001b[39m)\u001b[38;5;241m.\u001b[39mclip(\u001b[38;5;241m0\u001b[39m)\n\u001b[1;32m--> 554\u001b[0m likelihoods \u001b[38;5;241m=\u001b[39m \u001b[38;5;28;43mself\u001b[39;49m\u001b[38;5;241;43m.\u001b[39;49m\u001b[43m_get_likelihoods\u001b[49m\u001b[43m(\u001b[49m\u001b[43mtable_rows\u001b[49m\u001b[43m,\u001b[49m\u001b[43m \u001b[49m\u001b[43mparent_rows\u001b[49m\u001b[43m,\u001b[49m\u001b[43m \u001b[49m\u001b[43mtable_name\u001b[49m\u001b[43m,\u001b[49m\u001b[43m \u001b[49m\u001b[43mforeign_key\u001b[49m\u001b[43m)\u001b[49m\n\u001b[0;32m    555\u001b[0m \u001b[38;5;28;01mreturn\u001b[39;00m likelihoods\u001b[38;5;241m.\u001b[39mapply(\u001b[38;5;28mself\u001b[39m\u001b[38;5;241m.\u001b[39m_find_parent_id, axis\u001b[38;5;241m=\u001b[39m\u001b[38;5;241m1\u001b[39m, num_rows\u001b[38;5;241m=\u001b[39mnum_rows)\n",
      "File \u001b[1;32m~\\Desktop\\GitHub\\SDV\\sdv\\relational\\hma.py:513\u001b[0m, in \u001b[0;36mHMA1._get_likelihoods\u001b[1;34m(self, table_rows, parent_rows, table_name, foreign_key)\u001b[0m\n\u001b[0;32m    511\u001b[0m model\u001b[38;5;241m.\u001b[39mset_parameters(parameters)\n\u001b[0;32m    512\u001b[0m \u001b[38;5;28;01mtry\u001b[39;00m:\n\u001b[1;32m--> 513\u001b[0m     likelihoods[parent_id] \u001b[38;5;241m=\u001b[39m \u001b[43mmodel\u001b[49m\u001b[38;5;241;43m.\u001b[39;49m\u001b[43mget_likelihood\u001b[49m\u001b[43m(\u001b[49m\u001b[43mtable_rows\u001b[49m\u001b[43m)\u001b[49m\n\u001b[0;32m    514\u001b[0m \u001b[38;5;28;01mexcept\u001b[39;00m (\u001b[38;5;167;01mAttributeError\u001b[39;00m, np\u001b[38;5;241m.\u001b[39mlinalg\u001b[38;5;241m.\u001b[39mLinAlgError):\n\u001b[0;32m    515\u001b[0m     likelihoods[parent_id] \u001b[38;5;241m=\u001b[39m \u001b[38;5;28;01mNone\u001b[39;00m\n",
      "File \u001b[1;32m~\\Desktop\\GitHub\\SDV\\sdv\\tabular\\copulas.py:276\u001b[0m, in \u001b[0;36mGaussianCopula.get_likelihood\u001b[1;34m(self, table_data)\u001b[0m\n\u001b[0;32m    274\u001b[0m \u001b[38;5;28;01mdef\u001b[39;00m \u001b[38;5;21mget_likelihood\u001b[39m(\u001b[38;5;28mself\u001b[39m, table_data):\n\u001b[0;32m    275\u001b[0m \u001b[38;5;250m    \u001b[39m\u001b[38;5;124;03m\"\"\"Get the likelihood of each row belonging to this table.\"\"\"\u001b[39;00m\n\u001b[1;32m--> 276\u001b[0m     transformed \u001b[38;5;241m=\u001b[39m \u001b[38;5;28;43mself\u001b[39;49m\u001b[38;5;241;43m.\u001b[39;49m\u001b[43m_metadata\u001b[49m\u001b[38;5;241;43m.\u001b[39;49m\u001b[43mtransform\u001b[49m\u001b[43m(\u001b[49m\u001b[43mtable_data\u001b[49m\u001b[43m)\u001b[49m\n\u001b[0;32m    277\u001b[0m     \u001b[38;5;28;01mreturn\u001b[39;00m \u001b[38;5;28mself\u001b[39m\u001b[38;5;241m.\u001b[39m_model\u001b[38;5;241m.\u001b[39mprobability_density(transformed)\n",
      "File \u001b[1;32m~\\Desktop\\GitHub\\SDV\\sdv\\metadata\\table.py:663\u001b[0m, in \u001b[0;36mTable.transform\u001b[1;34m(self, data, is_condition)\u001b[0m\n\u001b[0;32m    661\u001b[0m LOGGER\u001b[38;5;241m.\u001b[39mdebug(\u001b[38;5;124m'\u001b[39m\u001b[38;5;124mTransforming table \u001b[39m\u001b[38;5;132;01m%s\u001b[39;00m\u001b[38;5;124m'\u001b[39m, \u001b[38;5;28mself\u001b[39m\u001b[38;5;241m.\u001b[39mname)\n\u001b[0;32m    662\u001b[0m \u001b[38;5;28;01mtry\u001b[39;00m:\n\u001b[1;32m--> 663\u001b[0m     \u001b[38;5;28;01mreturn\u001b[39;00m \u001b[38;5;28;43mself\u001b[39;49m\u001b[38;5;241;43m.\u001b[39;49m\u001b[43m_hyper_transformer\u001b[49m\u001b[38;5;241;43m.\u001b[39;49m\u001b[43mtransform_subset\u001b[49m\u001b[43m(\u001b[49m\u001b[43mdata\u001b[49m\u001b[43m)\u001b[49m\n\u001b[0;32m    664\u001b[0m \u001b[38;5;28;01mexcept\u001b[39;00m (rdt\u001b[38;5;241m.\u001b[39merrors\u001b[38;5;241m.\u001b[39mNotFittedError, rdt\u001b[38;5;241m.\u001b[39merrors\u001b[38;5;241m.\u001b[39mError):\n\u001b[0;32m    665\u001b[0m     \u001b[38;5;28;01mreturn\u001b[39;00m data\n",
      "File \u001b[1;32mc:\\Users\\Elvin\\.conda\\envs\\SDV0172\\lib\\site-packages\\rdt\\hyper_transformer.py:766\u001b[0m, in \u001b[0;36mHyperTransformer.transform_subset\u001b[1;34m(self, data)\u001b[0m\n\u001b[0;32m    755\u001b[0m \u001b[38;5;28;01mdef\u001b[39;00m \u001b[38;5;21mtransform_subset\u001b[39m(\u001b[38;5;28mself\u001b[39m, data):\n\u001b[0;32m    756\u001b[0m \u001b[38;5;250m    \u001b[39m\u001b[38;5;124;03m\"\"\"Transform a subset of the fitted data's columns.\u001b[39;00m\n\u001b[0;32m    757\u001b[0m \n\u001b[0;32m    758\u001b[0m \u001b[38;5;124;03m    Args:\u001b[39;00m\n\u001b[1;32m   (...)\u001b[0m\n\u001b[0;32m    764\u001b[0m \u001b[38;5;124;03m            Transformed subset.\u001b[39;00m\n\u001b[0;32m    765\u001b[0m \u001b[38;5;124;03m    \"\"\"\u001b[39;00m\n\u001b[1;32m--> 766\u001b[0m     \u001b[38;5;28;01mreturn\u001b[39;00m \u001b[38;5;28;43mself\u001b[39;49m\u001b[38;5;241;43m.\u001b[39;49m\u001b[43m_transform\u001b[49m\u001b[43m(\u001b[49m\u001b[43mdata\u001b[49m\u001b[43m,\u001b[49m\u001b[43m \u001b[49m\u001b[43mprevent_subset\u001b[49m\u001b[38;5;241;43m=\u001b[39;49m\u001b[38;5;28;43;01mFalse\u001b[39;49;00m\u001b[43m)\u001b[49m\n",
      "File \u001b[1;32mc:\\Users\\Elvin\\.conda\\envs\\SDV0172\\lib\\site-packages\\rdt\\hyper_transformer.py:750\u001b[0m, in \u001b[0;36mHyperTransformer._transform\u001b[1;34m(self, data, prevent_subset)\u001b[0m\n\u001b[0;32m    748\u001b[0m data \u001b[38;5;241m=\u001b[39m data\u001b[38;5;241m.\u001b[39mcopy()\n\u001b[0;32m    749\u001b[0m \u001b[38;5;28;01mfor\u001b[39;00m transformer \u001b[38;5;129;01min\u001b[39;00m \u001b[38;5;28mself\u001b[39m\u001b[38;5;241m.\u001b[39m_transformers_sequence:\n\u001b[1;32m--> 750\u001b[0m     data \u001b[38;5;241m=\u001b[39m \u001b[43mtransformer\u001b[49m\u001b[38;5;241;43m.\u001b[39;49m\u001b[43mtransform\u001b[49m\u001b[43m(\u001b[49m\u001b[43mdata\u001b[49m\u001b[43m,\u001b[49m\u001b[43m \u001b[49m\u001b[43mdrop\u001b[49m\u001b[38;5;241;43m=\u001b[39;49m\u001b[38;5;28;43;01mFalse\u001b[39;49;00m\u001b[43m)\u001b[49m\n\u001b[0;32m    752\u001b[0m transformed_columns \u001b[38;5;241m=\u001b[39m \u001b[38;5;28mself\u001b[39m\u001b[38;5;241m.\u001b[39m_subset(\u001b[38;5;28mself\u001b[39m\u001b[38;5;241m.\u001b[39m_output_columns, data\u001b[38;5;241m.\u001b[39mcolumns)\n\u001b[0;32m    753\u001b[0m \u001b[38;5;28;01mreturn\u001b[39;00m data\u001b[38;5;241m.\u001b[39mreindex(columns\u001b[38;5;241m=\u001b[39mtransformed_columns)\n",
      "File \u001b[1;32mc:\\Users\\Elvin\\.conda\\envs\\SDV0172\\lib\\site-packages\\rdt\\transformers\\base.py:277\u001b[0m, in \u001b[0;36mBaseTransformer.transform\u001b[1;34m(self, data, drop)\u001b[0m\n\u001b[0;32m    274\u001b[0m data \u001b[38;5;241m=\u001b[39m data\u001b[38;5;241m.\u001b[39mcopy()\n\u001b[0;32m    276\u001b[0m columns_data \u001b[38;5;241m=\u001b[39m \u001b[38;5;28mself\u001b[39m\u001b[38;5;241m.\u001b[39m_get_columns_data(data, \u001b[38;5;28mself\u001b[39m\u001b[38;5;241m.\u001b[39mcolumns)\n\u001b[1;32m--> 277\u001b[0m transformed_data \u001b[38;5;241m=\u001b[39m \u001b[38;5;28;43mself\u001b[39;49m\u001b[38;5;241;43m.\u001b[39;49m\u001b[43m_transform\u001b[49m\u001b[43m(\u001b[49m\u001b[43mcolumns_data\u001b[49m\u001b[43m)\u001b[49m\n\u001b[0;32m    279\u001b[0m data \u001b[38;5;241m=\u001b[39m \u001b[38;5;28mself\u001b[39m\u001b[38;5;241m.\u001b[39m_add_columns_to_data(data, transformed_data, \u001b[38;5;28mself\u001b[39m\u001b[38;5;241m.\u001b[39moutput_columns)\n\u001b[0;32m    280\u001b[0m \u001b[38;5;28;01mif\u001b[39;00m drop:\n",
      "File \u001b[1;32mc:\\Users\\Elvin\\.conda\\envs\\SDV0172\\lib\\site-packages\\rdt\\transformers\\categorical.py:196\u001b[0m, in \u001b[0;36mFrequencyEncoder._transform\u001b[1;34m(self, data)\u001b[0m\n\u001b[0;32m    194\u001b[0m data[unseen_indexes] \u001b[38;5;241m=\u001b[39m np\u001b[38;5;241m.\u001b[39mrandom\u001b[38;5;241m.\u001b[39mchoice(fit_categories, size\u001b[38;5;241m=\u001b[39munseen_indexes\u001b[38;5;241m.\u001b[39msize)\n\u001b[0;32m    195\u001b[0m \u001b[38;5;28;01mif\u001b[39;00m \u001b[38;5;28mlen\u001b[39m(\u001b[38;5;28mself\u001b[39m\u001b[38;5;241m.\u001b[39mmeans) \u001b[38;5;241m<\u001b[39m \u001b[38;5;28mlen\u001b[39m(data):\n\u001b[1;32m--> 196\u001b[0m     \u001b[38;5;28;01mreturn\u001b[39;00m \u001b[38;5;28;43mself\u001b[39;49m\u001b[38;5;241;43m.\u001b[39;49m\u001b[43m_transform_by_category\u001b[49m\u001b[43m(\u001b[49m\u001b[43mdata\u001b[49m\u001b[43m)\u001b[49m\n\u001b[0;32m    198\u001b[0m \u001b[38;5;28;01mreturn\u001b[39;00m \u001b[38;5;28mself\u001b[39m\u001b[38;5;241m.\u001b[39m_transform_by_row(data)\n",
      "File \u001b[1;32mc:\\Users\\Elvin\\.conda\\envs\\SDV0172\\lib\\site-packages\\rdt\\transformers\\categorical.py:147\u001b[0m, in \u001b[0;36mFrequencyEncoder._transform_by_category\u001b[1;34m(self, data)\u001b[0m\n\u001b[0;32m    144\u001b[0m     mask \u001b[38;5;241m=\u001b[39m (data\u001b[38;5;241m.\u001b[39mto_numpy() \u001b[38;5;241m==\u001b[39m category)\n\u001b[0;32m    146\u001b[0m \u001b[38;5;28;01mif\u001b[39;00m \u001b[38;5;28mself\u001b[39m\u001b[38;5;241m.\u001b[39madd_noise:\n\u001b[1;32m--> 147\u001b[0m     result[mask] \u001b[38;5;241m=\u001b[39m norm\u001b[38;5;241m.\u001b[39mrvs(mean, std, size\u001b[38;5;241m=\u001b[39m\u001b[43mmask\u001b[49m\u001b[38;5;241;43m.\u001b[39;49m\u001b[43msum\u001b[49m\u001b[43m(\u001b[49m\u001b[43m)\u001b[49m)\n\u001b[0;32m    148\u001b[0m     result[mask] \u001b[38;5;241m=\u001b[39m \u001b[38;5;28mself\u001b[39m\u001b[38;5;241m.\u001b[39m_clip_noised_transform(result[mask], start, end)\n\u001b[0;32m    149\u001b[0m \u001b[38;5;28;01melse\u001b[39;00m:\n",
      "File \u001b[1;32mc:\\Users\\Elvin\\.conda\\envs\\SDV0172\\lib\\site-packages\\numpy\\core\\_methods.py:48\u001b[0m, in \u001b[0;36m_sum\u001b[1;34m(a, axis, dtype, out, keepdims, initial, where)\u001b[0m\n\u001b[0;32m     46\u001b[0m \u001b[38;5;28;01mdef\u001b[39;00m \u001b[38;5;21m_sum\u001b[39m(a, axis\u001b[38;5;241m=\u001b[39m\u001b[38;5;28;01mNone\u001b[39;00m, dtype\u001b[38;5;241m=\u001b[39m\u001b[38;5;28;01mNone\u001b[39;00m, out\u001b[38;5;241m=\u001b[39m\u001b[38;5;28;01mNone\u001b[39;00m, keepdims\u001b[38;5;241m=\u001b[39m\u001b[38;5;28;01mFalse\u001b[39;00m,\n\u001b[0;32m     47\u001b[0m          initial\u001b[38;5;241m=\u001b[39m_NoValue, where\u001b[38;5;241m=\u001b[39m\u001b[38;5;28;01mTrue\u001b[39;00m):\n\u001b[1;32m---> 48\u001b[0m     \u001b[38;5;28;01mreturn\u001b[39;00m \u001b[43mumr_sum\u001b[49m\u001b[43m(\u001b[49m\u001b[43ma\u001b[49m\u001b[43m,\u001b[49m\u001b[43m \u001b[49m\u001b[43maxis\u001b[49m\u001b[43m,\u001b[49m\u001b[43m \u001b[49m\u001b[43mdtype\u001b[49m\u001b[43m,\u001b[49m\u001b[43m \u001b[49m\u001b[43mout\u001b[49m\u001b[43m,\u001b[49m\u001b[43m \u001b[49m\u001b[43mkeepdims\u001b[49m\u001b[43m,\u001b[49m\u001b[43m \u001b[49m\u001b[43minitial\u001b[49m\u001b[43m,\u001b[49m\u001b[43m \u001b[49m\u001b[43mwhere\u001b[49m\u001b[43m)\u001b[49m\n",
      "\u001b[1;31mKeyboardInterrupt\u001b[0m: "
     ]
    }
   ],
   "source": [
    "model = loaded\n",
    "model.finalize(data_not_finalized)"
   ]
  },
  {
   "cell_type": "code",
   "execution_count": null,
   "metadata": {
    "attributes": {
     "classes": [
      ""
     ],
     "id": ""
    }
   },
   "outputs": [],
   "source": [
    "data_single = model.sample('Schedule', num_rows=100, sample_children=False)"
   ]
  },
  {
   "cell_type": "code",
   "execution_count": null,
   "metadata": {},
   "outputs": [],
   "source": [
    "save_tables({\"Schedule\":data_single}, \"output_single.xlsx\")"
   ]
  },
  {
   "cell_type": "code",
   "execution_count": null,
   "metadata": {},
   "outputs": [],
   "source": [
    "#—— 生成Schedule表，并生成关联外键表\n",
    "data_subset = model.sample('Lab', num_rows=100, sample_children=True)"
   ]
  },
  {
   "cell_type": "code",
   "execution_count": null,
   "metadata": {},
   "outputs": [],
   "source": [
    "save_tables(data_subset, \"output_subset.xlsx\")"
   ]
  },
  {
   "cell_type": "code",
   "execution_count": null,
   "metadata": {},
   "outputs": [],
   "source": []
  }
 ],
 "metadata": {
  "kernelspec": {
   "display_name": "Python 3 (ipykernel)",
   "language": "python",
   "name": "python3"
  },
  "language_info": {
   "codemirror_mode": {
    "name": "ipython",
    "version": 3
   },
   "file_extension": ".py",
   "mimetype": "text/x-python",
   "name": "python",
   "nbconvert_exporter": "python",
   "pygments_lexer": "ipython3",
   "version": "3.8.19"
  }
 },
 "nbformat": 4,
 "nbformat_minor": 4
}
