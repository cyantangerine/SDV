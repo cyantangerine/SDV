{
 "cells": [
  {
   "cell_type": "code",
   "metadata": {
    "attributes": {
     "classes": [
      ""
     ],
     "id": ""
    },
    "ExecuteTime": {
     "end_time": "2024-09-10T12:26:01.867302Z",
     "start_time": "2024-09-10T12:25:58.954302Z"
    }
   },
   "source": [
    "import os\n",
    "\n",
    "from sdv import Metadata\n",
    "from test_20_tables import fetch_data_from_sqlite\n",
    "import os\n",
    "print(os.getcwd())\n",
    "metadata, tables = fetch_data_from_sqlite()\n",
    "metadata = Metadata(metadata)\n",
    "metadata"
   ],
   "outputs": [
    {
     "name": "stdout",
     "output_type": "stream",
     "text": [
      "C:\\Users\\Elvin\\Desktop\\GitHub\\SDV\\tutorials\\relational_data\n"
     ]
    },
    {
     "data": {
      "text/plain": [
       "Metadata\n",
       "  root_path: .\n",
       "  tables: ['Student', 'Professor', 'Course', 'Department', 'Enrollment', 'Assignment', 'Submission', 'Schedule', 'Major', 'Textbook', 'CourseTextbook', 'Library', 'Book', 'BookLoan', 'ResearchGroup', 'ResearchProject', 'ProjectMember', 'Lab', 'LabEquipment', 'EquipmentMaintenance']\n",
       "  relationships:\n",
       "    Enrollment.student_id -> Student.student_id\n",
       "    Enrollment.course_id -> Course.course_id\n",
       "    Assignment.course_id -> Course.course_id\n",
       "    Submission.assignment_id -> Assignment.assignment_id\n",
       "    Submission.student_id -> Student.student_id\n",
       "    Schedule.professor_id -> Professor.professor_id\n",
       "    Schedule.course_id -> Course.course_id\n",
       "    Major.department_id -> Department.department_id\n",
       "    CourseTextbook.textbook_id -> Textbook.textbook_id\n",
       "    CourseTextbook.course_id -> Course.course_id\n",
       "    Book.library_id -> Library.library_id\n",
       "    BookLoan.student_id -> Student.student_id\n",
       "    BookLoan.book_id -> Book.book_id\n",
       "    ResearchProject.group_id -> ResearchGroup.group_id\n",
       "    ProjectMember.professor_id -> Professor.professor_id\n",
       "    ProjectMember.project_id -> ResearchProject.project_id\n",
       "    LabEquipment.lab_id -> Lab.lab_id\n",
       "    EquipmentMaintenance.equipment_id -> LabEquipment.equipment_id"
      ]
     },
     "execution_count": 1,
     "metadata": {},
     "output_type": "execute_result"
    }
   ],
   "execution_count": 1
  },
  {
   "cell_type": "code",
   "metadata": {
    "ExecuteTime": {
     "end_time": "2024-09-09T09:38:24.851848Z",
     "start_time": "2024-09-09T09:38:24.836898Z"
    }
   },
   "source": [
    "metadata.to_json(\"1.json\")"
   ],
   "outputs": [],
   "execution_count": 2
  },
  {
   "cell_type": "code",
   "metadata": {
    "attributes": {
     "classes": [
      ""
     ],
     "id": ""
    },
    "ExecuteTime": {
     "end_time": "2024-09-09T09:38:37.623749Z",
     "start_time": "2024-09-09T09:38:24.852844Z"
    }
   },
   "source": [
    "#from sdv.utils import display_tables\n",
    "\n",
    "#display_tables(tables)\n",
    "for name, table in tables.items():\n",
    "    print(name, table.shape)\n",
    "from test_20_tables import save_tables\n",
    "save_tables(tables, \"input.xlsx\")"
   ],
   "outputs": [
    {
     "name": "stdout",
     "output_type": "stream",
     "text": [
      "Student (10000, 5)\n",
      "Professor (10000, 4)\n",
      "Course (10000, 4)\n",
      "Department (10000, 3)\n",
      "Enrollment (10000, 5)\n",
      "Assignment (10000, 4)\n",
      "Submission (11081, 5)\n",
      "Schedule (10000, 5)\n",
      "Major (10000, 3)\n",
      "Textbook (10000, 4)\n",
      "CourseTextbook (10000, 2)\n",
      "Library (10000, 3)\n",
      "Book (10000, 5)\n",
      "BookLoan (10000, 5)\n",
      "ResearchGroup (10000, 3)\n",
      "ResearchProject (10000, 5)\n",
      "ProjectMember (10000, 2)\n",
      "Lab (10000, 3)\n",
      "LabEquipment (10000, 3)\n",
      "EquipmentMaintenance (10000, 4)\n"
     ]
    }
   ],
   "execution_count": 3
  },
  {
   "cell_type": "code",
   "metadata": {
    "attributes": {
     "classes": [
      ""
     ],
     "id": ""
    },
    "scrolled": false,
    "ExecuteTime": {
     "end_time": "2024-09-09T10:45:50.311438Z",
     "start_time": "2024-09-09T10:45:48.201753Z"
    }
   },
   "source": [
    "from sdv.relational import HMA1\n",
    "import sys\n",
    "import warnings\n",
    "warnings.filterwarnings('ignore')\n",
    "#from tutorials.newhma import NewModel as HMA1\n",
    "#from tutorials.redirector import WriteableRedirector\n",
    "\n",
    "#with WriteableRedirector():\n",
    "model = HMA1(metadata)    "
   ],
   "outputs": [
    {
     "ename": "NameError",
     "evalue": "name 'metadata' is not defined",
     "output_type": "error",
     "traceback": [
      "\u001B[1;31m---------------------------------------------------------------------------\u001B[0m",
      "\u001B[1;31mNameError\u001B[0m                                 Traceback (most recent call last)",
      "Cell \u001B[1;32mIn[1], line 9\u001B[0m\n\u001B[0;32m      4\u001B[0m warnings\u001B[38;5;241m.\u001B[39mfilterwarnings(\u001B[38;5;124m'\u001B[39m\u001B[38;5;124mignore\u001B[39m\u001B[38;5;124m'\u001B[39m)\n\u001B[0;32m      5\u001B[0m \u001B[38;5;66;03m#from tutorials.newhma import NewModel as HMA1\u001B[39;00m\n\u001B[0;32m      6\u001B[0m \u001B[38;5;66;03m#from tutorials.redirector import WriteableRedirector\u001B[39;00m\n\u001B[0;32m      7\u001B[0m \n\u001B[0;32m      8\u001B[0m \u001B[38;5;66;03m#with WriteableRedirector():\u001B[39;00m\n\u001B[1;32m----> 9\u001B[0m model \u001B[38;5;241m=\u001B[39m HMA1(\u001B[43mmetadata\u001B[49m)    \n",
      "\u001B[1;31mNameError\u001B[0m: name 'metadata' is not defined"
     ]
    }
   ],
   "execution_count": 1
  },
  {
   "metadata": {
    "ExecuteTime": {
     "end_time": "2024-09-09T09:38:37.655504Z",
     "start_time": "2024-09-09T09:38:37.641546Z"
    }
   },
   "cell_type": "code",
   "source": [
    "import logging\n",
    "formatter = logging.Formatter('%(asctime)s - %(name)s - %(levelname)s - %(message)s')# Configure stream handler for the cells\n",
    "chandler = logging.StreamHandler()\n",
    "chandler.setLevel(logging.WARNING)\n",
    "chandler.setFormatter(formatter)\n",
    "logging.basicConfig(handlers=[logging.FileHandler('sdv.log'), chandler])\n",
    "logging.log(0, \"1223\")"
   ],
   "outputs": [],
   "execution_count": 5
  },
  {
   "metadata": {
    "ExecuteTime": {
     "end_time": "2024-09-09T10:30:53.172020Z",
     "start_time": "2024-09-09T09:38:37.656501Z"
    }
   },
   "cell_type": "code",
   "source": [
    "\n",
    "model.fit(tables)"
   ],
   "outputs": [
    {
     "name": "stderr",
     "output_type": "stream",
     "text": [
      "Fitting HMA1:   0%|          | 0/20 [00:00<?, ?it/s]"
     ]
    },
    {
     "name": "stdout",
     "output_type": "stream",
     "text": [
      "Modeling Student\n",
      "Modeling Submission\n"
     ]
    },
    {
     "name": "stderr",
     "output_type": "stream",
     "text": [
      "\n",
      "Student:Submission:   0%|          | 0/1 [00:00<?, ?it/s]\u001B[A\n",
      "Student:Submission: 100%|██████████| 1/1 [03:50<00:00, 230.22s/it]\u001B[A\n"
     ]
    },
    {
     "name": "stdout",
     "output_type": "stream",
     "text": [
      "Modeling BookLoan\n"
     ]
    },
    {
     "name": "stderr",
     "output_type": "stream",
     "text": [
      "\n",
      "Student:BookLoan:   0%|          | 0/1 [00:00<?, ?it/s]\u001B[A\n",
      "Student:BookLoan: 100%|██████████| 1/1 [00:37<00:00, 37.13s/it]\u001B[A\n"
     ]
    },
    {
     "name": "stdout",
     "output_type": "stream",
     "text": [
      "Modeling Enrollment\n"
     ]
    },
    {
     "name": "stderr",
     "output_type": "stream",
     "text": [
      "\n",
      "Student:Enrollment:   0%|          | 0/1 [00:00<?, ?it/s]\u001B[A\n",
      "Student:Enrollment: 100%|██████████| 1/1 [00:25<00:00, 25.23s/it]\u001B[A\n",
      "Fitting HMA1:   5%|▌         | 1/20 [05:02<1:35:48, 302.56s/it]"
     ]
    },
    {
     "name": "stdout",
     "output_type": "stream",
     "text": [
      "Modeling Professor\n",
      "Modeling Schedule\n"
     ]
    },
    {
     "name": "stderr",
     "output_type": "stream",
     "text": [
      "\n",
      "Professor:Schedule:   0%|          | 0/1 [00:00<?, ?it/s]\u001B[A\n",
      "Professor:Schedule: 100%|██████████| 1/1 [05:02<00:00, 302.92s/it]\u001B[A\n"
     ]
    },
    {
     "name": "stdout",
     "output_type": "stream",
     "text": [
      "Modeling ProjectMember\n"
     ]
    },
    {
     "name": "stderr",
     "output_type": "stream",
     "text": [
      "\n",
      "Professor:ProjectMember:   0%|          | 0/1 [00:00<?, ?it/s]\u001B[A\n",
      "Professor:ProjectMember: 100%|██████████| 1/1 [00:06<00:00,  6.42s/it]\u001B[A\n",
      "Fitting HMA1:  10%|█         | 2/20 [10:21<1:33:35, 311.99s/it]"
     ]
    },
    {
     "name": "stdout",
     "output_type": "stream",
     "text": [
      "Modeling Course\n"
     ]
    },
    {
     "name": "stderr",
     "output_type": "stream",
     "text": [
      "\n",
      "Course:Schedule:   0%|          | 0/1 [00:00<?, ?it/s]\u001B[A\n",
      "Course:Schedule: 100%|██████████| 1/1 [05:03<00:00, 303.47s/it]\u001B[A\n"
     ]
    },
    {
     "name": "stdout",
     "output_type": "stream",
     "text": [
      "Modeling Assignment\n"
     ]
    },
    {
     "name": "stderr",
     "output_type": "stream",
     "text": [
      "\n",
      "Assignment:Submission:   0%|          | 0/1 [00:00<?, ?it/s]\u001B[A\n",
      "Assignment:Submission: 100%|██████████| 1/1 [03:44<00:00, 224.05s/it]\u001B[A\n",
      "\n",
      "Course:Assignment:   0%|          | 0/1 [00:00<?, ?it/s]\u001B[A\n",
      "Course:Assignment: 100%|██████████| 1/1 [03:38<00:00, 218.08s/it]\u001B[A\n",
      "\n",
      "Course:Enrollment:   0%|          | 0/1 [00:00<?, ?it/s]\u001B[A\n",
      "Course:Enrollment: 100%|██████████| 1/1 [00:25<00:00, 25.15s/it]\u001B[A\n"
     ]
    },
    {
     "name": "stdout",
     "output_type": "stream",
     "text": [
      "Modeling CourseTextbook\n"
     ]
    },
    {
     "name": "stderr",
     "output_type": "stream",
     "text": [
      "\n",
      "Course:CourseTextbook:   0%|          | 0/1 [00:00<?, ?it/s]\u001B[A\n",
      "Course:CourseTextbook: 100%|██████████| 1/1 [00:06<00:00,  6.31s/it]\u001B[A\n",
      "Fitting HMA1:  15%|█▌        | 3/20 [23:25<2:29:28, 527.56s/it]"
     ]
    },
    {
     "name": "stdout",
     "output_type": "stream",
     "text": [
      "Modeling Department\n",
      "Modeling Major\n"
     ]
    },
    {
     "name": "stderr",
     "output_type": "stream",
     "text": [
      "\n",
      "Department:Major:   0%|          | 0/1 [00:00<?, ?it/s]\u001B[A\n",
      "Department:Major: 100%|██████████| 1/1 [00:34<00:00, 34.39s/it]\u001B[A\n",
      "Fitting HMA1:  20%|██        | 4/20 [24:02<1:29:03, 333.96s/it]"
     ]
    },
    {
     "name": "stdout",
     "output_type": "stream",
     "text": [
      "Modeling Textbook\n"
     ]
    },
    {
     "name": "stderr",
     "output_type": "stream",
     "text": [
      "\n",
      "Textbook:CourseTextbook:   0%|          | 0/1 [00:00<?, ?it/s]\u001B[A\n",
      "Textbook:CourseTextbook: 100%|██████████| 1/1 [00:07<00:00,  7.04s/it]\u001B[A\n",
      "Fitting HMA1:  50%|█████     | 10/20 [24:14<12:57, 77.72s/it]  "
     ]
    },
    {
     "name": "stdout",
     "output_type": "stream",
     "text": [
      "Modeling Library\n",
      "Modeling Book\n"
     ]
    },
    {
     "name": "stderr",
     "output_type": "stream",
     "text": [
      "\n",
      "Book:BookLoan:   0%|          | 0/1 [00:00<?, ?it/s]\u001B[A\n",
      "Book:BookLoan: 100%|██████████| 1/1 [00:54<00:00, 54.43s/it]\u001B[A\n",
      "\n",
      "Library:Book:   0%|          | 0/1 [00:00<?, ?it/s]\u001B[A\n",
      "Library:Book: 100%|██████████| 1/1 [14:01<00:00, 841.67s/it]\u001B[A\n",
      "Fitting HMA1:  60%|██████    | 12/20 [39:18<23:46, 178.32s/it]"
     ]
    },
    {
     "name": "stdout",
     "output_type": "stream",
     "text": [
      "Modeling ResearchGroup\n",
      "Modeling ResearchProject\n"
     ]
    },
    {
     "name": "stderr",
     "output_type": "stream",
     "text": [
      "\n",
      "ResearchProject:ProjectMember:   0%|          | 0/1 [00:00<?, ?it/s]\u001B[A\n",
      "ResearchProject:ProjectMember: 100%|██████████| 1/1 [00:06<00:00,  6.76s/it]\u001B[A\n",
      "\n",
      "ResearchGroup:ResearchProject:   0%|          | 0/1 [00:00<?, ?it/s]\u001B[A\n",
      "ResearchGroup:ResearchProject: 100%|██████████| 1/1 [05:45<00:00, 345.35s/it]\u001B[A\n",
      "Fitting HMA1:  75%|███████▌  | 15/20 [45:15<13:03, 156.68s/it]"
     ]
    },
    {
     "name": "stdout",
     "output_type": "stream",
     "text": [
      "Modeling Lab\n",
      "Modeling LabEquipment\n",
      "Modeling EquipmentMaintenance\n"
     ]
    },
    {
     "name": "stderr",
     "output_type": "stream",
     "text": [
      "\n",
      "LabEquipment:EquipmentMaintenance:   0%|          | 0/1 [00:00<?, ?it/s]\u001B[A\n",
      "LabEquipment:EquipmentMaintenance: 100%|██████████| 1/1 [05:30<00:00, 330.64s/it]\u001B[A\n",
      "\n",
      "Lab:LabEquipment:   0%|          | 0/1 [00:00<?, ?it/s]\u001B[A\n",
      "Lab:LabEquipment: 100%|██████████| 1/1 [01:23<00:00, 83.55s/it]\u001B[A\n",
      "Fitting HMA1: 100%|██████████| 20/20 [52:15<00:00, 156.77s/it]\n"
     ]
    }
   ],
   "execution_count": 6
  },
  {
   "cell_type": "markdown",
   "metadata": {},
   "source": [
    "3s"
   ]
  },
  {
   "cell_type": "code",
   "metadata": {
    "attributes": {
     "classes": [
      ""
     ],
     "id": ""
    },
    "ExecuteTime": {
     "end_time": "2024-09-09T10:45:36.524222Z",
     "start_time": "2024-09-09T10:43:51.801478Z"
    }
   },
   "source": [
    "new_data = model.sample()\n",
    "new_data"
   ],
   "outputs": [
    {
     "ename": "KeyboardInterrupt",
     "evalue": "",
     "output_type": "error",
     "traceback": [
      "\u001B[1;31m---------------------------------------------------------------------------\u001B[0m",
      "\u001B[1;31mKeyboardInterrupt\u001B[0m                         Traceback (most recent call last)",
      "Cell \u001B[1;32mIn[10], line 1\u001B[0m\n\u001B[1;32m----> 1\u001B[0m new_data \u001B[38;5;241m=\u001B[39m \u001B[43mmodel\u001B[49m\u001B[38;5;241;43m.\u001B[39;49m\u001B[43msample\u001B[49m\u001B[43m(\u001B[49m\u001B[43m)\u001B[49m\n\u001B[0;32m      2\u001B[0m new_data\n",
      "File \u001B[1;32m~\\Desktop\\GitHub\\SDV\\sdv\\relational\\base.py:185\u001B[0m, in \u001B[0;36mBaseRelationalModel.sample\u001B[1;34m(self, table_name, num_rows, sample_children, reset_primary_keys)\u001B[0m\n\u001B[0;32m    182\u001B[0m \u001B[38;5;28;01mif\u001B[39;00m reset_primary_keys:\n\u001B[0;32m    183\u001B[0m     \u001B[38;5;28mself\u001B[39m\u001B[38;5;241m.\u001B[39m_reset_primary_keys_generators()\n\u001B[1;32m--> 185\u001B[0m \u001B[38;5;28;01mreturn\u001B[39;00m \u001B[38;5;28;43mself\u001B[39;49m\u001B[38;5;241;43m.\u001B[39;49m\u001B[43m_sample\u001B[49m\u001B[43m(\u001B[49m\u001B[43mtable_name\u001B[49m\u001B[43m,\u001B[49m\u001B[43m \u001B[49m\u001B[43mnum_rows\u001B[49m\u001B[43m,\u001B[49m\u001B[43m \u001B[49m\u001B[43msample_children\u001B[49m\u001B[43m)\u001B[49m\n",
      "File \u001B[1;32m~\\Desktop\\GitHub\\SDV\\sdv\\relational\\hma.py:601\u001B[0m, in \u001B[0;36mHMA1._sample\u001B[1;34m(self, table_name, num_rows, sample_children)\u001B[0m\n\u001B[0;32m    599\u001B[0m \u001B[38;5;28;01mfor\u001B[39;00m table \u001B[38;5;129;01min\u001B[39;00m \u001B[38;5;28mself\u001B[39m\u001B[38;5;241m.\u001B[39mmetadata\u001B[38;5;241m.\u001B[39mget_tables():\n\u001B[0;32m    600\u001B[0m     \u001B[38;5;28;01mif\u001B[39;00m \u001B[38;5;129;01mnot\u001B[39;00m \u001B[38;5;28mself\u001B[39m\u001B[38;5;241m.\u001B[39mmetadata\u001B[38;5;241m.\u001B[39mget_parents(table):\n\u001B[1;32m--> 601\u001B[0m         \u001B[38;5;28;43mself\u001B[39;49m\u001B[38;5;241;43m.\u001B[39;49m\u001B[43m_sample_table\u001B[49m\u001B[43m(\u001B[49m\u001B[43mtable\u001B[49m\u001B[43m,\u001B[49m\u001B[43m \u001B[49m\u001B[43mnum_rows\u001B[49m\u001B[43m,\u001B[49m\u001B[43m \u001B[49m\u001B[43msampled_data\u001B[49m\u001B[38;5;241;43m=\u001B[39;49m\u001B[43msampled_data\u001B[49m\u001B[43m)\u001B[49m\n\u001B[0;32m    603\u001B[0m \u001B[38;5;28;01mreturn\u001B[39;00m \u001B[38;5;28mself\u001B[39m\u001B[38;5;241m.\u001B[39m_finalize(sampled_data)\n",
      "File \u001B[1;32m~\\Desktop\\GitHub\\SDV\\sdv\\relational\\hma.py:560\u001B[0m, in \u001B[0;36mHMA1._sample_table\u001B[1;34m(self, table_name, num_rows, sample_children, sampled_data)\u001B[0m\n\u001B[0;32m    557\u001B[0m sampled_data[table_name] \u001B[38;5;241m=\u001B[39m table_rows\n\u001B[0;32m    559\u001B[0m \u001B[38;5;28;01mif\u001B[39;00m sample_children:\n\u001B[1;32m--> 560\u001B[0m     \u001B[38;5;28;43mself\u001B[39;49m\u001B[38;5;241;43m.\u001B[39;49m\u001B[43m_sample_children\u001B[49m\u001B[43m(\u001B[49m\u001B[43mtable_name\u001B[49m\u001B[43m,\u001B[49m\u001B[43m \u001B[49m\u001B[43msampled_data\u001B[49m\u001B[43m,\u001B[49m\u001B[43m \u001B[49m\u001B[43mtable_rows\u001B[49m\u001B[43m)\u001B[49m\n\u001B[0;32m    562\u001B[0m \u001B[38;5;28;01mreturn\u001B[39;00m sampled_data\n",
      "File \u001B[1;32m~\\Desktop\\GitHub\\SDV\\sdv\\relational\\hma.py:432\u001B[0m, in \u001B[0;36mHMA1._sample_children\u001B[1;34m(self, table_name, sampled_data, table_rows)\u001B[0m\n\u001B[0;32m    430\u001B[0m LOGGER\u001B[38;5;241m.\u001B[39minfo(\u001B[38;5;124m'\u001B[39m\u001B[38;5;124mSampling rows from child table \u001B[39m\u001B[38;5;132;01m%s\u001B[39;00m\u001B[38;5;124m'\u001B[39m, child_name)\n\u001B[0;32m    431\u001B[0m \u001B[38;5;28;01mfor\u001B[39;00m _, row \u001B[38;5;129;01min\u001B[39;00m table_rows\u001B[38;5;241m.\u001B[39miterrows():\n\u001B[1;32m--> 432\u001B[0m     \u001B[38;5;28;43mself\u001B[39;49m\u001B[38;5;241;43m.\u001B[39;49m\u001B[43m_sample_child_rows\u001B[49m\u001B[43m(\u001B[49m\u001B[43mchild_name\u001B[49m\u001B[43m,\u001B[49m\u001B[43m \u001B[49m\u001B[43mtable_name\u001B[49m\u001B[43m,\u001B[49m\u001B[43m \u001B[49m\u001B[43mrow\u001B[49m\u001B[43m,\u001B[49m\u001B[43m \u001B[49m\u001B[43msampled_data\u001B[49m\u001B[43m)\u001B[49m\n\u001B[0;32m    434\u001B[0m child_rows \u001B[38;5;241m=\u001B[39m sampled_data[child_name]\n\u001B[0;32m    435\u001B[0m \u001B[38;5;28mself\u001B[39m\u001B[38;5;241m.\u001B[39m_sample_children(child_name, sampled_data, child_rows)\n",
      "File \u001B[1;32m~\\Desktop\\GitHub\\SDV\\sdv\\relational\\hma.py:400\u001B[0m, in \u001B[0;36mHMA1._sample_child_rows\u001B[1;34m(self, table_name, parent_name, parent_row, sampled_data)\u001B[0m\n\u001B[0;32m    397\u001B[0m parameters \u001B[38;5;241m=\u001B[39m \u001B[38;5;28mself\u001B[39m\u001B[38;5;241m.\u001B[39m_extract_parameters(parent_row, table_name, foreign_key)\n\u001B[0;32m    399\u001B[0m table_meta \u001B[38;5;241m=\u001B[39m \u001B[38;5;28mself\u001B[39m\u001B[38;5;241m.\u001B[39m_models[table_name]\u001B[38;5;241m.\u001B[39mget_metadata()\n\u001B[1;32m--> 400\u001B[0m model \u001B[38;5;241m=\u001B[39m \u001B[38;5;28;43mself\u001B[39;49m\u001B[38;5;241;43m.\u001B[39;49m\u001B[43m_model\u001B[49m\u001B[43m(\u001B[49m\u001B[43mtable_metadata\u001B[49m\u001B[38;5;241;43m=\u001B[39;49m\u001B[43mtable_meta\u001B[49m\u001B[43m)\u001B[49m\n\u001B[0;32m    401\u001B[0m model\u001B[38;5;241m.\u001B[39mset_parameters(parameters)\n\u001B[0;32m    403\u001B[0m table_rows \u001B[38;5;241m=\u001B[39m \u001B[38;5;28mself\u001B[39m\u001B[38;5;241m.\u001B[39m_sample_rows(model, table_name)\n",
      "File \u001B[1;32m~\\Desktop\\GitHub\\SDV\\sdv\\tabular\\copulas.py:171\u001B[0m, in \u001B[0;36mGaussianCopula.__init__\u001B[1;34m(self, field_names, field_types, field_transformers, anonymize_fields, primary_key, constraints, table_metadata, field_distributions, default_distribution, categorical_transformer, learn_rounding_scheme, enforce_min_max_values)\u001B[0m\n\u001B[0;32m    168\u001B[0m \u001B[38;5;28mself\u001B[39m\u001B[38;5;241m.\u001B[39m_categorical_transformer \u001B[38;5;241m=\u001B[39m categorical_transformer \u001B[38;5;129;01mor\u001B[39;00m \u001B[38;5;28mself\u001B[39m\u001B[38;5;241m.\u001B[39m_DEFAULT_TRANSFORMER\n\u001B[0;32m    169\u001B[0m \u001B[38;5;28mself\u001B[39m\u001B[38;5;241m.\u001B[39m_DTYPE_TRANSFORMERS \u001B[38;5;241m=\u001B[39m {\u001B[38;5;124m'\u001B[39m\u001B[38;5;124mO\u001B[39m\u001B[38;5;124m'\u001B[39m: \u001B[38;5;28mself\u001B[39m\u001B[38;5;241m.\u001B[39m_categorical_transformer}\n\u001B[1;32m--> 171\u001B[0m \u001B[38;5;28;43msuper\u001B[39;49m\u001B[43m(\u001B[49m\u001B[43m)\u001B[49m\u001B[38;5;241;43m.\u001B[39;49m\u001B[38;5;21;43m__init__\u001B[39;49m\u001B[43m(\u001B[49m\n\u001B[0;32m    172\u001B[0m \u001B[43m    \u001B[49m\u001B[43mfield_names\u001B[49m\u001B[38;5;241;43m=\u001B[39;49m\u001B[43mfield_names\u001B[49m\u001B[43m,\u001B[49m\n\u001B[0;32m    173\u001B[0m \u001B[43m    \u001B[49m\u001B[43mfield_types\u001B[49m\u001B[38;5;241;43m=\u001B[39;49m\u001B[43mfield_types\u001B[49m\u001B[43m,\u001B[49m\n\u001B[0;32m    174\u001B[0m \u001B[43m    \u001B[49m\u001B[43mfield_transformers\u001B[49m\u001B[38;5;241;43m=\u001B[39;49m\u001B[43mfield_transformers\u001B[49m\u001B[43m,\u001B[49m\n\u001B[0;32m    175\u001B[0m \u001B[43m    \u001B[49m\u001B[43manonymize_fields\u001B[49m\u001B[38;5;241;43m=\u001B[39;49m\u001B[43manonymize_fields\u001B[49m\u001B[43m,\u001B[49m\n\u001B[0;32m    176\u001B[0m \u001B[43m    \u001B[49m\u001B[43mprimary_key\u001B[49m\u001B[38;5;241;43m=\u001B[39;49m\u001B[43mprimary_key\u001B[49m\u001B[43m,\u001B[49m\n\u001B[0;32m    177\u001B[0m \u001B[43m    \u001B[49m\u001B[43mconstraints\u001B[49m\u001B[38;5;241;43m=\u001B[39;49m\u001B[43mconstraints\u001B[49m\u001B[43m,\u001B[49m\n\u001B[0;32m    178\u001B[0m \u001B[43m    \u001B[49m\u001B[43mtable_metadata\u001B[49m\u001B[38;5;241;43m=\u001B[39;49m\u001B[43mtable_metadata\u001B[49m\u001B[43m,\u001B[49m\n\u001B[0;32m    179\u001B[0m \u001B[43m    \u001B[49m\u001B[43mlearn_rounding_scheme\u001B[49m\u001B[38;5;241;43m=\u001B[39;49m\u001B[43mlearn_rounding_scheme\u001B[49m\u001B[43m,\u001B[49m\n\u001B[0;32m    180\u001B[0m \u001B[43m    \u001B[49m\u001B[43menforce_min_max_values\u001B[49m\u001B[38;5;241;43m=\u001B[39;49m\u001B[43menforce_min_max_values\u001B[49m\n\u001B[0;32m    181\u001B[0m \u001B[43m\u001B[49m\u001B[43m)\u001B[49m\n\u001B[0;32m    183\u001B[0m \u001B[38;5;28mself\u001B[39m\u001B[38;5;241m.\u001B[39m_metadata\u001B[38;5;241m.\u001B[39mset_model_kwargs(\u001B[38;5;28mself\u001B[39m\u001B[38;5;241m.\u001B[39m\u001B[38;5;18m__class__\u001B[39m\u001B[38;5;241m.\u001B[39m\u001B[38;5;18m__name__\u001B[39m, {\n\u001B[0;32m    184\u001B[0m     \u001B[38;5;124m'\u001B[39m\u001B[38;5;124mfield_distributions\u001B[39m\u001B[38;5;124m'\u001B[39m: field_distributions,\n\u001B[0;32m    185\u001B[0m     \u001B[38;5;124m'\u001B[39m\u001B[38;5;124mdefault_distribution\u001B[39m\u001B[38;5;124m'\u001B[39m: default_distribution,\n\u001B[0;32m    186\u001B[0m     \u001B[38;5;124m'\u001B[39m\u001B[38;5;124mcategorical_transformer\u001B[39m\u001B[38;5;124m'\u001B[39m: categorical_transformer,\n\u001B[0;32m    187\u001B[0m })\n",
      "File \u001B[1;32m~\\Desktop\\GitHub\\SDV\\sdv\\tabular\\base.py:106\u001B[0m, in \u001B[0;36mBaseTabularModel.__init__\u001B[1;34m(self, field_names, field_types, field_transformers, anonymize_fields, primary_key, constraints, table_metadata, learn_rounding_scheme, enforce_min_max_values)\u001B[0m\n\u001B[0;32m    104\u001B[0m     \u001B[38;5;28mself\u001B[39m\u001B[38;5;241m.\u001B[39m_metadata_fitted \u001B[38;5;241m=\u001B[39m \u001B[38;5;28;01mFalse\u001B[39;00m\n\u001B[0;32m    105\u001B[0m \u001B[38;5;28;01melse\u001B[39;00m:\n\u001B[1;32m--> 106\u001B[0m     table_metadata \u001B[38;5;241m=\u001B[39m \u001B[43mdeepcopy\u001B[49m\u001B[43m(\u001B[49m\u001B[43mtable_metadata\u001B[49m\u001B[43m)\u001B[49m\n\u001B[0;32m    107\u001B[0m     \u001B[38;5;28;01mfor\u001B[39;00m arg \u001B[38;5;129;01min\u001B[39;00m (field_names, primary_key, field_types, anonymize_fields, constraints):\n\u001B[0;32m    108\u001B[0m         \u001B[38;5;28;01mif\u001B[39;00m arg:\n",
      "File \u001B[1;32m~\\.conda\\envs\\SDV0172\\lib\\copy.py:172\u001B[0m, in \u001B[0;36mdeepcopy\u001B[1;34m(x, memo, _nil)\u001B[0m\n\u001B[0;32m    170\u001B[0m                 y \u001B[38;5;241m=\u001B[39m x\n\u001B[0;32m    171\u001B[0m             \u001B[38;5;28;01melse\u001B[39;00m:\n\u001B[1;32m--> 172\u001B[0m                 y \u001B[38;5;241m=\u001B[39m \u001B[43m_reconstruct\u001B[49m\u001B[43m(\u001B[49m\u001B[43mx\u001B[49m\u001B[43m,\u001B[49m\u001B[43m \u001B[49m\u001B[43mmemo\u001B[49m\u001B[43m,\u001B[49m\u001B[43m \u001B[49m\u001B[38;5;241;43m*\u001B[39;49m\u001B[43mrv\u001B[49m\u001B[43m)\u001B[49m\n\u001B[0;32m    174\u001B[0m \u001B[38;5;66;03m# If is its own copy, don't memoize.\u001B[39;00m\n\u001B[0;32m    175\u001B[0m \u001B[38;5;28;01mif\u001B[39;00m y \u001B[38;5;129;01mis\u001B[39;00m \u001B[38;5;129;01mnot\u001B[39;00m x:\n",
      "File \u001B[1;32m~\\.conda\\envs\\SDV0172\\lib\\copy.py:270\u001B[0m, in \u001B[0;36m_reconstruct\u001B[1;34m(x, memo, func, args, state, listiter, dictiter, deepcopy)\u001B[0m\n\u001B[0;32m    268\u001B[0m \u001B[38;5;28;01mif\u001B[39;00m state \u001B[38;5;129;01mis\u001B[39;00m \u001B[38;5;129;01mnot\u001B[39;00m \u001B[38;5;28;01mNone\u001B[39;00m:\n\u001B[0;32m    269\u001B[0m     \u001B[38;5;28;01mif\u001B[39;00m deep:\n\u001B[1;32m--> 270\u001B[0m         state \u001B[38;5;241m=\u001B[39m \u001B[43mdeepcopy\u001B[49m\u001B[43m(\u001B[49m\u001B[43mstate\u001B[49m\u001B[43m,\u001B[49m\u001B[43m \u001B[49m\u001B[43mmemo\u001B[49m\u001B[43m)\u001B[49m\n\u001B[0;32m    271\u001B[0m     \u001B[38;5;28;01mif\u001B[39;00m \u001B[38;5;28mhasattr\u001B[39m(y, \u001B[38;5;124m'\u001B[39m\u001B[38;5;124m__setstate__\u001B[39m\u001B[38;5;124m'\u001B[39m):\n\u001B[0;32m    272\u001B[0m         y\u001B[38;5;241m.\u001B[39m__setstate__(state)\n",
      "File \u001B[1;32m~\\.conda\\envs\\SDV0172\\lib\\copy.py:146\u001B[0m, in \u001B[0;36mdeepcopy\u001B[1;34m(x, memo, _nil)\u001B[0m\n\u001B[0;32m    144\u001B[0m copier \u001B[38;5;241m=\u001B[39m _deepcopy_dispatch\u001B[38;5;241m.\u001B[39mget(\u001B[38;5;28mcls\u001B[39m)\n\u001B[0;32m    145\u001B[0m \u001B[38;5;28;01mif\u001B[39;00m copier \u001B[38;5;129;01mis\u001B[39;00m \u001B[38;5;129;01mnot\u001B[39;00m \u001B[38;5;28;01mNone\u001B[39;00m:\n\u001B[1;32m--> 146\u001B[0m     y \u001B[38;5;241m=\u001B[39m \u001B[43mcopier\u001B[49m\u001B[43m(\u001B[49m\u001B[43mx\u001B[49m\u001B[43m,\u001B[49m\u001B[43m \u001B[49m\u001B[43mmemo\u001B[49m\u001B[43m)\u001B[49m\n\u001B[0;32m    147\u001B[0m \u001B[38;5;28;01melse\u001B[39;00m:\n\u001B[0;32m    148\u001B[0m     \u001B[38;5;28;01mif\u001B[39;00m \u001B[38;5;28missubclass\u001B[39m(\u001B[38;5;28mcls\u001B[39m, \u001B[38;5;28mtype\u001B[39m):\n",
      "File \u001B[1;32m~\\.conda\\envs\\SDV0172\\lib\\copy.py:230\u001B[0m, in \u001B[0;36m_deepcopy_dict\u001B[1;34m(x, memo, deepcopy)\u001B[0m\n\u001B[0;32m    228\u001B[0m memo[\u001B[38;5;28mid\u001B[39m(x)] \u001B[38;5;241m=\u001B[39m y\n\u001B[0;32m    229\u001B[0m \u001B[38;5;28;01mfor\u001B[39;00m key, value \u001B[38;5;129;01min\u001B[39;00m x\u001B[38;5;241m.\u001B[39mitems():\n\u001B[1;32m--> 230\u001B[0m     y[deepcopy(key, memo)] \u001B[38;5;241m=\u001B[39m \u001B[43mdeepcopy\u001B[49m\u001B[43m(\u001B[49m\u001B[43mvalue\u001B[49m\u001B[43m,\u001B[49m\u001B[43m \u001B[49m\u001B[43mmemo\u001B[49m\u001B[43m)\u001B[49m\n\u001B[0;32m    231\u001B[0m \u001B[38;5;28;01mreturn\u001B[39;00m y\n",
      "File \u001B[1;32m~\\.conda\\envs\\SDV0172\\lib\\copy.py:172\u001B[0m, in \u001B[0;36mdeepcopy\u001B[1;34m(x, memo, _nil)\u001B[0m\n\u001B[0;32m    170\u001B[0m                 y \u001B[38;5;241m=\u001B[39m x\n\u001B[0;32m    171\u001B[0m             \u001B[38;5;28;01melse\u001B[39;00m:\n\u001B[1;32m--> 172\u001B[0m                 y \u001B[38;5;241m=\u001B[39m \u001B[43m_reconstruct\u001B[49m\u001B[43m(\u001B[49m\u001B[43mx\u001B[49m\u001B[43m,\u001B[49m\u001B[43m \u001B[49m\u001B[43mmemo\u001B[49m\u001B[43m,\u001B[49m\u001B[43m \u001B[49m\u001B[38;5;241;43m*\u001B[39;49m\u001B[43mrv\u001B[49m\u001B[43m)\u001B[49m\n\u001B[0;32m    174\u001B[0m \u001B[38;5;66;03m# If is its own copy, don't memoize.\u001B[39;00m\n\u001B[0;32m    175\u001B[0m \u001B[38;5;28;01mif\u001B[39;00m y \u001B[38;5;129;01mis\u001B[39;00m \u001B[38;5;129;01mnot\u001B[39;00m x:\n",
      "File \u001B[1;32m~\\.conda\\envs\\SDV0172\\lib\\copy.py:270\u001B[0m, in \u001B[0;36m_reconstruct\u001B[1;34m(x, memo, func, args, state, listiter, dictiter, deepcopy)\u001B[0m\n\u001B[0;32m    268\u001B[0m \u001B[38;5;28;01mif\u001B[39;00m state \u001B[38;5;129;01mis\u001B[39;00m \u001B[38;5;129;01mnot\u001B[39;00m \u001B[38;5;28;01mNone\u001B[39;00m:\n\u001B[0;32m    269\u001B[0m     \u001B[38;5;28;01mif\u001B[39;00m deep:\n\u001B[1;32m--> 270\u001B[0m         state \u001B[38;5;241m=\u001B[39m \u001B[43mdeepcopy\u001B[49m\u001B[43m(\u001B[49m\u001B[43mstate\u001B[49m\u001B[43m,\u001B[49m\u001B[43m \u001B[49m\u001B[43mmemo\u001B[49m\u001B[43m)\u001B[49m\n\u001B[0;32m    271\u001B[0m     \u001B[38;5;28;01mif\u001B[39;00m \u001B[38;5;28mhasattr\u001B[39m(y, \u001B[38;5;124m'\u001B[39m\u001B[38;5;124m__setstate__\u001B[39m\u001B[38;5;124m'\u001B[39m):\n\u001B[0;32m    272\u001B[0m         y\u001B[38;5;241m.\u001B[39m__setstate__(state)\n",
      "File \u001B[1;32m~\\.conda\\envs\\SDV0172\\lib\\copy.py:146\u001B[0m, in \u001B[0;36mdeepcopy\u001B[1;34m(x, memo, _nil)\u001B[0m\n\u001B[0;32m    144\u001B[0m copier \u001B[38;5;241m=\u001B[39m _deepcopy_dispatch\u001B[38;5;241m.\u001B[39mget(\u001B[38;5;28mcls\u001B[39m)\n\u001B[0;32m    145\u001B[0m \u001B[38;5;28;01mif\u001B[39;00m copier \u001B[38;5;129;01mis\u001B[39;00m \u001B[38;5;129;01mnot\u001B[39;00m \u001B[38;5;28;01mNone\u001B[39;00m:\n\u001B[1;32m--> 146\u001B[0m     y \u001B[38;5;241m=\u001B[39m \u001B[43mcopier\u001B[49m\u001B[43m(\u001B[49m\u001B[43mx\u001B[49m\u001B[43m,\u001B[49m\u001B[43m \u001B[49m\u001B[43mmemo\u001B[49m\u001B[43m)\u001B[49m\n\u001B[0;32m    147\u001B[0m \u001B[38;5;28;01melse\u001B[39;00m:\n\u001B[0;32m    148\u001B[0m     \u001B[38;5;28;01mif\u001B[39;00m \u001B[38;5;28missubclass\u001B[39m(\u001B[38;5;28mcls\u001B[39m, \u001B[38;5;28mtype\u001B[39m):\n",
      "File \u001B[1;32m~\\.conda\\envs\\SDV0172\\lib\\copy.py:230\u001B[0m, in \u001B[0;36m_deepcopy_dict\u001B[1;34m(x, memo, deepcopy)\u001B[0m\n\u001B[0;32m    228\u001B[0m memo[\u001B[38;5;28mid\u001B[39m(x)] \u001B[38;5;241m=\u001B[39m y\n\u001B[0;32m    229\u001B[0m \u001B[38;5;28;01mfor\u001B[39;00m key, value \u001B[38;5;129;01min\u001B[39;00m x\u001B[38;5;241m.\u001B[39mitems():\n\u001B[1;32m--> 230\u001B[0m     y[deepcopy(key, memo)] \u001B[38;5;241m=\u001B[39m \u001B[43mdeepcopy\u001B[49m\u001B[43m(\u001B[49m\u001B[43mvalue\u001B[49m\u001B[43m,\u001B[49m\u001B[43m \u001B[49m\u001B[43mmemo\u001B[49m\u001B[43m)\u001B[49m\n\u001B[0;32m    231\u001B[0m \u001B[38;5;28;01mreturn\u001B[39;00m y\n",
      "File \u001B[1;32m~\\.conda\\envs\\SDV0172\\lib\\copy.py:146\u001B[0m, in \u001B[0;36mdeepcopy\u001B[1;34m(x, memo, _nil)\u001B[0m\n\u001B[0;32m    144\u001B[0m copier \u001B[38;5;241m=\u001B[39m _deepcopy_dispatch\u001B[38;5;241m.\u001B[39mget(\u001B[38;5;28mcls\u001B[39m)\n\u001B[0;32m    145\u001B[0m \u001B[38;5;28;01mif\u001B[39;00m copier \u001B[38;5;129;01mis\u001B[39;00m \u001B[38;5;129;01mnot\u001B[39;00m \u001B[38;5;28;01mNone\u001B[39;00m:\n\u001B[1;32m--> 146\u001B[0m     y \u001B[38;5;241m=\u001B[39m \u001B[43mcopier\u001B[49m\u001B[43m(\u001B[49m\u001B[43mx\u001B[49m\u001B[43m,\u001B[49m\u001B[43m \u001B[49m\u001B[43mmemo\u001B[49m\u001B[43m)\u001B[49m\n\u001B[0;32m    147\u001B[0m \u001B[38;5;28;01melse\u001B[39;00m:\n\u001B[0;32m    148\u001B[0m     \u001B[38;5;28;01mif\u001B[39;00m \u001B[38;5;28missubclass\u001B[39m(\u001B[38;5;28mcls\u001B[39m, \u001B[38;5;28mtype\u001B[39m):\n",
      "File \u001B[1;32m~\\.conda\\envs\\SDV0172\\lib\\copy.py:205\u001B[0m, in \u001B[0;36m_deepcopy_list\u001B[1;34m(x, memo, deepcopy)\u001B[0m\n\u001B[0;32m    203\u001B[0m append \u001B[38;5;241m=\u001B[39m y\u001B[38;5;241m.\u001B[39mappend\n\u001B[0;32m    204\u001B[0m \u001B[38;5;28;01mfor\u001B[39;00m a \u001B[38;5;129;01min\u001B[39;00m x:\n\u001B[1;32m--> 205\u001B[0m     append(\u001B[43mdeepcopy\u001B[49m\u001B[43m(\u001B[49m\u001B[43ma\u001B[49m\u001B[43m,\u001B[49m\u001B[43m \u001B[49m\u001B[43mmemo\u001B[49m\u001B[43m)\u001B[49m)\n\u001B[0;32m    206\u001B[0m \u001B[38;5;28;01mreturn\u001B[39;00m y\n",
      "File \u001B[1;32m~\\.conda\\envs\\SDV0172\\lib\\copy.py:172\u001B[0m, in \u001B[0;36mdeepcopy\u001B[1;34m(x, memo, _nil)\u001B[0m\n\u001B[0;32m    170\u001B[0m                 y \u001B[38;5;241m=\u001B[39m x\n\u001B[0;32m    171\u001B[0m             \u001B[38;5;28;01melse\u001B[39;00m:\n\u001B[1;32m--> 172\u001B[0m                 y \u001B[38;5;241m=\u001B[39m \u001B[43m_reconstruct\u001B[49m\u001B[43m(\u001B[49m\u001B[43mx\u001B[49m\u001B[43m,\u001B[49m\u001B[43m \u001B[49m\u001B[43mmemo\u001B[49m\u001B[43m,\u001B[49m\u001B[43m \u001B[49m\u001B[38;5;241;43m*\u001B[39;49m\u001B[43mrv\u001B[49m\u001B[43m)\u001B[49m\n\u001B[0;32m    174\u001B[0m \u001B[38;5;66;03m# If is its own copy, don't memoize.\u001B[39;00m\n\u001B[0;32m    175\u001B[0m \u001B[38;5;28;01mif\u001B[39;00m y \u001B[38;5;129;01mis\u001B[39;00m \u001B[38;5;129;01mnot\u001B[39;00m x:\n",
      "File \u001B[1;32m~\\.conda\\envs\\SDV0172\\lib\\copy.py:270\u001B[0m, in \u001B[0;36m_reconstruct\u001B[1;34m(x, memo, func, args, state, listiter, dictiter, deepcopy)\u001B[0m\n\u001B[0;32m    268\u001B[0m \u001B[38;5;28;01mif\u001B[39;00m state \u001B[38;5;129;01mis\u001B[39;00m \u001B[38;5;129;01mnot\u001B[39;00m \u001B[38;5;28;01mNone\u001B[39;00m:\n\u001B[0;32m    269\u001B[0m     \u001B[38;5;28;01mif\u001B[39;00m deep:\n\u001B[1;32m--> 270\u001B[0m         state \u001B[38;5;241m=\u001B[39m \u001B[43mdeepcopy\u001B[49m\u001B[43m(\u001B[49m\u001B[43mstate\u001B[49m\u001B[43m,\u001B[49m\u001B[43m \u001B[49m\u001B[43mmemo\u001B[49m\u001B[43m)\u001B[49m\n\u001B[0;32m    271\u001B[0m     \u001B[38;5;28;01mif\u001B[39;00m \u001B[38;5;28mhasattr\u001B[39m(y, \u001B[38;5;124m'\u001B[39m\u001B[38;5;124m__setstate__\u001B[39m\u001B[38;5;124m'\u001B[39m):\n\u001B[0;32m    272\u001B[0m         y\u001B[38;5;241m.\u001B[39m__setstate__(state)\n",
      "File \u001B[1;32m~\\.conda\\envs\\SDV0172\\lib\\copy.py:146\u001B[0m, in \u001B[0;36mdeepcopy\u001B[1;34m(x, memo, _nil)\u001B[0m\n\u001B[0;32m    144\u001B[0m copier \u001B[38;5;241m=\u001B[39m _deepcopy_dispatch\u001B[38;5;241m.\u001B[39mget(\u001B[38;5;28mcls\u001B[39m)\n\u001B[0;32m    145\u001B[0m \u001B[38;5;28;01mif\u001B[39;00m copier \u001B[38;5;129;01mis\u001B[39;00m \u001B[38;5;129;01mnot\u001B[39;00m \u001B[38;5;28;01mNone\u001B[39;00m:\n\u001B[1;32m--> 146\u001B[0m     y \u001B[38;5;241m=\u001B[39m \u001B[43mcopier\u001B[49m\u001B[43m(\u001B[49m\u001B[43mx\u001B[49m\u001B[43m,\u001B[49m\u001B[43m \u001B[49m\u001B[43mmemo\u001B[49m\u001B[43m)\u001B[49m\n\u001B[0;32m    147\u001B[0m \u001B[38;5;28;01melse\u001B[39;00m:\n\u001B[0;32m    148\u001B[0m     \u001B[38;5;28;01mif\u001B[39;00m \u001B[38;5;28missubclass\u001B[39m(\u001B[38;5;28mcls\u001B[39m, \u001B[38;5;28mtype\u001B[39m):\n",
      "File \u001B[1;32m~\\.conda\\envs\\SDV0172\\lib\\copy.py:230\u001B[0m, in \u001B[0;36m_deepcopy_dict\u001B[1;34m(x, memo, deepcopy)\u001B[0m\n\u001B[0;32m    228\u001B[0m memo[\u001B[38;5;28mid\u001B[39m(x)] \u001B[38;5;241m=\u001B[39m y\n\u001B[0;32m    229\u001B[0m \u001B[38;5;28;01mfor\u001B[39;00m key, value \u001B[38;5;129;01min\u001B[39;00m x\u001B[38;5;241m.\u001B[39mitems():\n\u001B[1;32m--> 230\u001B[0m     y[deepcopy(key, memo)] \u001B[38;5;241m=\u001B[39m \u001B[43mdeepcopy\u001B[49m\u001B[43m(\u001B[49m\u001B[43mvalue\u001B[49m\u001B[43m,\u001B[49m\u001B[43m \u001B[49m\u001B[43mmemo\u001B[49m\u001B[43m)\u001B[49m\n\u001B[0;32m    231\u001B[0m \u001B[38;5;28;01mreturn\u001B[39;00m y\n",
      "File \u001B[1;32m~\\.conda\\envs\\SDV0172\\lib\\copy.py:146\u001B[0m, in \u001B[0;36mdeepcopy\u001B[1;34m(x, memo, _nil)\u001B[0m\n\u001B[0;32m    144\u001B[0m copier \u001B[38;5;241m=\u001B[39m _deepcopy_dispatch\u001B[38;5;241m.\u001B[39mget(\u001B[38;5;28mcls\u001B[39m)\n\u001B[0;32m    145\u001B[0m \u001B[38;5;28;01mif\u001B[39;00m copier \u001B[38;5;129;01mis\u001B[39;00m \u001B[38;5;129;01mnot\u001B[39;00m \u001B[38;5;28;01mNone\u001B[39;00m:\n\u001B[1;32m--> 146\u001B[0m     y \u001B[38;5;241m=\u001B[39m \u001B[43mcopier\u001B[49m\u001B[43m(\u001B[49m\u001B[43mx\u001B[49m\u001B[43m,\u001B[49m\u001B[43m \u001B[49m\u001B[43mmemo\u001B[49m\u001B[43m)\u001B[49m\n\u001B[0;32m    147\u001B[0m \u001B[38;5;28;01melse\u001B[39;00m:\n\u001B[0;32m    148\u001B[0m     \u001B[38;5;28;01mif\u001B[39;00m \u001B[38;5;28missubclass\u001B[39m(\u001B[38;5;28mcls\u001B[39m, \u001B[38;5;28mtype\u001B[39m):\n",
      "File \u001B[1;32m~\\.conda\\envs\\SDV0172\\lib\\copy.py:230\u001B[0m, in \u001B[0;36m_deepcopy_dict\u001B[1;34m(x, memo, deepcopy)\u001B[0m\n\u001B[0;32m    228\u001B[0m memo[\u001B[38;5;28mid\u001B[39m(x)] \u001B[38;5;241m=\u001B[39m y\n\u001B[0;32m    229\u001B[0m \u001B[38;5;28;01mfor\u001B[39;00m key, value \u001B[38;5;129;01min\u001B[39;00m x\u001B[38;5;241m.\u001B[39mitems():\n\u001B[1;32m--> 230\u001B[0m     y[deepcopy(key, memo)] \u001B[38;5;241m=\u001B[39m \u001B[43mdeepcopy\u001B[49m\u001B[43m(\u001B[49m\u001B[43mvalue\u001B[49m\u001B[43m,\u001B[49m\u001B[43m \u001B[49m\u001B[43mmemo\u001B[49m\u001B[43m)\u001B[49m\n\u001B[0;32m    231\u001B[0m \u001B[38;5;28;01mreturn\u001B[39;00m y\n",
      "File \u001B[1;32m~\\.conda\\envs\\SDV0172\\lib\\copy.py:146\u001B[0m, in \u001B[0;36mdeepcopy\u001B[1;34m(x, memo, _nil)\u001B[0m\n\u001B[0;32m    144\u001B[0m copier \u001B[38;5;241m=\u001B[39m _deepcopy_dispatch\u001B[38;5;241m.\u001B[39mget(\u001B[38;5;28mcls\u001B[39m)\n\u001B[0;32m    145\u001B[0m \u001B[38;5;28;01mif\u001B[39;00m copier \u001B[38;5;129;01mis\u001B[39;00m \u001B[38;5;129;01mnot\u001B[39;00m \u001B[38;5;28;01mNone\u001B[39;00m:\n\u001B[1;32m--> 146\u001B[0m     y \u001B[38;5;241m=\u001B[39m \u001B[43mcopier\u001B[49m\u001B[43m(\u001B[49m\u001B[43mx\u001B[49m\u001B[43m,\u001B[49m\u001B[43m \u001B[49m\u001B[43mmemo\u001B[49m\u001B[43m)\u001B[49m\n\u001B[0;32m    147\u001B[0m \u001B[38;5;28;01melse\u001B[39;00m:\n\u001B[0;32m    148\u001B[0m     \u001B[38;5;28;01mif\u001B[39;00m \u001B[38;5;28missubclass\u001B[39m(\u001B[38;5;28mcls\u001B[39m, \u001B[38;5;28mtype\u001B[39m):\n",
      "File \u001B[1;32m~\\.conda\\envs\\SDV0172\\lib\\copy.py:210\u001B[0m, in \u001B[0;36m_deepcopy_tuple\u001B[1;34m(x, memo, deepcopy)\u001B[0m\n\u001B[0;32m    209\u001B[0m \u001B[38;5;28;01mdef\u001B[39;00m \u001B[38;5;21m_deepcopy_tuple\u001B[39m(x, memo, deepcopy\u001B[38;5;241m=\u001B[39mdeepcopy):\n\u001B[1;32m--> 210\u001B[0m     y \u001B[38;5;241m=\u001B[39m [deepcopy(a, memo) \u001B[38;5;28;01mfor\u001B[39;00m a \u001B[38;5;129;01min\u001B[39;00m x]\n\u001B[0;32m    211\u001B[0m     \u001B[38;5;66;03m# We're not going to put the tuple in the memo, but it's still important we\u001B[39;00m\n\u001B[0;32m    212\u001B[0m     \u001B[38;5;66;03m# check for it, in case the tuple contains recursive mutable structures.\u001B[39;00m\n\u001B[0;32m    213\u001B[0m     \u001B[38;5;28;01mtry\u001B[39;00m:\n",
      "File \u001B[1;32m~\\.conda\\envs\\SDV0172\\lib\\copy.py:210\u001B[0m, in \u001B[0;36m<listcomp>\u001B[1;34m(.0)\u001B[0m\n\u001B[0;32m    209\u001B[0m \u001B[38;5;28;01mdef\u001B[39;00m \u001B[38;5;21m_deepcopy_tuple\u001B[39m(x, memo, deepcopy\u001B[38;5;241m=\u001B[39mdeepcopy):\n\u001B[1;32m--> 210\u001B[0m     y \u001B[38;5;241m=\u001B[39m [\u001B[43mdeepcopy\u001B[49m\u001B[43m(\u001B[49m\u001B[43ma\u001B[49m\u001B[43m,\u001B[49m\u001B[43m \u001B[49m\u001B[43mmemo\u001B[49m\u001B[43m)\u001B[49m \u001B[38;5;28;01mfor\u001B[39;00m a \u001B[38;5;129;01min\u001B[39;00m x]\n\u001B[0;32m    211\u001B[0m     \u001B[38;5;66;03m# We're not going to put the tuple in the memo, but it's still important we\u001B[39;00m\n\u001B[0;32m    212\u001B[0m     \u001B[38;5;66;03m# check for it, in case the tuple contains recursive mutable structures.\u001B[39;00m\n\u001B[0;32m    213\u001B[0m     \u001B[38;5;28;01mtry\u001B[39;00m:\n",
      "File \u001B[1;32m~\\.conda\\envs\\SDV0172\\lib\\copy.py:146\u001B[0m, in \u001B[0;36mdeepcopy\u001B[1;34m(x, memo, _nil)\u001B[0m\n\u001B[0;32m    144\u001B[0m copier \u001B[38;5;241m=\u001B[39m _deepcopy_dispatch\u001B[38;5;241m.\u001B[39mget(\u001B[38;5;28mcls\u001B[39m)\n\u001B[0;32m    145\u001B[0m \u001B[38;5;28;01mif\u001B[39;00m copier \u001B[38;5;129;01mis\u001B[39;00m \u001B[38;5;129;01mnot\u001B[39;00m \u001B[38;5;28;01mNone\u001B[39;00m:\n\u001B[1;32m--> 146\u001B[0m     y \u001B[38;5;241m=\u001B[39m \u001B[43mcopier\u001B[49m\u001B[43m(\u001B[49m\u001B[43mx\u001B[49m\u001B[43m,\u001B[49m\u001B[43m \u001B[49m\u001B[43mmemo\u001B[49m\u001B[43m)\u001B[49m\n\u001B[0;32m    147\u001B[0m \u001B[38;5;28;01melse\u001B[39;00m:\n\u001B[0;32m    148\u001B[0m     \u001B[38;5;28;01mif\u001B[39;00m \u001B[38;5;28missubclass\u001B[39m(\u001B[38;5;28mcls\u001B[39m, \u001B[38;5;28mtype\u001B[39m):\n",
      "File \u001B[1;32m~\\.conda\\envs\\SDV0172\\lib\\copy.py:182\u001B[0m, in \u001B[0;36m_deepcopy_atomic\u001B[1;34m(x, memo)\u001B[0m\n\u001B[0;32m    178\u001B[0m     \u001B[38;5;28;01mreturn\u001B[39;00m y\n\u001B[0;32m    180\u001B[0m _deepcopy_dispatch \u001B[38;5;241m=\u001B[39m d \u001B[38;5;241m=\u001B[39m {}\n\u001B[1;32m--> 182\u001B[0m \u001B[38;5;28;01mdef\u001B[39;00m \u001B[38;5;21m_deepcopy_atomic\u001B[39m(x, memo):\n\u001B[0;32m    183\u001B[0m     \u001B[38;5;28;01mreturn\u001B[39;00m x\n\u001B[0;32m    184\u001B[0m d[\u001B[38;5;28mtype\u001B[39m(\u001B[38;5;28;01mNone\u001B[39;00m)] \u001B[38;5;241m=\u001B[39m _deepcopy_atomic\n",
      "\u001B[1;31mKeyboardInterrupt\u001B[0m: "
     ]
    }
   ],
   "execution_count": 10
  },
  {
   "cell_type": "markdown",
   "metadata": {},
   "source": [
    "8s，很快"
   ]
  },
  {
   "cell_type": "code",
   "metadata": {},
   "source": [
    "save_tables(new_data)"
   ],
   "outputs": [],
   "execution_count": null
  },
  {
   "cell_type": "code",
   "metadata": {},
   "source": [
    "for name, table in new_data.items():\n",
    "    print(name, table.shape)"
   ],
   "outputs": [],
   "execution_count": null
  },
  {
   "cell_type": "code",
   "metadata": {
    "attributes": {
     "classes": [
      ""
     ],
     "id": ""
    },
    "ExecuteTime": {
     "end_time": "2024-09-09T10:42:47.045012Z",
     "start_time": "2024-09-09T10:42:46.919152Z"
    }
   },
   "source": "model.save('my_model_10k.pkl')",
   "outputs": [],
   "execution_count": 9
  },
  {
   "cell_type": "code",
   "metadata": {
    "attributes": {
     "classes": [
      ""
     ],
     "id": ""
    },
    "ExecuteTime": {
     "end_time": "2024-09-09T15:45:26.738830Z",
     "start_time": "2024-09-09T15:45:10.185734Z"
    }
   },
   "source": [
    "from sdv.relational import HMA1\n",
    "import warnings\n",
    "warnings.filterwarnings('ignore')\n",
    "loaded = HMA1.load('my_model_10k.pkl')\n",
    "new_data = loaded.sample()\n",
    "new_data.keys()"
   ],
   "outputs": [
    {
     "data": {
      "text/plain": [
       "  0%|          | 0/20 [00:00<?, ?it/s]"
      ],
      "application/vnd.jupyter.widget-view+json": {
       "version_major": 2,
       "version_minor": 0,
       "model_id": "fc66b276dbc24e0d85a5bd5c72b34b0e"
      }
     },
     "metadata": {},
     "output_type": "display_data"
    },
    {
     "data": {
      "text/plain": [
       "Student Childing:   0%|          | 0/3 [00:00<?, ?it/s]"
      ],
      "application/vnd.jupyter.widget-view+json": {
       "version_major": 2,
       "version_minor": 0,
       "model_id": "d4b02a74d9aa4564b3f0ccdb0886529e"
      }
     },
     "metadata": {},
     "output_type": "display_data"
    },
    {
     "data": {
      "text/plain": [
       "Enrollment:   0%|          | 0/10000 [00:00<?, ?it/s]"
      ],
      "application/vnd.jupyter.widget-view+json": {
       "version_major": 2,
       "version_minor": 0,
       "model_id": "60865aade2814df6ac9725d734e23cff"
      }
     },
     "metadata": {},
     "output_type": "display_data"
    },
    {
     "ename": "KeyboardInterrupt",
     "evalue": "",
     "output_type": "error",
     "traceback": [
      "\u001B[1;31m---------------------------------------------------------------------------\u001B[0m",
      "\u001B[1;31mKeyboardInterrupt\u001B[0m                         Traceback (most recent call last)",
      "Cell \u001B[1;32mIn[2], line 5\u001B[0m\n\u001B[0;32m      3\u001B[0m warnings\u001B[38;5;241m.\u001B[39mfilterwarnings(\u001B[38;5;124m'\u001B[39m\u001B[38;5;124mignore\u001B[39m\u001B[38;5;124m'\u001B[39m)\n\u001B[0;32m      4\u001B[0m loaded \u001B[38;5;241m=\u001B[39m HMA1\u001B[38;5;241m.\u001B[39mload(\u001B[38;5;124m'\u001B[39m\u001B[38;5;124mmy_model_10k.pkl\u001B[39m\u001B[38;5;124m'\u001B[39m)\n\u001B[1;32m----> 5\u001B[0m new_data \u001B[38;5;241m=\u001B[39m \u001B[43mloaded\u001B[49m\u001B[38;5;241;43m.\u001B[39;49m\u001B[43msample\u001B[49m\u001B[43m(\u001B[49m\u001B[43m)\u001B[49m\n\u001B[0;32m      6\u001B[0m new_data\u001B[38;5;241m.\u001B[39mkeys()\n",
      "File \u001B[1;32m~\\Desktop\\GitHub\\SDV\\sdv\\relational\\base.py:185\u001B[0m, in \u001B[0;36mBaseRelationalModel.sample\u001B[1;34m(self, table_name, num_rows, sample_children, reset_primary_keys)\u001B[0m\n\u001B[0;32m    182\u001B[0m \u001B[38;5;28;01mif\u001B[39;00m reset_primary_keys:\n\u001B[0;32m    183\u001B[0m     \u001B[38;5;28mself\u001B[39m\u001B[38;5;241m.\u001B[39m_reset_primary_keys_generators()\n\u001B[1;32m--> 185\u001B[0m \u001B[38;5;28;01mreturn\u001B[39;00m \u001B[38;5;28;43mself\u001B[39;49m\u001B[38;5;241;43m.\u001B[39;49m\u001B[43m_sample\u001B[49m\u001B[43m(\u001B[49m\u001B[43mtable_name\u001B[49m\u001B[43m,\u001B[49m\u001B[43m \u001B[49m\u001B[43mnum_rows\u001B[49m\u001B[43m,\u001B[49m\u001B[43m \u001B[49m\u001B[43msample_children\u001B[49m\u001B[43m)\u001B[49m\n",
      "File \u001B[1;32m~\\Desktop\\GitHub\\SDV\\sdv\\relational\\hma.py:603\u001B[0m, in \u001B[0;36m_sample\u001B[1;34m(self, table_name, num_rows, sample_children)\u001B[0m\n\u001B[0;32m    599\u001B[0m         \u001B[38;5;28;01mreturn\u001B[39;00m sampled_data\n\u001B[0;32m    601\u001B[0m     \u001B[38;5;28;01mreturn\u001B[39;00m sampled_data[table_name]\n\u001B[1;32m--> 603\u001B[0m sampled_data \u001B[38;5;241m=\u001B[39m \u001B[38;5;28mdict\u001B[39m()\n\u001B[0;32m    604\u001B[0m tables \u001B[38;5;241m=\u001B[39m \u001B[38;5;28mself\u001B[39m\u001B[38;5;241m.\u001B[39mmetadata\u001B[38;5;241m.\u001B[39mget_tables()\n\u001B[0;32m    605\u001B[0m psb \u001B[38;5;241m=\u001B[39m tqdm\u001B[38;5;241m.\u001B[39mtqdm(total\u001B[38;5;241m=\u001B[39m\u001B[38;5;28mlen\u001B[39m(tables))\n",
      "File \u001B[1;32m~\\Desktop\\GitHub\\SDV\\sdv\\relational\\hma.py:562\u001B[0m, in \u001B[0;36m_sample_table\u001B[1;34m(self, table_name, num_rows, sample_children, sampled_data)\u001B[0m\n\u001B[0;32m    560\u001B[0m model \u001B[38;5;241m=\u001B[39m \u001B[38;5;28mself\u001B[39m\u001B[38;5;241m.\u001B[39m_models[table_name]\n\u001B[0;32m    561\u001B[0m table_rows \u001B[38;5;241m=\u001B[39m \u001B[38;5;28mself\u001B[39m\u001B[38;5;241m.\u001B[39m_sample_rows(model, table_name, num_rows)\n\u001B[1;32m--> 562\u001B[0m sampled_data[table_name] \u001B[38;5;241m=\u001B[39m table_rows\n\u001B[0;32m    564\u001B[0m \u001B[38;5;28;01mif\u001B[39;00m sample_children:\n\u001B[0;32m    565\u001B[0m     \u001B[38;5;28mself\u001B[39m\u001B[38;5;241m.\u001B[39m_sample_children(table_name, sampled_data, table_rows)\n",
      "File \u001B[1;32m~\\Desktop\\GitHub\\SDV\\sdv\\relational\\hma.py:433\u001B[0m, in \u001B[0;36mHMA1._sample_children\u001B[1;34m(self, table_name, sampled_data, table_rows)\u001B[0m\n\u001B[0;32m    431\u001B[0m \u001B[38;5;28;01mfor\u001B[39;00m child_name \u001B[38;5;129;01min\u001B[39;00m tqdm\u001B[38;5;241m.\u001B[39mtqdm(children_name, desc\u001B[38;5;241m=\u001B[39m\u001B[38;5;124mf\u001B[39m\u001B[38;5;124m\"\u001B[39m\u001B[38;5;132;01m{\u001B[39;00mtable_name\u001B[38;5;132;01m}\u001B[39;00m\u001B[38;5;124m Childing\u001B[39m\u001B[38;5;124m\"\u001B[39m):\n\u001B[0;32m    432\u001B[0m     \u001B[38;5;28;01mif\u001B[39;00m child_name \u001B[38;5;129;01mnot\u001B[39;00m \u001B[38;5;129;01min\u001B[39;00m sampled_data:\n\u001B[1;32m--> 433\u001B[0m         LOGGER\u001B[38;5;241m.\u001B[39minfo(\u001B[38;5;124m'\u001B[39m\u001B[38;5;124mSampling rows from child table \u001B[39m\u001B[38;5;132;01m%s\u001B[39;00m\u001B[38;5;124m'\u001B[39m, child_name)\n\u001B[0;32m    434\u001B[0m         psb \u001B[38;5;241m=\u001B[39m tqdm\u001B[38;5;241m.\u001B[39mtqdm(total\u001B[38;5;241m=\u001B[39m\u001B[38;5;28mlen\u001B[39m(table_rows), desc\u001B[38;5;241m=\u001B[39m\u001B[38;5;124mf\u001B[39m\u001B[38;5;124m\"\u001B[39m\u001B[38;5;132;01m{\u001B[39;00mchild_name\u001B[38;5;132;01m}\u001B[39;00m\u001B[38;5;124m\"\u001B[39m)\n\u001B[0;32m    435\u001B[0m         \u001B[38;5;28;01mfor\u001B[39;00m _, row \u001B[38;5;129;01min\u001B[39;00m table_rows\u001B[38;5;241m.\u001B[39miterrows():\n",
      "File \u001B[1;32m~\\Desktop\\GitHub\\SDV\\sdv\\relational\\hma.py:403\u001B[0m, in \u001B[0;36mHMA1._sample_child_rows\u001B[1;34m(self, table_name, parent_name, parent_row, sampled_data)\u001B[0m\n\u001B[0;32m    400\u001B[0m model \u001B[38;5;241m=\u001B[39m \u001B[38;5;28mself\u001B[39m\u001B[38;5;241m.\u001B[39m_model(table_metadata\u001B[38;5;241m=\u001B[39mtable_meta)\n\u001B[0;32m    401\u001B[0m model\u001B[38;5;241m.\u001B[39mset_parameters(parameters)\n\u001B[1;32m--> 403\u001B[0m table_rows \u001B[38;5;241m=\u001B[39m \u001B[38;5;28;43mself\u001B[39;49m\u001B[38;5;241;43m.\u001B[39;49m\u001B[43m_sample_rows\u001B[49m\u001B[43m(\u001B[49m\u001B[43mmodel\u001B[49m\u001B[43m,\u001B[49m\u001B[43m \u001B[49m\u001B[43mtable_name\u001B[49m\u001B[43m)\u001B[49m\n\u001B[0;32m    404\u001B[0m \u001B[38;5;28;01mif\u001B[39;00m \u001B[38;5;28mlen\u001B[39m(table_rows):\n\u001B[0;32m    405\u001B[0m     parent_key \u001B[38;5;241m=\u001B[39m \u001B[38;5;28mself\u001B[39m\u001B[38;5;241m.\u001B[39mmetadata\u001B[38;5;241m.\u001B[39mget_primary_key(parent_name)\n",
      "File \u001B[1;32m~\\Desktop\\GitHub\\SDV\\sdv\\relational\\hma.py:371\u001B[0m, in \u001B[0;36mHMA1._sample_rows\u001B[1;34m(self, model, table_name, num_rows)\u001B[0m\n\u001B[0;32m    356\u001B[0m \u001B[38;5;250m\u001B[39m\u001B[38;5;124;03m\"\"\"Sample ``num_rows`` from ``model``.\u001B[39;00m\n\u001B[0;32m    357\u001B[0m \n\u001B[0;32m    358\u001B[0m \u001B[38;5;124;03mArgs:\u001B[39;00m\n\u001B[1;32m   (...)\u001B[0m\n\u001B[0;32m    368\u001B[0m \u001B[38;5;124;03m        Sampled rows, shape (, num_rows)\u001B[39;00m\n\u001B[0;32m    369\u001B[0m \u001B[38;5;124;03m\"\"\"\u001B[39;00m\n\u001B[0;32m    370\u001B[0m num_rows \u001B[38;5;241m=\u001B[39m num_rows \u001B[38;5;129;01mor\u001B[39;00m model\u001B[38;5;241m.\u001B[39m_num_rows\n\u001B[1;32m--> 371\u001B[0m sampled \u001B[38;5;241m=\u001B[39m \u001B[43mmodel\u001B[49m\u001B[38;5;241;43m.\u001B[39;49m\u001B[43m_sample_with_progress_bar\u001B[49m\u001B[43m(\u001B[49m\n\u001B[0;32m    372\u001B[0m \u001B[43m    \u001B[49m\u001B[43mnum_rows\u001B[49m\u001B[43m,\u001B[49m\u001B[43m \u001B[49m\u001B[43moutput_file_path\u001B[49m\u001B[38;5;241;43m=\u001B[39;49m\u001B[38;5;124;43m'\u001B[39;49m\u001B[38;5;124;43mdisable\u001B[39;49m\u001B[38;5;124;43m'\u001B[39;49m\u001B[43m,\u001B[49m\u001B[43m \u001B[49m\u001B[43mshow_progress_bar\u001B[49m\u001B[38;5;241;43m=\u001B[39;49m\u001B[38;5;28;43;01mFalse\u001B[39;49;00m\u001B[43m)\u001B[49m\n\u001B[0;32m    374\u001B[0m primary_key_name \u001B[38;5;241m=\u001B[39m \u001B[38;5;28mself\u001B[39m\u001B[38;5;241m.\u001B[39mmetadata\u001B[38;5;241m.\u001B[39mget_primary_key(table_name)\n\u001B[0;32m    375\u001B[0m \u001B[38;5;28;01mif\u001B[39;00m primary_key_name:\n",
      "File \u001B[1;32m~\\Desktop\\GitHub\\SDV\\sdv\\tabular\\base.py:509\u001B[0m, in \u001B[0;36mBaseTabularModel._sample_with_progress_bar\u001B[1;34m(self, num_rows, randomize_samples, max_tries_per_batch, batch_size, output_file_path, conditions, show_progress_bar)\u001B[0m\n\u001B[0;32m    500\u001B[0m         sampled \u001B[38;5;241m=\u001B[39m \u001B[38;5;28mself\u001B[39m\u001B[38;5;241m.\u001B[39m_sample_in_batches(\n\u001B[0;32m    501\u001B[0m             num_rows\u001B[38;5;241m=\u001B[39mnum_rows,\n\u001B[0;32m    502\u001B[0m             batch_size\u001B[38;5;241m=\u001B[39mbatch_size,\n\u001B[1;32m   (...)\u001B[0m\n\u001B[0;32m    505\u001B[0m             output_file_path\u001B[38;5;241m=\u001B[39moutput_file_path\n\u001B[0;32m    506\u001B[0m         )\n\u001B[0;32m    508\u001B[0m \u001B[38;5;28;01mexcept\u001B[39;00m (\u001B[38;5;167;01mException\u001B[39;00m, \u001B[38;5;167;01mKeyboardInterrupt\u001B[39;00m) \u001B[38;5;28;01mas\u001B[39;00m error:\n\u001B[1;32m--> 509\u001B[0m     \u001B[43mhandle_sampling_error\u001B[49m\u001B[43m(\u001B[49m\u001B[43moutput_file_path\u001B[49m\u001B[43m \u001B[49m\u001B[38;5;241;43m==\u001B[39;49m\u001B[43m \u001B[49m\u001B[43mTMP_FILE_NAME\u001B[49m\u001B[43m,\u001B[49m\u001B[43m \u001B[49m\u001B[43moutput_file_path\u001B[49m\u001B[43m,\u001B[49m\u001B[43m \u001B[49m\u001B[43merror\u001B[49m\u001B[43m)\u001B[49m\n\u001B[0;32m    511\u001B[0m \u001B[38;5;28;01melse\u001B[39;00m:\n\u001B[0;32m    512\u001B[0m     \u001B[38;5;28;01mif\u001B[39;00m output_file_path \u001B[38;5;241m==\u001B[39m TMP_FILE_NAME \u001B[38;5;129;01mand\u001B[39;00m os\u001B[38;5;241m.\u001B[39mpath\u001B[38;5;241m.\u001B[39mexists(output_file_path):\n",
      "File \u001B[1;32m~\\Desktop\\GitHub\\SDV\\sdv\\tabular\\utils.py:165\u001B[0m, in \u001B[0;36mhandle_sampling_error\u001B[1;34m(is_tmp_file, output_file_path, sampling_error)\u001B[0m\n\u001B[0;32m    161\u001B[0m \u001B[38;5;28;01melif\u001B[39;00m output_file_path \u001B[38;5;129;01mis\u001B[39;00m \u001B[38;5;129;01mnot\u001B[39;00m \u001B[38;5;28;01mNone\u001B[39;00m:\n\u001B[0;32m    162\u001B[0m     \u001B[38;5;28mprint\u001B[39m(\u001B[38;5;124m'\u001B[39m\u001B[38;5;124mError: Sampling terminated. \u001B[39m\u001B[38;5;124m'\u001B[39m\n\u001B[0;32m    163\u001B[0m           \u001B[38;5;124mf\u001B[39m\u001B[38;5;124m'\u001B[39m\u001B[38;5;124mPartial results are stored in \u001B[39m\u001B[38;5;132;01m{\u001B[39;00moutput_file_path\u001B[38;5;132;01m}\u001B[39;00m\u001B[38;5;124m.\u001B[39m\u001B[38;5;124m'\u001B[39m)\n\u001B[1;32m--> 165\u001B[0m \u001B[38;5;28;01mraise\u001B[39;00m sampling_error\n",
      "File \u001B[1;32m~\\Desktop\\GitHub\\SDV\\sdv\\tabular\\base.py:500\u001B[0m, in \u001B[0;36mBaseTabularModel._sample_with_progress_bar\u001B[1;34m(self, num_rows, randomize_samples, max_tries_per_batch, batch_size, output_file_path, conditions, show_progress_bar)\u001B[0m\n\u001B[0;32m    498\u001B[0m     \u001B[38;5;28;01mwith\u001B[39;00m tqdm\u001B[38;5;241m.\u001B[39mtqdm(total\u001B[38;5;241m=\u001B[39mnum_rows, disable\u001B[38;5;241m=\u001B[39m\u001B[38;5;129;01mnot\u001B[39;00m show_progress_bar) \u001B[38;5;28;01mas\u001B[39;00m progress_bar:\n\u001B[0;32m    499\u001B[0m         progress_bar\u001B[38;5;241m.\u001B[39mset_description(\u001B[38;5;124m'\u001B[39m\u001B[38;5;124mSampling rows\u001B[39m\u001B[38;5;124m'\u001B[39m)\n\u001B[1;32m--> 500\u001B[0m         sampled \u001B[38;5;241m=\u001B[39m \u001B[38;5;28;43mself\u001B[39;49m\u001B[38;5;241;43m.\u001B[39;49m\u001B[43m_sample_in_batches\u001B[49m\u001B[43m(\u001B[49m\n\u001B[0;32m    501\u001B[0m \u001B[43m            \u001B[49m\u001B[43mnum_rows\u001B[49m\u001B[38;5;241;43m=\u001B[39;49m\u001B[43mnum_rows\u001B[49m\u001B[43m,\u001B[49m\n\u001B[0;32m    502\u001B[0m \u001B[43m            \u001B[49m\u001B[43mbatch_size\u001B[49m\u001B[38;5;241;43m=\u001B[39;49m\u001B[43mbatch_size\u001B[49m\u001B[43m,\u001B[49m\n\u001B[0;32m    503\u001B[0m \u001B[43m            \u001B[49m\u001B[43mmax_tries_per_batch\u001B[49m\u001B[38;5;241;43m=\u001B[39;49m\u001B[43mmax_tries_per_batch\u001B[49m\u001B[43m,\u001B[49m\n\u001B[0;32m    504\u001B[0m \u001B[43m            \u001B[49m\u001B[43mprogress_bar\u001B[49m\u001B[38;5;241;43m=\u001B[39;49m\u001B[43mprogress_bar\u001B[49m\u001B[43m,\u001B[49m\n\u001B[0;32m    505\u001B[0m \u001B[43m            \u001B[49m\u001B[43moutput_file_path\u001B[49m\u001B[38;5;241;43m=\u001B[39;49m\u001B[43moutput_file_path\u001B[49m\n\u001B[0;32m    506\u001B[0m \u001B[43m        \u001B[49m\u001B[43m)\u001B[49m\n\u001B[0;32m    508\u001B[0m \u001B[38;5;28;01mexcept\u001B[39;00m (\u001B[38;5;167;01mException\u001B[39;00m, \u001B[38;5;167;01mKeyboardInterrupt\u001B[39;00m) \u001B[38;5;28;01mas\u001B[39;00m error:\n\u001B[0;32m    509\u001B[0m     handle_sampling_error(output_file_path \u001B[38;5;241m==\u001B[39m TMP_FILE_NAME, output_file_path, error)\n",
      "File \u001B[1;32m~\\Desktop\\GitHub\\SDV\\sdv\\tabular\\base.py:378\u001B[0m, in \u001B[0;36mBaseTabularModel._sample_in_batches\u001B[1;34m(self, num_rows, batch_size, max_tries_per_batch, conditions, transformed_conditions, float_rtol, progress_bar, output_file_path)\u001B[0m\n\u001B[0;32m    376\u001B[0m batch_size \u001B[38;5;241m=\u001B[39m batch_size \u001B[38;5;28;01mif\u001B[39;00m num_rows \u001B[38;5;241m>\u001B[39m batch_size \u001B[38;5;28;01melse\u001B[39;00m num_rows\n\u001B[0;32m    377\u001B[0m \u001B[38;5;28;01mfor\u001B[39;00m step \u001B[38;5;129;01min\u001B[39;00m \u001B[38;5;28mrange\u001B[39m(math\u001B[38;5;241m.\u001B[39mceil(num_rows \u001B[38;5;241m/\u001B[39m batch_size)):\n\u001B[1;32m--> 378\u001B[0m     sampled_rows \u001B[38;5;241m=\u001B[39m \u001B[38;5;28;43mself\u001B[39;49m\u001B[38;5;241;43m.\u001B[39;49m\u001B[43m_sample_batch\u001B[49m\u001B[43m(\u001B[49m\n\u001B[0;32m    379\u001B[0m \u001B[43m        \u001B[49m\u001B[43mbatch_size\u001B[49m\u001B[38;5;241;43m=\u001B[39;49m\u001B[43mbatch_size\u001B[49m\u001B[43m,\u001B[49m\n\u001B[0;32m    380\u001B[0m \u001B[43m        \u001B[49m\u001B[43mmax_tries\u001B[49m\u001B[38;5;241;43m=\u001B[39;49m\u001B[43mmax_tries_per_batch\u001B[49m\u001B[43m,\u001B[49m\n\u001B[0;32m    381\u001B[0m \u001B[43m        \u001B[49m\u001B[43mconditions\u001B[49m\u001B[38;5;241;43m=\u001B[39;49m\u001B[43mconditions\u001B[49m\u001B[43m,\u001B[49m\n\u001B[0;32m    382\u001B[0m \u001B[43m        \u001B[49m\u001B[43mtransformed_conditions\u001B[49m\u001B[38;5;241;43m=\u001B[39;49m\u001B[43mtransformed_conditions\u001B[49m\u001B[43m,\u001B[49m\n\u001B[0;32m    383\u001B[0m \u001B[43m        \u001B[49m\u001B[43mfloat_rtol\u001B[49m\u001B[38;5;241;43m=\u001B[39;49m\u001B[43mfloat_rtol\u001B[49m\u001B[43m,\u001B[49m\n\u001B[0;32m    384\u001B[0m \u001B[43m        \u001B[49m\u001B[43mprogress_bar\u001B[49m\u001B[38;5;241;43m=\u001B[39;49m\u001B[43mprogress_bar\u001B[49m\u001B[43m,\u001B[49m\n\u001B[0;32m    385\u001B[0m \u001B[43m        \u001B[49m\u001B[43moutput_file_path\u001B[49m\u001B[38;5;241;43m=\u001B[39;49m\u001B[43moutput_file_path\u001B[49m\u001B[43m,\u001B[49m\n\u001B[0;32m    386\u001B[0m \u001B[43m    \u001B[49m\u001B[43m)\u001B[49m\n\u001B[0;32m    387\u001B[0m     sampled\u001B[38;5;241m.\u001B[39mappend(sampled_rows)\n\u001B[0;32m    389\u001B[0m sampled \u001B[38;5;241m=\u001B[39m pd\u001B[38;5;241m.\u001B[39mconcat(sampled, ignore_index\u001B[38;5;241m=\u001B[39m\u001B[38;5;28;01mTrue\u001B[39;00m) \u001B[38;5;28;01mif\u001B[39;00m \u001B[38;5;28mlen\u001B[39m(sampled) \u001B[38;5;241m>\u001B[39m \u001B[38;5;241m0\u001B[39m \u001B[38;5;28;01melse\u001B[39;00m pd\u001B[38;5;241m.\u001B[39mDataFrame()\n",
      "File \u001B[1;32m~\\Desktop\\GitHub\\SDV\\sdv\\tabular\\base.py:319\u001B[0m, in \u001B[0;36mBaseTabularModel._sample_batch\u001B[1;34m(self, batch_size, max_tries, conditions, transformed_conditions, float_rtol, progress_bar, output_file_path)\u001B[0m\n\u001B[0;32m    316\u001B[0m     \u001B[38;5;28;01mbreak\u001B[39;00m\n\u001B[0;32m    318\u001B[0m prev_num_valid \u001B[38;5;241m=\u001B[39m num_valid\n\u001B[1;32m--> 319\u001B[0m sampled, num_valid \u001B[38;5;241m=\u001B[39m \u001B[38;5;28;43mself\u001B[39;49m\u001B[38;5;241;43m.\u001B[39;49m\u001B[43m_sample_rows\u001B[49m\u001B[43m(\u001B[49m\n\u001B[0;32m    320\u001B[0m \u001B[43m    \u001B[49m\u001B[43mnum_rows_to_sample\u001B[49m\u001B[43m,\u001B[49m\u001B[43m \u001B[49m\u001B[43mconditions\u001B[49m\u001B[43m,\u001B[49m\u001B[43m \u001B[49m\u001B[43mtransformed_conditions\u001B[49m\u001B[43m,\u001B[49m\u001B[43m \u001B[49m\u001B[43mfloat_rtol\u001B[49m\u001B[43m,\u001B[49m\u001B[43m \u001B[49m\u001B[43msampled\u001B[49m\u001B[43m,\u001B[49m\n\u001B[0;32m    321\u001B[0m \u001B[43m\u001B[49m\u001B[43m)\u001B[49m\n\u001B[0;32m    323\u001B[0m num_new_valid_rows \u001B[38;5;241m=\u001B[39m num_valid \u001B[38;5;241m-\u001B[39m prev_num_valid\n\u001B[0;32m    324\u001B[0m num_increase \u001B[38;5;241m=\u001B[39m \u001B[38;5;28mmin\u001B[39m(num_new_valid_rows, remaining)\n",
      "File \u001B[1;32m~\\Desktop\\GitHub\\SDV\\sdv\\tabular\\base.py:241\u001B[0m, in \u001B[0;36mBaseTabularModel._sample_rows\u001B[1;34m(self, num_rows, conditions, transformed_conditions, float_rtol, previous_rows)\u001B[0m\n\u001B[0;32m    238\u001B[0m     \u001B[38;5;28;01mexcept\u001B[39;00m \u001B[38;5;167;01mNotImplementedError\u001B[39;00m:\n\u001B[0;32m    239\u001B[0m         sampled \u001B[38;5;241m=\u001B[39m \u001B[38;5;28mself\u001B[39m\u001B[38;5;241m.\u001B[39m_sample(num_rows)\n\u001B[1;32m--> 241\u001B[0m sampled \u001B[38;5;241m=\u001B[39m \u001B[38;5;28;43mself\u001B[39;49m\u001B[38;5;241;43m.\u001B[39;49m\u001B[43m_metadata\u001B[49m\u001B[38;5;241;43m.\u001B[39;49m\u001B[43mreverse_transform\u001B[49m\u001B[43m(\u001B[49m\u001B[43msampled\u001B[49m\u001B[43m)\u001B[49m\n\u001B[0;32m    243\u001B[0m \u001B[38;5;28;01mif\u001B[39;00m previous_rows \u001B[38;5;129;01mis\u001B[39;00m \u001B[38;5;129;01mnot\u001B[39;00m \u001B[38;5;28;01mNone\u001B[39;00m:\n\u001B[0;32m    244\u001B[0m     sampled \u001B[38;5;241m=\u001B[39m pd\u001B[38;5;241m.\u001B[39mconcat([previous_rows, sampled], ignore_index\u001B[38;5;241m=\u001B[39m\u001B[38;5;28;01mTrue\u001B[39;00m)\n",
      "File \u001B[1;32m~\\Desktop\\GitHub\\SDV\\sdv\\metadata\\table.py:728\u001B[0m, in \u001B[0;36mTable.reverse_transform\u001B[1;34m(self, data)\u001B[0m\n\u001B[0;32m    724\u001B[0m         field_data \u001B[38;5;241m=\u001B[39m field_data\u001B[38;5;241m.\u001B[39mround()\n\u001B[0;32m    726\u001B[0m     reversed_data[name] \u001B[38;5;241m=\u001B[39m field_data[field_data\u001B[38;5;241m.\u001B[39mnotnull()]\u001B[38;5;241m.\u001B[39mastype(\u001B[38;5;28mself\u001B[39m\u001B[38;5;241m.\u001B[39m_dtypes[name])\n\u001B[1;32m--> 728\u001B[0m \u001B[38;5;28;01mreturn\u001B[39;00m \u001B[43mreversed_data\u001B[49m\u001B[43m[\u001B[49m\u001B[38;5;28;43mself\u001B[39;49m\u001B[38;5;241;43m.\u001B[39;49m\u001B[43m_field_names\u001B[49m\u001B[43m]\u001B[49m\n",
      "File \u001B[1;32m~\\.conda\\envs\\SDV0172\\lib\\site-packages\\pandas\\core\\frame.py:3819\u001B[0m, in \u001B[0;36mDataFrame.__getitem__\u001B[1;34m(self, key)\u001B[0m\n\u001B[0;32m   3816\u001B[0m \u001B[38;5;28;01mif\u001B[39;00m \u001B[38;5;28mgetattr\u001B[39m(indexer, \u001B[38;5;124m\"\u001B[39m\u001B[38;5;124mdtype\u001B[39m\u001B[38;5;124m\"\u001B[39m, \u001B[38;5;28;01mNone\u001B[39;00m) \u001B[38;5;241m==\u001B[39m \u001B[38;5;28mbool\u001B[39m:\n\u001B[0;32m   3817\u001B[0m     indexer \u001B[38;5;241m=\u001B[39m np\u001B[38;5;241m.\u001B[39mwhere(indexer)[\u001B[38;5;241m0\u001B[39m]\n\u001B[1;32m-> 3819\u001B[0m data \u001B[38;5;241m=\u001B[39m \u001B[38;5;28;43mself\u001B[39;49m\u001B[38;5;241;43m.\u001B[39;49m\u001B[43m_take_with_is_copy\u001B[49m\u001B[43m(\u001B[49m\u001B[43mindexer\u001B[49m\u001B[43m,\u001B[49m\u001B[43m \u001B[49m\u001B[43maxis\u001B[49m\u001B[38;5;241;43m=\u001B[39;49m\u001B[38;5;241;43m1\u001B[39;49m\u001B[43m)\u001B[49m\n\u001B[0;32m   3821\u001B[0m \u001B[38;5;28;01mif\u001B[39;00m is_single_key:\n\u001B[0;32m   3822\u001B[0m     \u001B[38;5;66;03m# What does looking for a single key in a non-unique index return?\u001B[39;00m\n\u001B[0;32m   3823\u001B[0m     \u001B[38;5;66;03m# The behavior is inconsistent. It returns a Series, except when\u001B[39;00m\n\u001B[0;32m   3824\u001B[0m     \u001B[38;5;66;03m# - the key itself is repeated (test on data.shape, #9519), or\u001B[39;00m\n\u001B[0;32m   3825\u001B[0m     \u001B[38;5;66;03m# - we have a MultiIndex on columns (test on self.columns, #21309)\u001B[39;00m\n\u001B[0;32m   3826\u001B[0m     \u001B[38;5;28;01mif\u001B[39;00m data\u001B[38;5;241m.\u001B[39mshape[\u001B[38;5;241m1\u001B[39m] \u001B[38;5;241m==\u001B[39m \u001B[38;5;241m1\u001B[39m \u001B[38;5;129;01mand\u001B[39;00m \u001B[38;5;129;01mnot\u001B[39;00m \u001B[38;5;28misinstance\u001B[39m(\u001B[38;5;28mself\u001B[39m\u001B[38;5;241m.\u001B[39mcolumns, MultiIndex):\n\u001B[0;32m   3827\u001B[0m         \u001B[38;5;66;03m# GH#26490 using data[key] can cause RecursionError\u001B[39;00m\n",
      "File \u001B[1;32m~\\.conda\\envs\\SDV0172\\lib\\site-packages\\pandas\\core\\generic.py:3902\u001B[0m, in \u001B[0;36mNDFrame._take_with_is_copy\u001B[1;34m(self, indices, axis)\u001B[0m\n\u001B[0;32m   3894\u001B[0m \u001B[38;5;28;01mdef\u001B[39;00m \u001B[38;5;21m_take_with_is_copy\u001B[39m(\u001B[38;5;28mself\u001B[39m: NDFrameT, indices, axis\u001B[38;5;241m=\u001B[39m\u001B[38;5;241m0\u001B[39m) \u001B[38;5;241m-\u001B[39m\u001B[38;5;241m>\u001B[39m NDFrameT:\n\u001B[0;32m   3895\u001B[0m \u001B[38;5;250m    \u001B[39m\u001B[38;5;124;03m\"\"\"\u001B[39;00m\n\u001B[0;32m   3896\u001B[0m \u001B[38;5;124;03m    Internal version of the `take` method that sets the `_is_copy`\u001B[39;00m\n\u001B[0;32m   3897\u001B[0m \u001B[38;5;124;03m    attribute to keep track of the parent dataframe (using in indexing\u001B[39;00m\n\u001B[1;32m   (...)\u001B[0m\n\u001B[0;32m   3900\u001B[0m \u001B[38;5;124;03m    See the docstring of `take` for full explanation of the parameters.\u001B[39;00m\n\u001B[0;32m   3901\u001B[0m \u001B[38;5;124;03m    \"\"\"\u001B[39;00m\n\u001B[1;32m-> 3902\u001B[0m     result \u001B[38;5;241m=\u001B[39m \u001B[38;5;28;43mself\u001B[39;49m\u001B[38;5;241;43m.\u001B[39;49m\u001B[43m_take\u001B[49m\u001B[43m(\u001B[49m\u001B[43mindices\u001B[49m\u001B[38;5;241;43m=\u001B[39;49m\u001B[43mindices\u001B[49m\u001B[43m,\u001B[49m\u001B[43m \u001B[49m\u001B[43maxis\u001B[49m\u001B[38;5;241;43m=\u001B[39;49m\u001B[43maxis\u001B[49m\u001B[43m)\u001B[49m\n\u001B[0;32m   3903\u001B[0m     \u001B[38;5;66;03m# Maybe set copy if we didn't actually change the index.\u001B[39;00m\n\u001B[0;32m   3904\u001B[0m     \u001B[38;5;28;01mif\u001B[39;00m \u001B[38;5;129;01mnot\u001B[39;00m result\u001B[38;5;241m.\u001B[39m_get_axis(axis)\u001B[38;5;241m.\u001B[39mequals(\u001B[38;5;28mself\u001B[39m\u001B[38;5;241m.\u001B[39m_get_axis(axis)):\n",
      "File \u001B[1;32m~\\.conda\\envs\\SDV0172\\lib\\site-packages\\pandas\\core\\generic.py:3886\u001B[0m, in \u001B[0;36mNDFrame._take\u001B[1;34m(self, indices, axis, convert_indices)\u001B[0m\n\u001B[0;32m   3879\u001B[0m \u001B[38;5;250m\u001B[39m\u001B[38;5;124;03m\"\"\"\u001B[39;00m\n\u001B[0;32m   3880\u001B[0m \u001B[38;5;124;03mInternal version of the `take` allowing specification of additional args.\u001B[39;00m\n\u001B[0;32m   3881\u001B[0m \n\u001B[0;32m   3882\u001B[0m \u001B[38;5;124;03mSee the docstring of `take` for full explanation of the parameters.\u001B[39;00m\n\u001B[0;32m   3883\u001B[0m \u001B[38;5;124;03m\"\"\"\u001B[39;00m\n\u001B[0;32m   3884\u001B[0m \u001B[38;5;28mself\u001B[39m\u001B[38;5;241m.\u001B[39m_consolidate_inplace()\n\u001B[1;32m-> 3886\u001B[0m new_data \u001B[38;5;241m=\u001B[39m \u001B[38;5;28;43mself\u001B[39;49m\u001B[38;5;241;43m.\u001B[39;49m\u001B[43m_mgr\u001B[49m\u001B[38;5;241;43m.\u001B[39;49m\u001B[43mtake\u001B[49m\u001B[43m(\u001B[49m\n\u001B[0;32m   3887\u001B[0m \u001B[43m    \u001B[49m\u001B[43mindices\u001B[49m\u001B[43m,\u001B[49m\n\u001B[0;32m   3888\u001B[0m \u001B[43m    \u001B[49m\u001B[43maxis\u001B[49m\u001B[38;5;241;43m=\u001B[39;49m\u001B[38;5;28;43mself\u001B[39;49m\u001B[38;5;241;43m.\u001B[39;49m\u001B[43m_get_block_manager_axis\u001B[49m\u001B[43m(\u001B[49m\u001B[43maxis\u001B[49m\u001B[43m)\u001B[49m\u001B[43m,\u001B[49m\n\u001B[0;32m   3889\u001B[0m \u001B[43m    \u001B[49m\u001B[43mverify\u001B[49m\u001B[38;5;241;43m=\u001B[39;49m\u001B[38;5;28;43;01mTrue\u001B[39;49;00m\u001B[43m,\u001B[49m\n\u001B[0;32m   3890\u001B[0m \u001B[43m    \u001B[49m\u001B[43mconvert_indices\u001B[49m\u001B[38;5;241;43m=\u001B[39;49m\u001B[43mconvert_indices\u001B[49m\u001B[43m,\u001B[49m\n\u001B[0;32m   3891\u001B[0m \u001B[43m\u001B[49m\u001B[43m)\u001B[49m\n\u001B[0;32m   3892\u001B[0m \u001B[38;5;28;01mreturn\u001B[39;00m \u001B[38;5;28mself\u001B[39m\u001B[38;5;241m.\u001B[39m_constructor(new_data)\u001B[38;5;241m.\u001B[39m__finalize__(\u001B[38;5;28mself\u001B[39m, method\u001B[38;5;241m=\u001B[39m\u001B[38;5;124m\"\u001B[39m\u001B[38;5;124mtake\u001B[39m\u001B[38;5;124m\"\u001B[39m)\n",
      "File \u001B[1;32m~\\.conda\\envs\\SDV0172\\lib\\site-packages\\pandas\\core\\internals\\managers.py:978\u001B[0m, in \u001B[0;36mBaseBlockManager.take\u001B[1;34m(self, indexer, axis, verify, convert_indices)\u001B[0m\n\u001B[0;32m    975\u001B[0m     indexer \u001B[38;5;241m=\u001B[39m maybe_convert_indices(indexer, n, verify\u001B[38;5;241m=\u001B[39mverify)\n\u001B[0;32m    977\u001B[0m new_labels \u001B[38;5;241m=\u001B[39m \u001B[38;5;28mself\u001B[39m\u001B[38;5;241m.\u001B[39maxes[axis]\u001B[38;5;241m.\u001B[39mtake(indexer)\n\u001B[1;32m--> 978\u001B[0m \u001B[38;5;28;01mreturn\u001B[39;00m \u001B[38;5;28;43mself\u001B[39;49m\u001B[38;5;241;43m.\u001B[39;49m\u001B[43mreindex_indexer\u001B[49m\u001B[43m(\u001B[49m\n\u001B[0;32m    979\u001B[0m \u001B[43m    \u001B[49m\u001B[43mnew_axis\u001B[49m\u001B[38;5;241;43m=\u001B[39;49m\u001B[43mnew_labels\u001B[49m\u001B[43m,\u001B[49m\n\u001B[0;32m    980\u001B[0m \u001B[43m    \u001B[49m\u001B[43mindexer\u001B[49m\u001B[38;5;241;43m=\u001B[39;49m\u001B[43mindexer\u001B[49m\u001B[43m,\u001B[49m\n\u001B[0;32m    981\u001B[0m \u001B[43m    \u001B[49m\u001B[43maxis\u001B[49m\u001B[38;5;241;43m=\u001B[39;49m\u001B[43maxis\u001B[49m\u001B[43m,\u001B[49m\n\u001B[0;32m    982\u001B[0m \u001B[43m    \u001B[49m\u001B[43mallow_dups\u001B[49m\u001B[38;5;241;43m=\u001B[39;49m\u001B[38;5;28;43;01mTrue\u001B[39;49;00m\u001B[43m,\u001B[49m\n\u001B[0;32m    983\u001B[0m \u001B[43m    \u001B[49m\u001B[43mcopy\u001B[49m\u001B[38;5;241;43m=\u001B[39;49m\u001B[38;5;28;43;01mNone\u001B[39;49;00m\u001B[43m,\u001B[49m\n\u001B[0;32m    984\u001B[0m \u001B[43m\u001B[49m\u001B[43m)\u001B[49m\n",
      "File \u001B[1;32m~\\.conda\\envs\\SDV0172\\lib\\site-packages\\pandas\\core\\internals\\managers.py:743\u001B[0m, in \u001B[0;36mBaseBlockManager.reindex_indexer\u001B[1;34m(self, new_axis, indexer, axis, fill_value, allow_dups, copy, only_slice, use_na_proxy)\u001B[0m\n\u001B[0;32m    740\u001B[0m     \u001B[38;5;28;01mraise\u001B[39;00m \u001B[38;5;167;01mIndexError\u001B[39;00m(\u001B[38;5;124m\"\u001B[39m\u001B[38;5;124mRequested axis not found in manager\u001B[39m\u001B[38;5;124m\"\u001B[39m)\n\u001B[0;32m    742\u001B[0m \u001B[38;5;28;01mif\u001B[39;00m axis \u001B[38;5;241m==\u001B[39m \u001B[38;5;241m0\u001B[39m:\n\u001B[1;32m--> 743\u001B[0m     new_blocks, new_refs \u001B[38;5;241m=\u001B[39m \u001B[38;5;28;43mself\u001B[39;49m\u001B[38;5;241;43m.\u001B[39;49m\u001B[43m_slice_take_blocks_ax0\u001B[49m\u001B[43m(\u001B[49m\n\u001B[0;32m    744\u001B[0m \u001B[43m        \u001B[49m\u001B[43mindexer\u001B[49m\u001B[43m,\u001B[49m\n\u001B[0;32m    745\u001B[0m \u001B[43m        \u001B[49m\u001B[43mfill_value\u001B[49m\u001B[38;5;241;43m=\u001B[39;49m\u001B[43mfill_value\u001B[49m\u001B[43m,\u001B[49m\n\u001B[0;32m    746\u001B[0m \u001B[43m        \u001B[49m\u001B[43monly_slice\u001B[49m\u001B[38;5;241;43m=\u001B[39;49m\u001B[43monly_slice\u001B[49m\u001B[43m,\u001B[49m\n\u001B[0;32m    747\u001B[0m \u001B[43m        \u001B[49m\u001B[43muse_na_proxy\u001B[49m\u001B[38;5;241;43m=\u001B[39;49m\u001B[43muse_na_proxy\u001B[49m\u001B[43m,\u001B[49m\n\u001B[0;32m    748\u001B[0m \u001B[43m    \u001B[49m\u001B[43m)\u001B[49m\n\u001B[0;32m    749\u001B[0m     parent \u001B[38;5;241m=\u001B[39m \u001B[38;5;28;01mNone\u001B[39;00m \u001B[38;5;28;01mif\u001B[39;00m com\u001B[38;5;241m.\u001B[39mall_none(\u001B[38;5;241m*\u001B[39mnew_refs) \u001B[38;5;28;01melse\u001B[39;00m \u001B[38;5;28mself\u001B[39m\n\u001B[0;32m    750\u001B[0m \u001B[38;5;28;01melse\u001B[39;00m:\n",
      "File \u001B[1;32m~\\.conda\\envs\\SDV0172\\lib\\site-packages\\pandas\\core\\internals\\managers.py:850\u001B[0m, in \u001B[0;36mBaseBlockManager._slice_take_blocks_ax0\u001B[1;34m(self, slice_or_indexer, fill_value, only_slice, use_na_proxy)\u001B[0m\n\u001B[0;32m    848\u001B[0m     blklocs \u001B[38;5;241m=\u001B[39m \u001B[38;5;28mself\u001B[39m\u001B[38;5;241m.\u001B[39mblklocs[slobj]\n\u001B[0;32m    849\u001B[0m \u001B[38;5;28;01melse\u001B[39;00m:\n\u001B[1;32m--> 850\u001B[0m     blknos \u001B[38;5;241m=\u001B[39m \u001B[43malgos\u001B[49m\u001B[38;5;241;43m.\u001B[39;49m\u001B[43mtake_nd\u001B[49m\u001B[43m(\u001B[49m\n\u001B[0;32m    851\u001B[0m \u001B[43m        \u001B[49m\u001B[38;5;28;43mself\u001B[39;49m\u001B[38;5;241;43m.\u001B[39;49m\u001B[43mblknos\u001B[49m\u001B[43m,\u001B[49m\u001B[43m \u001B[49m\u001B[43mslobj\u001B[49m\u001B[43m,\u001B[49m\u001B[43m \u001B[49m\u001B[43mfill_value\u001B[49m\u001B[38;5;241;43m=\u001B[39;49m\u001B[38;5;241;43m-\u001B[39;49m\u001B[38;5;241;43m1\u001B[39;49m\u001B[43m,\u001B[49m\u001B[43m \u001B[49m\u001B[43mallow_fill\u001B[49m\u001B[38;5;241;43m=\u001B[39;49m\u001B[43mallow_fill\u001B[49m\n\u001B[0;32m    852\u001B[0m \u001B[43m    \u001B[49m\u001B[43m)\u001B[49m\n\u001B[0;32m    853\u001B[0m     blklocs \u001B[38;5;241m=\u001B[39m algos\u001B[38;5;241m.\u001B[39mtake_nd(\n\u001B[0;32m    854\u001B[0m         \u001B[38;5;28mself\u001B[39m\u001B[38;5;241m.\u001B[39mblklocs, slobj, fill_value\u001B[38;5;241m=\u001B[39m\u001B[38;5;241m-\u001B[39m\u001B[38;5;241m1\u001B[39m, allow_fill\u001B[38;5;241m=\u001B[39mallow_fill\n\u001B[0;32m    855\u001B[0m     )\n\u001B[0;32m    857\u001B[0m \u001B[38;5;66;03m# When filling blknos, make sure blknos is updated before appending to\u001B[39;00m\n\u001B[0;32m    858\u001B[0m \u001B[38;5;66;03m# blocks list, that way new blkno is exactly len(blocks).\u001B[39;00m\n",
      "File \u001B[1;32m~\\.conda\\envs\\SDV0172\\lib\\site-packages\\pandas\\core\\array_algos\\take.py:117\u001B[0m, in \u001B[0;36mtake_nd\u001B[1;34m(arr, indexer, axis, fill_value, allow_fill)\u001B[0m\n\u001B[0;32m    114\u001B[0m     \u001B[38;5;28;01mreturn\u001B[39;00m arr\u001B[38;5;241m.\u001B[39mtake(indexer, fill_value\u001B[38;5;241m=\u001B[39mfill_value, allow_fill\u001B[38;5;241m=\u001B[39mallow_fill)\n\u001B[0;32m    116\u001B[0m arr \u001B[38;5;241m=\u001B[39m np\u001B[38;5;241m.\u001B[39masarray(arr)\n\u001B[1;32m--> 117\u001B[0m \u001B[38;5;28;01mreturn\u001B[39;00m \u001B[43m_take_nd_ndarray\u001B[49m\u001B[43m(\u001B[49m\u001B[43marr\u001B[49m\u001B[43m,\u001B[49m\u001B[43m \u001B[49m\u001B[43mindexer\u001B[49m\u001B[43m,\u001B[49m\u001B[43m \u001B[49m\u001B[43maxis\u001B[49m\u001B[43m,\u001B[49m\u001B[43m \u001B[49m\u001B[43mfill_value\u001B[49m\u001B[43m,\u001B[49m\u001B[43m \u001B[49m\u001B[43mallow_fill\u001B[49m\u001B[43m)\u001B[49m\n",
      "File \u001B[1;32m~\\.conda\\envs\\SDV0172\\lib\\site-packages\\pandas\\core\\array_algos\\take.py:163\u001B[0m, in \u001B[0;36m_take_nd_ndarray\u001B[1;34m(arr, indexer, axis, fill_value, allow_fill)\u001B[0m\n\u001B[0;32m    158\u001B[0m     out \u001B[38;5;241m=\u001B[39m np\u001B[38;5;241m.\u001B[39mempty(out_shape, dtype\u001B[38;5;241m=\u001B[39mdtype)\n\u001B[0;32m    160\u001B[0m func \u001B[38;5;241m=\u001B[39m _get_take_nd_function(\n\u001B[0;32m    161\u001B[0m     arr\u001B[38;5;241m.\u001B[39mndim, arr\u001B[38;5;241m.\u001B[39mdtype, out\u001B[38;5;241m.\u001B[39mdtype, axis\u001B[38;5;241m=\u001B[39maxis, mask_info\u001B[38;5;241m=\u001B[39mmask_info\n\u001B[0;32m    162\u001B[0m )\n\u001B[1;32m--> 163\u001B[0m \u001B[43mfunc\u001B[49m\u001B[43m(\u001B[49m\u001B[43marr\u001B[49m\u001B[43m,\u001B[49m\u001B[43m \u001B[49m\u001B[43mindexer\u001B[49m\u001B[43m,\u001B[49m\u001B[43m \u001B[49m\u001B[43mout\u001B[49m\u001B[43m,\u001B[49m\u001B[43m \u001B[49m\u001B[43mfill_value\u001B[49m\u001B[43m)\u001B[49m\n\u001B[0;32m    165\u001B[0m \u001B[38;5;28;01mif\u001B[39;00m flip_order:\n\u001B[0;32m    166\u001B[0m     out \u001B[38;5;241m=\u001B[39m out\u001B[38;5;241m.\u001B[39mT\n",
      "\u001B[1;31mKeyboardInterrupt\u001B[0m: "
     ]
    }
   ],
   "execution_count": 2
  },
  {
   "cell_type": "code",
   "metadata": {
    "attributes": {
     "classes": [
      ""
     ],
     "id": ""
    },
    "ExecuteTime": {
     "end_time": "2024-09-09T10:57:26.748206Z",
     "start_time": "2024-09-09T10:57:26.748206Z"
    }
   },
   "source": [
    "model.sample(num_rows=5)"
   ],
   "outputs": [],
   "execution_count": null
  },
  {
   "cell_type": "code",
   "metadata": {
    "attributes": {
     "classes": [
      ""
     ],
     "id": ""
    }
   },
   "source": [
    "data_single = model.sample('Schedule', num_rows=100, sample_children=False)"
   ],
   "outputs": [],
   "execution_count": null
  },
  {
   "cell_type": "code",
   "metadata": {},
   "source": [
    "save_tables({\"Schedule\":data_single}, \"output_single.xlsx\")"
   ],
   "outputs": [],
   "execution_count": null
  },
  {
   "cell_type": "code",
   "metadata": {},
   "source": [
    "#—— 生成Schedule表，并生成关联外键表\n",
    "data_subset = model.sample('Lab', num_rows=100, sample_children=True)"
   ],
   "outputs": [],
   "execution_count": null
  },
  {
   "cell_type": "code",
   "metadata": {},
   "source": [
    "save_tables(data_subset, \"output_subset.xlsx\")"
   ],
   "outputs": [],
   "execution_count": null
  },
  {
   "cell_type": "code",
   "metadata": {},
   "source": [],
   "outputs": [],
   "execution_count": null
  }
 ],
 "metadata": {
  "kernelspec": {
   "display_name": "Python 3 (ipykernel)",
   "language": "python",
   "name": "python3"
  },
  "language_info": {
   "codemirror_mode": {
    "name": "ipython",
    "version": 3
   },
   "file_extension": ".py",
   "mimetype": "text/x-python",
   "name": "python",
   "nbconvert_exporter": "python",
   "pygments_lexer": "ipython3",
   "version": "3.8.19"
  }
 },
 "nbformat": 4,
 "nbformat_minor": 4
}
