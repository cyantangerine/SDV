{
 "cells": [
  {
   "cell_type": "markdown",
   "metadata": {},
   "source": [
    "HMA1 Class\n",
    "==========\n",
    "\n",
    "In this guide we will go through a series of steps that will let you\n",
    "discover functionalities of the `HMA1` class.\n",
    "\n",
    "What is HMA1?\n",
    "-------------\n",
    "\n",
    "The `sdv.relational.HMA1` class implements what is called a\n",
    "*Hierarchical Modeling Algorithm* which is an algorithm that allows to\n",
    "recursively walk through a relational dataset and apply tabular models\n",
    "across all the tables in a way that lets the models learn how all the\n",
    "fields from all the tables are related.\n",
    "\n",
    "Let's now discover how to use the `HMA1` class.\n",
    "\n",
    "Quick Usage\n",
    "-----------\n",
    "\n",
    "We will start by loading and exploring one of our demo datasets."
   ]
  },
  {
   "cell_type": "code",
   "metadata": {
    "attributes": {
     "classes": [
      ""
     ],
     "id": ""
    },
    "ExecuteTime": {
     "end_time": "2024-09-07T16:00:43.606980Z",
     "start_time": "2024-09-07T16:00:40.976195Z"
    }
   },
   "source": [
    "from sdv.demo import sample_relational_demo\n",
    "\n",
    "metadata, tables = sample_relational_demo(size=30)"
   ],
   "outputs": [
    {
     "name": "stderr",
     "output_type": "stream",
     "text": [
      "C:\\Users\\Elvin\\Desktop\\GitHub\\SDV\\sdv\\demo.py:224: FutureWarning: The frame.append method is deprecated and will be removed from pandas in a future version. Use pandas.concat instead.\n",
      "  sessions = sessions.append(pd.DataFrame({\n",
      "C:\\Users\\Elvin\\Desktop\\GitHub\\SDV\\sdv\\demo.py:224: FutureWarning: The frame.append method is deprecated and will be removed from pandas in a future version. Use pandas.concat instead.\n",
      "  sessions = sessions.append(pd.DataFrame({\n",
      "C:\\Users\\Elvin\\Desktop\\GitHub\\SDV\\sdv\\demo.py:224: FutureWarning: The frame.append method is deprecated and will be removed from pandas in a future version. Use pandas.concat instead.\n",
      "  sessions = sessions.append(pd.DataFrame({\n",
      "C:\\Users\\Elvin\\Desktop\\GitHub\\SDV\\sdv\\demo.py:224: FutureWarning: The frame.append method is deprecated and will be removed from pandas in a future version. Use pandas.concat instead.\n",
      "  sessions = sessions.append(pd.DataFrame({\n",
      "C:\\Users\\Elvin\\Desktop\\GitHub\\SDV\\sdv\\demo.py:224: FutureWarning: The frame.append method is deprecated and will be removed from pandas in a future version. Use pandas.concat instead.\n",
      "  sessions = sessions.append(pd.DataFrame({\n",
      "C:\\Users\\Elvin\\Desktop\\GitHub\\SDV\\sdv\\demo.py:224: FutureWarning: The frame.append method is deprecated and will be removed from pandas in a future version. Use pandas.concat instead.\n",
      "  sessions = sessions.append(pd.DataFrame({\n",
      "C:\\Users\\Elvin\\Desktop\\GitHub\\SDV\\sdv\\demo.py:224: FutureWarning: The frame.append method is deprecated and will be removed from pandas in a future version. Use pandas.concat instead.\n",
      "  sessions = sessions.append(pd.DataFrame({\n",
      "C:\\Users\\Elvin\\Desktop\\GitHub\\SDV\\sdv\\demo.py:224: FutureWarning: The frame.append method is deprecated and will be removed from pandas in a future version. Use pandas.concat instead.\n",
      "  sessions = sessions.append(pd.DataFrame({\n",
      "C:\\Users\\Elvin\\Desktop\\GitHub\\SDV\\sdv\\demo.py:224: FutureWarning: The frame.append method is deprecated and will be removed from pandas in a future version. Use pandas.concat instead.\n",
      "  sessions = sessions.append(pd.DataFrame({\n",
      "C:\\Users\\Elvin\\Desktop\\GitHub\\SDV\\sdv\\demo.py:224: FutureWarning: The frame.append method is deprecated and will be removed from pandas in a future version. Use pandas.concat instead.\n",
      "  sessions = sessions.append(pd.DataFrame({\n",
      "C:\\Users\\Elvin\\Desktop\\GitHub\\SDV\\sdv\\demo.py:224: FutureWarning: The frame.append method is deprecated and will be removed from pandas in a future version. Use pandas.concat instead.\n",
      "  sessions = sessions.append(pd.DataFrame({\n",
      "C:\\Users\\Elvin\\Desktop\\GitHub\\SDV\\sdv\\demo.py:224: FutureWarning: The frame.append method is deprecated and will be removed from pandas in a future version. Use pandas.concat instead.\n",
      "  sessions = sessions.append(pd.DataFrame({\n",
      "C:\\Users\\Elvin\\Desktop\\GitHub\\SDV\\sdv\\demo.py:224: FutureWarning: The frame.append method is deprecated and will be removed from pandas in a future version. Use pandas.concat instead.\n",
      "  sessions = sessions.append(pd.DataFrame({\n",
      "C:\\Users\\Elvin\\Desktop\\GitHub\\SDV\\sdv\\demo.py:224: FutureWarning: The frame.append method is deprecated and will be removed from pandas in a future version. Use pandas.concat instead.\n",
      "  sessions = sessions.append(pd.DataFrame({\n",
      "C:\\Users\\Elvin\\Desktop\\GitHub\\SDV\\sdv\\demo.py:224: FutureWarning: The frame.append method is deprecated and will be removed from pandas in a future version. Use pandas.concat instead.\n",
      "  sessions = sessions.append(pd.DataFrame({\n",
      "C:\\Users\\Elvin\\Desktop\\GitHub\\SDV\\sdv\\demo.py:224: FutureWarning: The frame.append method is deprecated and will be removed from pandas in a future version. Use pandas.concat instead.\n",
      "  sessions = sessions.append(pd.DataFrame({\n",
      "C:\\Users\\Elvin\\Desktop\\GitHub\\SDV\\sdv\\demo.py:224: FutureWarning: The frame.append method is deprecated and will be removed from pandas in a future version. Use pandas.concat instead.\n",
      "  sessions = sessions.append(pd.DataFrame({\n",
      "C:\\Users\\Elvin\\Desktop\\GitHub\\SDV\\sdv\\demo.py:224: FutureWarning: The frame.append method is deprecated and will be removed from pandas in a future version. Use pandas.concat instead.\n",
      "  sessions = sessions.append(pd.DataFrame({\n",
      "C:\\Users\\Elvin\\Desktop\\GitHub\\SDV\\sdv\\demo.py:224: FutureWarning: The frame.append method is deprecated and will be removed from pandas in a future version. Use pandas.concat instead.\n",
      "  sessions = sessions.append(pd.DataFrame({\n",
      "C:\\Users\\Elvin\\Desktop\\GitHub\\SDV\\sdv\\demo.py:224: FutureWarning: The frame.append method is deprecated and will be removed from pandas in a future version. Use pandas.concat instead.\n",
      "  sessions = sessions.append(pd.DataFrame({\n",
      "C:\\Users\\Elvin\\Desktop\\GitHub\\SDV\\sdv\\demo.py:224: FutureWarning: The frame.append method is deprecated and will be removed from pandas in a future version. Use pandas.concat instead.\n",
      "  sessions = sessions.append(pd.DataFrame({\n",
      "C:\\Users\\Elvin\\Desktop\\GitHub\\SDV\\sdv\\demo.py:224: FutureWarning: The frame.append method is deprecated and will be removed from pandas in a future version. Use pandas.concat instead.\n",
      "  sessions = sessions.append(pd.DataFrame({\n",
      "C:\\Users\\Elvin\\Desktop\\GitHub\\SDV\\sdv\\demo.py:224: FutureWarning: The frame.append method is deprecated and will be removed from pandas in a future version. Use pandas.concat instead.\n",
      "  sessions = sessions.append(pd.DataFrame({\n",
      "C:\\Users\\Elvin\\Desktop\\GitHub\\SDV\\sdv\\demo.py:224: FutureWarning: The frame.append method is deprecated and will be removed from pandas in a future version. Use pandas.concat instead.\n",
      "  sessions = sessions.append(pd.DataFrame({\n",
      "C:\\Users\\Elvin\\Desktop\\GitHub\\SDV\\sdv\\demo.py:224: FutureWarning: The frame.append method is deprecated and will be removed from pandas in a future version. Use pandas.concat instead.\n",
      "  sessions = sessions.append(pd.DataFrame({\n",
      "C:\\Users\\Elvin\\Desktop\\GitHub\\SDV\\sdv\\demo.py:224: FutureWarning: The frame.append method is deprecated and will be removed from pandas in a future version. Use pandas.concat instead.\n",
      "  sessions = sessions.append(pd.DataFrame({\n",
      "C:\\Users\\Elvin\\Desktop\\GitHub\\SDV\\sdv\\demo.py:224: FutureWarning: The frame.append method is deprecated and will be removed from pandas in a future version. Use pandas.concat instead.\n",
      "  sessions = sessions.append(pd.DataFrame({\n",
      "C:\\Users\\Elvin\\Desktop\\GitHub\\SDV\\sdv\\demo.py:224: FutureWarning: The frame.append method is deprecated and will be removed from pandas in a future version. Use pandas.concat instead.\n",
      "  sessions = sessions.append(pd.DataFrame({\n",
      "C:\\Users\\Elvin\\Desktop\\GitHub\\SDV\\sdv\\demo.py:224: FutureWarning: The frame.append method is deprecated and will be removed from pandas in a future version. Use pandas.concat instead.\n",
      "  sessions = sessions.append(pd.DataFrame({\n",
      "C:\\Users\\Elvin\\Desktop\\GitHub\\SDV\\sdv\\demo.py:224: FutureWarning: The frame.append method is deprecated and will be removed from pandas in a future version. Use pandas.concat instead.\n",
      "  sessions = sessions.append(pd.DataFrame({\n",
      "C:\\Users\\Elvin\\Desktop\\GitHub\\SDV\\sdv\\demo.py:253: FutureWarning: The frame.append method is deprecated and will be removed from pandas in a future version. Use pandas.concat instead.\n",
      "  transactions = transactions.append(pd.DataFrame({\n",
      "C:\\Users\\Elvin\\Desktop\\GitHub\\SDV\\sdv\\demo.py:253: FutureWarning: The frame.append method is deprecated and will be removed from pandas in a future version. Use pandas.concat instead.\n",
      "  transactions = transactions.append(pd.DataFrame({\n",
      "C:\\Users\\Elvin\\Desktop\\GitHub\\SDV\\sdv\\demo.py:253: FutureWarning: The frame.append method is deprecated and will be removed from pandas in a future version. Use pandas.concat instead.\n",
      "  transactions = transactions.append(pd.DataFrame({\n",
      "C:\\Users\\Elvin\\Desktop\\GitHub\\SDV\\sdv\\demo.py:253: FutureWarning: The frame.append method is deprecated and will be removed from pandas in a future version. Use pandas.concat instead.\n",
      "  transactions = transactions.append(pd.DataFrame({\n",
      "C:\\Users\\Elvin\\Desktop\\GitHub\\SDV\\sdv\\demo.py:253: FutureWarning: The frame.append method is deprecated and will be removed from pandas in a future version. Use pandas.concat instead.\n",
      "  transactions = transactions.append(pd.DataFrame({\n",
      "C:\\Users\\Elvin\\Desktop\\GitHub\\SDV\\sdv\\demo.py:253: FutureWarning: The frame.append method is deprecated and will be removed from pandas in a future version. Use pandas.concat instead.\n",
      "  transactions = transactions.append(pd.DataFrame({\n",
      "C:\\Users\\Elvin\\Desktop\\GitHub\\SDV\\sdv\\demo.py:253: FutureWarning: The frame.append method is deprecated and will be removed from pandas in a future version. Use pandas.concat instead.\n",
      "  transactions = transactions.append(pd.DataFrame({\n",
      "C:\\Users\\Elvin\\Desktop\\GitHub\\SDV\\sdv\\demo.py:253: FutureWarning: The frame.append method is deprecated and will be removed from pandas in a future version. Use pandas.concat instead.\n",
      "  transactions = transactions.append(pd.DataFrame({\n",
      "C:\\Users\\Elvin\\Desktop\\GitHub\\SDV\\sdv\\demo.py:253: FutureWarning: The frame.append method is deprecated and will be removed from pandas in a future version. Use pandas.concat instead.\n",
      "  transactions = transactions.append(pd.DataFrame({\n",
      "C:\\Users\\Elvin\\Desktop\\GitHub\\SDV\\sdv\\demo.py:253: FutureWarning: The frame.append method is deprecated and will be removed from pandas in a future version. Use pandas.concat instead.\n",
      "  transactions = transactions.append(pd.DataFrame({\n",
      "C:\\Users\\Elvin\\Desktop\\GitHub\\SDV\\sdv\\demo.py:253: FutureWarning: The frame.append method is deprecated and will be removed from pandas in a future version. Use pandas.concat instead.\n",
      "  transactions = transactions.append(pd.DataFrame({\n",
      "C:\\Users\\Elvin\\Desktop\\GitHub\\SDV\\sdv\\demo.py:253: FutureWarning: The frame.append method is deprecated and will be removed from pandas in a future version. Use pandas.concat instead.\n",
      "  transactions = transactions.append(pd.DataFrame({\n",
      "C:\\Users\\Elvin\\Desktop\\GitHub\\SDV\\sdv\\demo.py:253: FutureWarning: The frame.append method is deprecated and will be removed from pandas in a future version. Use pandas.concat instead.\n",
      "  transactions = transactions.append(pd.DataFrame({\n",
      "C:\\Users\\Elvin\\Desktop\\GitHub\\SDV\\sdv\\demo.py:253: FutureWarning: The frame.append method is deprecated and will be removed from pandas in a future version. Use pandas.concat instead.\n",
      "  transactions = transactions.append(pd.DataFrame({\n",
      "C:\\Users\\Elvin\\Desktop\\GitHub\\SDV\\sdv\\demo.py:253: FutureWarning: The frame.append method is deprecated and will be removed from pandas in a future version. Use pandas.concat instead.\n",
      "  transactions = transactions.append(pd.DataFrame({\n",
      "C:\\Users\\Elvin\\Desktop\\GitHub\\SDV\\sdv\\demo.py:253: FutureWarning: The frame.append method is deprecated and will be removed from pandas in a future version. Use pandas.concat instead.\n",
      "  transactions = transactions.append(pd.DataFrame({\n",
      "C:\\Users\\Elvin\\Desktop\\GitHub\\SDV\\sdv\\demo.py:253: FutureWarning: The frame.append method is deprecated and will be removed from pandas in a future version. Use pandas.concat instead.\n",
      "  transactions = transactions.append(pd.DataFrame({\n",
      "C:\\Users\\Elvin\\Desktop\\GitHub\\SDV\\sdv\\demo.py:253: FutureWarning: The frame.append method is deprecated and will be removed from pandas in a future version. Use pandas.concat instead.\n",
      "  transactions = transactions.append(pd.DataFrame({\n",
      "C:\\Users\\Elvin\\Desktop\\GitHub\\SDV\\sdv\\demo.py:253: FutureWarning: The frame.append method is deprecated and will be removed from pandas in a future version. Use pandas.concat instead.\n",
      "  transactions = transactions.append(pd.DataFrame({\n",
      "C:\\Users\\Elvin\\Desktop\\GitHub\\SDV\\sdv\\demo.py:253: FutureWarning: The frame.append method is deprecated and will be removed from pandas in a future version. Use pandas.concat instead.\n",
      "  transactions = transactions.append(pd.DataFrame({\n",
      "C:\\Users\\Elvin\\Desktop\\GitHub\\SDV\\sdv\\demo.py:253: FutureWarning: The frame.append method is deprecated and will be removed from pandas in a future version. Use pandas.concat instead.\n",
      "  transactions = transactions.append(pd.DataFrame({\n",
      "C:\\Users\\Elvin\\Desktop\\GitHub\\SDV\\sdv\\demo.py:253: FutureWarning: The frame.append method is deprecated and will be removed from pandas in a future version. Use pandas.concat instead.\n",
      "  transactions = transactions.append(pd.DataFrame({\n",
      "C:\\Users\\Elvin\\Desktop\\GitHub\\SDV\\sdv\\demo.py:253: FutureWarning: The frame.append method is deprecated and will be removed from pandas in a future version. Use pandas.concat instead.\n",
      "  transactions = transactions.append(pd.DataFrame({\n",
      "C:\\Users\\Elvin\\Desktop\\GitHub\\SDV\\sdv\\demo.py:253: FutureWarning: The frame.append method is deprecated and will be removed from pandas in a future version. Use pandas.concat instead.\n",
      "  transactions = transactions.append(pd.DataFrame({\n",
      "C:\\Users\\Elvin\\Desktop\\GitHub\\SDV\\sdv\\demo.py:253: FutureWarning: The frame.append method is deprecated and will be removed from pandas in a future version. Use pandas.concat instead.\n",
      "  transactions = transactions.append(pd.DataFrame({\n",
      "C:\\Users\\Elvin\\Desktop\\GitHub\\SDV\\sdv\\demo.py:253: FutureWarning: The frame.append method is deprecated and will be removed from pandas in a future version. Use pandas.concat instead.\n",
      "  transactions = transactions.append(pd.DataFrame({\n",
      "C:\\Users\\Elvin\\Desktop\\GitHub\\SDV\\sdv\\demo.py:253: FutureWarning: The frame.append method is deprecated and will be removed from pandas in a future version. Use pandas.concat instead.\n",
      "  transactions = transactions.append(pd.DataFrame({\n",
      "C:\\Users\\Elvin\\Desktop\\GitHub\\SDV\\sdv\\demo.py:253: FutureWarning: The frame.append method is deprecated and will be removed from pandas in a future version. Use pandas.concat instead.\n",
      "  transactions = transactions.append(pd.DataFrame({\n",
      "C:\\Users\\Elvin\\Desktop\\GitHub\\SDV\\sdv\\demo.py:253: FutureWarning: The frame.append method is deprecated and will be removed from pandas in a future version. Use pandas.concat instead.\n",
      "  transactions = transactions.append(pd.DataFrame({\n",
      "C:\\Users\\Elvin\\Desktop\\GitHub\\SDV\\sdv\\demo.py:253: FutureWarning: The frame.append method is deprecated and will be removed from pandas in a future version. Use pandas.concat instead.\n",
      "  transactions = transactions.append(pd.DataFrame({\n",
      "C:\\Users\\Elvin\\Desktop\\GitHub\\SDV\\sdv\\demo.py:253: FutureWarning: The frame.append method is deprecated and will be removed from pandas in a future version. Use pandas.concat instead.\n",
      "  transactions = transactions.append(pd.DataFrame({\n",
      "C:\\Users\\Elvin\\Desktop\\GitHub\\SDV\\sdv\\demo.py:253: FutureWarning: The frame.append method is deprecated and will be removed from pandas in a future version. Use pandas.concat instead.\n",
      "  transactions = transactions.append(pd.DataFrame({\n",
      "C:\\Users\\Elvin\\Desktop\\GitHub\\SDV\\sdv\\demo.py:253: FutureWarning: The frame.append method is deprecated and will be removed from pandas in a future version. Use pandas.concat instead.\n",
      "  transactions = transactions.append(pd.DataFrame({\n",
      "C:\\Users\\Elvin\\Desktop\\GitHub\\SDV\\sdv\\demo.py:253: FutureWarning: The frame.append method is deprecated and will be removed from pandas in a future version. Use pandas.concat instead.\n",
      "  transactions = transactions.append(pd.DataFrame({\n",
      "C:\\Users\\Elvin\\Desktop\\GitHub\\SDV\\sdv\\demo.py:253: FutureWarning: The frame.append method is deprecated and will be removed from pandas in a future version. Use pandas.concat instead.\n",
      "  transactions = transactions.append(pd.DataFrame({\n",
      "C:\\Users\\Elvin\\Desktop\\GitHub\\SDV\\sdv\\demo.py:253: FutureWarning: The frame.append method is deprecated and will be removed from pandas in a future version. Use pandas.concat instead.\n",
      "  transactions = transactions.append(pd.DataFrame({\n",
      "C:\\Users\\Elvin\\Desktop\\GitHub\\SDV\\sdv\\demo.py:253: FutureWarning: The frame.append method is deprecated and will be removed from pandas in a future version. Use pandas.concat instead.\n",
      "  transactions = transactions.append(pd.DataFrame({\n",
      "C:\\Users\\Elvin\\Desktop\\GitHub\\SDV\\sdv\\demo.py:253: FutureWarning: The frame.append method is deprecated and will be removed from pandas in a future version. Use pandas.concat instead.\n",
      "  transactions = transactions.append(pd.DataFrame({\n",
      "C:\\Users\\Elvin\\Desktop\\GitHub\\SDV\\sdv\\demo.py:253: FutureWarning: The frame.append method is deprecated and will be removed from pandas in a future version. Use pandas.concat instead.\n",
      "  transactions = transactions.append(pd.DataFrame({\n",
      "C:\\Users\\Elvin\\Desktop\\GitHub\\SDV\\sdv\\demo.py:253: FutureWarning: The frame.append method is deprecated and will be removed from pandas in a future version. Use pandas.concat instead.\n",
      "  transactions = transactions.append(pd.DataFrame({\n",
      "C:\\Users\\Elvin\\Desktop\\GitHub\\SDV\\sdv\\demo.py:253: FutureWarning: The frame.append method is deprecated and will be removed from pandas in a future version. Use pandas.concat instead.\n",
      "  transactions = transactions.append(pd.DataFrame({\n",
      "C:\\Users\\Elvin\\Desktop\\GitHub\\SDV\\sdv\\demo.py:253: FutureWarning: The frame.append method is deprecated and will be removed from pandas in a future version. Use pandas.concat instead.\n",
      "  transactions = transactions.append(pd.DataFrame({\n",
      "C:\\Users\\Elvin\\Desktop\\GitHub\\SDV\\sdv\\demo.py:253: FutureWarning: The frame.append method is deprecated and will be removed from pandas in a future version. Use pandas.concat instead.\n",
      "  transactions = transactions.append(pd.DataFrame({\n",
      "C:\\Users\\Elvin\\Desktop\\GitHub\\SDV\\sdv\\demo.py:253: FutureWarning: The frame.append method is deprecated and will be removed from pandas in a future version. Use pandas.concat instead.\n",
      "  transactions = transactions.append(pd.DataFrame({\n",
      "C:\\Users\\Elvin\\Desktop\\GitHub\\SDV\\sdv\\demo.py:253: FutureWarning: The frame.append method is deprecated and will be removed from pandas in a future version. Use pandas.concat instead.\n",
      "  transactions = transactions.append(pd.DataFrame({\n",
      "C:\\Users\\Elvin\\Desktop\\GitHub\\SDV\\sdv\\demo.py:253: FutureWarning: The frame.append method is deprecated and will be removed from pandas in a future version. Use pandas.concat instead.\n",
      "  transactions = transactions.append(pd.DataFrame({\n",
      "C:\\Users\\Elvin\\Desktop\\GitHub\\SDV\\sdv\\demo.py:253: FutureWarning: The frame.append method is deprecated and will be removed from pandas in a future version. Use pandas.concat instead.\n",
      "  transactions = transactions.append(pd.DataFrame({\n",
      "C:\\Users\\Elvin\\Desktop\\GitHub\\SDV\\sdv\\demo.py:253: FutureWarning: The frame.append method is deprecated and will be removed from pandas in a future version. Use pandas.concat instead.\n",
      "  transactions = transactions.append(pd.DataFrame({\n",
      "C:\\Users\\Elvin\\Desktop\\GitHub\\SDV\\sdv\\demo.py:253: FutureWarning: The frame.append method is deprecated and will be removed from pandas in a future version. Use pandas.concat instead.\n",
      "  transactions = transactions.append(pd.DataFrame({\n",
      "C:\\Users\\Elvin\\Desktop\\GitHub\\SDV\\sdv\\demo.py:253: FutureWarning: The frame.append method is deprecated and will be removed from pandas in a future version. Use pandas.concat instead.\n",
      "  transactions = transactions.append(pd.DataFrame({\n",
      "C:\\Users\\Elvin\\Desktop\\GitHub\\SDV\\sdv\\demo.py:253: FutureWarning: The frame.append method is deprecated and will be removed from pandas in a future version. Use pandas.concat instead.\n",
      "  transactions = transactions.append(pd.DataFrame({\n",
      "C:\\Users\\Elvin\\Desktop\\GitHub\\SDV\\sdv\\demo.py:253: FutureWarning: The frame.append method is deprecated and will be removed from pandas in a future version. Use pandas.concat instead.\n",
      "  transactions = transactions.append(pd.DataFrame({\n",
      "C:\\Users\\Elvin\\Desktop\\GitHub\\SDV\\sdv\\demo.py:253: FutureWarning: The frame.append method is deprecated and will be removed from pandas in a future version. Use pandas.concat instead.\n",
      "  transactions = transactions.append(pd.DataFrame({\n",
      "C:\\Users\\Elvin\\Desktop\\GitHub\\SDV\\sdv\\demo.py:253: FutureWarning: The frame.append method is deprecated and will be removed from pandas in a future version. Use pandas.concat instead.\n",
      "  transactions = transactions.append(pd.DataFrame({\n",
      "C:\\Users\\Elvin\\Desktop\\GitHub\\SDV\\sdv\\demo.py:253: FutureWarning: The frame.append method is deprecated and will be removed from pandas in a future version. Use pandas.concat instead.\n",
      "  transactions = transactions.append(pd.DataFrame({\n",
      "C:\\Users\\Elvin\\Desktop\\GitHub\\SDV\\sdv\\demo.py:253: FutureWarning: The frame.append method is deprecated and will be removed from pandas in a future version. Use pandas.concat instead.\n",
      "  transactions = transactions.append(pd.DataFrame({\n",
      "C:\\Users\\Elvin\\Desktop\\GitHub\\SDV\\sdv\\demo.py:253: FutureWarning: The frame.append method is deprecated and will be removed from pandas in a future version. Use pandas.concat instead.\n",
      "  transactions = transactions.append(pd.DataFrame({\n",
      "C:\\Users\\Elvin\\Desktop\\GitHub\\SDV\\sdv\\demo.py:253: FutureWarning: The frame.append method is deprecated and will be removed from pandas in a future version. Use pandas.concat instead.\n",
      "  transactions = transactions.append(pd.DataFrame({\n",
      "C:\\Users\\Elvin\\Desktop\\GitHub\\SDV\\sdv\\demo.py:253: FutureWarning: The frame.append method is deprecated and will be removed from pandas in a future version. Use pandas.concat instead.\n",
      "  transactions = transactions.append(pd.DataFrame({\n",
      "C:\\Users\\Elvin\\Desktop\\GitHub\\SDV\\sdv\\demo.py:253: FutureWarning: The frame.append method is deprecated and will be removed from pandas in a future version. Use pandas.concat instead.\n",
      "  transactions = transactions.append(pd.DataFrame({\n"
     ]
    }
   ],
   "execution_count": 2
  },
  {
   "cell_type": "markdown",
   "metadata": {},
   "source": [
    "This will return two objects:\n",
    "\n",
    "1.  A `Metadata` object with all the information that **SDV** needs to\n",
    "    know about the dataset."
   ]
  },
  {
   "cell_type": "code",
   "metadata": {
    "attributes": {
     "classes": [
      ""
     ],
     "id": ""
    },
    "ExecuteTime": {
     "end_time": "2024-08-28T06:34:46.624007Z",
     "start_time": "2024-08-28T06:34:46.609058Z"
    }
   },
   "source": [
    "metadata"
   ],
   "outputs": [
    {
     "data": {
      "text/plain": [
       "Metadata\n",
       "  root_path: .\n",
       "  tables: ['users', 'sessions', 'transactions']\n",
       "  relationships:\n",
       "    sessions.user_id -> users.user_id\n",
       "    transactions.session_id -> sessions.session_id"
      ]
     },
     "execution_count": 2,
     "metadata": {},
     "output_type": "execute_result"
    }
   ],
   "execution_count": 2
  },
  {
   "metadata": {
    "ExecuteTime": {
     "end_time": "2024-09-07T16:00:58.461990Z",
     "start_time": "2024-09-07T16:00:58.448727Z"
    }
   },
   "cell_type": "code",
   "source": "metadata.to_json(\"metadata.json\")",
   "outputs": [],
   "execution_count": 4
  },
  {
   "metadata": {
    "ExecuteTime": {
     "end_time": "2024-09-07T16:02:19.441856Z",
     "start_time": "2024-09-07T16:02:19.436870Z"
    }
   },
   "cell_type": "code",
   "source": [
    "for t in tables:\n",
    "    print(type(t))"
   ],
   "outputs": [
    {
     "name": "stdout",
     "output_type": "stream",
     "text": [
      "<class 'str'>\n",
      "<class 'str'>\n",
      "<class 'str'>\n"
     ]
    }
   ],
   "execution_count": 6
  },
  {
   "cell_type": "code",
   "metadata": {
    "attributes": {
     "classes": [
      ""
     ],
     "id": ""
    },
    "ExecuteTime": {
     "end_time": "2024-08-28T06:34:47.106189Z",
     "start_time": "2024-08-28T06:34:46.625005Z"
    }
   },
   "source": [
    "metadata.visualize()"
   ],
   "outputs": [
    {
     "data": {
      "image/svg+xml": "<?xml version=\"1.0\" encoding=\"UTF-8\" standalone=\"no\"?>\n<!DOCTYPE svg PUBLIC \"-//W3C//DTD SVG 1.1//EN\"\n \"http://www.w3.org/Graphics/SVG/1.1/DTD/svg11.dtd\">\n<!-- Generated by graphviz version 12.1.0 (20240811.2233)\n -->\n<!-- Title: Metadata Pages: 1 -->\n<svg width=\"365pt\" height=\"551pt\"\n viewBox=\"0.00 0.00 364.75 551.00\" xmlns=\"http://www.w3.org/2000/svg\" xmlns:xlink=\"http://www.w3.org/1999/xlink\">\n<g id=\"graph0\" class=\"graph\" transform=\"scale(1 1) rotate(0) translate(4 547)\">\n<title>Metadata</title>\n<polygon fill=\"white\" stroke=\"none\" points=\"-4,4 -4,-547 360.75,-547 360.75,4 -4,4\"/>\n<!-- users -->\n<g id=\"node1\" class=\"node\">\n<title>users</title>\n<path fill=\"#ffec8b\" stroke=\"black\" d=\"M37.88,-419.5C37.88,-419.5 164.12,-419.5 164.12,-419.5 170.12,-419.5 176.12,-425.5 176.12,-431.5 176.12,-431.5 176.12,-530.5 176.12,-530.5 176.12,-536.5 170.12,-542.5 164.12,-542.5 164.12,-542.5 37.88,-542.5 37.88,-542.5 31.88,-542.5 25.88,-536.5 25.88,-530.5 25.88,-530.5 25.88,-431.5 25.88,-431.5 25.88,-425.5 31.88,-419.5 37.88,-419.5\"/>\n<text text-anchor=\"middle\" x=\"101\" y=\"-525.2\" font-family=\"Times New Roman,serif\" font-size=\"14.00\">users</text>\n<polyline fill=\"none\" stroke=\"black\" points=\"25.88,-518 176.12,-518\"/>\n<text text-anchor=\"start\" x=\"33.88\" y=\"-500.7\" font-family=\"Times New Roman,serif\" font-size=\"14.00\">user_id : id &#45; integer</text>\n<text text-anchor=\"start\" x=\"33.88\" y=\"-484.2\" font-family=\"Times New Roman,serif\" font-size=\"14.00\">country : categorical</text>\n<text text-anchor=\"start\" x=\"33.88\" y=\"-467.7\" font-family=\"Times New Roman,serif\" font-size=\"14.00\">gender : categorical</text>\n<text text-anchor=\"start\" x=\"33.88\" y=\"-451.2\" font-family=\"Times New Roman,serif\" font-size=\"14.00\">age : numerical &#45; integer</text>\n<polyline fill=\"none\" stroke=\"black\" points=\"25.88,-444 176.12,-444\"/>\n<text text-anchor=\"start\" x=\"33.88\" y=\"-426.7\" font-family=\"Times New Roman,serif\" font-size=\"14.00\">Primary key: user_id</text>\n</g>\n<!-- sessions -->\n<g id=\"node2\" class=\"node\">\n<title>sessions</title>\n<path fill=\"#ffec8b\" stroke=\"black\" d=\"M25.5,-210C25.5,-210 176.5,-210 176.5,-210 182.5,-210 188.5,-216 188.5,-222 188.5,-222 188.5,-354 188.5,-354 188.5,-360 182.5,-366 176.5,-366 176.5,-366 25.5,-366 25.5,-366 19.5,-366 13.5,-360 13.5,-354 13.5,-354 13.5,-222 13.5,-222 13.5,-216 19.5,-210 25.5,-210\"/>\n<text text-anchor=\"middle\" x=\"101\" y=\"-348.7\" font-family=\"Times New Roman,serif\" font-size=\"14.00\">sessions</text>\n<polyline fill=\"none\" stroke=\"black\" points=\"13.5,-341.5 188.5,-341.5\"/>\n<text text-anchor=\"start\" x=\"21.5\" y=\"-324.2\" font-family=\"Times New Roman,serif\" font-size=\"14.00\">session_id : id &#45; integer</text>\n<text text-anchor=\"start\" x=\"21.5\" y=\"-307.7\" font-family=\"Times New Roman,serif\" font-size=\"14.00\">user_id : id &#45; integer</text>\n<text text-anchor=\"start\" x=\"21.5\" y=\"-291.2\" font-family=\"Times New Roman,serif\" font-size=\"14.00\">device : categorical</text>\n<text text-anchor=\"start\" x=\"21.5\" y=\"-274.7\" font-family=\"Times New Roman,serif\" font-size=\"14.00\">os : categorical</text>\n<text text-anchor=\"start\" x=\"21.5\" y=\"-258.2\" font-family=\"Times New Roman,serif\" font-size=\"14.00\">minutes : numerical &#45; integer</text>\n<polyline fill=\"none\" stroke=\"black\" points=\"13.5,-251 188.5,-251\"/>\n<text text-anchor=\"start\" x=\"21.5\" y=\"-233.7\" font-family=\"Times New Roman,serif\" font-size=\"14.00\">Primary key: session_id</text>\n<text text-anchor=\"start\" x=\"21.5\" y=\"-217.2\" font-family=\"Times New Roman,serif\" font-size=\"14.00\">Foreign key (users): user_id</text>\n</g>\n<!-- users&#45;&gt;sessions -->\n<g id=\"edge1\" class=\"edge\">\n<title>users&#45;&gt;sessions</title>\n<path fill=\"none\" stroke=\"black\" d=\"M101,-419.04C101,-405.51 101,-390.91 101,-376.56\"/>\n<polygon fill=\"none\" stroke=\"black\" points=\"104.5,-366.66 101,-376.66 97.5,-366.66 104.5,-366.66\"/>\n<text text-anchor=\"middle\" x=\"194\" y=\"-387.7\" font-family=\"Times New Roman,serif\" font-size=\"14.00\"> &#160;&#160;sessions.user_id &gt; users.user_id</text>\n</g>\n<!-- transactions -->\n<g id=\"node3\" class=\"node\">\n<title>transactions</title>\n<path fill=\"#ffec8b\" stroke=\"black\" d=\"M12,-0.5C12,-0.5 190,-0.5 190,-0.5 196,-0.5 202,-6.5 202,-12.5 202,-12.5 202,-144.5 202,-144.5 202,-150.5 196,-156.5 190,-156.5 190,-156.5 12,-156.5 12,-156.5 6,-156.5 0,-150.5 0,-144.5 0,-144.5 0,-12.5 0,-12.5 0,-6.5 6,-0.5 12,-0.5\"/>\n<text text-anchor=\"middle\" x=\"101\" y=\"-139.2\" font-family=\"Times New Roman,serif\" font-size=\"14.00\">transactions</text>\n<polyline fill=\"none\" stroke=\"black\" points=\"0,-132 202,-132\"/>\n<text text-anchor=\"start\" x=\"8\" y=\"-114.7\" font-family=\"Times New Roman,serif\" font-size=\"14.00\">transaction_id : id &#45; integer</text>\n<text text-anchor=\"start\" x=\"8\" y=\"-98.2\" font-family=\"Times New Roman,serif\" font-size=\"14.00\">session_id : id &#45; integer</text>\n<text text-anchor=\"start\" x=\"8\" y=\"-81.7\" font-family=\"Times New Roman,serif\" font-size=\"14.00\">timestamp : datetime</text>\n<text text-anchor=\"start\" x=\"8\" y=\"-65.2\" font-family=\"Times New Roman,serif\" font-size=\"14.00\">amount : numerical &#45; float</text>\n<text text-anchor=\"start\" x=\"8\" y=\"-48.7\" font-family=\"Times New Roman,serif\" font-size=\"14.00\">cancelled : boolean</text>\n<polyline fill=\"none\" stroke=\"black\" points=\"0,-41.5 202,-41.5\"/>\n<text text-anchor=\"start\" x=\"8\" y=\"-24.2\" font-family=\"Times New Roman,serif\" font-size=\"14.00\">Primary key: transaction_id</text>\n<text text-anchor=\"start\" x=\"8\" y=\"-7.7\" font-family=\"Times New Roman,serif\" font-size=\"14.00\">Foreign key (sessions): session_id</text>\n</g>\n<!-- sessions&#45;&gt;transactions -->\n<g id=\"edge2\" class=\"edge\">\n<title>sessions&#45;&gt;transactions</title>\n<path fill=\"none\" stroke=\"black\" d=\"M101,-209.73C101,-195.83 101,-181.24 101,-167.06\"/>\n<polygon fill=\"none\" stroke=\"black\" points=\"104.5,-157.33 101,-167.33 97.5,-157.33 104.5,-157.33\"/>\n<text text-anchor=\"middle\" x=\"228.88\" y=\"-178.2\" font-family=\"Times New Roman,serif\" font-size=\"14.00\"> &#160;&#160;transactions.session_id &gt; sessions.session_id</text>\n</g>\n</g>\n</svg>\n",
      "text/plain": [
       "<graphviz.graphs.Digraph at 0x2dc4086cb50>"
      ]
     },
     "execution_count": 3,
     "metadata": {},
     "output_type": "execute_result"
    }
   ],
   "execution_count": 3
  },
  {
   "cell_type": "markdown",
   "metadata": {},
   "source": [
    "For more details about how to build the `Metadata` for your own dataset,\n",
    "please refer to the [relational_metadata](relational_metadata.ipynb)\n",
    "Guide.\n",
    "\n",
    "2.  A dictionary containing three `pandas.DataFrames` with the tables\n",
    "    described in the metadata object."
   ]
  },
  {
   "cell_type": "code",
   "metadata": {
    "attributes": {
     "classes": [
      ""
     ],
     "id": ""
    },
    "ExecuteTime": {
     "end_time": "2024-08-28T06:34:47.121871Z",
     "start_time": "2024-08-28T06:34:47.107190Z"
    }
   },
   "source": [
    "from sdv.utils import display_tables\n",
    "\n",
    "display_tables(tables)"
   ],
   "outputs": [
    {
     "data": {
      "text/plain": [
       "<IPython.core.display.HTML object>"
      ],
      "text/html": [
       "<table><tr><td style=\"text-align:left\"><b>users</b></td><td style=\"text-align:left\"><b>sessions</b></td><td style=\"text-align:left\"><b>transactions</b></td></tr><tr><td><table border=\"1\" class=\"dataframe\">\n",
       "  <thead>\n",
       "    <tr style=\"text-align: right;\">\n",
       "      <th>user_id</th>\n",
       "      <th>country</th>\n",
       "      <th>gender</th>\n",
       "      <th>age</th>\n",
       "    </tr>\n",
       "  </thead>\n",
       "  <tbody>\n",
       "    <tr>\n",
       "      <td>0</td>\n",
       "      <td>LK</td>\n",
       "      <td>M</td>\n",
       "      <td>44</td>\n",
       "    </tr>\n",
       "    <tr>\n",
       "      <td>1</td>\n",
       "      <td>SC</td>\n",
       "      <td>M</td>\n",
       "      <td>31</td>\n",
       "    </tr>\n",
       "    <tr>\n",
       "      <td>2</td>\n",
       "      <td>NL</td>\n",
       "      <td>F</td>\n",
       "      <td>32</td>\n",
       "    </tr>\n",
       "    <tr>\n",
       "      <td>3</td>\n",
       "      <td>CM</td>\n",
       "      <td>F</td>\n",
       "      <td>37</td>\n",
       "    </tr>\n",
       "    <tr>\n",
       "      <td>4</td>\n",
       "      <td>CM</td>\n",
       "      <td>F</td>\n",
       "      <td>38</td>\n",
       "    </tr>\n",
       "    <tr>\n",
       "      <td>5</td>\n",
       "      <td>CM</td>\n",
       "      <td>F</td>\n",
       "      <td>30</td>\n",
       "    </tr>\n",
       "    <tr>\n",
       "      <td>6</td>\n",
       "      <td>NL</td>\n",
       "      <td>F</td>\n",
       "      <td>35</td>\n",
       "    </tr>\n",
       "    <tr>\n",
       "      <td>7</td>\n",
       "      <td>CM</td>\n",
       "      <td>F</td>\n",
       "      <td>21</td>\n",
       "    </tr>\n",
       "    <tr>\n",
       "      <td>8</td>\n",
       "      <td>SC</td>\n",
       "      <td>F</td>\n",
       "      <td>26</td>\n",
       "    </tr>\n",
       "    <tr>\n",
       "      <td>9</td>\n",
       "      <td>NL</td>\n",
       "      <td>None</td>\n",
       "      <td>31</td>\n",
       "    </tr>\n",
       "  </tbody>\n",
       "</table></td><td><table border=\"1\" class=\"dataframe\">\n",
       "  <thead>\n",
       "    <tr style=\"text-align: right;\">\n",
       "      <th>session_id</th>\n",
       "      <th>user_id</th>\n",
       "      <th>device</th>\n",
       "      <th>os</th>\n",
       "      <th>minutes</th>\n",
       "    </tr>\n",
       "  </thead>\n",
       "  <tbody>\n",
       "    <tr>\n",
       "      <td>0</td>\n",
       "      <td>0</td>\n",
       "      <td>pc</td>\n",
       "      <td>windows</td>\n",
       "      <td>43</td>\n",
       "    </tr>\n",
       "    <tr>\n",
       "      <td>1</td>\n",
       "      <td>2</td>\n",
       "      <td>pc</td>\n",
       "      <td>linux</td>\n",
       "      <td>46</td>\n",
       "    </tr>\n",
       "    <tr>\n",
       "      <td>2</td>\n",
       "      <td>2</td>\n",
       "      <td>mobile</td>\n",
       "      <td>ios</td>\n",
       "      <td>34</td>\n",
       "    </tr>\n",
       "    <tr>\n",
       "      <td>3</td>\n",
       "      <td>2</td>\n",
       "      <td>mobile</td>\n",
       "      <td>ios</td>\n",
       "      <td>57</td>\n",
       "    </tr>\n",
       "    <tr>\n",
       "      <td>4</td>\n",
       "      <td>2</td>\n",
       "      <td>pc</td>\n",
       "      <td>linux</td>\n",
       "      <td>56</td>\n",
       "    </tr>\n",
       "    <tr>\n",
       "      <td>5</td>\n",
       "      <td>3</td>\n",
       "      <td>tablet</td>\n",
       "      <td>android</td>\n",
       "      <td>48</td>\n",
       "    </tr>\n",
       "    <tr>\n",
       "      <td>6</td>\n",
       "      <td>5</td>\n",
       "      <td>tablet</td>\n",
       "      <td>android</td>\n",
       "      <td>46</td>\n",
       "    </tr>\n",
       "    <tr>\n",
       "      <td>7</td>\n",
       "      <td>6</td>\n",
       "      <td>tablet</td>\n",
       "      <td>android</td>\n",
       "      <td>47</td>\n",
       "    </tr>\n",
       "    <tr>\n",
       "      <td>8</td>\n",
       "      <td>7</td>\n",
       "      <td>tablet</td>\n",
       "      <td>android</td>\n",
       "      <td>43</td>\n",
       "    </tr>\n",
       "    <tr>\n",
       "      <td>9</td>\n",
       "      <td>8</td>\n",
       "      <td>tablet</td>\n",
       "      <td>ios</td>\n",
       "      <td>48</td>\n",
       "    </tr>\n",
       "  </tbody>\n",
       "</table></td><td><table border=\"1\" class=\"dataframe\">\n",
       "  <thead>\n",
       "    <tr style=\"text-align: right;\">\n",
       "      <th>transaction_id</th>\n",
       "      <th>session_id</th>\n",
       "      <th>timestamp</th>\n",
       "      <th>amount</th>\n",
       "      <th>cancelled</th>\n",
       "    </tr>\n",
       "  </thead>\n",
       "  <tbody>\n",
       "    <tr>\n",
       "      <td>0</td>\n",
       "      <td>0</td>\n",
       "      <td>2019-09-07 14:29:04</td>\n",
       "      <td>46.45</td>\n",
       "      <td>False</td>\n",
       "    </tr>\n",
       "    <tr>\n",
       "      <td>1</td>\n",
       "      <td>0</td>\n",
       "      <td>2019-09-07 14:41:28</td>\n",
       "      <td>161.91</td>\n",
       "      <td>False</td>\n",
       "    </tr>\n",
       "    <tr>\n",
       "      <td>2</td>\n",
       "      <td>1</td>\n",
       "      <td>2019-11-30 12:51:30</td>\n",
       "      <td>34.60</td>\n",
       "      <td>False</td>\n",
       "    </tr>\n",
       "    <tr>\n",
       "      <td>3</td>\n",
       "      <td>1</td>\n",
       "      <td>2019-11-30 13:08:44</td>\n",
       "      <td>148.70</td>\n",
       "      <td>False</td>\n",
       "    </tr>\n",
       "    <tr>\n",
       "      <td>4</td>\n",
       "      <td>1</td>\n",
       "      <td>2019-11-30 13:12:35</td>\n",
       "      <td>173.74</td>\n",
       "      <td>True</td>\n",
       "    </tr>\n",
       "    <tr>\n",
       "      <td>5</td>\n",
       "      <td>1</td>\n",
       "      <td>2019-11-30 13:16:43</td>\n",
       "      <td>206.98</td>\n",
       "      <td>False</td>\n",
       "    </tr>\n",
       "    <tr>\n",
       "      <td>6</td>\n",
       "      <td>1</td>\n",
       "      <td>2019-11-30 13:27:02</td>\n",
       "      <td>14.94</td>\n",
       "      <td>False</td>\n",
       "    </tr>\n",
       "    <tr>\n",
       "      <td>7</td>\n",
       "      <td>1</td>\n",
       "      <td>2019-11-30 13:34:43</td>\n",
       "      <td>47.79</td>\n",
       "      <td>False</td>\n",
       "    </tr>\n",
       "    <tr>\n",
       "      <td>8</td>\n",
       "      <td>1</td>\n",
       "      <td>2019-11-30 13:36:38</td>\n",
       "      <td>102.00</td>\n",
       "      <td>False</td>\n",
       "    </tr>\n",
       "    <tr>\n",
       "      <td>9</td>\n",
       "      <td>2</td>\n",
       "      <td>2019-12-08 07:39:17</td>\n",
       "      <td>104.61</td>\n",
       "      <td>False</td>\n",
       "    </tr>\n",
       "  </tbody>\n",
       "</table></td></tr></table>"
      ]
     },
     "execution_count": 4,
     "metadata": {},
     "output_type": "execute_result"
    }
   ],
   "execution_count": 4
  },
  {
   "cell_type": "code",
   "metadata": {
    "ExecuteTime": {
     "end_time": "2024-08-28T06:34:47.136843Z",
     "start_time": "2024-08-28T06:34:47.123821Z"
    }
   },
   "source": [
    "for name, table in tables.items():\n",
    "    print(name, table.shape)"
   ],
   "outputs": [
    {
     "name": "stdout",
     "output_type": "stream",
     "text": [
      "users (30, 4)\n",
      "sessions (51, 5)\n",
      "transactions (293, 5)\n"
     ]
    }
   ],
   "execution_count": 5
  },
  {
   "cell_type": "markdown",
   "metadata": {},
   "source": [
    "Let us now use the `HMA1` class to learn this data to be ready to sample\n",
    "synthetic data about new users. In order to do this you will need to:\n",
    "\n",
    "-   Import the `sdv.relational.HMA1` class and create an instance of it\n",
    "    passing the `metadata` that we just loaded.\n",
    "-   Call its `fit` method passing the `tables` dict."
   ]
  },
  {
   "cell_type": "code",
   "metadata": {
    "attributes": {
     "classes": [
      ""
     ],
     "id": ""
    },
    "scrolled": false,
    "ExecuteTime": {
     "end_time": "2024-08-28T06:34:47.745581Z",
     "start_time": "2024-08-28T06:34:47.137834Z"
    }
   },
   "source": [
    "from sdv.relational import HMA1\n",
    "\n",
    "model = HMA1(metadata)\n",
    "model.fit(tables)"
   ],
   "outputs": [
    {
     "name": "stderr",
     "output_type": "stream",
     "text": [
      "C:\\Users\\Elvin\\Desktop\\GitHub\\SDV\\sdv\\metadata\\dataset.py:451: FutureWarning: Passing unit-less datetime64 dtype to .astype is deprecated and will raise in a future version. Pass 'datetime64[ns]' instead\n",
      "  table_data[column].dropna().astype(dtype)\n",
      "C:\\Users\\Elvin\\Desktop\\GitHub\\SDV\\sdv\\relational\\hma.py:255: PerformanceWarning: DataFrame is highly fragmented.  This is usually the result of calling `frame.insert` many times, which has poor performance.  Consider joining all columns at once using pd.concat(axis=1) instead. To get a de-fragmented frame, use `newframe = frame.copy()`\n",
      "  table.reset_index(inplace=True)\n"
     ]
    }
   ],
   "execution_count": 6
  },
  {
   "cell_type": "markdown",
   "metadata": {},
   "source": [
    "<div class=\"alert alert-info\">\n",
    "\n",
    "**Note**\n",
    "\n",
    "During the previous steps SDV walked through all the tables in the\n",
    "dataset following the relationships specified by the metadata, learned\n",
    "each table using a [gaussian_copula](gaussian_copula.ipynb) and\n",
    "then augmented the parent tables using the copula parameters before\n",
    "learning them. By doing this, each copula model was able to learn how\n",
    "the child table rows were related to their parent tables.\n",
    "\n",
    "</div>\n",
    "\n",
    "### Generate synthetic data from the model\n",
    "\n",
    "Once the training process has finished you are ready to generate new\n",
    "synthetic data by calling the `sample` method from your model."
   ]
  },
  {
   "cell_type": "code",
   "metadata": {
    "attributes": {
     "classes": [
      ""
     ],
     "id": ""
    },
    "ExecuteTime": {
     "end_time": "2024-08-28T06:34:48.796620Z",
     "start_time": "2024-08-28T06:34:47.746600Z"
    }
   },
   "source": [
    "new_data = model.sample()"
   ],
   "outputs": [
    {
     "name": "stderr",
     "output_type": "stream",
     "text": [
      "C:\\Users\\Elvin\\Desktop\\GitHub\\SDV\\sdv\\relational\\base.py:127: FutureWarning: The default dtype for empty Series will be 'object' instead of 'float64' in a future version. Specify a dtype explicitly to silence this warning.\n",
      "  primary_key_values = pd.Series([x for i, x in zip(range(num_rows), generator)])\n",
      "C:\\Users\\Elvin\\Desktop\\GitHub\\SDV\\sdv\\relational\\base.py:127: FutureWarning: The default dtype for empty Series will be 'object' instead of 'float64' in a future version. Specify a dtype explicitly to silence this warning.\n",
      "  primary_key_values = pd.Series([x for i, x in zip(range(num_rows), generator)])\n",
      "C:\\Users\\Elvin\\Desktop\\GitHub\\SDV\\sdv\\relational\\base.py:127: FutureWarning: The default dtype for empty Series will be 'object' instead of 'float64' in a future version. Specify a dtype explicitly to silence this warning.\n",
      "  primary_key_values = pd.Series([x for i, x in zip(range(num_rows), generator)])\n",
      "C:\\Users\\Elvin\\Desktop\\GitHub\\SDV\\sdv\\relational\\base.py:127: FutureWarning: The default dtype for empty Series will be 'object' instead of 'float64' in a future version. Specify a dtype explicitly to silence this warning.\n",
      "  primary_key_values = pd.Series([x for i, x in zip(range(num_rows), generator)])\n",
      "C:\\Users\\Elvin\\Desktop\\GitHub\\SDV\\sdv\\relational\\base.py:127: FutureWarning: The default dtype for empty Series will be 'object' instead of 'float64' in a future version. Specify a dtype explicitly to silence this warning.\n",
      "  primary_key_values = pd.Series([x for i, x in zip(range(num_rows), generator)])\n",
      "C:\\Users\\Elvin\\Desktop\\GitHub\\SDV\\sdv\\relational\\base.py:127: FutureWarning: The default dtype for empty Series will be 'object' instead of 'float64' in a future version. Specify a dtype explicitly to silence this warning.\n",
      "  primary_key_values = pd.Series([x for i, x in zip(range(num_rows), generator)])\n",
      "C:\\Users\\Elvin\\Desktop\\GitHub\\SDV\\sdv\\relational\\base.py:127: FutureWarning: The default dtype for empty Series will be 'object' instead of 'float64' in a future version. Specify a dtype explicitly to silence this warning.\n",
      "  primary_key_values = pd.Series([x for i, x in zip(range(num_rows), generator)])\n",
      "C:\\Users\\Elvin\\Desktop\\GitHub\\SDV\\sdv\\relational\\base.py:127: FutureWarning: The default dtype for empty Series will be 'object' instead of 'float64' in a future version. Specify a dtype explicitly to silence this warning.\n",
      "  primary_key_values = pd.Series([x for i, x in zip(range(num_rows), generator)])\n",
      "C:\\Users\\Elvin\\Desktop\\GitHub\\SDV\\sdv\\relational\\base.py:127: FutureWarning: The default dtype for empty Series will be 'object' instead of 'float64' in a future version. Specify a dtype explicitly to silence this warning.\n",
      "  primary_key_values = pd.Series([x for i, x in zip(range(num_rows), generator)])\n",
      "C:\\Users\\Elvin\\Desktop\\GitHub\\SDV\\sdv\\relational\\base.py:127: FutureWarning: The default dtype for empty Series will be 'object' instead of 'float64' in a future version. Specify a dtype explicitly to silence this warning.\n",
      "  primary_key_values = pd.Series([x for i, x in zip(range(num_rows), generator)])\n",
      "C:\\Users\\Elvin\\Desktop\\GitHub\\SDV\\sdv\\relational\\hma.py:318: FutureWarning: Passing unit-less datetime64 dtype to .astype is deprecated and will raise in a future version. Pass 'datetime64[ns]' instead\n",
      "  table_rows[name] = table_rows[name].dropna().astype(dtype)\n"
     ]
    }
   ],
   "execution_count": 7
  },
  {
   "cell_type": "markdown",
   "metadata": {},
   "source": [
    "This will return a dictionary of tables identical to the one which the\n",
    "model was fitted on, but filled with new data which resembles the\n",
    "original one."
   ]
  },
  {
   "cell_type": "code",
   "metadata": {
    "attributes": {
     "classes": [
      ""
     ],
     "id": ""
    },
    "ExecuteTime": {
     "end_time": "2024-08-28T06:34:48.811910Z",
     "start_time": "2024-08-28T06:34:48.797616Z"
    }
   },
   "source": [
    "display_tables(new_data)"
   ],
   "outputs": [
    {
     "data": {
      "text/plain": [
       "<IPython.core.display.HTML object>"
      ],
      "text/html": [
       "<table><tr><td style=\"text-align:left\"><b>users</b></td><td style=\"text-align:left\"><b>sessions</b></td><td style=\"text-align:left\"><b>transactions</b></td></tr><tr><td><table border=\"1\" class=\"dataframe\">\n",
       "  <thead>\n",
       "    <tr style=\"text-align: right;\">\n",
       "      <th>user_id</th>\n",
       "      <th>country</th>\n",
       "      <th>gender</th>\n",
       "      <th>age</th>\n",
       "    </tr>\n",
       "  </thead>\n",
       "  <tbody>\n",
       "    <tr>\n",
       "      <td>0</td>\n",
       "      <td>CM</td>\n",
       "      <td>F</td>\n",
       "      <td>29</td>\n",
       "    </tr>\n",
       "    <tr>\n",
       "      <td>1</td>\n",
       "      <td>CM</td>\n",
       "      <td>F</td>\n",
       "      <td>30</td>\n",
       "    </tr>\n",
       "    <tr>\n",
       "      <td>2</td>\n",
       "      <td>SC</td>\n",
       "      <td>M</td>\n",
       "      <td>32</td>\n",
       "    </tr>\n",
       "    <tr>\n",
       "      <td>3</td>\n",
       "      <td>LK</td>\n",
       "      <td>F</td>\n",
       "      <td>34</td>\n",
       "    </tr>\n",
       "    <tr>\n",
       "      <td>4</td>\n",
       "      <td>CM</td>\n",
       "      <td>F</td>\n",
       "      <td>33</td>\n",
       "    </tr>\n",
       "    <tr>\n",
       "      <td>5</td>\n",
       "      <td>CM</td>\n",
       "      <td>F</td>\n",
       "      <td>39</td>\n",
       "    </tr>\n",
       "    <tr>\n",
       "      <td>6</td>\n",
       "      <td>SC</td>\n",
       "      <td>F</td>\n",
       "      <td>25</td>\n",
       "    </tr>\n",
       "    <tr>\n",
       "      <td>7</td>\n",
       "      <td>CM</td>\n",
       "      <td>F</td>\n",
       "      <td>33</td>\n",
       "    </tr>\n",
       "    <tr>\n",
       "      <td>8</td>\n",
       "      <td>CM</td>\n",
       "      <td>M</td>\n",
       "      <td>34</td>\n",
       "    </tr>\n",
       "    <tr>\n",
       "      <td>9</td>\n",
       "      <td>LK</td>\n",
       "      <td>F</td>\n",
       "      <td>31</td>\n",
       "    </tr>\n",
       "  </tbody>\n",
       "</table></td><td><table border=\"1\" class=\"dataframe\">\n",
       "  <thead>\n",
       "    <tr style=\"text-align: right;\">\n",
       "      <th>session_id</th>\n",
       "      <th>user_id</th>\n",
       "      <th>device</th>\n",
       "      <th>os</th>\n",
       "      <th>minutes</th>\n",
       "    </tr>\n",
       "  </thead>\n",
       "  <tbody>\n",
       "    <tr>\n",
       "      <td>0</td>\n",
       "      <td>2</td>\n",
       "      <td>mobile</td>\n",
       "      <td>linux</td>\n",
       "      <td>41</td>\n",
       "    </tr>\n",
       "    <tr>\n",
       "      <td>1</td>\n",
       "      <td>2</td>\n",
       "      <td>mobile</td>\n",
       "      <td>linux</td>\n",
       "      <td>22</td>\n",
       "    </tr>\n",
       "    <tr>\n",
       "      <td>2</td>\n",
       "      <td>2</td>\n",
       "      <td>mobile</td>\n",
       "      <td>linux</td>\n",
       "      <td>36</td>\n",
       "    </tr>\n",
       "    <tr>\n",
       "      <td>3</td>\n",
       "      <td>4</td>\n",
       "      <td>tablet</td>\n",
       "      <td>linux</td>\n",
       "      <td>44</td>\n",
       "    </tr>\n",
       "    <tr>\n",
       "      <td>4</td>\n",
       "      <td>4</td>\n",
       "      <td>tablet</td>\n",
       "      <td>linux</td>\n",
       "      <td>45</td>\n",
       "    </tr>\n",
       "    <tr>\n",
       "      <td>5</td>\n",
       "      <td>4</td>\n",
       "      <td>tablet</td>\n",
       "      <td>linux</td>\n",
       "      <td>41</td>\n",
       "    </tr>\n",
       "    <tr>\n",
       "      <td>6</td>\n",
       "      <td>4</td>\n",
       "      <td>tablet</td>\n",
       "      <td>linux</td>\n",
       "      <td>38</td>\n",
       "    </tr>\n",
       "    <tr>\n",
       "      <td>7</td>\n",
       "      <td>4</td>\n",
       "      <td>tablet</td>\n",
       "      <td>linux</td>\n",
       "      <td>35</td>\n",
       "    </tr>\n",
       "    <tr>\n",
       "      <td>8</td>\n",
       "      <td>5</td>\n",
       "      <td>tablet</td>\n",
       "      <td>android</td>\n",
       "      <td>49</td>\n",
       "    </tr>\n",
       "    <tr>\n",
       "      <td>9</td>\n",
       "      <td>5</td>\n",
       "      <td>tablet</td>\n",
       "      <td>android</td>\n",
       "      <td>51</td>\n",
       "    </tr>\n",
       "  </tbody>\n",
       "</table></td><td><table border=\"1\" class=\"dataframe\">\n",
       "  <thead>\n",
       "    <tr style=\"text-align: right;\">\n",
       "      <th>transaction_id</th>\n",
       "      <th>session_id</th>\n",
       "      <th>timestamp</th>\n",
       "      <th>amount</th>\n",
       "      <th>cancelled</th>\n",
       "    </tr>\n",
       "  </thead>\n",
       "  <tbody>\n",
       "    <tr>\n",
       "      <td>0</td>\n",
       "      <td>0</td>\n",
       "      <td>2019-12-30 23:13:58</td>\n",
       "      <td>76.44</td>\n",
       "      <td>False</td>\n",
       "    </tr>\n",
       "    <tr>\n",
       "      <td>1</td>\n",
       "      <td>0</td>\n",
       "      <td>2019-12-30 23:12:24</td>\n",
       "      <td>117.30</td>\n",
       "      <td>False</td>\n",
       "    </tr>\n",
       "    <tr>\n",
       "      <td>2</td>\n",
       "      <td>0</td>\n",
       "      <td>2019-12-30 23:12:13</td>\n",
       "      <td>97.07</td>\n",
       "      <td>False</td>\n",
       "    </tr>\n",
       "    <tr>\n",
       "      <td>3</td>\n",
       "      <td>0</td>\n",
       "      <td>2019-12-30 23:33:24</td>\n",
       "      <td>98.25</td>\n",
       "      <td>False</td>\n",
       "    </tr>\n",
       "    <tr>\n",
       "      <td>4</td>\n",
       "      <td>1</td>\n",
       "      <td>2019-10-09 18:36:09</td>\n",
       "      <td>101.20</td>\n",
       "      <td>False</td>\n",
       "    </tr>\n",
       "    <tr>\n",
       "      <td>5</td>\n",
       "      <td>1</td>\n",
       "      <td>2019-10-09 18:37:05</td>\n",
       "      <td>156.13</td>\n",
       "      <td>False</td>\n",
       "    </tr>\n",
       "    <tr>\n",
       "      <td>6</td>\n",
       "      <td>1</td>\n",
       "      <td>2019-10-09 18:37:09</td>\n",
       "      <td>137.65</td>\n",
       "      <td>False</td>\n",
       "    </tr>\n",
       "    <tr>\n",
       "      <td>7</td>\n",
       "      <td>2</td>\n",
       "      <td>2019-06-08 02:48:26</td>\n",
       "      <td>22.45</td>\n",
       "      <td>False</td>\n",
       "    </tr>\n",
       "    <tr>\n",
       "      <td>8</td>\n",
       "      <td>2</td>\n",
       "      <td>2019-06-08 02:48:36</td>\n",
       "      <td>128.40</td>\n",
       "      <td>False</td>\n",
       "    </tr>\n",
       "    <tr>\n",
       "      <td>9</td>\n",
       "      <td>2</td>\n",
       "      <td>2019-06-08 02:44:25</td>\n",
       "      <td>50.76</td>\n",
       "      <td>False</td>\n",
       "    </tr>\n",
       "  </tbody>\n",
       "</table></td></tr></table>"
      ]
     },
     "execution_count": 8,
     "metadata": {},
     "output_type": "execute_result"
    }
   ],
   "execution_count": 8
  },
  {
   "cell_type": "code",
   "metadata": {
    "ExecuteTime": {
     "end_time": "2024-08-28T06:34:48.827911Z",
     "start_time": "2024-08-28T06:34:48.812916Z"
    }
   },
   "source": [
    "for name, table in new_data.items():\n",
    "    print(name, table.shape)"
   ],
   "outputs": [
    {
     "name": "stdout",
     "output_type": "stream",
     "text": [
      "users (30, 4)\n",
      "sessions (52, 5)\n",
      "transactions (288, 5)\n"
     ]
    }
   ],
   "execution_count": 9
  },
  {
   "cell_type": "markdown",
   "metadata": {},
   "source": [
    "### Save and Load the model\n",
    "\n",
    "In many scenarios it will be convenient to generate synthetic versions\n",
    "of your data directly in systems that do not have access to the original\n",
    "data source. For example, if you may want to generate testing data on\n",
    "the fly inside a testing environment that does not have access to your\n",
    "production database. In these scenarios, fitting the model with real\n",
    "data every time that you need to generate new data is feasible, so you\n",
    "will need to fit a model in your production environment, save the fitted\n",
    "model into a file, send this file to the testing environment and then\n",
    "load it there to be able to `sample` from it.\n",
    "\n",
    "Let's see how this process works.\n",
    "\n",
    "#### Save and share the model\n",
    "\n",
    "Once you have fitted the model, all you need to do is call its `save`\n",
    "method passing the name of the file in which you want to save the model.\n",
    "Note that the extension of the filename is not relevant, but we will be\n",
    "using the `.pkl` extension to highlight that the serialization protocol\n",
    "used is [cloudpickle](https://github.com/cloudpipe/cloudpickle)."
   ]
  },
  {
   "cell_type": "code",
   "metadata": {
    "attributes": {
     "classes": [
      ""
     ],
     "id": ""
    },
    "ExecuteTime": {
     "end_time": "2024-08-28T06:34:48.843911Z",
     "start_time": "2024-08-28T06:34:48.828911Z"
    }
   },
   "source": [
    "model.save('my_model.pkl')"
   ],
   "outputs": [],
   "execution_count": 10
  },
  {
   "cell_type": "markdown",
   "metadata": {},
   "source": [
    "This will have created a file called `my_model.pkl` in the same\n",
    "directory in which you are running SDV.\n",
    "\n",
    "<div class=\"alert alert-info\">\n",
    "\n",
    "**Important**\n",
    "\n",
    "If you inspect the generated file you will notice that its size is much\n",
    "smaller than the size of the data that you used to generate it. This is\n",
    "because the serialized model contains **no information about the\n",
    "original data**, other than the parameters it needs to generate\n",
    "synthetic versions of it. This means that you can safely share this\n",
    "`my_model.pkl` file without the risk of disclosing any of your real\n",
    "data!\n",
    "\n",
    "</div>\n",
    "\n",
    "#### Load the model and generate new data\n",
    "\n",
    "The file you just generated can be sent over to the system where the\n",
    "synthetic data will be generated. Once it is there, you can load it\n",
    "using the `HMA1.load` method, and then you are ready to sample new data\n",
    "from the loaded instance:"
   ]
  },
  {
   "cell_type": "code",
   "metadata": {
    "attributes": {
     "classes": [
      ""
     ],
     "id": ""
    },
    "ExecuteTime": {
     "end_time": "2024-08-28T06:34:50.161022Z",
     "start_time": "2024-08-28T06:34:48.844917Z"
    }
   },
   "source": [
    "loaded = HMA1.load('my_model.pkl')\n",
    "new_data = loaded.sample()\n",
    "new_data.keys()"
   ],
   "outputs": [
    {
     "name": "stderr",
     "output_type": "stream",
     "text": [
      "C:\\Users\\Elvin\\Desktop\\GitHub\\SDV\\sdv\\relational\\base.py:127: FutureWarning: The default dtype for empty Series will be 'object' instead of 'float64' in a future version. Specify a dtype explicitly to silence this warning.\n",
      "  primary_key_values = pd.Series([x for i, x in zip(range(num_rows), generator)])\n",
      "C:\\Users\\Elvin\\Desktop\\GitHub\\SDV\\sdv\\relational\\base.py:127: FutureWarning: The default dtype for empty Series will be 'object' instead of 'float64' in a future version. Specify a dtype explicitly to silence this warning.\n",
      "  primary_key_values = pd.Series([x for i, x in zip(range(num_rows), generator)])\n",
      "C:\\Users\\Elvin\\Desktop\\GitHub\\SDV\\sdv\\relational\\base.py:127: FutureWarning: The default dtype for empty Series will be 'object' instead of 'float64' in a future version. Specify a dtype explicitly to silence this warning.\n",
      "  primary_key_values = pd.Series([x for i, x in zip(range(num_rows), generator)])\n",
      "C:\\Users\\Elvin\\Desktop\\GitHub\\SDV\\sdv\\relational\\base.py:127: FutureWarning: The default dtype for empty Series will be 'object' instead of 'float64' in a future version. Specify a dtype explicitly to silence this warning.\n",
      "  primary_key_values = pd.Series([x for i, x in zip(range(num_rows), generator)])\n",
      "C:\\Users\\Elvin\\Desktop\\GitHub\\SDV\\sdv\\relational\\base.py:127: FutureWarning: The default dtype for empty Series will be 'object' instead of 'float64' in a future version. Specify a dtype explicitly to silence this warning.\n",
      "  primary_key_values = pd.Series([x for i, x in zip(range(num_rows), generator)])\n",
      "C:\\Users\\Elvin\\Desktop\\GitHub\\SDV\\sdv\\relational\\base.py:127: FutureWarning: The default dtype for empty Series will be 'object' instead of 'float64' in a future version. Specify a dtype explicitly to silence this warning.\n",
      "  primary_key_values = pd.Series([x for i, x in zip(range(num_rows), generator)])\n",
      "C:\\Users\\Elvin\\Desktop\\GitHub\\SDV\\sdv\\relational\\base.py:127: FutureWarning: The default dtype for empty Series will be 'object' instead of 'float64' in a future version. Specify a dtype explicitly to silence this warning.\n",
      "  primary_key_values = pd.Series([x for i, x in zip(range(num_rows), generator)])\n",
      "C:\\Users\\Elvin\\Desktop\\GitHub\\SDV\\sdv\\relational\\hma.py:318: FutureWarning: Passing unit-less datetime64 dtype to .astype is deprecated and will raise in a future version. Pass 'datetime64[ns]' instead\n",
      "  table_rows[name] = table_rows[name].dropna().astype(dtype)\n"
     ]
    },
    {
     "data": {
      "text/plain": [
       "dict_keys(['users', 'sessions', 'transactions'])"
      ]
     },
     "execution_count": 11,
     "metadata": {},
     "output_type": "execute_result"
    }
   ],
   "execution_count": 11
  },
  {
   "cell_type": "markdown",
   "metadata": {},
   "source": [
    "<div class=\"alert alert-warning\">\n",
    "\n",
    "**Warning**\n",
    "\n",
    "Notice that the system where the model is loaded needs to also have\n",
    "`sdv` installed, otherwise it will not be able to load the model and use\n",
    "it.\n",
    "\n",
    "</div>\n",
    "\n",
    "### How to control the number of rows?\n",
    "\n",
    "In the steps above we did not tell the model at any moment how many rows\n",
    "we wanted to sample, so it produced as many rows as there were in the\n",
    "original dataset.\n",
    "\n",
    "If you want to produce a different number of rows you can pass it as the\n",
    "`num_rows` argument and it will produce the indicated number of rows:"
   ]
  },
  {
   "cell_type": "code",
   "metadata": {
    "attributes": {
     "classes": [
      ""
     ],
     "id": ""
    },
    "ExecuteTime": {
     "end_time": "2024-08-28T06:34:50.523032Z",
     "start_time": "2024-08-28T06:34:50.162451Z"
    }
   },
   "source": [
    "model.sample(num_rows=5)"
   ],
   "outputs": [
    {
     "name": "stderr",
     "output_type": "stream",
     "text": [
      "C:\\Users\\Elvin\\Desktop\\GitHub\\SDV\\sdv\\relational\\hma.py:318: FutureWarning: Passing unit-less datetime64 dtype to .astype is deprecated and will raise in a future version. Pass 'datetime64[ns]' instead\n",
      "  table_rows[name] = table_rows[name].dropna().astype(dtype)\n"
     ]
    },
    {
     "data": {
      "text/plain": [
       "{'users':    user_id country gender  age\n",
       " 0       30      NL      F   26\n",
       " 1       31      EE      F   30\n",
       " 2       32      SC      F   39\n",
       " 3       33      SC      F   32\n",
       " 4       34      EE      F   30,\n",
       " 'sessions':     session_id  user_id  device       os  minutes\n",
       " 0           52       30  tablet  android       52\n",
       " 1           53       30  tablet  android       17\n",
       " 2           54       30  tablet  android       22\n",
       " 3           55       31  mobile    linux       36\n",
       " 4           56       31  mobile    linux       22\n",
       " 5           57       31  mobile    linux       42\n",
       " 6           58       31  mobile    linux       33\n",
       " 7           59       32  tablet  android       46\n",
       " 8           60       32  tablet  android       35\n",
       " 9           61       32  tablet  android       33\n",
       " 10          62       33  tablet  android       36\n",
       " 11          63       33  tablet  android       51\n",
       " 12          64       33  tablet  android       42\n",
       " 13          65       34  mobile    linux       22,\n",
       " 'transactions':     transaction_id  session_id           timestamp  amount  cancelled\n",
       " 0              288          52 2019-04-17 05:28:43   55.72      False\n",
       " 1              289          52 2019-04-17 05:48:55   16.31      False\n",
       " 2              290          52 2019-04-17 05:24:07   34.23      False\n",
       " 3              291          52 2019-04-17 05:25:53   34.75      False\n",
       " 4              292          52 2019-04-17 06:17:30   32.29      False\n",
       " ..             ...         ...                 ...     ...        ...\n",
       " 72             360          64 2019-06-04 15:16:29  109.18      False\n",
       " 73             361          64 2019-06-04 15:13:13   96.27      False\n",
       " 74             362          64 2019-06-04 15:17:41  109.67      False\n",
       " 75             363          64 2019-06-04 15:24:34  117.48      False\n",
       " 76             364          65 2019-04-11 19:30:28   90.14      False\n",
       " \n",
       " [77 rows x 5 columns]}"
      ]
     },
     "execution_count": 12,
     "metadata": {},
     "output_type": "execute_result"
    }
   ],
   "execution_count": 12
  },
  {
   "cell_type": "markdown",
   "metadata": {},
   "source": [
    "<div class=\"alert alert-info\">\n",
    "\n",
    "**Note**\n",
    "\n",
    "Notice that the root table `users` has the indicated number of rows but\n",
    "some of the other tables do not. This is because the number of rows from\n",
    "the child tables is sampled based on the values form the parent table,\n",
    "which means that only the root table of the dataset is affected by the\n",
    "passed `num_rows` argument.\n",
    "\n",
    "</div>\n",
    "\n",
    "### Can I sample a subset of the tables?\n",
    "\n",
    "In some occasions you will not be interested in generating rows for the\n",
    "entire dataset and would rather generate data for only one table and its\n",
    "children.\n",
    "\n",
    "To do this you can simply pass the name of the table that you want to\n",
    "sample.\n",
    "\n",
    "For example, pass the name `sessions` to the `sample` method, the model\n",
    "will only generate data for the `sessions` table and its child table,\n",
    "`transactions`."
   ]
  },
  {
   "cell_type": "code",
   "metadata": {
    "attributes": {
     "classes": [
      ""
     ],
     "id": ""
    },
    "ExecuteTime": {
     "end_time": "2024-08-28T06:34:50.757827Z",
     "start_time": "2024-08-28T06:34:50.523636Z"
    }
   },
   "source": [
    "model.sample('sessions', num_rows=5)"
   ],
   "outputs": [
    {
     "name": "stderr",
     "output_type": "stream",
     "text": [
      "C:\\Users\\Elvin\\Desktop\\GitHub\\SDV\\sdv\\relational\\hma.py:318: FutureWarning: Passing unit-less datetime64 dtype to .astype is deprecated and will raise in a future version. Pass 'datetime64[ns]' instead\n",
      "  table_rows[name] = table_rows[name].dropna().astype(dtype)\n"
     ]
    },
    {
     "data": {
      "text/plain": [
       "{'sessions':    session_id  user_id  device       os  minutes\n",
       " 0          66       37      pc  android       48\n",
       " 1          67       36  tablet      ios       40\n",
       " 2          68       37      pc  android       53\n",
       " 3          69       35      pc    macos       48\n",
       " 4          70       37      pc  android       42,\n",
       " 'transactions':     transaction_id  session_id           timestamp  amount  cancelled\n",
       " 0              365          66 2019-09-18 02:59:27  111.98      False\n",
       " 1              366          66 2019-09-18 02:25:56  122.02      False\n",
       " 2              367          66 2019-09-18 03:26:49  102.42      False\n",
       " 3              368          66 2019-09-18 02:34:15  133.07      False\n",
       " 4              369          66 2019-09-18 02:19:06   77.40      False\n",
       " 5              370          66 2019-09-18 02:16:47  139.70      False\n",
       " 6              371          66 2019-09-18 02:20:57  137.77      False\n",
       " 7              372          67 2019-09-19 05:43:26   88.54      False\n",
       " 8              373          67 2019-09-19 05:37:03  139.84      False\n",
       " 9              374          67 2019-09-19 05:32:53  114.02      False\n",
       " 10             375          68 2019-12-06 15:40:28   30.13      False\n",
       " 11             376          68 2019-12-06 15:38:59   46.38      False\n",
       " 12             377          68 2019-12-06 15:21:21   58.69      False\n",
       " 13             378          68 2019-12-06 15:42:39   15.81      False\n",
       " 14             379          68 2019-12-06 15:39:13    9.07      False\n",
       " 15             380          68 2019-12-06 15:24:31   28.97      False\n",
       " 16             381          68 2019-12-06 15:29:17   27.49      False\n",
       " 17             382          68 2019-12-06 15:27:05   33.23      False\n",
       " 18             383          69 2019-04-05 03:57:36  107.15      False\n",
       " 19             384          69 2019-04-05 03:52:29  141.20      False\n",
       " 20             385          69 2019-04-05 03:39:21  107.96      False\n",
       " 21             386          69 2019-04-05 03:56:05   53.49      False\n",
       " 22             387          69 2019-04-05 03:49:09   77.24      False\n",
       " 23             388          69 2019-04-05 03:45:04   16.57      False\n",
       " 24             389          70 2019-10-12 02:00:08   77.17      False\n",
       " 25             390          70 2019-10-12 01:56:17   81.77      False\n",
       " 26             391          70 2019-10-12 01:56:19   81.73      False}"
      ]
     },
     "execution_count": 13,
     "metadata": {},
     "output_type": "execute_result"
    }
   ],
   "execution_count": 13
  },
  {
   "cell_type": "markdown",
   "metadata": {},
   "source": [
    "If you want to further restrict the sampling process to only one table\n",
    "and also skip its child tables, you can add the argument\n",
    "`sample_children=False`.\n",
    "\n",
    "For example, you can sample data from the table `users` only without\n",
    "producing any rows for the tables `sessions` and `transactions`."
   ]
  },
  {
   "cell_type": "code",
   "metadata": {
    "attributes": {
     "classes": [
      ""
     ],
     "id": ""
    },
    "ExecuteTime": {
     "end_time": "2024-08-28T06:34:50.898154Z",
     "start_time": "2024-08-28T06:34:50.759844Z"
    }
   },
   "source": [
    "model.sample('users', num_rows=5, sample_children=False)"
   ],
   "outputs": [
    {
     "data": {
      "text/plain": [
       "   user_id country gender  age\n",
       "0       38      SC      F   22\n",
       "1       39      CM      M   38\n",
       "2       40      CM      F   38\n",
       "3       41      NL      F   34\n",
       "4       42      NL      F   28"
      ],
      "text/html": [
       "<div>\n",
       "<style scoped>\n",
       "    .dataframe tbody tr th:only-of-type {\n",
       "        vertical-align: middle;\n",
       "    }\n",
       "\n",
       "    .dataframe tbody tr th {\n",
       "        vertical-align: top;\n",
       "    }\n",
       "\n",
       "    .dataframe thead th {\n",
       "        text-align: right;\n",
       "    }\n",
       "</style>\n",
       "<table border=\"1\" class=\"dataframe\">\n",
       "  <thead>\n",
       "    <tr style=\"text-align: right;\">\n",
       "      <th></th>\n",
       "      <th>user_id</th>\n",
       "      <th>country</th>\n",
       "      <th>gender</th>\n",
       "      <th>age</th>\n",
       "    </tr>\n",
       "  </thead>\n",
       "  <tbody>\n",
       "    <tr>\n",
       "      <th>0</th>\n",
       "      <td>38</td>\n",
       "      <td>SC</td>\n",
       "      <td>F</td>\n",
       "      <td>22</td>\n",
       "    </tr>\n",
       "    <tr>\n",
       "      <th>1</th>\n",
       "      <td>39</td>\n",
       "      <td>CM</td>\n",
       "      <td>M</td>\n",
       "      <td>38</td>\n",
       "    </tr>\n",
       "    <tr>\n",
       "      <th>2</th>\n",
       "      <td>40</td>\n",
       "      <td>CM</td>\n",
       "      <td>F</td>\n",
       "      <td>38</td>\n",
       "    </tr>\n",
       "    <tr>\n",
       "      <th>3</th>\n",
       "      <td>41</td>\n",
       "      <td>NL</td>\n",
       "      <td>F</td>\n",
       "      <td>34</td>\n",
       "    </tr>\n",
       "    <tr>\n",
       "      <th>4</th>\n",
       "      <td>42</td>\n",
       "      <td>NL</td>\n",
       "      <td>F</td>\n",
       "      <td>28</td>\n",
       "    </tr>\n",
       "  </tbody>\n",
       "</table>\n",
       "</div>"
      ]
     },
     "execution_count": 14,
     "metadata": {},
     "output_type": "execute_result"
    }
   ],
   "execution_count": 14
  },
  {
   "cell_type": "markdown",
   "metadata": {},
   "source": [
    "<div class=\"alert alert-info\">\n",
    "\n",
    "**Note**\n",
    "\n",
    "In this case, since we are only producing a single table, the output is\n",
    "given directly as a `pandas.DataFrame` instead of a dictionary.\n",
    "\n",
    "</div>"
   ]
  }
 ],
 "metadata": {
  "kernelspec": {
   "display_name": "Python 3",
   "language": "python",
   "name": "python3"
  },
  "language_info": {
   "codemirror_mode": {
    "name": "ipython",
    "version": 3
   },
   "file_extension": ".py",
   "mimetype": "text/x-python",
   "name": "python",
   "nbconvert_exporter": "python",
   "pygments_lexer": "ipython3",
   "version": "3.8.5"
  }
 },
 "nbformat": 4,
 "nbformat_minor": 4
}
